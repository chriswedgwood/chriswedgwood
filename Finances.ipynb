{
 "cells": [
  {
   "cell_type": "code",
   "execution_count": 1100,
   "id": "9e9b35c2",
   "metadata": {},
   "outputs": [],
   "source": [
    "import pandas as pd                       #to perform data manipulation and analysis\n",
    "import numpy as np                        #to cleanse data\n",
    "from datetime import datetime             #to manipulate dates\n",
    "import plotly.express as px               #to create interactive charts\n",
    "import plotly.graph_objects as go         #to create interactive charts\n",
    "from jupyter_dash import JupyterDash      #to build Dash apps from Jupyter environments\n",
    "import dash_core_components as dcc        #to get components for interactive user interfaces\n",
    "import dash_html_components as html       #to compose the dash layout using Python structures"
   ]
  },
  {
   "cell_type": "code",
   "execution_count": null,
   "id": "a067cbca",
   "metadata": {},
   "outputs": [],
   "source": [
    "\n"
   ]
  },
  {
   "cell_type": "code",
   "execution_count": 1101,
   "id": "87526263",
   "metadata": {},
   "outputs": [],
   "source": [
    "file_chris = '/Users/chriswedgwood/Library/Mobile Documents/com~apple~CloudDocs/FinancialAnalysis/transactions_chris.csv'\n",
    "file_emma = '/Users/chriswedgwood/Library/Mobile Documents/com~apple~CloudDocs/FinancialAnalysis/transactions_emma.csv'\n",
    "df = pd.concat(map(pd.read_csv, [file_emma, file_chris]))\n",
    "df[\"Category\"] = \"\""
   ]
  },
  {
   "cell_type": "code",
   "execution_count": 1102,
   "id": "b5a8d6ed",
   "metadata": {},
   "outputs": [],
   "source": [
    "#Cleanup\n",
    "# Remove white space\n",
    "df.Description= df.Description.replace('\\s+', ' ', regex=True)"
   ]
  },
  {
   "cell_type": "code",
   "execution_count": 1103,
   "id": "de02dbff",
   "metadata": {},
   "outputs": [],
   "source": [
    "# DROP REDUNDANT ROWS TO AVOID DOUBLE COUNTING\n",
    "\n",
    "df.drop(df.loc[(df.Description.str.contains('EMMA WEDGWOOD     CASH')) & (df.Account=='WEDGWOOD E')].index, inplace=True)\n",
    "df.drop(df.loc[(df.Description.str.contains('BANNER')) & (df.Amount>20000)].index, inplace=True)\n",
    "\n",
    "df.drop(df.loc[(df.Account=='Chris_Monzo') & df.Description.str.contains(\"Monzo\")].index, inplace=True)\n",
    "df.drop(df.loc[(df.Account=='Chris_Monzo') & (df.Description==\"C Wedgwood & Emma Wedgwood\")].index, inplace=True)\n",
    "df.drop(df.loc[(df.Account=='emma_monzo') & (df.Description==\"C Wedgwood & Emma Wedgwood\")].index, inplace=True)\n",
    "df.drop(df.loc[(df.Account=='emma_monzo') & (df.Description==\"EMMA WEDGWOOD\")].index, inplace=True)\n",
    "df.drop(df.loc[(df.Account=='emma_monzo') & (df.Description==\"Wedgwood Emma\")].index, inplace=True)\n",
    "df.drop(df.loc[(df.Account=='emma_monzo') & (df.Description==\"Emma\")].index, inplace=True)\n",
    "df.drop(df.loc[(df.Account=='emma_monzo') & (df.Description==\"Tx\")].index, inplace=True)\n",
    "df.drop(df.loc[(df.Account=='emma_firstdirect') & (df.Description==\"MONZO CASH\")].index, inplace=True)\n",
    "df.drop(df.loc[(df.Account=='emma_firstdirect') & (df.Description==\"EMMA WEDGWOOD\")].index, inplace=True)\n",
    "df.drop(df.loc[(df.Account=='emma_firstdirect') & (df.Description==\"BARCLAY PLAT VISA 492942******9009\")].index, inplace=True)\n",
    "df.drop(df.loc[(df.Account=='emma_barclaycard') & (df.Description==\"BARCLAY PLAT VISA 492942******9009\")].index, inplace=True)\n",
    "df.drop(df.loc[(df.Account=='emma_chris_monzo_joint') & (df.Description==\"CASH\")].index, inplace=True)\n",
    "df.drop(df.loc[(df.Account=='emma_chris_monzo_joint') & (df.Description==\"Christopher Wedgwood\")].index, inplace=True)\n",
    "df.drop(df.loc[(df.Account=='emma_chris_monzo_joint') & (df.Description==\"Tax\")].index, inplace=True)\n",
    "df.drop(df.loc[(df.Account=='emma_chris_monzo_joint') & (df.Description==\"EMMA WEDGWOOD\")].index, inplace=True)\n",
    "df.drop(df.loc[(df.Account=='emma_chris_monzo_joint') & (df.Description==\"Set Aside\")].index, inplace=True)\n",
    "df.drop(df.loc[(df.Account=='emma_chris_monzo_joint') & (df.Description==\"MBNA\")].index, inplace=True)\n",
    "df.drop(df.loc[(df.Account=='emma_chris_monzo_joint') & (df.Description==\"Virgin Money\")].index, inplace=True)\n",
    "df.drop(df.loc[(df.Account=='emma_chris_monzo_joint') & (df.Description==\"Barclaycard\")].index, inplace=True)\n",
    "df.drop(df.loc[(df.Account=='emma_firstdirect') & (df.Description==\"Emma Wedgwood\")].index, inplace=True)\n",
    "df.drop(df.loc[(df.Account=='emma_barclaycard') & (df.Description==\"Payment, Thank You\")].index, inplace=True)\n",
    "df.drop(df.loc[(df.Account=='Chris_Monzo') & (df.Description==\"NATWESTCURRENTACC\")].index, inplace=True)\n",
    "df.drop(df.loc[(df.Account=='Chris_Monzo') & (df.Description==\"WEDGWOOD C B\")].index, inplace=True)\n",
    "df.drop(df.loc[(df.Account=='Chris_Natwest_Current') & (df.Description.str.contains(\"Monzo\"))].index, inplace=True)\n",
    "df.drop(df.loc[(df.Account=='emma_chris_monzo_joint') & (df.Description==\"Emma Wedgwood\") & (df.Amount>0)].index, inplace=True)\n",
    "df.drop(df.loc[(df.Account=='Chris_Natwest_Current') & (df.Description==\"MONZO\")].index, inplace=True)\n",
    "df.drop(df.loc[df.Description.str.contains('CHRISTOPHER WEDGWOFP')].index, inplace=True)\n",
    "df.drop(df.loc[df.Description.str.contains('5253031524455159')].index, inplace=True)\n",
    "df.drop(df.loc[df.Description.str.contains('PPWDL4DQJ222428DX4FP')].index, inplace=True)\n",
    "df.drop(df.loc[df.Description.str.contains('PPWDL5PUJ22252NBMJ')].index, inplace=True)\n",
    "df.drop(df.loc[df.Description.str.contains('Healthmatic Ltd')].index, inplace=True)\n",
    "df.drop(df.loc[df.Description.str.contains('HOUSE MONEY')].index, inplace=True)\n",
    "df.drop(df.loc[df.Description.str.contains('EMMA WEDGWOOD AETransfer')].index, inplace=True)\n",
    "df.drop(df.loc[df.Description.str.contains('Emma Wedgwood EMMA WEDGWOOD')].index, inplace=True)\n",
    "df.drop(df.loc[df.Description.str.contains('C Wedgwood & Emma')].index, inplace=True)\n",
    "#df.drop(df.loc[(df['Description']=='Emma Wedgwood') & (df.Amount==-500)].index, inplace=True)\n",
    "\n",
    "df.drop(df.loc[(df.Account=='emma_chris_monzo_joint') & (df.Description==\"Emma Wedgwood\") & (df.Amount == -500)].index, inplace=True) \n",
    "\n",
    "df.drop(df.loc[df.Amount==0.00].index, inplace=True)\n",
    "df.drop(df.loc[df.Amount==0.01].index, inplace=True)\n",
    "df.drop(df.loc[df.Amount>=16000].index, inplace=True)\n",
    "df.drop(df.loc[df.Amount<=-17000].index, inplace=True)\n"
   ]
  },
  {
   "cell_type": "code",
   "execution_count": 1104,
   "id": "451fb41f",
   "metadata": {},
   "outputs": [
    {
     "data": {
      "text/html": [
       "<div>\n",
       "<style scoped>\n",
       "    .dataframe tbody tr th:only-of-type {\n",
       "        vertical-align: middle;\n",
       "    }\n",
       "\n",
       "    .dataframe tbody tr th {\n",
       "        vertical-align: top;\n",
       "    }\n",
       "\n",
       "    .dataframe thead th {\n",
       "        text-align: right;\n",
       "    }\n",
       "</style>\n",
       "<table border=\"1\" class=\"dataframe\">\n",
       "  <thead>\n",
       "    <tr style=\"text-align: right;\">\n",
       "      <th></th>\n",
       "      <th>Account</th>\n",
       "      <th>Date</th>\n",
       "      <th>Original Date</th>\n",
       "      <th>Description</th>\n",
       "      <th>Original Description</th>\n",
       "      <th>Amount</th>\n",
       "      <th>Currency</th>\n",
       "      <th>Category</th>\n",
       "      <th>Budget</th>\n",
       "    </tr>\n",
       "  </thead>\n",
       "  <tbody>\n",
       "    <tr>\n",
       "      <th>333</th>\n",
       "      <td>emma_chris_monzo_joint</td>\n",
       "      <td>27/10/2021</td>\n",
       "      <td>27/10/2021</td>\n",
       "      <td>2 90 Banner</td>\n",
       "      <td>2 90 Banner</td>\n",
       "      <td>1338.00</td>\n",
       "      <td>GBP</td>\n",
       "      <td></td>\n",
       "      <td>unbudgeted</td>\n",
       "    </tr>\n",
       "    <tr>\n",
       "      <th>719</th>\n",
       "      <td>emma_chris_monzo_joint</td>\n",
       "      <td>28/09/2021</td>\n",
       "      <td>28/09/2021</td>\n",
       "      <td>2 90 Banner</td>\n",
       "      <td>2 90 Banner</td>\n",
       "      <td>1338.00</td>\n",
       "      <td>GBP</td>\n",
       "      <td></td>\n",
       "      <td>unbudgeted</td>\n",
       "    </tr>\n",
       "    <tr>\n",
       "      <th>1083</th>\n",
       "      <td>emma_chris_monzo_joint</td>\n",
       "      <td>31/08/2021</td>\n",
       "      <td>31/08/2021</td>\n",
       "      <td>2 90 Banner</td>\n",
       "      <td>2 90 Banner</td>\n",
       "      <td>1338.00</td>\n",
       "      <td>GBP</td>\n",
       "      <td></td>\n",
       "      <td>unbudgeted</td>\n",
       "    </tr>\n",
       "    <tr>\n",
       "      <th>1299</th>\n",
       "      <td>emma_chris_monzo_joint</td>\n",
       "      <td>05/08/2021</td>\n",
       "      <td>05/08/2021</td>\n",
       "      <td>MoneyToEmma</td>\n",
       "      <td>MoneyToEmma</td>\n",
       "      <td>1200.00</td>\n",
       "      <td>GBP</td>\n",
       "      <td></td>\n",
       "      <td>unbudgeted</td>\n",
       "    </tr>\n",
       "    <tr>\n",
       "      <th>1361</th>\n",
       "      <td>emma_chris_monzo_joint</td>\n",
       "      <td>31/07/2021</td>\n",
       "      <td>31/07/2021</td>\n",
       "      <td>MoneyToEmma</td>\n",
       "      <td>MoneyToEmma</td>\n",
       "      <td>1800.00</td>\n",
       "      <td>GBP</td>\n",
       "      <td></td>\n",
       "      <td>unbudgeted</td>\n",
       "    </tr>\n",
       "    <tr>\n",
       "      <th>1394</th>\n",
       "      <td>emma_chris_monzo_joint</td>\n",
       "      <td>28/07/2021</td>\n",
       "      <td>28/07/2021</td>\n",
       "      <td>2 90 Banner</td>\n",
       "      <td>2 90 Banner</td>\n",
       "      <td>1338.00</td>\n",
       "      <td>GBP</td>\n",
       "      <td></td>\n",
       "      <td>unbudgeted</td>\n",
       "    </tr>\n",
       "    <tr>\n",
       "      <th>1697</th>\n",
       "      <td>emma_chris_monzo_joint</td>\n",
       "      <td>01/07/2021</td>\n",
       "      <td>01/07/2021</td>\n",
       "      <td>MoneyToEmma</td>\n",
       "      <td>MoneyToEmma</td>\n",
       "      <td>1200.00</td>\n",
       "      <td>GBP</td>\n",
       "      <td></td>\n",
       "      <td>unbudgeted</td>\n",
       "    </tr>\n",
       "    <tr>\n",
       "      <th>1712</th>\n",
       "      <td>emma_chris_monzo_joint</td>\n",
       "      <td>30/06/2021</td>\n",
       "      <td>30/06/2021</td>\n",
       "      <td>2 90 Banner</td>\n",
       "      <td>2 90 Banner</td>\n",
       "      <td>1146.00</td>\n",
       "      <td>GBP</td>\n",
       "      <td></td>\n",
       "      <td>unbudgeted</td>\n",
       "    </tr>\n",
       "    <tr>\n",
       "      <th>1961</th>\n",
       "      <td>emma_chris_monzo_joint</td>\n",
       "      <td>31/05/2021</td>\n",
       "      <td>31/05/2021</td>\n",
       "      <td>MoneyToEmma</td>\n",
       "      <td>MoneyToEmma</td>\n",
       "      <td>1200.00</td>\n",
       "      <td>GBP</td>\n",
       "      <td></td>\n",
       "      <td>unbudgeted</td>\n",
       "    </tr>\n",
       "    <tr>\n",
       "      <th>2223</th>\n",
       "      <td>emma_chris_monzo_joint</td>\n",
       "      <td>03/05/2021</td>\n",
       "      <td>03/05/2021</td>\n",
       "      <td>MoneyToEmma</td>\n",
       "      <td>MoneyToEmma</td>\n",
       "      <td>1200.00</td>\n",
       "      <td>GBP</td>\n",
       "      <td></td>\n",
       "      <td>unbudgeted</td>\n",
       "    </tr>\n",
       "    <tr>\n",
       "      <th>2532</th>\n",
       "      <td>emma_chris_monzo_joint</td>\n",
       "      <td>01/04/2021</td>\n",
       "      <td>01/04/2021</td>\n",
       "      <td>MoneyToEmma</td>\n",
       "      <td>MoneyToEmma</td>\n",
       "      <td>1200.00</td>\n",
       "      <td>GBP</td>\n",
       "      <td></td>\n",
       "      <td>unbudgeted</td>\n",
       "    </tr>\n",
       "    <tr>\n",
       "      <th>2792</th>\n",
       "      <td>emma_chris_monzo_joint</td>\n",
       "      <td>01/03/2021</td>\n",
       "      <td>01/03/2021</td>\n",
       "      <td>MoneyToEmma</td>\n",
       "      <td>MoneyToEmma</td>\n",
       "      <td>1200.00</td>\n",
       "      <td>GBP</td>\n",
       "      <td></td>\n",
       "      <td>unbudgeted</td>\n",
       "    </tr>\n",
       "    <tr>\n",
       "      <th>3006</th>\n",
       "      <td>emma_chris_monzo_joint</td>\n",
       "      <td>01/02/2021</td>\n",
       "      <td>01/02/2021</td>\n",
       "      <td>MoneyToEmma</td>\n",
       "      <td>MoneyToEmma</td>\n",
       "      <td>1200.00</td>\n",
       "      <td>GBP</td>\n",
       "      <td></td>\n",
       "      <td>unbudgeted</td>\n",
       "    </tr>\n",
       "    <tr>\n",
       "      <th>3019</th>\n",
       "      <td>emma_chris_monzo_joint</td>\n",
       "      <td>31/01/2021</td>\n",
       "      <td>31/01/2021</td>\n",
       "      <td>MoneyToEmma</td>\n",
       "      <td>MoneyToEmma</td>\n",
       "      <td>3300.00</td>\n",
       "      <td>GBP</td>\n",
       "      <td></td>\n",
       "      <td>unbudgeted</td>\n",
       "    </tr>\n",
       "    <tr>\n",
       "      <th>3162</th>\n",
       "      <td>emma_chris_monzo_joint</td>\n",
       "      <td>03/01/2021</td>\n",
       "      <td>03/01/2021</td>\n",
       "      <td>Monies To Emma</td>\n",
       "      <td>Monies To Emma</td>\n",
       "      <td>1190.00</td>\n",
       "      <td>GBP</td>\n",
       "      <td></td>\n",
       "      <td>unbudgeted</td>\n",
       "    </tr>\n",
       "    <tr>\n",
       "      <th>3313</th>\n",
       "      <td>emma_firstdirect</td>\n",
       "      <td>30/06/2021</td>\n",
       "      <td>30/06/2021</td>\n",
       "      <td>LASERCARE CLINICS Payroll / P05</td>\n",
       "      <td>LASERCARE CLINICS Payroll / P05</td>\n",
       "      <td>1028.86</td>\n",
       "      <td>GBP</td>\n",
       "      <td></td>\n",
       "      <td>unbudgeted</td>\n",
       "    </tr>\n",
       "    <tr>\n",
       "      <th>3346</th>\n",
       "      <td>emma_firstdirect</td>\n",
       "      <td>28/05/2021</td>\n",
       "      <td>28/05/2021</td>\n",
       "      <td>LASERCARE CLINICS MULTIBACS-153</td>\n",
       "      <td>LASERCARE CLINICS MULTIBACS-153</td>\n",
       "      <td>1164.41</td>\n",
       "      <td>GBP</td>\n",
       "      <td></td>\n",
       "      <td>unbudgeted</td>\n",
       "    </tr>\n",
       "    <tr>\n",
       "      <th>3370</th>\n",
       "      <td>emma_firstdirect</td>\n",
       "      <td>30/04/2021</td>\n",
       "      <td>30/04/2021</td>\n",
       "      <td>LASERCARE CLINICS MULTIBACS-157</td>\n",
       "      <td>LASERCARE CLINICS MULTIBACS-157</td>\n",
       "      <td>1510.93</td>\n",
       "      <td>GBP</td>\n",
       "      <td></td>\n",
       "      <td>unbudgeted</td>\n",
       "    </tr>\n",
       "    <tr>\n",
       "      <th>3372</th>\n",
       "      <td>emma_firstdirect</td>\n",
       "      <td>28/04/2021</td>\n",
       "      <td>28/04/2021</td>\n",
       "      <td>2 90 BANNER</td>\n",
       "      <td>2 90 BANNER</td>\n",
       "      <td>1247.52</td>\n",
       "      <td>GBP</td>\n",
       "      <td></td>\n",
       "      <td>unbudgeted</td>\n",
       "    </tr>\n",
       "    <tr>\n",
       "      <th>3393</th>\n",
       "      <td>emma_firstdirect</td>\n",
       "      <td>31/03/2021</td>\n",
       "      <td>31/03/2021</td>\n",
       "      <td>LASERCARE CLINICS MULTIBACS-159</td>\n",
       "      <td>LASERCARE CLINICS MULTIBACS-159</td>\n",
       "      <td>1343.40</td>\n",
       "      <td>GBP</td>\n",
       "      <td></td>\n",
       "      <td>unbudgeted</td>\n",
       "    </tr>\n",
       "    <tr>\n",
       "      <th>3401</th>\n",
       "      <td>emma_firstdirect</td>\n",
       "      <td>26/03/2021</td>\n",
       "      <td>26/03/2021</td>\n",
       "      <td>2 90 BANNER</td>\n",
       "      <td>2 90 BANNER</td>\n",
       "      <td>1391.52</td>\n",
       "      <td>GBP</td>\n",
       "      <td></td>\n",
       "      <td>unbudgeted</td>\n",
       "    </tr>\n",
       "    <tr>\n",
       "      <th>3419</th>\n",
       "      <td>emma_firstdirect</td>\n",
       "      <td>26/02/2021</td>\n",
       "      <td>26/02/2021</td>\n",
       "      <td>2 90 BANNER</td>\n",
       "      <td>2 90 BANNER</td>\n",
       "      <td>1391.52</td>\n",
       "      <td>GBP</td>\n",
       "      <td></td>\n",
       "      <td>unbudgeted</td>\n",
       "    </tr>\n",
       "    <tr>\n",
       "      <th>3421</th>\n",
       "      <td>emma_firstdirect</td>\n",
       "      <td>26/02/2021</td>\n",
       "      <td>26/02/2021</td>\n",
       "      <td>LASERCARE CLINICS MULTIBACS-162</td>\n",
       "      <td>LASERCARE CLINICS MULTIBACS-162</td>\n",
       "      <td>1353.52</td>\n",
       "      <td>GBP</td>\n",
       "      <td></td>\n",
       "      <td>unbudgeted</td>\n",
       "    </tr>\n",
       "    <tr>\n",
       "      <th>3456</th>\n",
       "      <td>emma_firstdirect</td>\n",
       "      <td>29/01/2021</td>\n",
       "      <td>29/01/2021</td>\n",
       "      <td>LASERCARE CLINICS MULTIBACS-164</td>\n",
       "      <td>LASERCARE CLINICS MULTIBACS-164</td>\n",
       "      <td>1643.74</td>\n",
       "      <td>GBP</td>\n",
       "      <td></td>\n",
       "      <td>unbudgeted</td>\n",
       "    </tr>\n",
       "    <tr>\n",
       "      <th>3463</th>\n",
       "      <td>emma_firstdirect</td>\n",
       "      <td>27/01/2021</td>\n",
       "      <td>27/01/2021</td>\n",
       "      <td>2 90 BANNER</td>\n",
       "      <td>2 90 BANNER</td>\n",
       "      <td>2184.76</td>\n",
       "      <td>GBP</td>\n",
       "      <td></td>\n",
       "      <td>unbudgeted</td>\n",
       "    </tr>\n",
       "    <tr>\n",
       "      <th>3497</th>\n",
       "      <td>emma_monzo</td>\n",
       "      <td>09/11/2021</td>\n",
       "      <td>09/11/2021</td>\n",
       "      <td>THERAPIE EPSOM</td>\n",
       "      <td>THERAPIE EPSOM</td>\n",
       "      <td>1189.77</td>\n",
       "      <td>GBP</td>\n",
       "      <td></td>\n",
       "      <td>unbudgeted</td>\n",
       "    </tr>\n",
       "    <tr>\n",
       "      <th>3499</th>\n",
       "      <td>emma_monzo</td>\n",
       "      <td>09/11/2021</td>\n",
       "      <td>09/11/2021</td>\n",
       "      <td>THERAPIE BRENT CRO</td>\n",
       "      <td>THERAPIE BRENT CRO</td>\n",
       "      <td>1290.79</td>\n",
       "      <td>GBP</td>\n",
       "      <td></td>\n",
       "      <td>unbudgeted</td>\n",
       "    </tr>\n",
       "    <tr>\n",
       "      <th>3526</th>\n",
       "      <td>emma_monzo</td>\n",
       "      <td>08/10/2021</td>\n",
       "      <td>08/10/2021</td>\n",
       "      <td>THERAPIE EPSOM</td>\n",
       "      <td>THERAPIE EPSOM</td>\n",
       "      <td>1697.90</td>\n",
       "      <td>GBP</td>\n",
       "      <td></td>\n",
       "      <td>unbudgeted</td>\n",
       "    </tr>\n",
       "    <tr>\n",
       "      <th>3579</th>\n",
       "      <td>emma_monzo</td>\n",
       "      <td>01/09/2021</td>\n",
       "      <td>01/09/2021</td>\n",
       "      <td>NEWCASTLE MDF LTD</td>\n",
       "      <td>NEWCASTLE MDF LTD</td>\n",
       "      <td>1183.20</td>\n",
       "      <td>GBP</td>\n",
       "      <td></td>\n",
       "      <td>unbudgeted</td>\n",
       "    </tr>\n",
       "    <tr>\n",
       "      <th>10</th>\n",
       "      <td>Chris_Monzo</td>\n",
       "      <td>31/10/2021</td>\n",
       "      <td>31/10/2021</td>\n",
       "      <td>payroll October</td>\n",
       "      <td>payroll October</td>\n",
       "      <td>3437.46</td>\n",
       "      <td>GBP</td>\n",
       "      <td></td>\n",
       "      <td>unbudgeted</td>\n",
       "    </tr>\n",
       "    <tr>\n",
       "      <th>16</th>\n",
       "      <td>Chris_Monzo</td>\n",
       "      <td>01/10/2021</td>\n",
       "      <td>01/10/2021</td>\n",
       "      <td>uktg september</td>\n",
       "      <td>uktg september</td>\n",
       "      <td>2886.09</td>\n",
       "      <td>GBP</td>\n",
       "      <td></td>\n",
       "      <td>unbudgeted</td>\n",
       "    </tr>\n",
       "    <tr>\n",
       "      <th>83</th>\n",
       "      <td>Chris_Monzo</td>\n",
       "      <td>05/08/2021</td>\n",
       "      <td>05/08/2021</td>\n",
       "      <td>MoneyToChris</td>\n",
       "      <td>MoneyToChris</td>\n",
       "      <td>2800.00</td>\n",
       "      <td>GBP</td>\n",
       "      <td></td>\n",
       "      <td>unbudgeted</td>\n",
       "    </tr>\n",
       "    <tr>\n",
       "      <th>86</th>\n",
       "      <td>Chris_Monzo</td>\n",
       "      <td>31/07/2021</td>\n",
       "      <td>31/07/2021</td>\n",
       "      <td>MoneyToChris</td>\n",
       "      <td>MoneyToChris</td>\n",
       "      <td>4200.00</td>\n",
       "      <td>GBP</td>\n",
       "      <td></td>\n",
       "      <td>unbudgeted</td>\n",
       "    </tr>\n",
       "    <tr>\n",
       "      <th>96</th>\n",
       "      <td>Chris_Monzo</td>\n",
       "      <td>16/07/2021</td>\n",
       "      <td>16/07/2021</td>\n",
       "      <td>MoneyToChris</td>\n",
       "      <td>MoneyToChris</td>\n",
       "      <td>1400.00</td>\n",
       "      <td>GBP</td>\n",
       "      <td></td>\n",
       "      <td>unbudgeted</td>\n",
       "    </tr>\n",
       "    <tr>\n",
       "      <th>100</th>\n",
       "      <td>Chris_Monzo</td>\n",
       "      <td>01/07/2021</td>\n",
       "      <td>01/07/2021</td>\n",
       "      <td>MoneyToChris</td>\n",
       "      <td>MoneyToChris</td>\n",
       "      <td>2800.00</td>\n",
       "      <td>GBP</td>\n",
       "      <td></td>\n",
       "      <td>unbudgeted</td>\n",
       "    </tr>\n",
       "    <tr>\n",
       "      <th>112</th>\n",
       "      <td>Chris_Monzo</td>\n",
       "      <td>18/06/2021</td>\n",
       "      <td>18/06/2021</td>\n",
       "      <td>MoneyToChris</td>\n",
       "      <td>MoneyToChris</td>\n",
       "      <td>1400.00</td>\n",
       "      <td>GBP</td>\n",
       "      <td></td>\n",
       "      <td>unbudgeted</td>\n",
       "    </tr>\n",
       "    <tr>\n",
       "      <th>120</th>\n",
       "      <td>Chris_Monzo</td>\n",
       "      <td>31/05/2021</td>\n",
       "      <td>31/05/2021</td>\n",
       "      <td>MoneyToChris</td>\n",
       "      <td>MoneyToChris</td>\n",
       "      <td>2800.00</td>\n",
       "      <td>GBP</td>\n",
       "      <td></td>\n",
       "      <td>unbudgeted</td>\n",
       "    </tr>\n",
       "    <tr>\n",
       "      <th>139</th>\n",
       "      <td>Chris_Monzo</td>\n",
       "      <td>03/05/2021</td>\n",
       "      <td>03/05/2021</td>\n",
       "      <td>MoneyToChris</td>\n",
       "      <td>MoneyToChris</td>\n",
       "      <td>2800.00</td>\n",
       "      <td>GBP</td>\n",
       "      <td></td>\n",
       "      <td>unbudgeted</td>\n",
       "    </tr>\n",
       "    <tr>\n",
       "      <th>157</th>\n",
       "      <td>Chris_Monzo</td>\n",
       "      <td>01/04/2021</td>\n",
       "      <td>01/04/2021</td>\n",
       "      <td>MoneyToChris</td>\n",
       "      <td>MoneyToChris</td>\n",
       "      <td>2800.00</td>\n",
       "      <td>GBP</td>\n",
       "      <td></td>\n",
       "      <td>unbudgeted</td>\n",
       "    </tr>\n",
       "    <tr>\n",
       "      <th>167</th>\n",
       "      <td>Chris_Monzo</td>\n",
       "      <td>01/03/2021</td>\n",
       "      <td>01/03/2021</td>\n",
       "      <td>MoneyToChris</td>\n",
       "      <td>MoneyToChris</td>\n",
       "      <td>2800.00</td>\n",
       "      <td>GBP</td>\n",
       "      <td></td>\n",
       "      <td>unbudgeted</td>\n",
       "    </tr>\n",
       "    <tr>\n",
       "      <th>176</th>\n",
       "      <td>Chris_Monzo</td>\n",
       "      <td>01/02/2021</td>\n",
       "      <td>01/02/2021</td>\n",
       "      <td>MoneyToChris</td>\n",
       "      <td>MoneyToChris</td>\n",
       "      <td>2800.00</td>\n",
       "      <td>GBP</td>\n",
       "      <td></td>\n",
       "      <td>unbudgeted</td>\n",
       "    </tr>\n",
       "    <tr>\n",
       "      <th>178</th>\n",
       "      <td>Chris_Monzo</td>\n",
       "      <td>31/01/2021</td>\n",
       "      <td>31/01/2021</td>\n",
       "      <td>MoneyToChris</td>\n",
       "      <td>MoneyToChris</td>\n",
       "      <td>7700.00</td>\n",
       "      <td>GBP</td>\n",
       "      <td></td>\n",
       "      <td>unbudgeted</td>\n",
       "    </tr>\n",
       "    <tr>\n",
       "      <th>190</th>\n",
       "      <td>Chris_Monzo</td>\n",
       "      <td>13/01/2021</td>\n",
       "      <td>13/01/2021</td>\n",
       "      <td>2020 Expenses</td>\n",
       "      <td>2020 Expenses</td>\n",
       "      <td>1172.05</td>\n",
       "      <td>GBP</td>\n",
       "      <td></td>\n",
       "      <td>unbudgeted</td>\n",
       "    </tr>\n",
       "    <tr>\n",
       "      <th>198</th>\n",
       "      <td>Chris_Monzo</td>\n",
       "      <td>03/01/2021</td>\n",
       "      <td>03/01/2021</td>\n",
       "      <td>Monies To Chris</td>\n",
       "      <td>Monies To Chris</td>\n",
       "      <td>2790.00</td>\n",
       "      <td>GBP</td>\n",
       "      <td></td>\n",
       "      <td>unbudgeted</td>\n",
       "    </tr>\n",
       "    <tr>\n",
       "      <th>206</th>\n",
       "      <td>Chris_Natwest_CC</td>\n",
       "      <td>05/08/2021</td>\n",
       "      <td>05/08/2021</td>\n",
       "      <td>FASTER PAYMENT RECEIVED - THANK YOU 4300</td>\n",
       "      <td>FASTER PAYMENT RECEIVED - THANK YOU 4300</td>\n",
       "      <td>2945.51</td>\n",
       "      <td>GBP</td>\n",
       "      <td></td>\n",
       "      <td>unbudgeted</td>\n",
       "    </tr>\n",
       "    <tr>\n",
       "      <th>334</th>\n",
       "      <td>Chris_Natwest_Current</td>\n",
       "      <td>04/01/2021</td>\n",
       "      <td>04/01/2021</td>\n",
       "      <td>CHRISTOPHER WEDGWOSENT FROM MONZO FP 03/01/21 ...</td>\n",
       "      <td>CHRISTOPHER WEDGWOSENT FROM MONZO   FP 03/01/2...</td>\n",
       "      <td>1200.00</td>\n",
       "      <td>GBP</td>\n",
       "      <td></td>\n",
       "      <td>unbudgeted</td>\n",
       "    </tr>\n",
       "  </tbody>\n",
       "</table>\n",
       "</div>"
      ],
      "text/plain": [
       "                     Account        Date Original Date  \\\n",
       "333   emma_chris_monzo_joint  27/10/2021    27/10/2021   \n",
       "719   emma_chris_monzo_joint  28/09/2021    28/09/2021   \n",
       "1083  emma_chris_monzo_joint  31/08/2021    31/08/2021   \n",
       "1299  emma_chris_monzo_joint  05/08/2021    05/08/2021   \n",
       "1361  emma_chris_monzo_joint  31/07/2021    31/07/2021   \n",
       "1394  emma_chris_monzo_joint  28/07/2021    28/07/2021   \n",
       "1697  emma_chris_monzo_joint  01/07/2021    01/07/2021   \n",
       "1712  emma_chris_monzo_joint  30/06/2021    30/06/2021   \n",
       "1961  emma_chris_monzo_joint  31/05/2021    31/05/2021   \n",
       "2223  emma_chris_monzo_joint  03/05/2021    03/05/2021   \n",
       "2532  emma_chris_monzo_joint  01/04/2021    01/04/2021   \n",
       "2792  emma_chris_monzo_joint  01/03/2021    01/03/2021   \n",
       "3006  emma_chris_monzo_joint  01/02/2021    01/02/2021   \n",
       "3019  emma_chris_monzo_joint  31/01/2021    31/01/2021   \n",
       "3162  emma_chris_monzo_joint  03/01/2021    03/01/2021   \n",
       "3313        emma_firstdirect  30/06/2021    30/06/2021   \n",
       "3346        emma_firstdirect  28/05/2021    28/05/2021   \n",
       "3370        emma_firstdirect  30/04/2021    30/04/2021   \n",
       "3372        emma_firstdirect  28/04/2021    28/04/2021   \n",
       "3393        emma_firstdirect  31/03/2021    31/03/2021   \n",
       "3401        emma_firstdirect  26/03/2021    26/03/2021   \n",
       "3419        emma_firstdirect  26/02/2021    26/02/2021   \n",
       "3421        emma_firstdirect  26/02/2021    26/02/2021   \n",
       "3456        emma_firstdirect  29/01/2021    29/01/2021   \n",
       "3463        emma_firstdirect  27/01/2021    27/01/2021   \n",
       "3497              emma_monzo  09/11/2021    09/11/2021   \n",
       "3499              emma_monzo  09/11/2021    09/11/2021   \n",
       "3526              emma_monzo  08/10/2021    08/10/2021   \n",
       "3579              emma_monzo  01/09/2021    01/09/2021   \n",
       "10               Chris_Monzo  31/10/2021    31/10/2021   \n",
       "16               Chris_Monzo  01/10/2021    01/10/2021   \n",
       "83               Chris_Monzo  05/08/2021    05/08/2021   \n",
       "86               Chris_Monzo  31/07/2021    31/07/2021   \n",
       "96               Chris_Monzo  16/07/2021    16/07/2021   \n",
       "100              Chris_Monzo  01/07/2021    01/07/2021   \n",
       "112              Chris_Monzo  18/06/2021    18/06/2021   \n",
       "120              Chris_Monzo  31/05/2021    31/05/2021   \n",
       "139              Chris_Monzo  03/05/2021    03/05/2021   \n",
       "157              Chris_Monzo  01/04/2021    01/04/2021   \n",
       "167              Chris_Monzo  01/03/2021    01/03/2021   \n",
       "176              Chris_Monzo  01/02/2021    01/02/2021   \n",
       "178              Chris_Monzo  31/01/2021    31/01/2021   \n",
       "190              Chris_Monzo  13/01/2021    13/01/2021   \n",
       "198              Chris_Monzo  03/01/2021    03/01/2021   \n",
       "206         Chris_Natwest_CC  05/08/2021    05/08/2021   \n",
       "334    Chris_Natwest_Current  04/01/2021    04/01/2021   \n",
       "\n",
       "                                            Description  \\\n",
       "333                                         2 90 Banner   \n",
       "719                                         2 90 Banner   \n",
       "1083                                        2 90 Banner   \n",
       "1299                                        MoneyToEmma   \n",
       "1361                                        MoneyToEmma   \n",
       "1394                                        2 90 Banner   \n",
       "1697                                        MoneyToEmma   \n",
       "1712                                        2 90 Banner   \n",
       "1961                                        MoneyToEmma   \n",
       "2223                                        MoneyToEmma   \n",
       "2532                                        MoneyToEmma   \n",
       "2792                                        MoneyToEmma   \n",
       "3006                                        MoneyToEmma   \n",
       "3019                                        MoneyToEmma   \n",
       "3162                                     Monies To Emma   \n",
       "3313                    LASERCARE CLINICS Payroll / P05   \n",
       "3346                    LASERCARE CLINICS MULTIBACS-153   \n",
       "3370                    LASERCARE CLINICS MULTIBACS-157   \n",
       "3372                                        2 90 BANNER   \n",
       "3393                    LASERCARE CLINICS MULTIBACS-159   \n",
       "3401                                        2 90 BANNER   \n",
       "3419                                        2 90 BANNER   \n",
       "3421                    LASERCARE CLINICS MULTIBACS-162   \n",
       "3456                    LASERCARE CLINICS MULTIBACS-164   \n",
       "3463                                        2 90 BANNER   \n",
       "3497                                     THERAPIE EPSOM   \n",
       "3499                                 THERAPIE BRENT CRO   \n",
       "3526                                     THERAPIE EPSOM   \n",
       "3579                                  NEWCASTLE MDF LTD   \n",
       "10                                      payroll October   \n",
       "16                                       uktg september   \n",
       "83                                         MoneyToChris   \n",
       "86                                         MoneyToChris   \n",
       "96                                         MoneyToChris   \n",
       "100                                        MoneyToChris   \n",
       "112                                        MoneyToChris   \n",
       "120                                        MoneyToChris   \n",
       "139                                        MoneyToChris   \n",
       "157                                        MoneyToChris   \n",
       "167                                        MoneyToChris   \n",
       "176                                        MoneyToChris   \n",
       "178                                        MoneyToChris   \n",
       "190                                       2020 Expenses   \n",
       "198                                     Monies To Chris   \n",
       "206            FASTER PAYMENT RECEIVED - THANK YOU 4300   \n",
       "334   CHRISTOPHER WEDGWOSENT FROM MONZO FP 03/01/21 ...   \n",
       "\n",
       "                                   Original Description   Amount Currency  \\\n",
       "333                                         2 90 Banner  1338.00      GBP   \n",
       "719                                         2 90 Banner  1338.00      GBP   \n",
       "1083                                        2 90 Banner  1338.00      GBP   \n",
       "1299                                        MoneyToEmma  1200.00      GBP   \n",
       "1361                                        MoneyToEmma  1800.00      GBP   \n",
       "1394                                        2 90 Banner  1338.00      GBP   \n",
       "1697                                        MoneyToEmma  1200.00      GBP   \n",
       "1712                                        2 90 Banner  1146.00      GBP   \n",
       "1961                                        MoneyToEmma  1200.00      GBP   \n",
       "2223                                        MoneyToEmma  1200.00      GBP   \n",
       "2532                                        MoneyToEmma  1200.00      GBP   \n",
       "2792                                        MoneyToEmma  1200.00      GBP   \n",
       "3006                                        MoneyToEmma  1200.00      GBP   \n",
       "3019                                        MoneyToEmma  3300.00      GBP   \n",
       "3162                                     Monies To Emma  1190.00      GBP   \n",
       "3313                    LASERCARE CLINICS Payroll / P05  1028.86      GBP   \n",
       "3346                    LASERCARE CLINICS MULTIBACS-153  1164.41      GBP   \n",
       "3370                    LASERCARE CLINICS MULTIBACS-157  1510.93      GBP   \n",
       "3372                                        2 90 BANNER  1247.52      GBP   \n",
       "3393                    LASERCARE CLINICS MULTIBACS-159  1343.40      GBP   \n",
       "3401                                        2 90 BANNER  1391.52      GBP   \n",
       "3419                                        2 90 BANNER  1391.52      GBP   \n",
       "3421                    LASERCARE CLINICS MULTIBACS-162  1353.52      GBP   \n",
       "3456                    LASERCARE CLINICS MULTIBACS-164  1643.74      GBP   \n",
       "3463                                        2 90 BANNER  2184.76      GBP   \n",
       "3497                                     THERAPIE EPSOM  1189.77      GBP   \n",
       "3499                                 THERAPIE BRENT CRO  1290.79      GBP   \n",
       "3526                                     THERAPIE EPSOM  1697.90      GBP   \n",
       "3579                                  NEWCASTLE MDF LTD  1183.20      GBP   \n",
       "10                                      payroll October  3437.46      GBP   \n",
       "16                                       uktg september  2886.09      GBP   \n",
       "83                                         MoneyToChris  2800.00      GBP   \n",
       "86                                         MoneyToChris  4200.00      GBP   \n",
       "96                                         MoneyToChris  1400.00      GBP   \n",
       "100                                        MoneyToChris  2800.00      GBP   \n",
       "112                                        MoneyToChris  1400.00      GBP   \n",
       "120                                        MoneyToChris  2800.00      GBP   \n",
       "139                                        MoneyToChris  2800.00      GBP   \n",
       "157                                        MoneyToChris  2800.00      GBP   \n",
       "167                                        MoneyToChris  2800.00      GBP   \n",
       "176                                        MoneyToChris  2800.00      GBP   \n",
       "178                                        MoneyToChris  7700.00      GBP   \n",
       "190                                       2020 Expenses  1172.05      GBP   \n",
       "198                                     Monies To Chris  2790.00      GBP   \n",
       "206            FASTER PAYMENT RECEIVED - THANK YOU 4300  2945.51      GBP   \n",
       "334   CHRISTOPHER WEDGWOSENT FROM MONZO   FP 03/01/2...  1200.00      GBP   \n",
       "\n",
       "     Category      Budget  \n",
       "333            unbudgeted  \n",
       "719            unbudgeted  \n",
       "1083           unbudgeted  \n",
       "1299           unbudgeted  \n",
       "1361           unbudgeted  \n",
       "1394           unbudgeted  \n",
       "1697           unbudgeted  \n",
       "1712           unbudgeted  \n",
       "1961           unbudgeted  \n",
       "2223           unbudgeted  \n",
       "2532           unbudgeted  \n",
       "2792           unbudgeted  \n",
       "3006           unbudgeted  \n",
       "3019           unbudgeted  \n",
       "3162           unbudgeted  \n",
       "3313           unbudgeted  \n",
       "3346           unbudgeted  \n",
       "3370           unbudgeted  \n",
       "3372           unbudgeted  \n",
       "3393           unbudgeted  \n",
       "3401           unbudgeted  \n",
       "3419           unbudgeted  \n",
       "3421           unbudgeted  \n",
       "3456           unbudgeted  \n",
       "3463           unbudgeted  \n",
       "3497           unbudgeted  \n",
       "3499           unbudgeted  \n",
       "3526           unbudgeted  \n",
       "3579           unbudgeted  \n",
       "10             unbudgeted  \n",
       "16             unbudgeted  \n",
       "83             unbudgeted  \n",
       "86             unbudgeted  \n",
       "96             unbudgeted  \n",
       "100            unbudgeted  \n",
       "112            unbudgeted  \n",
       "120            unbudgeted  \n",
       "139            unbudgeted  \n",
       "157            unbudgeted  \n",
       "167            unbudgeted  \n",
       "176            unbudgeted  \n",
       "178            unbudgeted  \n",
       "190            unbudgeted  \n",
       "198            unbudgeted  \n",
       "206            unbudgeted  \n",
       "334            unbudgeted  "
      ]
     },
     "execution_count": 1104,
     "metadata": {},
     "output_type": "execute_result"
    }
   ],
   "source": [
    "df.loc[(df.Amount>=1000.00)]\n",
    "#df[df.Account==\"emma_monzo\"]\n",
    "\n",
    "\n",
    "\n",
    "\n",
    "\n",
    "\n"
   ]
  },
  {
   "cell_type": "code",
   "execution_count": 1105,
   "id": "5e08ee62",
   "metadata": {},
   "outputs": [
    {
     "data": {
      "text/html": [
       "<div>\n",
       "<style scoped>\n",
       "    .dataframe tbody tr th:only-of-type {\n",
       "        vertical-align: middle;\n",
       "    }\n",
       "\n",
       "    .dataframe tbody tr th {\n",
       "        vertical-align: top;\n",
       "    }\n",
       "\n",
       "    .dataframe thead th {\n",
       "        text-align: right;\n",
       "    }\n",
       "</style>\n",
       "<table border=\"1\" class=\"dataframe\">\n",
       "  <thead>\n",
       "    <tr style=\"text-align: right;\">\n",
       "      <th></th>\n",
       "      <th>Description</th>\n",
       "      <th>Amount</th>\n",
       "    </tr>\n",
       "  </thead>\n",
       "  <tbody>\n",
       "    <tr>\n",
       "      <th>5</th>\n",
       "      <td>Emma Wedgwood</td>\n",
       "      <td>-1460.98</td>\n",
       "    </tr>\n",
       "    <tr>\n",
       "      <th>4</th>\n",
       "      <td>Chris Wedgwood</td>\n",
       "      <td>-605.00</td>\n",
       "    </tr>\n",
       "    <tr>\n",
       "      <th>7</th>\n",
       "      <td>MONZO CURRENT NATWESTCURRENTACC VIA MOBILE - P...</td>\n",
       "      <td>-500.00</td>\n",
       "    </tr>\n",
       "    <tr>\n",
       "      <th>10</th>\n",
       "      <td>MONZO CURRENT NATWESTCURRENTACC VIA MOBILE - P...</td>\n",
       "      <td>-500.00</td>\n",
       "    </tr>\n",
       "    <tr>\n",
       "      <th>6</th>\n",
       "      <td>MONZO CURRENT NATWESTCURRENTACC VIA MOBILE - P...</td>\n",
       "      <td>-200.00</td>\n",
       "    </tr>\n",
       "    <tr>\n",
       "      <th>8</th>\n",
       "      <td>MONZO CURRENT NATWESTCURRENTACC VIA MOBILE - P...</td>\n",
       "      <td>-120.00</td>\n",
       "    </tr>\n",
       "    <tr>\n",
       "      <th>9</th>\n",
       "      <td>MONZO CURRENT NATWESTCURRENTACC VIA MOBILE - P...</td>\n",
       "      <td>-100.00</td>\n",
       "    </tr>\n",
       "    <tr>\n",
       "      <th>1</th>\n",
       "      <td>CHRISTOPHER WEDGWOSENT FROM MONZO FP 06/04/21 ...</td>\n",
       "      <td>200.00</td>\n",
       "    </tr>\n",
       "    <tr>\n",
       "      <th>3</th>\n",
       "      <td>CHRISTOPHER WEDGWOSENT FROM MONZO FP 28/04/21 ...</td>\n",
       "      <td>250.00</td>\n",
       "    </tr>\n",
       "    <tr>\n",
       "      <th>2</th>\n",
       "      <td>CHRISTOPHER WEDGWOSENT FROM MONZO FP 22/06/21 ...</td>\n",
       "      <td>700.00</td>\n",
       "    </tr>\n",
       "    <tr>\n",
       "      <th>0</th>\n",
       "      <td>CHRISTOPHER WEDGWOSENT FROM MONZO FP 03/01/21 ...</td>\n",
       "      <td>1200.00</td>\n",
       "    </tr>\n",
       "  </tbody>\n",
       "</table>\n",
       "</div>"
      ],
      "text/plain": [
       "                                          Description   Amount\n",
       "5                                       Emma Wedgwood -1460.98\n",
       "4                                      Chris Wedgwood  -605.00\n",
       "7   MONZO CURRENT NATWESTCURRENTACC VIA MOBILE - P...  -500.00\n",
       "10  MONZO CURRENT NATWESTCURRENTACC VIA MOBILE - P...  -500.00\n",
       "6   MONZO CURRENT NATWESTCURRENTACC VIA MOBILE - P...  -200.00\n",
       "8   MONZO CURRENT NATWESTCURRENTACC VIA MOBILE - P...  -120.00\n",
       "9   MONZO CURRENT NATWESTCURRENTACC VIA MOBILE - P...  -100.00\n",
       "1   CHRISTOPHER WEDGWOSENT FROM MONZO FP 06/04/21 ...   200.00\n",
       "3   CHRISTOPHER WEDGWOSENT FROM MONZO FP 28/04/21 ...   250.00\n",
       "2   CHRISTOPHER WEDGWOSENT FROM MONZO FP 22/06/21 ...   700.00\n",
       "0   CHRISTOPHER WEDGWOSENT FROM MONZO FP 03/01/21 ...  1200.00"
      ]
     },
     "execution_count": 1105,
     "metadata": {},
     "output_type": "execute_result"
    }
   ],
   "source": [
    "df.loc[df['Description'].str.contains('TfL|TFL|Uber'), ['Category']] = 'Travel'\n",
    "df.loc[df['Description'].str.contains('Banner Street Pot'), ['Category']] = 'Transfer'\n",
    "df.loc[df['Description'].str.contains('Thames'), ['Category']] = 'Utilities'\n",
    "df.loc[df['Description'].str.contains('Insurance'), ['Category']] = 'Insurance'\n",
    "df.loc[df['Description'].str.contains('TV'), ['Category']] = 'Entertainment'\n",
    "df.loc[df['Description'].str.contains('Joannabenfi'), ['Category']] = 'Therapy'\n",
    "df.loc[df['Description'].str.contains('2 90 Banner'), ['Category']] = 'Rental Income'\n",
    "df.loc[df['Description'].str.contains('HAWKS|ALDI|Co-op'), ['Category']] = 'Groceries'\n",
    "df.loc[df['Description'].str.contains('TV'), ['Category']] = 'Entertainment'\n",
    "df.loc[df['Description'].str.contains('WH SMITH'), ['Category']] = 'Postage'\n",
    "df.loc[df['Description'].str.contains('CUSTOMCLEAN-FRHVEY'), ['Category']] = 'Household'\n",
    "df.loc[df['Description'].str.contains('helppay'), ['Category']] = 'Bank Charges'\n",
    "df.loc[df['Description'].str.contains('VICTORIA|OLD PLOUGH'), ['Category']] = 'Restaurant'\n",
    "df.loc[df['Description'].str.contains('ChrisEmma Retreat'), ['Category']] = 'Holiday'\n",
    "df.loc[df['Description'].str.contains('GC519884'), ['Category']] = 'Holiday'\n",
    "df.loc[df['Description'].str.contains('rca|Rca|RCA'), ['Category']] = 'RCA'\n",
    "df.loc[df['Description'].str.contains('MANCHESTER MCHSTR EXCHAN'), ['Category']] = 'RCA'\n",
    "df.loc[df['Description'].str.contains('FarmFresh'), ['Category']] = 'Groceries'\n",
    "df.loc[df['Description'].str.contains('www.emma-matratze.ch'), ['Category']] = 'Household'\n",
    "df.loc[df['Description'].str.contains('UK PRIME|Amazon Prime|Prime Video'), ['Category']] = 'Entertainment'\n",
    "df.loc[df['Description'].str.contains('AMZN|AMAZON'), ['Category']] = 'Online Shopping'\n",
    "df.loc[df['Description'].str.contains('COOMBEWOODLA|Ol Tennis|World Of Golf'), ['Category']] = 'Sport and Fitness'\n",
    "df.loc[df['Description'].str.contains('The Juic|Leon'), ['Category']] = 'Snackette'\n",
    "df.loc[df['Description'].str.contains('Ewell Borough'), ['Category']] = 'Car'\n",
    "df.loc[df['Description'].str.contains('Thai Kitchen|Deliveroo Plus UK|EATS HELP.UBER.COM'), ['Category']] = 'Takeaway'\n",
    "df.loc[df['Description'].str.contains('Waitrose'), ['Category']] = 'Groceries'\n",
    "df.loc[df['Description'].str.contains('Hawks Road Post Office'), ['Category']] = 'Corner Shop'\n",
    "df.loc[df['Description'].str.contains('Sainsbury|Ocado'), ['Category']] = 'groceries'\n",
    "df.loc[df['Description'].str.contains('CASH|ATM'), ['Category']] = 'Cash'\n",
    "df.loc[df['Description'].str.contains('F45'), ['Category']] = 'Sport and Fitness'\n",
    "df.loc[df['Description']=='Banner Street', ['Category']] = 'Pots'\n",
    "df.loc[df['Description']=='Marks & Spencer', ['Category']] = 'Groceries'\n",
    "df.loc[df['Description']=='Transport for London', ['Category']] = 'Travel'\n",
    "df.loc[df['Description']=='Virgin Media', ['Category']] = 'Utilities'\n",
    "df.loc[df['Description']=='Wukong Oriental Food', ['Category']] = 'Takeaway'\n",
    "df.loc[df['Description']=='Pret A Manger', ['Category']] = 'Snackette'\n",
    "df.loc[df['Description']=='Netflix', ['Category']] = 'Home Entertainment'\n",
    "df.loc[df['Description']=='The Albion', ['Category']] = 'Restaurant'\n",
    "df.loc[df['Description']=='Bills - Putney', ['Category']] = 'Restaurant'\n",
    "df.loc[df['Description']=='Boots', ['Category']] = 'Health'\n",
    "df.loc[df['Description']=='Tortilla', ['Category']] = 'Snackette'\n",
    "df.loc[df['Description']=='Deliveroo', ['Category']] = 'Takeaway'\n",
    "df.loc[df['Description']=='Christopher Wedgwood', ['Category']] = 'Money From Chris'\n",
    "#df.loc[df['Description']=='Chris Wedgwood', ['Category']] = 'Money Chris'\n",
    "#df.loc[df['Description']=='Emma Wedgwood', ['Category']] = 'Money Emma'\n",
    "df.loc[df['Description']=='Caffè Nero', ['Category']] = 'Snackette'\n",
    "df.loc[df['Description']=='Regus Uk', ['Category']] = 'Snackette'\n",
    "df.loc[df['Description']=='Shell', ['Category']] = 'Car'\n",
    "df.loc[df['Description']=='MBNA', ['Category']] = 'Credit Card'\n",
    "df.loc[df['Description']=='Regus', ['Category']] = 'Snackette'\n",
    "df.loc[df['Description']=='Jo Hansford', ['Category']] = 'Hair and Beauty'\n",
    "df.loc[df['Description']=='Aura Centre Of Dental', ['Category']] = 'Dentis'\n",
    "df.loc[df['Description']=='Moffats', ['Category']] = 'Snackette'\n",
    "df.loc[df['Description']=='Amazon Digital', ['Category']] = 'Home Entertainment'\n",
    "df.loc[df['Description']=='Cafe Plum', ['Category']] = 'Snackette'\n",
    "df.loc[df['Description']=='WHSmith', ['Category']] = 'Snackette'\n",
    "df.loc[df['Description']=='Royal Borough of Kingston', ['Category']] = 'Council tax'\n",
    "df.loc[df['Description']=='Tesco', ['Category']] = 'Groceries'\n",
    "df.loc[df['Description']=='Hayu', ['Category']] = 'Home Entertainment'\n",
    "df.loc[(df.Description=='Halifax') & (df.Amount > -300),['Category']] = 'Credit Card'\n",
    "df.loc[(df.Description=='BP') & (df.Amount < -30),['Category']] = 'Car'\n",
    "df.loc[(df.Description=='BP') & (df.Amount > -30),['Category']] = 'Snackette'\n",
    "df.loc[(df.Description=='GoCardless') & (df.Amount > -18),['Category']] = 'Cleaners'\n",
    "df.loc[(df.Description=='GoCardless') & (df.Amount < -18),['Category']] = 'Sport and Excercise'\n",
    "df.loc[df.Description=='MoneyToEmma',['Category']] = 'Chris Income'\n",
    "df.loc[df.Description=='GUYS ST THOMAS NHS',['Category']] = 'Emma Income'\n",
    "df.loc[df.Description=='BARCLAY PLAT VISA 492942******9009',['Category']] = 'Credit Card'\n",
    "df.loc[df.Description=='Set Aside',['Category']] = 'Set Aside'\n",
    "df.loc[df.Description=='Barclaycard',['Category']] = 'Credit Card'\n",
    "df.loc[df.Description=='Welcome Break Birchanger Green',['Category']] = 'Snackette'\n",
    "df.loc[df.Description=='Silver Service',['Category']] = 'Car'\n",
    "df.loc[df.Description=='Halifax Mortgages',['Category']] = 'Mortgage'\n",
    "df.loc[df.Description=='Payment, Thank You',['Category']] = 'Credit Card'\n",
    "df.loc[df.Description=='Payment By Direct Debit',['Category']] = 'Credit Card'\n",
    "df.loc[df.Description=='NOW               London',['Category']] = 'Scam'\n",
    "df.loc[df.Description=='UBER   *EATS      HELP.UBER.COM',['Category']] = 'takeaway'\n",
    "df.loc[df['Description'].str.contains('Sabor Espresso'), ['Category']] = 'Snackette'\n",
    "df.loc[df['Description'].str.contains('Ymca|BREAST CANCER NOW|JustGiving|Braintumourres'), ['Category']] = 'Charity'\n",
    "\n",
    "df.loc[df['Description'].str.contains('Ole|Teskin|LEON|Yo Sushi|You Me Sushi|Norbiton Sandwich|Snacks Corner|Snoggy'), ['Category']] = 'Snackette'\n",
    "df.loc[df['Description'].str.contains('Rude Health|WH Smith|River Cafe|Hazs Bake|LTT VENDING LIMITELEEDS|Vending|Hotel Chocolat'), ['Category']] = 'Snackette'\n",
    "df.loc[df['Description'].str.contains('Italian Eating Place|Franco Manca|The Marylebone Hotel'), ['Category']] = 'Restaurant'\n",
    "df.loc[df['Description'].str.contains('Wilko|Pets At Home|WHICH|Amznmktplace, amazon.co.uk|Poundland|www.waitrosepet.com|Squires Garden Centre'), ['Category']] = 'Household'\n",
    "df.loc[df['Description'].str.contains('Ruth Vizard|R Vizard'), ['Category']] = 'Household'\n",
    "df.loc[df['Description'].str.contains('Ald Automotive Ltd|WESTMINSTER PARKINLONDON|RINGGO|YourParkingSpace|PARKING|Intu Uxbridge|Parking'), ['Category']] = 'Car'\n",
    "df.loc[df['Description'].str.contains('AIG Life|ROYAL LONDON'), ['Category']] = 'Insurance'\n",
    "df.loc[df['Description'].str.contains('RCN|Nursing & Midwifery Council|IPSE 0208 8979970 GBR 4300'), ['Category']] = 'Professional Fees'\n",
    "df.loc[df['Description'].str.contains('BEAUTY PIE|Beauty Pie'), ['Category']] = 'Hair and Beauty'\n",
    "df.loc[df['Description'].str.contains('BARCLAYS PRTNR FIN|O2'), ['Category']] = 'Phone'\n",
    "df.loc[df['Description'].str.contains('TESCO BANK'), ['Category']] = 'Loan'\n",
    "df.loc[df['Description'].str.contains('Utility Point'), ['Category']] = 'Utilities'\n",
    "df.loc[df['Description'].str.contains('Audible'), ['Category']] = 'Home Entertainment'\n",
    "df.loc[df['Description'].str.contains('Other Stories'), ['Category']] = 'Gifts'\n",
    "df.loc[df['Description'].str.contains('Virgin Money|NATWEST MC|CREDIT CARD|VIRGIN MONEY|CARD PLAT VISA|PayPal|DIRECT DEBIT PAYMENT - TH ANK YOU 4300'), ['Category']] = 'Credit Card'\n",
    "df.loc[df['Description']=='PAYPAL *PYPL PAYIN8003587911', ['Category']] = 'Credit Card'\n",
    "df.loc[df['Description']=='MADE.COM          LONDON', ['Category']] = 'Household'\n",
    "df.loc[df['Description']=='EWA               Pay back', ['Category']] = 'EWA'\n",
    "df.loc[df['Description'].str.contains('John Lewis & Partners|Amazon|Post Office'), ['Category']] = 'Household'\n",
    "df.loc[df['Description'].str.contains('Aldermore Bank Plc|WEST ONE - COLLECT'), ['Category']] = 'Mortgage'\n",
    "df.loc[df['Description'].str.contains('Asda|Ada Food Centre'), ['Category']] = 'Groceries'\n",
    "df.loc[df['Description'].str.contains('Interest|INTEREST|01MAR A/C 86397958|01SEP A/C 86397958|A/C 86397958'), ['Category']] = 'Interest'\n",
    "#df.loc[df['Description'].str.contains('HOUSE MONEY'), ['Category']] = 'Chris Income'\n",
    "df.loc[df['Description'].str.contains('EWA               TX'), ['Category']] = 'Emma Wedgwood Aesthetics'\n",
    "df.loc[df['Description'].str.contains('Sent from Monzo'), ['Category']] = 'Money Out General'\n",
    "df.loc[df['Description'].str.contains('N L Healthcare Ltd|Hawks Pharmacy'), ['Category']] = 'Health'\n",
    "#df.loc[df['Description'].str.contains('C Wedgwood & Emma|EMMA WEDGWOOD'), ['Category']] = 'Money Emma'\n",
    "df.loc[df['Description'].str.contains('2 90 BANNER'), ['Category']] = 'Rental Income'\n",
    "df.loc[df['Description'].str.contains('POULT001|Homeground Management'), ['Category']] = 'Banner Street'\n",
    "df.loc[df['Description'].str.contains('UBER'), ['Category']] = 'Transport'\n",
    "df.loc[df['Description'].str.contains('Klarna'), ['Category']] = 'Clothing'\n",
    "df.loc[df['Description'].str.contains('Embers Camping Turners'), ['Category']] = 'Holiday'\n",
    "df.loc[df['Description'].str.contains('Space NK Limited London|Space NK'), ['Category']] = 'Beauty'\n",
    "\n",
    "df.loc[df['Description'].str.contains('AMT Coffee|JOE & THE JUICE|Costa|Boston Tea|Crosstown|Cedricks Ltd'), ['Category']] = 'Snackette'\n",
    "df.loc[df['Description'].str.contains('Gails - Putney|Toms @ Riverside|Five Guys|Starbucks|Espresso'), ['Category']] = 'Snackette'\n",
    "df.loc[df['Description'].str.contains('The Bowl and Roll'), ['Category']] = 'Snackette'\n",
    "df.loc[df['Description'].str.contains('McDonald|DELIVEROO'), ['Category']] = 'Takeaway'\n",
    "df.loc[df['Description'].str.contains('Hilary King Mgt'), ['Category']] = 'Scam'\n",
    "df.loc[df['Description'].str.contains('Moonpig'), ['Category']] = 'Gifts'\n",
    "df.loc[df['Description'].str.contains('M&S Simply Food|Whole Foods Market'), ['Category']] = 'Groceries'\n",
    "df.loc[df['Description'].str.contains('Monies To Emma'), ['Category']] = 'Chris Income'\n",
    "df.loc[df['Description'].str.contains('Tex Embankment|www.drivetech.co.uk|Yourparkingspace|Air-SERV|The Bentall Centre|NCP'), ['Category']] = 'Car'\n",
    "df.loc[df['Description'].str.contains('Asics London, Canary W|Vauxhall Flowers|Scribbler'), ['Category']] = 'Gifts'\n",
    "df.loc[df['Description'].str.contains('01AUG A/C 86397958'), ['Category']] = 'Money Chris'\n",
    "df.loc[df['Description'].str.contains('Gerald F Giles Ltd|IKEA|B & Q New Malden|Abigail Ahern|Monkeyoffice|Shutterstock|Harry'), ['Category']] = 'Household'\n",
    "df.loc[df['Description'].str.contains('Psychiatry-uk Llp|Cloudrx Ltd|CLOUDRX'), ['Category']] = 'Health'\n",
    "df.loc[df['Description'].str.contains('REISS             LONDON|SweatyBetty|The Outnet|WWW.ASOS.COM|Zara'), ['Category']] = 'Clothing'\n",
    "df.loc[df['Description'].str.contains('Aldi'), ['Category']] = 'Groceries'\n",
    "df.loc[df['Description'].str.contains('4562475729K|Easy Online Accounting'), ['Category']] = 'Tax'\n",
    "df.loc[df['Description'].str.contains('JO Hansford|Tiffany & Co. Uk|Tracie Giles Ltd, London|SPACE NK'), ['Category']] = 'Hair and Beauty'\n",
    "df.loc[df['Description'].str.contains('OAKLEY HALL HOTEL OAKLEY GBR GBR 4300|TripAdvisor'), ['Category']] = 'Holiday'\n",
    "df.loc[df['Description'].str.contains('Islington Council'), ['Category']] = 'Banner Street'\n",
    "\n",
    "df.loc[df['Description'].str.contains('Caffe Caffe|Welcome Break|Cafe Smiley|Cafe Lucca|Wafflemeister|Pembroke Lodge'), ['Category']] = 'Snackette'\n",
    "df.loc[df['Description'].str.contains('Host Olympia|Wasabi|Grape Tree|Top Cream'), ['Category']] = 'Snackette'\n",
    "df.loc[df['Description'].str.contains('Clinton Cards|DAVID POULTNEY    First Direct'), ['Category']] = 'Gifts'\n",
    "df.loc[df['Description'].str.contains('Clydesdale Bank Mortgage'), ['Category']] = 'Mortgage'\n",
    "df.loc[df['Description'].str.contains('Watsons-on-the-web|Complete Savings|ExpressVPN|Etsy.com Zenspirituals|08001076285'), ['Category']] = 'Household'\n",
    "df.loc[df['Description'].str.contains('Www.geraldgiles.co.uk, Norwich|Wolfco CP One Limited, London|Wimbledon Flower Kiosk'), ['Category']] = 'Household'\n",
    "df.loc[df['Description'].str.contains('Www.geraldgiles.co.uk, Norwich|Wolfco CP One Limited, London|Wimbledon Flower Kiosk'), ['Category']] = 'Household'\n",
    "df.loc[df['Description'].str.contains('Wickes Kingston'), ['Category']] = 'Household'\n",
    "df.loc[df['Description'].str.contains('The Clive Arms'), ['Category']] = 'Restaurant'\n",
    "df.loc[df['Description'].str.contains('Superdrug|Yingwan Thai Therapy'), ['Category']] = 'Health'\n",
    "df.loc[df['Description'].str.contains('Matchesfashion, London|Ysl.com|Www.the-restory.com, Londo|asos'), ['Category']] = 'Clothing'\n",
    "df.loc[df['Description'].str.contains('Zoilo, London|Gk Bar And Grill'), ['Category']] = 'Restaurant'\n",
    "df.loc[df['Description'].str.contains('FASTER PAYMENT RECEIVED - THANK YOU 4300'), ['Category']] = 'Credit Card'\n",
    "df.loc[df['Description'].str.contains('Wagamama'), ['Category']] = 'Restaurant'\n",
    "\n",
    "df.loc[df['Description'].str.contains('Whirld|Toddington S/b|Third Space Tower Bridge|The Whole Bagel Ltd'), ['Category']] = 'Snackette'\n",
    "df.loc[df['Description'].str.contains('The Treestone Butchers|The Teksin Ide|The Savanna|The Raw Store'), ['Category']] = 'Snackette'\n",
    "df.loc[df['Description'].str.contains('JOHNLEWIS|Timpson|Therapy Guide Ltd'), ['Category']] = 'Household'\n",
    "df.loc[df['Description'].str.contains('WEST ONE|12000991'), ['Category']] = 'Mortgage'\n",
    "df.loc[df['Description'].str.contains('Udaya Kerala Restauran|Dish|The Old Plough|Cote Brasserie - Richm|The Moorfields'), ['Category']] = 'Restaurant'\n",
    "df.loc[df['Description'].str.contains('Udaya Kerala Restauran|Dish|The Old Plough|Cote Brasserie - Richm|The Moorfields'), ['Category']] = 'Restaurant'\n",
    "df.loc[df['Description'].str.contains('ESSO'), ['Category']] = 'Car'\n",
    "df.loc[df['Description'].str.contains('Tickets      70625304|68732459'), ['Category']] = 'Travel'\n",
    "df.loc[df['Description'].str.contains('Sk:n Clinics|Beauty'), ['Category']] = 'Hair and Beauty'\n",
    "df.loc[df['Description'].str.contains('MoneyToChris|uktg september|payroll October|Monies To Chris|Salary|DIFFER|2020 Expenses|Wedgwoodlc13'), ['Category']] = 'Chris Income'\n",
    "df.loc[df['Description'].str.contains('THERAPIE EPSOM|THERAPIE BRENT CRO|NEWCASTLE MDF LTD|THERAPIE UXBRIDGE|FACE|Melanie Valecha|RBC18021KH4I8GQQ'), ['Category']] = 'Emma Income'\n",
    "df.loc[df['Description'].str.contains('THERAPIE KINGSTON|THERAPIE PUTNEY BR|DAVID POULTNEY First Direct|THERAPIE HO|For dresser|Cara|ALISON SKIN'), ['Category']] = 'Emma Income'\n",
    "df.loc[df['Description'].str.contains('ALICE|DARON SEUKERAN'), ['Category']] = 'Emma Income'\n",
    "df.loc[df['Description'].str.contains('A1252116736968|Dhl Parcel Uk'), ['Category']] = 'Refund'\n",
    "df.loc[df['Description'].str.contains('Joseph Ltd|Asics London|Reiss|REISS LONDON|Restory Booking'), ['Category']] = 'Clothing'\n",
    "df.loc[df['Description'].str.contains('Royal Mail|Snappy Snaps|Bm Super|APPLE|Bentalls'), ['Category']] = 'Household'\n",
    "df.loc[df['Description'].str.contains('Non-Sterling Transaction Fee'), ['Category']] = 'Bank Charges'\n",
    "df.loc[df['Description'].str.contains('Broad Street Extra|Palace Road|Ginos Cafe|The Arrow|Best One Xpress'), ['Category']] = 'Snackette'\n",
    "df.loc[df['Description'].str.contains('Grababite|Coffee|Soul Deli|Roasters|Haz'), ['Category']] = 'Snackette'\n",
    "df.loc[df['Description'].str.contains('SIMPLY FOOD|Spar|Food And Wine|Lidl'), ['Category']] = 'Groceries'\n",
    "df.loc[df['Description'].str.contains('Ludlow Football'), ['Category']] = 'Drinks'\n",
    "df.loc[df['Description'].str.contains('Shropshire Council'), ['Category']] = 'Car'\n",
    "df.loc[df['Description'].str.contains('Bakery|Zest|Galeta|Cakes|Eat17|Dough|Paul Uk Kingston|Change Please Cic'), ['Category']] = 'Snackette'\n",
    "df.loc[df['Description'].str.contains('Aromma|Leafi|Hush Hush|The Indians Next D|Kokoro|Grind|Creamy'), ['Category']] = 'Snackette'\n",
    "df.loc[df['Description'].str.contains('JOE THE JUICE|The Glades, Brofcmley|Horn Ok Please|Patisserie|Gails|s Cafe'), ['Category']] = 'Snackette'\n",
    "df.loc[df['Description'].str.contains('Neds Noodle Bar|Gelato|The Black Pig|Al Forno|Prime Burger|Royal Park Cf'), ['Category']] = 'Snackette'\n",
    "df.loc[df['Description'].str.contains('Credit Card|525303525303'), ['Category']] = 'Credit Card'\n",
    "df.loc[df['Description'].str.contains('Tuesdayyp|SOBERISTHENEWBEACON|Recoveringc|Richmond Women In|Wso Inc'), ['Category']] = 'Recovery'\n",
    "df.loc[df['Description'].str.contains('Underbelly Festival|Royal Botanic Gardens, Kew|Royal Botanic Garderns|Tickets 70625304|NOW London'), ['Category']] = 'Entertainment'\n",
    "df.loc[df['Description'].str.contains('Primark'), ['Category']] = 'Clothing'\n",
    "df.loc[df['Description'].str.contains('American Golf'), ['Category']] = 'Sport'\n",
    "df.loc[df['Description'].str.contains('King Of Cotton|13 Emma Wedgwood|The Decor House|ARGOS|Lakeland'), ['Category']] = 'Household'\n",
    "df.loc[df['Description'].str.contains('Krispy|Ridleys|Cojean|Greggs|Creams|Pretzel|Barbican|Farrago'), ['Category']] = 'Snackette'\n",
    "df.loc[df['Description'].str.contains('Real Food Market K|Burger|Sandwich|Itsu|Serpentine Bar & Kitchen|No 1a Duke St'), ['Category']] = 'Snackette'\n",
    "df.loc[df['Description'].str.contains('Francis Of London|The Chip Club|GAILS|Maison Georges Larnicol|Take Away'), ['Category']] = 'Snackette'\n",
    "df.loc[df['Description'].str.contains('SPOTIFY|NOW 3D3DD Ents London|NOW X|NOW FEB54 Ents London|Magazinesdirect.com|Apple|NOW B|NOW 8'), ['Category']] = 'Home Entertainment'\n",
    "df.loc[df['Description'].str.contains('1 AND 1 IONOS'), ['Category']] = 'Tech'\n",
    "df.loc[df['Description'].str.contains('Ealing Broadway Centre|Four Marks Sf Connect|Kingston Valeting Limi|Esso|Tex Swan'), ['Category']] = 'Car'\n",
    "df.loc[df['Description'].str.contains('Just Eat|Sushi Shop'), ['Category']] = 'Takeaway'\n",
    "df.loc[df['Description'].str.contains('MUST HAVE IDELONDON|Getting Personal|OX FLOWERS CROWBOROUGH'), ['Category']] = 'Gifts'\n",
    "df.loc[df['Description'].str.contains('Federici Brands Ltd|Space Nk'), ['Category']] = 'Hair and Beauty'\n",
    "df.loc[df['Description'].str.contains('All Bar One|The Breakfast Club|Ludlow Kitchen Cafe|Pizza Bro Ltd|Same Same But Different'), ['Category']] = 'Restaurant'\n",
    "df.loc[df['Description'].str.contains('Local Hero Kingston|A Cena|Fratelli Delicatessen|Preto Putney|The Ivy|Ham Yard Hotel'), ['Category']] = 'Restaurant'\n",
    "df.loc[df['Description'].str.contains('Comptoir Libanais|The Coach Makers Arms|Poor Boys|Brasserie Zedel'), ['Category']] = 'Restaurant'\n",
    "df.loc[df['Description'].str.contains('Harts of Stur|Access Kingston|Argos|Sophie Conran|1ofseven.co.uk|Fowler & Smith Ltd|Ryman|Teflorist|7 Portman Road'), ['Category']] = 'Household'\n",
    "df.loc[df['Description'].str.contains('West Elm|Rowen Interior|SNAPDRY|Incipio|LATZIO ONLINE SHOPRICHMOND|ovenclean|Ungarett'), ['Category']] = 'Household'\n",
    "df.loc[df['Description'].str.contains('DHL|Centrica Hive|Dunelm|Kingston Veterinary Ce|Storage 4 Wheelie Bins,'), ['Category']] = 'Household'\n",
    "df.loc[df['Description'].str.contains('Shein|Selfridges|Tennis-Point.com|QVC|River Island|Victoria Beckham|ALEXACHUNG|RIVER ISLAND'), ['Category']] = 'Clothing'\n",
    "df.loc[df['Description'].str.contains('Arket UK|Lululemon'), ['Category']] = 'Clothing'\n",
    "df.loc[df['Description'].str.contains('Omaze'), ['Category']] = 'Competitions'\n",
    "df.loc[df['Description'].str.contains('American Carwash|Ats Kingston|ALD Automotive'), ['Category']] = 'Car'\n",
    "df.loc[df['Description'].str.contains('Blacks|Embers Camping'), ['Category']] = 'Outdoors'\n",
    "df.loc[df['Description'].str.contains('8greens|8GREENS|The Doctors Laboratory'), ['Category']] = 'Health'\n",
    "df.loc[df['Description'].str.contains('Bevans Butchers|Farmdrop'), ['Category']] = 'Groceries'\n",
    "df.loc[df['Description'].str.contains('VANCLARKE|JO HANSFORD|SK:N CLINICS LONDON|CULT BEAUTY|EDEN AESTHETICS|DOUGLAS METAL|OMAZE'), ['Category']] = 'Hair and Beauty'\n",
    "df.loc[df['Description'].str.contains('Barclays|giffgaff'), ['Category']] = 'Phone'\n",
    "df.loc[df['Description'].str.contains('Roman Baths Ticket Sales|Rose Theatre Kingston|Fever Uk|City Lit'), ['Category']] = 'Entertainment'\n",
    "df.loc[df['Description'].str.contains('Granger & Co|The Dog & Fox Hotel|Portofino Restaurant|Cent Anni|Claytons Kitchen|Kerridges Bar And Gril'), ['Category']] = 'Restaurant'\n",
    "df.loc[df['Description'].str.contains('Marylebone Hotel 1,'), ['Category']] = 'Restaurant'\n",
    "df.loc[df['Description'].str.contains('Adobe Systems Software Ireland'), ['Category']] = 'Software'\n",
    "df.loc[df['Description'].str.contains('TRAINLINE'), ['Category']] = 'Travel'\n",
    "df.loc[df['Description'].str.contains('CRE35314369001'), ['Category']] = 'Paypal'\n",
    "df.loc[df['Description'].str.contains('THE WEEK LTD'), ['Category']] = 'Home Entertainment'\n",
    "df.loc[df['Description'].str.contains('Fortnum & Mason'), ['Category']] = 'Gifts'\n",
    "df.loc[df['Description'].str.contains('5230670034216128|4300 VIA MOBILE|4546384907101548|24686891VIA'), ['Category']] = 'Credit Card'\n",
    "df.loc[df['Description'].str.contains('1329797582K'), ['Category']] = 'Tax'\n",
    "df.loc[df['Description'].str.contains('EWA TX|EWA Pay back|Emma Wedgwood Aesthetics|medical Aesthetic|Harvey Nichols UK E Co|Na Consulting Ltd'), ['Category']] = 'EWA'\n",
    "df.loc[df['Description'].str.contains('THE QUEENSBERRY HOTEL'), ['Category']] = 'Hotel'\n",
    "df.loc[df['Description'].str.contains('AAB Electical|MADE.COM|Mr M Achari|Kronenbergs|A A B Electric'), ['Category']] = 'Household'\n",
    "df.loc[df['Description'].str.contains('MRSMITHCPO35314369001|Opodo|British Airways'), ['Category']] = 'Holiday'\n",
    "df.loc[df['Description'].str.contains('Newson Health, Stratford-upo|Aura Centre'), ['Category']] = 'Health'\n",
    "df.loc[df['Description'].str.contains('Marks&spencer'), ['Category']] = 'Groceries'\n",
    "df.loc[df['Description'].str.contains('Cocoon|BUBALONDON|KLARNA|ANISSA-KERMICLONDON'), ['Category']] = 'Clothing'\n",
    "df.loc[df['Description'].str.contains('Therapie Brent Cross|Therapie Epsom'), ['Category']] = 'Emma Income'\n",
    "df.loc[df['Description'].str.contains('The Glades, Bromley'), ['Category']] = 'Snackette'\n",
    "df.loc[df['Description'].str.contains('Emma Wedgwood') &(df.Amount==-386), ['Category']] = 'Household'\n",
    "\n",
    "df.loc[(df.Account=='emma_chris_monzo_joint') & (df.Description==\"Emma Wedgwood\") & (df.Amount == -386),['Category']] = 'Household'\n",
    "df.loc[(df.Account=='emma_chris_monzo_joint') & (df.Description==\"Emma Wedgwood\") & (df.Amount == -185),['Category']] = 'Household'\n",
    "\n",
    "\n",
    "\n",
    "\n",
    "#print(df[df.Category == ''].count())\n",
    "df[df.Category==''].groupby('Description').sum().reset_index().sort_values('Amount')\n"
   ]
  },
  {
   "cell_type": "code",
   "execution_count": 1106,
   "metadata": {},
   "outputs": [
    {
     "data": {
      "text/html": [
       "<div>\n",
       "<style scoped>\n",
       "    .dataframe tbody tr th:only-of-type {\n",
       "        vertical-align: middle;\n",
       "    }\n",
       "\n",
       "    .dataframe tbody tr th {\n",
       "        vertical-align: top;\n",
       "    }\n",
       "\n",
       "    .dataframe thead th {\n",
       "        text-align: right;\n",
       "    }\n",
       "</style>\n",
       "<table border=\"1\" class=\"dataframe\">\n",
       "  <thead>\n",
       "    <tr style=\"text-align: right;\">\n",
       "      <th></th>\n",
       "      <th>Account</th>\n",
       "      <th>Date</th>\n",
       "      <th>Original Date</th>\n",
       "      <th>Description</th>\n",
       "      <th>Original Description</th>\n",
       "      <th>Amount</th>\n",
       "      <th>Currency</th>\n",
       "      <th>Category</th>\n",
       "      <th>Budget</th>\n",
       "    </tr>\n",
       "  </thead>\n",
       "  <tbody>\n",
       "    <tr>\n",
       "      <th>414</th>\n",
       "      <td>emma_chris_monzo_joint</td>\n",
       "      <td>21/10/2021</td>\n",
       "      <td>21/10/2021</td>\n",
       "      <td>Emma Wedgwood</td>\n",
       "      <td>Emma Wedgwood</td>\n",
       "      <td>-17.98</td>\n",
       "      <td>GBP</td>\n",
       "      <td></td>\n",
       "      <td>unbudgeted</td>\n",
       "    </tr>\n",
       "    <tr>\n",
       "      <th>460</th>\n",
       "      <td>emma_chris_monzo_joint</td>\n",
       "      <td>16/10/2021</td>\n",
       "      <td>16/10/2021</td>\n",
       "      <td>Emma Wedgwood Aesthetics</td>\n",
       "      <td>Emma Wedgwood Aesthetics</td>\n",
       "      <td>-500.00</td>\n",
       "      <td>GBP</td>\n",
       "      <td>EWA</td>\n",
       "      <td>unbudgeted</td>\n",
       "    </tr>\n",
       "    <tr>\n",
       "      <th>565</th>\n",
       "      <td>emma_chris_monzo_joint</td>\n",
       "      <td>09/10/2021</td>\n",
       "      <td>09/10/2021</td>\n",
       "      <td>Emma Wedgwood</td>\n",
       "      <td>Emma Wedgwood</td>\n",
       "      <td>-386.00</td>\n",
       "      <td>GBP</td>\n",
       "      <td>Household</td>\n",
       "      <td>unbudgeted</td>\n",
       "    </tr>\n",
       "    <tr>\n",
       "      <th>965</th>\n",
       "      <td>emma_chris_monzo_joint</td>\n",
       "      <td>09/09/2021</td>\n",
       "      <td>09/09/2021</td>\n",
       "      <td>13 Emma Wedgwood</td>\n",
       "      <td>13 Emma Wedgwood</td>\n",
       "      <td>-10.00</td>\n",
       "      <td>GBP</td>\n",
       "      <td>Household</td>\n",
       "      <td>unbudgeted</td>\n",
       "    </tr>\n",
       "    <tr>\n",
       "      <th>1757</th>\n",
       "      <td>emma_chris_monzo_joint</td>\n",
       "      <td>24/06/2021</td>\n",
       "      <td>24/06/2021</td>\n",
       "      <td>Emma Wedgwood</td>\n",
       "      <td>Emma Wedgwood</td>\n",
       "      <td>-185.00</td>\n",
       "      <td>GBP</td>\n",
       "      <td>Household</td>\n",
       "      <td>unbudgeted</td>\n",
       "    </tr>\n",
       "    <tr>\n",
       "      <th>2032</th>\n",
       "      <td>emma_chris_monzo_joint</td>\n",
       "      <td>23/05/2021</td>\n",
       "      <td>23/05/2021</td>\n",
       "      <td>Emma Wedgwood</td>\n",
       "      <td>Emma Wedgwood</td>\n",
       "      <td>-900.00</td>\n",
       "      <td>GBP</td>\n",
       "      <td></td>\n",
       "      <td>unbudgeted</td>\n",
       "    </tr>\n",
       "    <tr>\n",
       "      <th>2036</th>\n",
       "      <td>emma_chris_monzo_joint</td>\n",
       "      <td>22/05/2021</td>\n",
       "      <td>22/05/2021</td>\n",
       "      <td>Emma Wedgwood</td>\n",
       "      <td>Emma Wedgwood</td>\n",
       "      <td>-60.00</td>\n",
       "      <td>GBP</td>\n",
       "      <td></td>\n",
       "      <td>unbudgeted</td>\n",
       "    </tr>\n",
       "    <tr>\n",
       "      <th>2053</th>\n",
       "      <td>emma_chris_monzo_joint</td>\n",
       "      <td>20/05/2021</td>\n",
       "      <td>20/05/2021</td>\n",
       "      <td>Emma Wedgwood</td>\n",
       "      <td>Emma Wedgwood</td>\n",
       "      <td>-100.00</td>\n",
       "      <td>GBP</td>\n",
       "      <td></td>\n",
       "      <td>unbudgeted</td>\n",
       "    </tr>\n",
       "    <tr>\n",
       "      <th>2777</th>\n",
       "      <td>emma_chris_monzo_joint</td>\n",
       "      <td>02/03/2021</td>\n",
       "      <td>02/03/2021</td>\n",
       "      <td>Emma Wedgwood</td>\n",
       "      <td>Emma Wedgwood</td>\n",
       "      <td>-21.00</td>\n",
       "      <td>GBP</td>\n",
       "      <td></td>\n",
       "      <td>unbudgeted</td>\n",
       "    </tr>\n",
       "    <tr>\n",
       "      <th>2781</th>\n",
       "      <td>emma_chris_monzo_joint</td>\n",
       "      <td>01/03/2021</td>\n",
       "      <td>01/03/2021</td>\n",
       "      <td>Emma Wedgwood</td>\n",
       "      <td>Emma Wedgwood</td>\n",
       "      <td>-152.00</td>\n",
       "      <td>GBP</td>\n",
       "      <td></td>\n",
       "      <td>unbudgeted</td>\n",
       "    </tr>\n",
       "    <tr>\n",
       "      <th>2809</th>\n",
       "      <td>emma_chris_monzo_joint</td>\n",
       "      <td>26/02/2021</td>\n",
       "      <td>26/02/2021</td>\n",
       "      <td>Emma Wedgwood</td>\n",
       "      <td>Emma Wedgwood</td>\n",
       "      <td>-40.00</td>\n",
       "      <td>GBP</td>\n",
       "      <td></td>\n",
       "      <td>unbudgeted</td>\n",
       "    </tr>\n",
       "    <tr>\n",
       "      <th>2964</th>\n",
       "      <td>emma_chris_monzo_joint</td>\n",
       "      <td>08/02/2021</td>\n",
       "      <td>08/02/2021</td>\n",
       "      <td>Emma Wedgwood</td>\n",
       "      <td>Emma Wedgwood</td>\n",
       "      <td>-35.00</td>\n",
       "      <td>GBP</td>\n",
       "      <td></td>\n",
       "      <td>unbudgeted</td>\n",
       "    </tr>\n",
       "    <tr>\n",
       "      <th>2979</th>\n",
       "      <td>emma_chris_monzo_joint</td>\n",
       "      <td>05/02/2021</td>\n",
       "      <td>05/02/2021</td>\n",
       "      <td>Emma Wedgwood</td>\n",
       "      <td>Emma Wedgwood</td>\n",
       "      <td>-135.00</td>\n",
       "      <td>GBP</td>\n",
       "      <td></td>\n",
       "      <td>unbudgeted</td>\n",
       "    </tr>\n",
       "  </tbody>\n",
       "</table>\n",
       "</div>"
      ],
      "text/plain": [
       "                     Account        Date Original Date  \\\n",
       "414   emma_chris_monzo_joint  21/10/2021    21/10/2021   \n",
       "460   emma_chris_monzo_joint  16/10/2021    16/10/2021   \n",
       "565   emma_chris_monzo_joint  09/10/2021    09/10/2021   \n",
       "965   emma_chris_monzo_joint  09/09/2021    09/09/2021   \n",
       "1757  emma_chris_monzo_joint  24/06/2021    24/06/2021   \n",
       "2032  emma_chris_monzo_joint  23/05/2021    23/05/2021   \n",
       "2036  emma_chris_monzo_joint  22/05/2021    22/05/2021   \n",
       "2053  emma_chris_monzo_joint  20/05/2021    20/05/2021   \n",
       "2777  emma_chris_monzo_joint  02/03/2021    02/03/2021   \n",
       "2781  emma_chris_monzo_joint  01/03/2021    01/03/2021   \n",
       "2809  emma_chris_monzo_joint  26/02/2021    26/02/2021   \n",
       "2964  emma_chris_monzo_joint  08/02/2021    08/02/2021   \n",
       "2979  emma_chris_monzo_joint  05/02/2021    05/02/2021   \n",
       "\n",
       "                   Description      Original Description  Amount Currency  \\\n",
       "414              Emma Wedgwood             Emma Wedgwood  -17.98      GBP   \n",
       "460   Emma Wedgwood Aesthetics  Emma Wedgwood Aesthetics -500.00      GBP   \n",
       "565              Emma Wedgwood             Emma Wedgwood -386.00      GBP   \n",
       "965           13 Emma Wedgwood          13 Emma Wedgwood  -10.00      GBP   \n",
       "1757             Emma Wedgwood             Emma Wedgwood -185.00      GBP   \n",
       "2032             Emma Wedgwood             Emma Wedgwood -900.00      GBP   \n",
       "2036             Emma Wedgwood             Emma Wedgwood  -60.00      GBP   \n",
       "2053             Emma Wedgwood             Emma Wedgwood -100.00      GBP   \n",
       "2777             Emma Wedgwood             Emma Wedgwood  -21.00      GBP   \n",
       "2781             Emma Wedgwood             Emma Wedgwood -152.00      GBP   \n",
       "2809             Emma Wedgwood             Emma Wedgwood  -40.00      GBP   \n",
       "2964             Emma Wedgwood             Emma Wedgwood  -35.00      GBP   \n",
       "2979             Emma Wedgwood             Emma Wedgwood -135.00      GBP   \n",
       "\n",
       "       Category      Budget  \n",
       "414              unbudgeted  \n",
       "460         EWA  unbudgeted  \n",
       "565   Household  unbudgeted  \n",
       "965   Household  unbudgeted  \n",
       "1757  Household  unbudgeted  \n",
       "2032             unbudgeted  \n",
       "2036             unbudgeted  \n",
       "2053             unbudgeted  \n",
       "2777             unbudgeted  \n",
       "2781             unbudgeted  \n",
       "2809             unbudgeted  \n",
       "2964             unbudgeted  \n",
       "2979             unbudgeted  "
      ]
     },
     "execution_count": 1106,
     "metadata": {},
     "output_type": "execute_result"
    }
   ],
   "source": [
    "\n",
    "df.loc[df.Description=='BP','Category'] == 'Car'\n",
    "df.loc[df.Description=='SOBERISTHENEWBEACON'] \n",
    "df.loc[df.Description.str.contains(\"Emma Wedgwood\")]\n",
    "\n"
   ]
  },
  {
   "cell_type": "code",
   "execution_count": null,
   "id": "83ce26d2",
   "metadata": {},
   "outputs": [],
   "source": []
  },
  {
   "cell_type": "code",
   "execution_count": 1107,
   "id": "ba0c3cc1",
   "metadata": {},
   "outputs": [
    {
     "data": {
      "text/html": [
       "<div>\n",
       "<style scoped>\n",
       "    .dataframe tbody tr th:only-of-type {\n",
       "        vertical-align: middle;\n",
       "    }\n",
       "\n",
       "    .dataframe tbody tr th {\n",
       "        vertical-align: top;\n",
       "    }\n",
       "\n",
       "    .dataframe thead th {\n",
       "        text-align: right;\n",
       "    }\n",
       "</style>\n",
       "<table border=\"1\" class=\"dataframe\">\n",
       "  <thead>\n",
       "    <tr style=\"text-align: right;\">\n",
       "      <th></th>\n",
       "      <th>Account</th>\n",
       "      <th>Date</th>\n",
       "      <th>Original Date</th>\n",
       "      <th>Description</th>\n",
       "      <th>Original Description</th>\n",
       "      <th>Amount</th>\n",
       "      <th>Currency</th>\n",
       "      <th>Category</th>\n",
       "      <th>Budget</th>\n",
       "    </tr>\n",
       "  </thead>\n",
       "  <tbody>\n",
       "    <tr>\n",
       "      <th>3017</th>\n",
       "      <td>emma_chris_monzo_joint</td>\n",
       "      <td>31/01/2021</td>\n",
       "      <td>31/01/2021</td>\n",
       "      <td>4562475729K</td>\n",
       "      <td>4562475729K</td>\n",
       "      <td>-5959.12</td>\n",
       "      <td>GBP</td>\n",
       "      <td>Tax</td>\n",
       "      <td>unbudgeted</td>\n",
       "    </tr>\n",
       "    <tr>\n",
       "      <th>3004</th>\n",
       "      <td>emma_chris_monzo_joint</td>\n",
       "      <td>01/02/2021</td>\n",
       "      <td>01/02/2021</td>\n",
       "      <td>1329797582K</td>\n",
       "      <td>1329797582K</td>\n",
       "      <td>-4961.95</td>\n",
       "      <td>GBP</td>\n",
       "      <td>Tax</td>\n",
       "      <td>unbudgeted</td>\n",
       "    </tr>\n",
       "    <tr>\n",
       "      <th>245</th>\n",
       "      <td>Chris_Natwest_Current</td>\n",
       "      <td>05/08/2021</td>\n",
       "      <td>05/08/2021</td>\n",
       "      <td>ACC-NWEST A/V 545460******4300 VIA MOBILE - PY...</td>\n",
       "      <td>ACC-NWEST A/V     545460******4300  VIA MOBILE...</td>\n",
       "      <td>-2945.51</td>\n",
       "      <td>GBP</td>\n",
       "      <td>Credit Card</td>\n",
       "      <td>unbudgeted</td>\n",
       "    </tr>\n",
       "    <tr>\n",
       "      <th>1018</th>\n",
       "      <td>emma_chris_monzo_joint</td>\n",
       "      <td>05/09/2021</td>\n",
       "      <td>05/09/2021</td>\n",
       "      <td>Banner Street</td>\n",
       "      <td>Banner Street</td>\n",
       "      <td>-2000.00</td>\n",
       "      <td>GBP</td>\n",
       "      <td>Pots</td>\n",
       "      <td>unbudgeted</td>\n",
       "    </tr>\n",
       "    <tr>\n",
       "      <th>1359</th>\n",
       "      <td>emma_chris_monzo_joint</td>\n",
       "      <td>31/07/2021</td>\n",
       "      <td>31/07/2021</td>\n",
       "      <td>4562475729K</td>\n",
       "      <td>4562475729K</td>\n",
       "      <td>-1986.38</td>\n",
       "      <td>GBP</td>\n",
       "      <td>Tax</td>\n",
       "      <td>unbudgeted</td>\n",
       "    </tr>\n",
       "    <tr>\n",
       "      <th>...</th>\n",
       "      <td>...</td>\n",
       "      <td>...</td>\n",
       "      <td>...</td>\n",
       "      <td>...</td>\n",
       "      <td>...</td>\n",
       "      <td>...</td>\n",
       "      <td>...</td>\n",
       "      <td>...</td>\n",
       "      <td>...</td>\n",
       "    </tr>\n",
       "    <tr>\n",
       "      <th>206</th>\n",
       "      <td>Chris_Natwest_CC</td>\n",
       "      <td>05/08/2021</td>\n",
       "      <td>05/08/2021</td>\n",
       "      <td>FASTER PAYMENT RECEIVED - THANK YOU 4300</td>\n",
       "      <td>FASTER PAYMENT RECEIVED - THANK YOU 4300</td>\n",
       "      <td>2945.51</td>\n",
       "      <td>GBP</td>\n",
       "      <td>Credit Card</td>\n",
       "      <td>unbudgeted</td>\n",
       "    </tr>\n",
       "    <tr>\n",
       "      <th>3019</th>\n",
       "      <td>emma_chris_monzo_joint</td>\n",
       "      <td>31/01/2021</td>\n",
       "      <td>31/01/2021</td>\n",
       "      <td>MoneyToEmma</td>\n",
       "      <td>MoneyToEmma</td>\n",
       "      <td>3300.00</td>\n",
       "      <td>GBP</td>\n",
       "      <td>Chris Income</td>\n",
       "      <td>unbudgeted</td>\n",
       "    </tr>\n",
       "    <tr>\n",
       "      <th>10</th>\n",
       "      <td>Chris_Monzo</td>\n",
       "      <td>31/10/2021</td>\n",
       "      <td>31/10/2021</td>\n",
       "      <td>payroll October</td>\n",
       "      <td>payroll October</td>\n",
       "      <td>3437.46</td>\n",
       "      <td>GBP</td>\n",
       "      <td>Chris Income</td>\n",
       "      <td>unbudgeted</td>\n",
       "    </tr>\n",
       "    <tr>\n",
       "      <th>86</th>\n",
       "      <td>Chris_Monzo</td>\n",
       "      <td>31/07/2021</td>\n",
       "      <td>31/07/2021</td>\n",
       "      <td>MoneyToChris</td>\n",
       "      <td>MoneyToChris</td>\n",
       "      <td>4200.00</td>\n",
       "      <td>GBP</td>\n",
       "      <td>Chris Income</td>\n",
       "      <td>unbudgeted</td>\n",
       "    </tr>\n",
       "    <tr>\n",
       "      <th>178</th>\n",
       "      <td>Chris_Monzo</td>\n",
       "      <td>31/01/2021</td>\n",
       "      <td>31/01/2021</td>\n",
       "      <td>MoneyToChris</td>\n",
       "      <td>MoneyToChris</td>\n",
       "      <td>7700.00</td>\n",
       "      <td>GBP</td>\n",
       "      <td>Chris Income</td>\n",
       "      <td>unbudgeted</td>\n",
       "    </tr>\n",
       "  </tbody>\n",
       "</table>\n",
       "<p>3696 rows × 9 columns</p>\n",
       "</div>"
      ],
      "text/plain": [
       "                     Account        Date Original Date  \\\n",
       "3017  emma_chris_monzo_joint  31/01/2021    31/01/2021   \n",
       "3004  emma_chris_monzo_joint  01/02/2021    01/02/2021   \n",
       "245    Chris_Natwest_Current  05/08/2021    05/08/2021   \n",
       "1018  emma_chris_monzo_joint  05/09/2021    05/09/2021   \n",
       "1359  emma_chris_monzo_joint  31/07/2021    31/07/2021   \n",
       "...                      ...         ...           ...   \n",
       "206         Chris_Natwest_CC  05/08/2021    05/08/2021   \n",
       "3019  emma_chris_monzo_joint  31/01/2021    31/01/2021   \n",
       "10               Chris_Monzo  31/10/2021    31/10/2021   \n",
       "86               Chris_Monzo  31/07/2021    31/07/2021   \n",
       "178              Chris_Monzo  31/01/2021    31/01/2021   \n",
       "\n",
       "                                            Description  \\\n",
       "3017                                        4562475729K   \n",
       "3004                                        1329797582K   \n",
       "245   ACC-NWEST A/V 545460******4300 VIA MOBILE - PY...   \n",
       "1018                                      Banner Street   \n",
       "1359                                        4562475729K   \n",
       "...                                                 ...   \n",
       "206            FASTER PAYMENT RECEIVED - THANK YOU 4300   \n",
       "3019                                        MoneyToEmma   \n",
       "10                                      payroll October   \n",
       "86                                         MoneyToChris   \n",
       "178                                        MoneyToChris   \n",
       "\n",
       "                                   Original Description   Amount Currency  \\\n",
       "3017                                        4562475729K -5959.12      GBP   \n",
       "3004                                        1329797582K -4961.95      GBP   \n",
       "245   ACC-NWEST A/V     545460******4300  VIA MOBILE... -2945.51      GBP   \n",
       "1018                                      Banner Street -2000.00      GBP   \n",
       "1359                                        4562475729K -1986.38      GBP   \n",
       "...                                                 ...      ...      ...   \n",
       "206            FASTER PAYMENT RECEIVED - THANK YOU 4300  2945.51      GBP   \n",
       "3019                                        MoneyToEmma  3300.00      GBP   \n",
       "10                                      payroll October  3437.46      GBP   \n",
       "86                                         MoneyToChris  4200.00      GBP   \n",
       "178                                        MoneyToChris  7700.00      GBP   \n",
       "\n",
       "          Category      Budget  \n",
       "3017           Tax  unbudgeted  \n",
       "3004           Tax  unbudgeted  \n",
       "245    Credit Card  unbudgeted  \n",
       "1018          Pots  unbudgeted  \n",
       "1359           Tax  unbudgeted  \n",
       "...            ...         ...  \n",
       "206    Credit Card  unbudgeted  \n",
       "3019  Chris Income  unbudgeted  \n",
       "10    Chris Income  unbudgeted  \n",
       "86    Chris Income  unbudgeted  \n",
       "178   Chris Income  unbudgeted  \n",
       "\n",
       "[3696 rows x 9 columns]"
      ]
     },
     "execution_count": 1107,
     "metadata": {},
     "output_type": "execute_result"
    }
   ],
   "source": [
    "df.sort_values('Category')['Category'].unique()\n",
    "df.sort_values('Amount')\n"
   ]
  },
  {
   "cell_type": "code",
   "execution_count": 1108,
   "id": "79686f92",
   "metadata": {},
   "outputs": [],
   "source": [
    " \n",
    "df['year_month_day'] = pd.to_datetime(df['Date'], format='%d/%m/%Y').dt.strftime('%Y-%m-%d')\n",
    "df['year_month'] = pd.to_datetime(df['Date'], format='%d/%m/%Y').dt.strftime('%Y-%m')\n",
    "\n"
   ]
  },
  {
   "cell_type": "code",
   "execution_count": 1109,
   "id": "ba80a4fe",
   "metadata": {
    "scrolled": true
   },
   "outputs": [
    {
     "data": {
      "application/vnd.plotly.v1+json": {
       "config": {
        "plotlyServerURL": "https://plot.ly"
       },
       "data": [
        {
         "type": "scatter",
         "x": [
          "2021-01",
          "2021-02",
          "2021-03",
          "2021-04",
          "2021-05",
          "2021-06",
          "2021-07",
          "2021-08",
          "2021-09",
          "2021-10",
          "2021-11"
         ],
         "y": [
          9002.34,
          5908.68,
          2008.5000000000005,
          2411.3,
          4264.360000000001,
          2008.42,
          1190.289999999999,
          2473.3999999999996,
          -11173.86,
          -11241.74,
          -12842.619999999999
         ]
        }
       ],
       "layout": {
        "hovermode": "x unified",
        "template": {
         "data": {
          "bar": [
           {
            "error_x": {
             "color": "#2a3f5f"
            },
            "error_y": {
             "color": "#2a3f5f"
            },
            "marker": {
             "line": {
              "color": "#E5ECF6",
              "width": 0.5
             },
             "pattern": {
              "fillmode": "overlay",
              "size": 10,
              "solidity": 0.2
             }
            },
            "type": "bar"
           }
          ],
          "barpolar": [
           {
            "marker": {
             "line": {
              "color": "#E5ECF6",
              "width": 0.5
             },
             "pattern": {
              "fillmode": "overlay",
              "size": 10,
              "solidity": 0.2
             }
            },
            "type": "barpolar"
           }
          ],
          "carpet": [
           {
            "aaxis": {
             "endlinecolor": "#2a3f5f",
             "gridcolor": "white",
             "linecolor": "white",
             "minorgridcolor": "white",
             "startlinecolor": "#2a3f5f"
            },
            "baxis": {
             "endlinecolor": "#2a3f5f",
             "gridcolor": "white",
             "linecolor": "white",
             "minorgridcolor": "white",
             "startlinecolor": "#2a3f5f"
            },
            "type": "carpet"
           }
          ],
          "choropleth": [
           {
            "colorbar": {
             "outlinewidth": 0,
             "ticks": ""
            },
            "type": "choropleth"
           }
          ],
          "contour": [
           {
            "colorbar": {
             "outlinewidth": 0,
             "ticks": ""
            },
            "colorscale": [
             [
              0,
              "#0d0887"
             ],
             [
              0.1111111111111111,
              "#46039f"
             ],
             [
              0.2222222222222222,
              "#7201a8"
             ],
             [
              0.3333333333333333,
              "#9c179e"
             ],
             [
              0.4444444444444444,
              "#bd3786"
             ],
             [
              0.5555555555555556,
              "#d8576b"
             ],
             [
              0.6666666666666666,
              "#ed7953"
             ],
             [
              0.7777777777777778,
              "#fb9f3a"
             ],
             [
              0.8888888888888888,
              "#fdca26"
             ],
             [
              1,
              "#f0f921"
             ]
            ],
            "type": "contour"
           }
          ],
          "contourcarpet": [
           {
            "colorbar": {
             "outlinewidth": 0,
             "ticks": ""
            },
            "type": "contourcarpet"
           }
          ],
          "heatmap": [
           {
            "colorbar": {
             "outlinewidth": 0,
             "ticks": ""
            },
            "colorscale": [
             [
              0,
              "#0d0887"
             ],
             [
              0.1111111111111111,
              "#46039f"
             ],
             [
              0.2222222222222222,
              "#7201a8"
             ],
             [
              0.3333333333333333,
              "#9c179e"
             ],
             [
              0.4444444444444444,
              "#bd3786"
             ],
             [
              0.5555555555555556,
              "#d8576b"
             ],
             [
              0.6666666666666666,
              "#ed7953"
             ],
             [
              0.7777777777777778,
              "#fb9f3a"
             ],
             [
              0.8888888888888888,
              "#fdca26"
             ],
             [
              1,
              "#f0f921"
             ]
            ],
            "type": "heatmap"
           }
          ],
          "heatmapgl": [
           {
            "colorbar": {
             "outlinewidth": 0,
             "ticks": ""
            },
            "colorscale": [
             [
              0,
              "#0d0887"
             ],
             [
              0.1111111111111111,
              "#46039f"
             ],
             [
              0.2222222222222222,
              "#7201a8"
             ],
             [
              0.3333333333333333,
              "#9c179e"
             ],
             [
              0.4444444444444444,
              "#bd3786"
             ],
             [
              0.5555555555555556,
              "#d8576b"
             ],
             [
              0.6666666666666666,
              "#ed7953"
             ],
             [
              0.7777777777777778,
              "#fb9f3a"
             ],
             [
              0.8888888888888888,
              "#fdca26"
             ],
             [
              1,
              "#f0f921"
             ]
            ],
            "type": "heatmapgl"
           }
          ],
          "histogram": [
           {
            "marker": {
             "pattern": {
              "fillmode": "overlay",
              "size": 10,
              "solidity": 0.2
             }
            },
            "type": "histogram"
           }
          ],
          "histogram2d": [
           {
            "colorbar": {
             "outlinewidth": 0,
             "ticks": ""
            },
            "colorscale": [
             [
              0,
              "#0d0887"
             ],
             [
              0.1111111111111111,
              "#46039f"
             ],
             [
              0.2222222222222222,
              "#7201a8"
             ],
             [
              0.3333333333333333,
              "#9c179e"
             ],
             [
              0.4444444444444444,
              "#bd3786"
             ],
             [
              0.5555555555555556,
              "#d8576b"
             ],
             [
              0.6666666666666666,
              "#ed7953"
             ],
             [
              0.7777777777777778,
              "#fb9f3a"
             ],
             [
              0.8888888888888888,
              "#fdca26"
             ],
             [
              1,
              "#f0f921"
             ]
            ],
            "type": "histogram2d"
           }
          ],
          "histogram2dcontour": [
           {
            "colorbar": {
             "outlinewidth": 0,
             "ticks": ""
            },
            "colorscale": [
             [
              0,
              "#0d0887"
             ],
             [
              0.1111111111111111,
              "#46039f"
             ],
             [
              0.2222222222222222,
              "#7201a8"
             ],
             [
              0.3333333333333333,
              "#9c179e"
             ],
             [
              0.4444444444444444,
              "#bd3786"
             ],
             [
              0.5555555555555556,
              "#d8576b"
             ],
             [
              0.6666666666666666,
              "#ed7953"
             ],
             [
              0.7777777777777778,
              "#fb9f3a"
             ],
             [
              0.8888888888888888,
              "#fdca26"
             ],
             [
              1,
              "#f0f921"
             ]
            ],
            "type": "histogram2dcontour"
           }
          ],
          "mesh3d": [
           {
            "colorbar": {
             "outlinewidth": 0,
             "ticks": ""
            },
            "type": "mesh3d"
           }
          ],
          "parcoords": [
           {
            "line": {
             "colorbar": {
              "outlinewidth": 0,
              "ticks": ""
             }
            },
            "type": "parcoords"
           }
          ],
          "pie": [
           {
            "automargin": true,
            "type": "pie"
           }
          ],
          "scatter": [
           {
            "marker": {
             "colorbar": {
              "outlinewidth": 0,
              "ticks": ""
             }
            },
            "type": "scatter"
           }
          ],
          "scatter3d": [
           {
            "line": {
             "colorbar": {
              "outlinewidth": 0,
              "ticks": ""
             }
            },
            "marker": {
             "colorbar": {
              "outlinewidth": 0,
              "ticks": ""
             }
            },
            "type": "scatter3d"
           }
          ],
          "scattercarpet": [
           {
            "marker": {
             "colorbar": {
              "outlinewidth": 0,
              "ticks": ""
             }
            },
            "type": "scattercarpet"
           }
          ],
          "scattergeo": [
           {
            "marker": {
             "colorbar": {
              "outlinewidth": 0,
              "ticks": ""
             }
            },
            "type": "scattergeo"
           }
          ],
          "scattergl": [
           {
            "marker": {
             "colorbar": {
              "outlinewidth": 0,
              "ticks": ""
             }
            },
            "type": "scattergl"
           }
          ],
          "scattermapbox": [
           {
            "marker": {
             "colorbar": {
              "outlinewidth": 0,
              "ticks": ""
             }
            },
            "type": "scattermapbox"
           }
          ],
          "scatterpolar": [
           {
            "marker": {
             "colorbar": {
              "outlinewidth": 0,
              "ticks": ""
             }
            },
            "type": "scatterpolar"
           }
          ],
          "scatterpolargl": [
           {
            "marker": {
             "colorbar": {
              "outlinewidth": 0,
              "ticks": ""
             }
            },
            "type": "scatterpolargl"
           }
          ],
          "scatterternary": [
           {
            "marker": {
             "colorbar": {
              "outlinewidth": 0,
              "ticks": ""
             }
            },
            "type": "scatterternary"
           }
          ],
          "surface": [
           {
            "colorbar": {
             "outlinewidth": 0,
             "ticks": ""
            },
            "colorscale": [
             [
              0,
              "#0d0887"
             ],
             [
              0.1111111111111111,
              "#46039f"
             ],
             [
              0.2222222222222222,
              "#7201a8"
             ],
             [
              0.3333333333333333,
              "#9c179e"
             ],
             [
              0.4444444444444444,
              "#bd3786"
             ],
             [
              0.5555555555555556,
              "#d8576b"
             ],
             [
              0.6666666666666666,
              "#ed7953"
             ],
             [
              0.7777777777777778,
              "#fb9f3a"
             ],
             [
              0.8888888888888888,
              "#fdca26"
             ],
             [
              1,
              "#f0f921"
             ]
            ],
            "type": "surface"
           }
          ],
          "table": [
           {
            "cells": {
             "fill": {
              "color": "#EBF0F8"
             },
             "line": {
              "color": "white"
             }
            },
            "header": {
             "fill": {
              "color": "#C8D4E3"
             },
             "line": {
              "color": "white"
             }
            },
            "type": "table"
           }
          ]
         },
         "layout": {
          "annotationdefaults": {
           "arrowcolor": "#2a3f5f",
           "arrowhead": 0,
           "arrowwidth": 1
          },
          "autotypenumbers": "strict",
          "coloraxis": {
           "colorbar": {
            "outlinewidth": 0,
            "ticks": ""
           }
          },
          "colorscale": {
           "diverging": [
            [
             0,
             "#8e0152"
            ],
            [
             0.1,
             "#c51b7d"
            ],
            [
             0.2,
             "#de77ae"
            ],
            [
             0.3,
             "#f1b6da"
            ],
            [
             0.4,
             "#fde0ef"
            ],
            [
             0.5,
             "#f7f7f7"
            ],
            [
             0.6,
             "#e6f5d0"
            ],
            [
             0.7,
             "#b8e186"
            ],
            [
             0.8,
             "#7fbc41"
            ],
            [
             0.9,
             "#4d9221"
            ],
            [
             1,
             "#276419"
            ]
           ],
           "sequential": [
            [
             0,
             "#0d0887"
            ],
            [
             0.1111111111111111,
             "#46039f"
            ],
            [
             0.2222222222222222,
             "#7201a8"
            ],
            [
             0.3333333333333333,
             "#9c179e"
            ],
            [
             0.4444444444444444,
             "#bd3786"
            ],
            [
             0.5555555555555556,
             "#d8576b"
            ],
            [
             0.6666666666666666,
             "#ed7953"
            ],
            [
             0.7777777777777778,
             "#fb9f3a"
            ],
            [
             0.8888888888888888,
             "#fdca26"
            ],
            [
             1,
             "#f0f921"
            ]
           ],
           "sequentialminus": [
            [
             0,
             "#0d0887"
            ],
            [
             0.1111111111111111,
             "#46039f"
            ],
            [
             0.2222222222222222,
             "#7201a8"
            ],
            [
             0.3333333333333333,
             "#9c179e"
            ],
            [
             0.4444444444444444,
             "#bd3786"
            ],
            [
             0.5555555555555556,
             "#d8576b"
            ],
            [
             0.6666666666666666,
             "#ed7953"
            ],
            [
             0.7777777777777778,
             "#fb9f3a"
            ],
            [
             0.8888888888888888,
             "#fdca26"
            ],
            [
             1,
             "#f0f921"
            ]
           ]
          },
          "colorway": [
           "#636efa",
           "#EF553B",
           "#00cc96",
           "#ab63fa",
           "#FFA15A",
           "#19d3f3",
           "#FF6692",
           "#B6E880",
           "#FF97FF",
           "#FECB52"
          ],
          "font": {
           "color": "#2a3f5f"
          },
          "geo": {
           "bgcolor": "white",
           "lakecolor": "white",
           "landcolor": "#E5ECF6",
           "showlakes": true,
           "showland": true,
           "subunitcolor": "white"
          },
          "hoverlabel": {
           "align": "left"
          },
          "hovermode": "closest",
          "mapbox": {
           "style": "light"
          },
          "paper_bgcolor": "white",
          "plot_bgcolor": "#E5ECF6",
          "polar": {
           "angularaxis": {
            "gridcolor": "white",
            "linecolor": "white",
            "ticks": ""
           },
           "bgcolor": "#E5ECF6",
           "radialaxis": {
            "gridcolor": "white",
            "linecolor": "white",
            "ticks": ""
           }
          },
          "scene": {
           "xaxis": {
            "backgroundcolor": "#E5ECF6",
            "gridcolor": "white",
            "gridwidth": 2,
            "linecolor": "white",
            "showbackground": true,
            "ticks": "",
            "zerolinecolor": "white"
           },
           "yaxis": {
            "backgroundcolor": "#E5ECF6",
            "gridcolor": "white",
            "gridwidth": 2,
            "linecolor": "white",
            "showbackground": true,
            "ticks": "",
            "zerolinecolor": "white"
           },
           "zaxis": {
            "backgroundcolor": "#E5ECF6",
            "gridcolor": "white",
            "gridwidth": 2,
            "linecolor": "white",
            "showbackground": true,
            "ticks": "",
            "zerolinecolor": "white"
           }
          },
          "shapedefaults": {
           "line": {
            "color": "#2a3f5f"
           }
          },
          "ternary": {
           "aaxis": {
            "gridcolor": "white",
            "linecolor": "white",
            "ticks": ""
           },
           "baxis": {
            "gridcolor": "white",
            "linecolor": "white",
            "ticks": ""
           },
           "bgcolor": "#E5ECF6",
           "caxis": {
            "gridcolor": "white",
            "linecolor": "white",
            "ticks": ""
           }
          },
          "title": {
           "x": 0.05
          },
          "xaxis": {
           "automargin": true,
           "gridcolor": "white",
           "linecolor": "white",
           "ticks": "",
           "title": {
            "standoff": 15
           },
           "zerolinecolor": "white",
           "zerolinewidth": 2
          },
          "yaxis": {
           "automargin": true,
           "gridcolor": "white",
           "linecolor": "white",
           "ticks": "",
           "title": {
            "standoff": 15
           },
           "zerolinecolor": "white",
           "zerolinewidth": 2
          }
         }
        },
        "title": {
         "text": "Net Worth Over Time"
        },
        "xaxis": {
         "tickangle": 45,
         "title": {
          "text": "Date"
         }
        },
        "yaxis": {
         "title": {
          "text": "Net Worth (£)"
         }
        }
       }
      }
     },
     "metadata": {},
     "output_type": "display_data"
    }
   ],
   "source": [
    "Net_Worth_Table = df.groupby('year_month')['Amount'].sum().reset_index(name ='sum')\n",
    "Net_Worth_Table['cumulative sum'] = Net_Worth_Table['sum'].cumsum()\n",
    "Net_Worth_Chart = go.Figure(\n",
    "    data = go.Scatter(x = Net_Worth_Table[\"year_month\"], y = Net_Worth_Table[\"cumulative sum\"]),\n",
    "    layout = go.Layout(\n",
    "        title = go.layout.Title(text = \"Net Worth Over Time\")\n",
    "    )\n",
    ")\n",
    "Net_Worth_Chart.update_layout(\n",
    "    xaxis_title = \"Date\",\n",
    "    yaxis_title = \"Net Worth (£)\",\n",
    "    hovermode = 'x unified'\n",
    "    )\n",
    "Net_Worth_Chart.update_xaxes(\n",
    "    tickangle = 45)\n",
    "Net_Worth_Chart.show()"
   ]
  },
  {
   "cell_type": "code",
   "execution_count": 1110,
   "id": "bfb129f4",
   "metadata": {},
   "outputs": [],
   "source": [
    "df = df.reset_index()"
   ]
  },
  {
   "cell_type": "code",
   "execution_count": 1115,
   "id": "2cd65c30",
   "metadata": {},
   "outputs": [
    {
     "data": {
      "application/vnd.plotly.v1+json": {
       "config": {
        "plotlyServerURL": "https://plot.ly"
       },
       "data": [
        {
         "alignmentgroup": "True",
         "hovertemplate": "year_month=%{x}<br>sum=%{y}<extra></extra>",
         "legendgroup": "",
         "marker": {
          "color": "#636efa",
          "pattern": {
           "shape": ""
          }
         },
         "name": "",
         "offsetgroup": "",
         "orientation": "v",
         "showlegend": false,
         "textposition": "auto",
         "type": "bar",
         "x": [
          "2021-01",
          "2021-02",
          "2021-03",
          "2021-04",
          "2021-05",
          "2021-06",
          "2021-07",
          "2021-08",
          "2021-09",
          "2021-10",
          "2021-11"
         ],
         "xaxis": "x",
         "y": [
          11398.55,
          14669.03,
          9352.2,
          6098.72,
          9883.94,
          8574,
          16000.56,
          8563.64,
          15663.99,
          8572.41,
          5261.26
         ],
         "yaxis": "y"
        }
       ],
       "layout": {
        "barmode": "relative",
        "legend": {
         "tracegroupgap": 0
        },
        "template": {
         "data": {
          "bar": [
           {
            "error_x": {
             "color": "#2a3f5f"
            },
            "error_y": {
             "color": "#2a3f5f"
            },
            "marker": {
             "line": {
              "color": "#E5ECF6",
              "width": 0.5
             },
             "pattern": {
              "fillmode": "overlay",
              "size": 10,
              "solidity": 0.2
             }
            },
            "type": "bar"
           }
          ],
          "barpolar": [
           {
            "marker": {
             "line": {
              "color": "#E5ECF6",
              "width": 0.5
             },
             "pattern": {
              "fillmode": "overlay",
              "size": 10,
              "solidity": 0.2
             }
            },
            "type": "barpolar"
           }
          ],
          "carpet": [
           {
            "aaxis": {
             "endlinecolor": "#2a3f5f",
             "gridcolor": "white",
             "linecolor": "white",
             "minorgridcolor": "white",
             "startlinecolor": "#2a3f5f"
            },
            "baxis": {
             "endlinecolor": "#2a3f5f",
             "gridcolor": "white",
             "linecolor": "white",
             "minorgridcolor": "white",
             "startlinecolor": "#2a3f5f"
            },
            "type": "carpet"
           }
          ],
          "choropleth": [
           {
            "colorbar": {
             "outlinewidth": 0,
             "ticks": ""
            },
            "type": "choropleth"
           }
          ],
          "contour": [
           {
            "colorbar": {
             "outlinewidth": 0,
             "ticks": ""
            },
            "colorscale": [
             [
              0,
              "#0d0887"
             ],
             [
              0.1111111111111111,
              "#46039f"
             ],
             [
              0.2222222222222222,
              "#7201a8"
             ],
             [
              0.3333333333333333,
              "#9c179e"
             ],
             [
              0.4444444444444444,
              "#bd3786"
             ],
             [
              0.5555555555555556,
              "#d8576b"
             ],
             [
              0.6666666666666666,
              "#ed7953"
             ],
             [
              0.7777777777777778,
              "#fb9f3a"
             ],
             [
              0.8888888888888888,
              "#fdca26"
             ],
             [
              1,
              "#f0f921"
             ]
            ],
            "type": "contour"
           }
          ],
          "contourcarpet": [
           {
            "colorbar": {
             "outlinewidth": 0,
             "ticks": ""
            },
            "type": "contourcarpet"
           }
          ],
          "heatmap": [
           {
            "colorbar": {
             "outlinewidth": 0,
             "ticks": ""
            },
            "colorscale": [
             [
              0,
              "#0d0887"
             ],
             [
              0.1111111111111111,
              "#46039f"
             ],
             [
              0.2222222222222222,
              "#7201a8"
             ],
             [
              0.3333333333333333,
              "#9c179e"
             ],
             [
              0.4444444444444444,
              "#bd3786"
             ],
             [
              0.5555555555555556,
              "#d8576b"
             ],
             [
              0.6666666666666666,
              "#ed7953"
             ],
             [
              0.7777777777777778,
              "#fb9f3a"
             ],
             [
              0.8888888888888888,
              "#fdca26"
             ],
             [
              1,
              "#f0f921"
             ]
            ],
            "type": "heatmap"
           }
          ],
          "heatmapgl": [
           {
            "colorbar": {
             "outlinewidth": 0,
             "ticks": ""
            },
            "colorscale": [
             [
              0,
              "#0d0887"
             ],
             [
              0.1111111111111111,
              "#46039f"
             ],
             [
              0.2222222222222222,
              "#7201a8"
             ],
             [
              0.3333333333333333,
              "#9c179e"
             ],
             [
              0.4444444444444444,
              "#bd3786"
             ],
             [
              0.5555555555555556,
              "#d8576b"
             ],
             [
              0.6666666666666666,
              "#ed7953"
             ],
             [
              0.7777777777777778,
              "#fb9f3a"
             ],
             [
              0.8888888888888888,
              "#fdca26"
             ],
             [
              1,
              "#f0f921"
             ]
            ],
            "type": "heatmapgl"
           }
          ],
          "histogram": [
           {
            "marker": {
             "pattern": {
              "fillmode": "overlay",
              "size": 10,
              "solidity": 0.2
             }
            },
            "type": "histogram"
           }
          ],
          "histogram2d": [
           {
            "colorbar": {
             "outlinewidth": 0,
             "ticks": ""
            },
            "colorscale": [
             [
              0,
              "#0d0887"
             ],
             [
              0.1111111111111111,
              "#46039f"
             ],
             [
              0.2222222222222222,
              "#7201a8"
             ],
             [
              0.3333333333333333,
              "#9c179e"
             ],
             [
              0.4444444444444444,
              "#bd3786"
             ],
             [
              0.5555555555555556,
              "#d8576b"
             ],
             [
              0.6666666666666666,
              "#ed7953"
             ],
             [
              0.7777777777777778,
              "#fb9f3a"
             ],
             [
              0.8888888888888888,
              "#fdca26"
             ],
             [
              1,
              "#f0f921"
             ]
            ],
            "type": "histogram2d"
           }
          ],
          "histogram2dcontour": [
           {
            "colorbar": {
             "outlinewidth": 0,
             "ticks": ""
            },
            "colorscale": [
             [
              0,
              "#0d0887"
             ],
             [
              0.1111111111111111,
              "#46039f"
             ],
             [
              0.2222222222222222,
              "#7201a8"
             ],
             [
              0.3333333333333333,
              "#9c179e"
             ],
             [
              0.4444444444444444,
              "#bd3786"
             ],
             [
              0.5555555555555556,
              "#d8576b"
             ],
             [
              0.6666666666666666,
              "#ed7953"
             ],
             [
              0.7777777777777778,
              "#fb9f3a"
             ],
             [
              0.8888888888888888,
              "#fdca26"
             ],
             [
              1,
              "#f0f921"
             ]
            ],
            "type": "histogram2dcontour"
           }
          ],
          "mesh3d": [
           {
            "colorbar": {
             "outlinewidth": 0,
             "ticks": ""
            },
            "type": "mesh3d"
           }
          ],
          "parcoords": [
           {
            "line": {
             "colorbar": {
              "outlinewidth": 0,
              "ticks": ""
             }
            },
            "type": "parcoords"
           }
          ],
          "pie": [
           {
            "automargin": true,
            "type": "pie"
           }
          ],
          "scatter": [
           {
            "marker": {
             "colorbar": {
              "outlinewidth": 0,
              "ticks": ""
             }
            },
            "type": "scatter"
           }
          ],
          "scatter3d": [
           {
            "line": {
             "colorbar": {
              "outlinewidth": 0,
              "ticks": ""
             }
            },
            "marker": {
             "colorbar": {
              "outlinewidth": 0,
              "ticks": ""
             }
            },
            "type": "scatter3d"
           }
          ],
          "scattercarpet": [
           {
            "marker": {
             "colorbar": {
              "outlinewidth": 0,
              "ticks": ""
             }
            },
            "type": "scattercarpet"
           }
          ],
          "scattergeo": [
           {
            "marker": {
             "colorbar": {
              "outlinewidth": 0,
              "ticks": ""
             }
            },
            "type": "scattergeo"
           }
          ],
          "scattergl": [
           {
            "marker": {
             "colorbar": {
              "outlinewidth": 0,
              "ticks": ""
             }
            },
            "type": "scattergl"
           }
          ],
          "scattermapbox": [
           {
            "marker": {
             "colorbar": {
              "outlinewidth": 0,
              "ticks": ""
             }
            },
            "type": "scattermapbox"
           }
          ],
          "scatterpolar": [
           {
            "marker": {
             "colorbar": {
              "outlinewidth": 0,
              "ticks": ""
             }
            },
            "type": "scatterpolar"
           }
          ],
          "scatterpolargl": [
           {
            "marker": {
             "colorbar": {
              "outlinewidth": 0,
              "ticks": ""
             }
            },
            "type": "scatterpolargl"
           }
          ],
          "scatterternary": [
           {
            "marker": {
             "colorbar": {
              "outlinewidth": 0,
              "ticks": ""
             }
            },
            "type": "scatterternary"
           }
          ],
          "surface": [
           {
            "colorbar": {
             "outlinewidth": 0,
             "ticks": ""
            },
            "colorscale": [
             [
              0,
              "#0d0887"
             ],
             [
              0.1111111111111111,
              "#46039f"
             ],
             [
              0.2222222222222222,
              "#7201a8"
             ],
             [
              0.3333333333333333,
              "#9c179e"
             ],
             [
              0.4444444444444444,
              "#bd3786"
             ],
             [
              0.5555555555555556,
              "#d8576b"
             ],
             [
              0.6666666666666666,
              "#ed7953"
             ],
             [
              0.7777777777777778,
              "#fb9f3a"
             ],
             [
              0.8888888888888888,
              "#fdca26"
             ],
             [
              1,
              "#f0f921"
             ]
            ],
            "type": "surface"
           }
          ],
          "table": [
           {
            "cells": {
             "fill": {
              "color": "#EBF0F8"
             },
             "line": {
              "color": "white"
             }
            },
            "header": {
             "fill": {
              "color": "#C8D4E3"
             },
             "line": {
              "color": "white"
             }
            },
            "type": "table"
           }
          ]
         },
         "layout": {
          "annotationdefaults": {
           "arrowcolor": "#2a3f5f",
           "arrowhead": 0,
           "arrowwidth": 1
          },
          "autotypenumbers": "strict",
          "coloraxis": {
           "colorbar": {
            "outlinewidth": 0,
            "ticks": ""
           }
          },
          "colorscale": {
           "diverging": [
            [
             0,
             "#8e0152"
            ],
            [
             0.1,
             "#c51b7d"
            ],
            [
             0.2,
             "#de77ae"
            ],
            [
             0.3,
             "#f1b6da"
            ],
            [
             0.4,
             "#fde0ef"
            ],
            [
             0.5,
             "#f7f7f7"
            ],
            [
             0.6,
             "#e6f5d0"
            ],
            [
             0.7,
             "#b8e186"
            ],
            [
             0.8,
             "#7fbc41"
            ],
            [
             0.9,
             "#4d9221"
            ],
            [
             1,
             "#276419"
            ]
           ],
           "sequential": [
            [
             0,
             "#0d0887"
            ],
            [
             0.1111111111111111,
             "#46039f"
            ],
            [
             0.2222222222222222,
             "#7201a8"
            ],
            [
             0.3333333333333333,
             "#9c179e"
            ],
            [
             0.4444444444444444,
             "#bd3786"
            ],
            [
             0.5555555555555556,
             "#d8576b"
            ],
            [
             0.6666666666666666,
             "#ed7953"
            ],
            [
             0.7777777777777778,
             "#fb9f3a"
            ],
            [
             0.8888888888888888,
             "#fdca26"
            ],
            [
             1,
             "#f0f921"
            ]
           ],
           "sequentialminus": [
            [
             0,
             "#0d0887"
            ],
            [
             0.1111111111111111,
             "#46039f"
            ],
            [
             0.2222222222222222,
             "#7201a8"
            ],
            [
             0.3333333333333333,
             "#9c179e"
            ],
            [
             0.4444444444444444,
             "#bd3786"
            ],
            [
             0.5555555555555556,
             "#d8576b"
            ],
            [
             0.6666666666666666,
             "#ed7953"
            ],
            [
             0.7777777777777778,
             "#fb9f3a"
            ],
            [
             0.8888888888888888,
             "#fdca26"
            ],
            [
             1,
             "#f0f921"
            ]
           ]
          },
          "colorway": [
           "#636efa",
           "#EF553B",
           "#00cc96",
           "#ab63fa",
           "#FFA15A",
           "#19d3f3",
           "#FF6692",
           "#B6E880",
           "#FF97FF",
           "#FECB52"
          ],
          "font": {
           "color": "#2a3f5f"
          },
          "geo": {
           "bgcolor": "white",
           "lakecolor": "white",
           "landcolor": "#E5ECF6",
           "showlakes": true,
           "showland": true,
           "subunitcolor": "white"
          },
          "hoverlabel": {
           "align": "left"
          },
          "hovermode": "closest",
          "mapbox": {
           "style": "light"
          },
          "paper_bgcolor": "white",
          "plot_bgcolor": "#E5ECF6",
          "polar": {
           "angularaxis": {
            "gridcolor": "white",
            "linecolor": "white",
            "ticks": ""
           },
           "bgcolor": "#E5ECF6",
           "radialaxis": {
            "gridcolor": "white",
            "linecolor": "white",
            "ticks": ""
           }
          },
          "scene": {
           "xaxis": {
            "backgroundcolor": "#E5ECF6",
            "gridcolor": "white",
            "gridwidth": 2,
            "linecolor": "white",
            "showbackground": true,
            "ticks": "",
            "zerolinecolor": "white"
           },
           "yaxis": {
            "backgroundcolor": "#E5ECF6",
            "gridcolor": "white",
            "gridwidth": 2,
            "linecolor": "white",
            "showbackground": true,
            "ticks": "",
            "zerolinecolor": "white"
           },
           "zaxis": {
            "backgroundcolor": "#E5ECF6",
            "gridcolor": "white",
            "gridwidth": 2,
            "linecolor": "white",
            "showbackground": true,
            "ticks": "",
            "zerolinecolor": "white"
           }
          },
          "shapedefaults": {
           "line": {
            "color": "#2a3f5f"
           }
          },
          "ternary": {
           "aaxis": {
            "gridcolor": "white",
            "linecolor": "white",
            "ticks": ""
           },
           "baxis": {
            "gridcolor": "white",
            "linecolor": "white",
            "ticks": ""
           },
           "bgcolor": "#E5ECF6",
           "caxis": {
            "gridcolor": "white",
            "linecolor": "white",
            "ticks": ""
           }
          },
          "title": {
           "x": 0.05
          },
          "xaxis": {
           "automargin": true,
           "gridcolor": "white",
           "linecolor": "white",
           "ticks": "",
           "title": {
            "standoff": 15
           },
           "zerolinecolor": "white",
           "zerolinewidth": 2
          },
          "yaxis": {
           "automargin": true,
           "gridcolor": "white",
           "linecolor": "white",
           "ticks": "",
           "title": {
            "standoff": 15
           },
           "zerolinecolor": "white",
           "zerolinewidth": 2
          }
         }
        },
        "title": {
         "text": "Total Monthly Expenses"
        },
        "xaxis": {
         "anchor": "y",
         "domain": [
          0,
          1
         ],
         "showticklabels": true,
         "title": {
          "text": "Date"
         },
         "visible": true
        },
        "yaxis": {
         "anchor": "x",
         "domain": [
          0,
          1
         ],
         "showticklabels": true,
         "title": {
          "text": "Expenses (£)"
         },
         "visible": true
        }
       }
      }
     },
     "metadata": {},
     "output_type": "display_data"
    }
   ],
   "source": [
    "df_x = df[(df.Category != \"Chris Income\") & (df.Category != \"Emma Income\") \n",
    "       & (df.Category != \"Rental Income\") &(df.Category != \"EWA\" )].copy() \n",
    "df_x['Amount'] = df.Amount*(-1) \n",
    "Total_Monthly_Expenses_Table = df_x.groupby('year_month')['Amount'].sum().reset_index(name = 'sum')\n",
    "Total_Monthly_Expenses_Chart = px.bar(Total_Monthly_Expenses_Table, x = \"year_month\", y = \"sum\", title = \"Total Monthly Expenses\")\n",
    "Total_Monthly_Expenses_Chart.update_yaxes(title = 'Expenses (£)', visible = True, showticklabels = True)\n",
    "Total_Monthly_Expenses_Chart.update_xaxes(title = 'Date', visible = True, showticklabels = True)\n",
    "Total_Monthly_Expenses_Chart.show()"
   ]
  },
  {
   "cell_type": "code",
   "execution_count": 1112,
   "id": "c30369e6",
   "metadata": {},
   "outputs": [
    {
     "data": {
      "text/html": [
       "<div>\n",
       "<style scoped>\n",
       "    .dataframe tbody tr th:only-of-type {\n",
       "        vertical-align: middle;\n",
       "    }\n",
       "\n",
       "    .dataframe tbody tr th {\n",
       "        vertical-align: top;\n",
       "    }\n",
       "\n",
       "    .dataframe thead th {\n",
       "        text-align: right;\n",
       "    }\n",
       "</style>\n",
       "<table border=\"1\" class=\"dataframe\">\n",
       "  <thead>\n",
       "    <tr style=\"text-align: right;\">\n",
       "      <th></th>\n",
       "      <th>index</th>\n",
       "      <th>Account</th>\n",
       "      <th>Date</th>\n",
       "      <th>Original Date</th>\n",
       "      <th>Description</th>\n",
       "      <th>Original Description</th>\n",
       "      <th>Amount</th>\n",
       "      <th>Currency</th>\n",
       "      <th>Category</th>\n",
       "      <th>Budget</th>\n",
       "      <th>year_month_day</th>\n",
       "      <th>year_month</th>\n",
       "    </tr>\n",
       "  </thead>\n",
       "  <tbody>\n",
       "    <tr>\n",
       "      <th>0</th>\n",
       "      <td>2</td>\n",
       "      <td>emma_barclaycard</td>\n",
       "      <td>08/11/2021</td>\n",
       "      <td>08/11/2021</td>\n",
       "      <td>Reiss, London</td>\n",
       "      <td>Reiss, London</td>\n",
       "      <td>-350.0</td>\n",
       "      <td>GBP</td>\n",
       "      <td>Clothing</td>\n",
       "      <td>unbudgeted</td>\n",
       "      <td>2021-11-08</td>\n",
       "      <td>2021-11</td>\n",
       "    </tr>\n",
       "    <tr>\n",
       "      <th>1</th>\n",
       "      <td>3</td>\n",
       "      <td>emma_barclaycard</td>\n",
       "      <td>08/11/2021</td>\n",
       "      <td>08/11/2021</td>\n",
       "      <td>Payment By Direct Debit</td>\n",
       "      <td>Payment By Direct Debit</td>\n",
       "      <td>58.8</td>\n",
       "      <td>GBP</td>\n",
       "      <td>Credit Card</td>\n",
       "      <td>unbudgeted</td>\n",
       "      <td>2021-11-08</td>\n",
       "      <td>2021-11</td>\n",
       "    </tr>\n",
       "    <tr>\n",
       "      <th>2</th>\n",
       "      <td>6</td>\n",
       "      <td>emma_barclaycard</td>\n",
       "      <td>18/10/2021</td>\n",
       "      <td>18/10/2021</td>\n",
       "      <td>Sumup A/C *medical Aesthetic, London</td>\n",
       "      <td>Sumup A/C *medical Aesthetic, London</td>\n",
       "      <td>-451.2</td>\n",
       "      <td>GBP</td>\n",
       "      <td>EWA</td>\n",
       "      <td>unbudgeted</td>\n",
       "      <td>2021-10-18</td>\n",
       "      <td>2021-10</td>\n",
       "    </tr>\n",
       "    <tr>\n",
       "      <th>3</th>\n",
       "      <td>8</td>\n",
       "      <td>emma_barclaycard</td>\n",
       "      <td>12/10/2021</td>\n",
       "      <td>12/10/2021</td>\n",
       "      <td>River Island 170, Uxbridge, 75.1 POUND STERLIN...</td>\n",
       "      <td>River Island 170, Uxbridge, 75.1 POUND STERLIN...</td>\n",
       "      <td>-75.1</td>\n",
       "      <td>GBP</td>\n",
       "      <td>Clothing</td>\n",
       "      <td>unbudgeted</td>\n",
       "      <td>2021-10-12</td>\n",
       "      <td>2021-10</td>\n",
       "    </tr>\n",
       "    <tr>\n",
       "      <th>4</th>\n",
       "      <td>10</td>\n",
       "      <td>emma_barclaycard</td>\n",
       "      <td>06/10/2021</td>\n",
       "      <td>06/10/2021</td>\n",
       "      <td>Marks&amp;spencer PLC, Internet, 296.5 POUND STERL...</td>\n",
       "      <td>Marks&amp;spencer PLC, Internet, 296.5 POUND STERL...</td>\n",
       "      <td>-296.5</td>\n",
       "      <td>GBP</td>\n",
       "      <td>Groceries</td>\n",
       "      <td>unbudgeted</td>\n",
       "      <td>2021-10-06</td>\n",
       "      <td>2021-10</td>\n",
       "    </tr>\n",
       "  </tbody>\n",
       "</table>\n",
       "</div>"
      ],
      "text/plain": [
       "   index           Account        Date Original Date  \\\n",
       "0      2  emma_barclaycard  08/11/2021    08/11/2021   \n",
       "1      3  emma_barclaycard  08/11/2021    08/11/2021   \n",
       "2      6  emma_barclaycard  18/10/2021    18/10/2021   \n",
       "3      8  emma_barclaycard  12/10/2021    12/10/2021   \n",
       "4     10  emma_barclaycard  06/10/2021    06/10/2021   \n",
       "\n",
       "                                         Description  \\\n",
       "0                                      Reiss, London   \n",
       "1                            Payment By Direct Debit   \n",
       "2               Sumup A/C *medical Aesthetic, London   \n",
       "3  River Island 170, Uxbridge, 75.1 POUND STERLIN...   \n",
       "4  Marks&spencer PLC, Internet, 296.5 POUND STERL...   \n",
       "\n",
       "                                Original Description  Amount Currency  \\\n",
       "0                                      Reiss, London  -350.0      GBP   \n",
       "1                            Payment By Direct Debit    58.8      GBP   \n",
       "2               Sumup A/C *medical Aesthetic, London  -451.2      GBP   \n",
       "3  River Island 170, Uxbridge, 75.1 POUND STERLIN...   -75.1      GBP   \n",
       "4  Marks&spencer PLC, Internet, 296.5 POUND STERL...  -296.5      GBP   \n",
       "\n",
       "      Category      Budget year_month_day year_month  \n",
       "0     Clothing  unbudgeted     2021-11-08    2021-11  \n",
       "1  Credit Card  unbudgeted     2021-11-08    2021-11  \n",
       "2          EWA  unbudgeted     2021-10-18    2021-10  \n",
       "3     Clothing  unbudgeted     2021-10-12    2021-10  \n",
       "4    Groceries  unbudgeted     2021-10-06    2021-10  "
      ]
     },
     "execution_count": 1112,
     "metadata": {},
     "output_type": "execute_result"
    }
   ],
   "source": [
    "df.head()"
   ]
  },
  {
   "cell_type": "code",
   "execution_count": 1116,
   "id": "b3b32233",
   "metadata": {
    "scrolled": true
   },
   "outputs": [
    {
     "data": {
      "application/vnd.plotly.v1+json": {
       "config": {
        "plotlyServerURL": "https://plot.ly"
       },
       "data": [
        {
         "alignmentgroup": "True",
         "hovertemplate": "Category=<br>year_month=%{x}<br>Amount=%{y}<extra></extra>",
         "legendgroup": "",
         "marker": {
          "color": "#636efa",
          "pattern": {
           "shape": ""
          }
         },
         "name": "",
         "offsetgroup": "",
         "orientation": "v",
         "showlegend": false,
         "textposition": "auto",
         "type": "bar",
         "x": [
          "2021-01",
          "2021-02",
          "2021-03",
          "2021-04",
          "2021-05",
          "2021-06",
          "2021-09",
          "2021-10",
          "2021-11"
         ],
         "xaxis": "x",
         "y": [
          -1000,
          830,
          173,
          -150,
          1060,
          -495,
          500,
          17.98,
          200
         ],
         "yaxis": "y"
        },
        {
         "alignmentgroup": "True",
         "hovertemplate": "Category=Bank Charges<br>year_month=%{x}<br>Amount=%{y}<extra></extra>",
         "legendgroup": "Bank Charges",
         "marker": {
          "color": "#EF553B",
          "pattern": {
           "shape": ""
          }
         },
         "name": "Bank Charges",
         "offsetgroup": "Bank Charges",
         "orientation": "v",
         "showlegend": true,
         "textposition": "auto",
         "type": "bar",
         "x": [
          "2021-05"
         ],
         "xaxis": "x",
         "y": [
          0.61
         ],
         "yaxis": "y"
        },
        {
         "alignmentgroup": "True",
         "hovertemplate": "Category=Banner Street<br>year_month=%{x}<br>Amount=%{y}<extra></extra>",
         "legendgroup": "Banner Street",
         "marker": {
          "color": "#00cc96",
          "pattern": {
           "shape": ""
          }
         },
         "name": "Banner Street",
         "offsetgroup": "Banner Street",
         "orientation": "v",
         "showlegend": true,
         "textposition": "auto",
         "type": "bar",
         "x": [
          "2021-01",
          "2021-02",
          "2021-05",
          "2021-07",
          "2021-09"
         ],
         "xaxis": "x",
         "y": [
          908.79,
          62.5,
          92.5,
          8.99,
          1880.08
         ],
         "yaxis": "y"
        },
        {
         "alignmentgroup": "True",
         "hovertemplate": "Category=Beauty<br>year_month=%{x}<br>Amount=%{y}<extra></extra>",
         "legendgroup": "Beauty",
         "marker": {
          "color": "#ab63fa",
          "pattern": {
           "shape": ""
          }
         },
         "name": "Beauty",
         "offsetgroup": "Beauty",
         "orientation": "v",
         "showlegend": true,
         "textposition": "auto",
         "type": "bar",
         "x": [
          "2021-01",
          "2021-04",
          "2021-06"
         ],
         "xaxis": "x",
         "y": [
          155,
          73,
          52
         ],
         "yaxis": "y"
        },
        {
         "alignmentgroup": "True",
         "hovertemplate": "Category=Car<br>year_month=%{x}<br>Amount=%{y}<extra></extra>",
         "legendgroup": "Car",
         "marker": {
          "color": "#FFA15A",
          "pattern": {
           "shape": ""
          }
         },
         "name": "Car",
         "offsetgroup": "Car",
         "orientation": "v",
         "showlegend": true,
         "textposition": "auto",
         "type": "bar",
         "x": [
          "2021-01",
          "2021-02",
          "2021-03",
          "2021-04",
          "2021-05",
          "2021-06",
          "2021-07",
          "2021-08",
          "2021-09",
          "2021-10",
          "2021-11"
         ],
         "xaxis": "x",
         "y": [
          464.07000000000005,
          420.53000000000003,
          520.24,
          489.12000000000006,
          1140.0800000000002,
          494.83000000000004,
          603.66,
          493.6,
          706.3800000000001,
          817.36,
          115.97999999999999
         ],
         "yaxis": "y"
        },
        {
         "alignmentgroup": "True",
         "hovertemplate": "Category=Cash<br>year_month=%{x}<br>Amount=%{y}<extra></extra>",
         "legendgroup": "Cash",
         "marker": {
          "color": "#19d3f3",
          "pattern": {
           "shape": ""
          }
         },
         "name": "Cash",
         "offsetgroup": "Cash",
         "orientation": "v",
         "showlegend": true,
         "textposition": "auto",
         "type": "bar",
         "x": [
          "2021-01",
          "2021-02",
          "2021-03",
          "2021-04",
          "2021-05",
          "2021-06",
          "2021-07",
          "2021-08",
          "2021-09",
          "2021-10",
          "2021-11"
         ],
         "xaxis": "x",
         "y": [
          50,
          0,
          0,
          0,
          20,
          0,
          -395,
          50,
          100,
          -270,
          -350
         ],
         "yaxis": "y"
        },
        {
         "alignmentgroup": "True",
         "hovertemplate": "Category=Charity<br>year_month=%{x}<br>Amount=%{y}<extra></extra>",
         "legendgroup": "Charity",
         "marker": {
          "color": "#FF6692",
          "pattern": {
           "shape": ""
          }
         },
         "name": "Charity",
         "offsetgroup": "Charity",
         "orientation": "v",
         "showlegend": true,
         "textposition": "auto",
         "type": "bar",
         "x": [
          "2021-01",
          "2021-02",
          "2021-03",
          "2021-04",
          "2021-06",
          "2021-07",
          "2021-08",
          "2021-09",
          "2021-10",
          "2021-11"
         ],
         "xaxis": "x",
         "y": [
          10,
          10,
          10,
          30,
          10,
          10,
          20,
          10,
          10,
          35
         ],
         "yaxis": "y"
        },
        {
         "alignmentgroup": "True",
         "hovertemplate": "Category=Cleaners<br>year_month=%{x}<br>Amount=%{y}<extra></extra>",
         "legendgroup": "Cleaners",
         "marker": {
          "color": "#B6E880",
          "pattern": {
           "shape": ""
          }
         },
         "name": "Cleaners",
         "offsetgroup": "Cleaners",
         "orientation": "v",
         "showlegend": true,
         "textposition": "auto",
         "type": "bar",
         "x": [
          "2021-01",
          "2021-02",
          "2021-04",
          "2021-05",
          "2021-07",
          "2021-08",
          "2021-10"
         ],
         "xaxis": "x",
         "y": [
          17,
          17,
          17,
          17,
          17,
          17,
          17
         ],
         "yaxis": "y"
        },
        {
         "alignmentgroup": "True",
         "hovertemplate": "Category=Clothing<br>year_month=%{x}<br>Amount=%{y}<extra></extra>",
         "legendgroup": "Clothing",
         "marker": {
          "color": "#FF97FF",
          "pattern": {
           "shape": ""
          }
         },
         "name": "Clothing",
         "offsetgroup": "Clothing",
         "orientation": "v",
         "showlegend": true,
         "textposition": "auto",
         "type": "bar",
         "x": [
          "2021-01",
          "2021-02",
          "2021-03",
          "2021-04",
          "2021-05",
          "2021-06",
          "2021-07",
          "2021-08",
          "2021-09",
          "2021-10",
          "2021-11"
         ],
         "xaxis": "x",
         "y": [
          194.62,
          718.34,
          282.5,
          587.49,
          1065.01,
          406,
          184.93,
          60.33,
          2273.19,
          362.21999999999997,
          648.88
         ],
         "yaxis": "y"
        },
        {
         "alignmentgroup": "True",
         "hovertemplate": "Category=Competitions<br>year_month=%{x}<br>Amount=%{y}<extra></extra>",
         "legendgroup": "Competitions",
         "marker": {
          "color": "#FECB52",
          "pattern": {
           "shape": ""
          }
         },
         "name": "Competitions",
         "offsetgroup": "Competitions",
         "orientation": "v",
         "showlegend": true,
         "textposition": "auto",
         "type": "bar",
         "x": [
          "2021-09"
         ],
         "xaxis": "x",
         "y": [
          25
         ],
         "yaxis": "y"
        },
        {
         "alignmentgroup": "True",
         "hovertemplate": "Category=Council tax<br>year_month=%{x}<br>Amount=%{y}<extra></extra>",
         "legendgroup": "Council tax",
         "marker": {
          "color": "#636efa",
          "pattern": {
           "shape": ""
          }
         },
         "name": "Council tax",
         "offsetgroup": "Council tax",
         "orientation": "v",
         "showlegend": true,
         "textposition": "auto",
         "type": "bar",
         "x": [
          "2021-01",
          "2021-02",
          "2021-03",
          "2021-04",
          "2021-05",
          "2021-06",
          "2021-07",
          "2021-08",
          "2021-09",
          "2021-10",
          "2021-11"
         ],
         "xaxis": "x",
         "y": [
          194,
          194,
          194,
          202.47,
          206,
          206,
          412,
          206,
          206,
          206,
          206
         ],
         "yaxis": "y"
        },
        {
         "alignmentgroup": "True",
         "hovertemplate": "Category=Credit Card<br>year_month=%{x}<br>Amount=%{y}<extra></extra>",
         "legendgroup": "Credit Card",
         "marker": {
          "color": "#EF553B",
          "pattern": {
           "shape": ""
          }
         },
         "name": "Credit Card",
         "offsetgroup": "Credit Card",
         "orientation": "v",
         "showlegend": true,
         "textposition": "auto",
         "type": "bar",
         "x": [
          "2021-01",
          "2021-02",
          "2021-03",
          "2021-04",
          "2021-05",
          "2021-06",
          "2021-07",
          "2021-08",
          "2021-09",
          "2021-10",
          "2021-11"
         ],
         "xaxis": "x",
         "y": [
          507.93,
          649.13,
          883.8000000000001,
          451.17,
          320.05,
          979.9399999999999,
          644.5600000000001,
          536.8000000000001,
          1698.41,
          57.47,
          -57.349999999999994
         ],
         "yaxis": "y"
        },
        {
         "alignmentgroup": "True",
         "hovertemplate": "Category=Drinks<br>year_month=%{x}<br>Amount=%{y}<extra></extra>",
         "legendgroup": "Drinks",
         "marker": {
          "color": "#00cc96",
          "pattern": {
           "shape": ""
          }
         },
         "name": "Drinks",
         "offsetgroup": "Drinks",
         "orientation": "v",
         "showlegend": true,
         "textposition": "auto",
         "type": "bar",
         "x": [
          "2021-07"
         ],
         "xaxis": "x",
         "y": [
          2
         ],
         "yaxis": "y"
        },
        {
         "alignmentgroup": "True",
         "hovertemplate": "Category=Entertainment<br>year_month=%{x}<br>Amount=%{y}<extra></extra>",
         "legendgroup": "Entertainment",
         "marker": {
          "color": "#ab63fa",
          "pattern": {
           "shape": ""
          }
         },
         "name": "Entertainment",
         "offsetgroup": "Entertainment",
         "orientation": "v",
         "showlegend": true,
         "textposition": "auto",
         "type": "bar",
         "x": [
          "2021-01",
          "2021-02",
          "2021-03",
          "2021-04",
          "2021-05",
          "2021-06",
          "2021-07",
          "2021-08",
          "2021-09",
          "2021-10",
          "2021-11"
         ],
         "xaxis": "x",
         "y": [
          36.83,
          148.41,
          23.36,
          23.36,
          30.4,
          163.36,
          79.36,
          45.86,
          13.37,
          13.37,
          13.37
         ],
         "yaxis": "y"
        },
        {
         "alignmentgroup": "True",
         "hovertemplate": "Category=Gifts<br>year_month=%{x}<br>Amount=%{y}<extra></extra>",
         "legendgroup": "Gifts",
         "marker": {
          "color": "#FFA15A",
          "pattern": {
           "shape": ""
          }
         },
         "name": "Gifts",
         "offsetgroup": "Gifts",
         "orientation": "v",
         "showlegend": true,
         "textposition": "auto",
         "type": "bar",
         "x": [
          "2021-01",
          "2021-04",
          "2021-06",
          "2021-07",
          "2021-09"
         ],
         "xaxis": "x",
         "y": [
          64.99,
          2.99,
          26.92,
          205.28,
          55.129999999999995
         ],
         "yaxis": "y"
        },
        {
         "alignmentgroup": "True",
         "hovertemplate": "Category=Groceries<br>year_month=%{x}<br>Amount=%{y}<extra></extra>",
         "legendgroup": "Groceries",
         "marker": {
          "color": "#19d3f3",
          "pattern": {
           "shape": ""
          }
         },
         "name": "Groceries",
         "offsetgroup": "Groceries",
         "orientation": "v",
         "showlegend": true,
         "textposition": "auto",
         "type": "bar",
         "x": [
          "2021-01",
          "2021-02",
          "2021-03",
          "2021-04",
          "2021-05",
          "2021-06",
          "2021-07",
          "2021-08",
          "2021-09",
          "2021-10",
          "2021-11"
         ],
         "xaxis": "x",
         "y": [
          759.8,
          769.96,
          636.24,
          488.18,
          665.25,
          573.49,
          370.04,
          491.78999999999996,
          562.63,
          838.17,
          71.38
         ],
         "yaxis": "y"
        },
        {
         "alignmentgroup": "True",
         "hovertemplate": "Category=Hair and Beauty<br>year_month=%{x}<br>Amount=%{y}<extra></extra>",
         "legendgroup": "Hair and Beauty",
         "marker": {
          "color": "#FF6692",
          "pattern": {
           "shape": ""
          }
         },
         "name": "Hair and Beauty",
         "offsetgroup": "Hair and Beauty",
         "orientation": "v",
         "showlegend": true,
         "textposition": "auto",
         "type": "bar",
         "x": [
          "2021-01",
          "2021-02",
          "2021-03",
          "2021-04",
          "2021-05",
          "2021-06",
          "2021-07",
          "2021-08",
          "2021-09",
          "2021-10",
          "2021-11"
         ],
         "xaxis": "x",
         "y": [
          267.95,
          300,
          176.37,
          363.84000000000003,
          215,
          208.68,
          432.05,
          149.84,
          612.72,
          69.2,
          349.65999999999997
         ],
         "yaxis": "y"
        },
        {
         "alignmentgroup": "True",
         "hovertemplate": "Category=Health<br>year_month=%{x}<br>Amount=%{y}<extra></extra>",
         "legendgroup": "Health",
         "marker": {
          "color": "#B6E880",
          "pattern": {
           "shape": ""
          }
         },
         "name": "Health",
         "offsetgroup": "Health",
         "orientation": "v",
         "showlegend": true,
         "textposition": "auto",
         "type": "bar",
         "x": [
          "2021-01",
          "2021-02",
          "2021-03",
          "2021-04",
          "2021-05",
          "2021-06",
          "2021-07",
          "2021-08",
          "2021-09",
          "2021-10",
          "2021-11"
         ],
         "xaxis": "x",
         "y": [
          9.27,
          822.53,
          331.4,
          65.7,
          471.27,
          457.34000000000003,
          307.88,
          471.2,
          68.99,
          111.93,
          379.37
         ],
         "yaxis": "y"
        },
        {
         "alignmentgroup": "True",
         "hovertemplate": "Category=Holiday<br>year_month=%{x}<br>Amount=%{y}<extra></extra>",
         "legendgroup": "Holiday",
         "marker": {
          "color": "#FF97FF",
          "pattern": {
           "shape": ""
          }
         },
         "name": "Holiday",
         "offsetgroup": "Holiday",
         "orientation": "v",
         "showlegend": true,
         "textposition": "auto",
         "type": "bar",
         "x": [
          "2021-02",
          "2021-06",
          "2021-07",
          "2021-10"
         ],
         "xaxis": "x",
         "y": [
          636.13,
          523,
          385.2,
          297.78
         ],
         "yaxis": "y"
        },
        {
         "alignmentgroup": "True",
         "hovertemplate": "Category=Home Entertainment<br>year_month=%{x}<br>Amount=%{y}<extra></extra>",
         "legendgroup": "Home Entertainment",
         "marker": {
          "color": "#FECB52",
          "pattern": {
           "shape": ""
          }
         },
         "name": "Home Entertainment",
         "offsetgroup": "Home Entertainment",
         "orientation": "v",
         "showlegend": true,
         "textposition": "auto",
         "type": "bar",
         "x": [
          "2021-01",
          "2021-02",
          "2021-03",
          "2021-04",
          "2021-05",
          "2021-06",
          "2021-07",
          "2021-08",
          "2021-09",
          "2021-10",
          "2021-11"
         ],
         "xaxis": "x",
         "y": [
          40.74,
          41.74,
          40.95,
          167.06,
          41.74,
          41.74,
          73.72,
          61.72,
          85.72,
          85.72,
          19.97
         ],
         "yaxis": "y"
        },
        {
         "alignmentgroup": "True",
         "hovertemplate": "Category=Hotel<br>year_month=%{x}<br>Amount=%{y}<extra></extra>",
         "legendgroup": "Hotel",
         "marker": {
          "color": "#636efa",
          "pattern": {
           "shape": ""
          }
         },
         "name": "Hotel",
         "offsetgroup": "Hotel",
         "orientation": "v",
         "showlegend": true,
         "textposition": "auto",
         "type": "bar",
         "x": [
          "2021-07"
         ],
         "xaxis": "x",
         "y": [
          1292.1
         ],
         "yaxis": "y"
        },
        {
         "alignmentgroup": "True",
         "hovertemplate": "Category=Household<br>year_month=%{x}<br>Amount=%{y}<extra></extra>",
         "legendgroup": "Household",
         "marker": {
          "color": "#EF553B",
          "pattern": {
           "shape": ""
          }
         },
         "name": "Household",
         "offsetgroup": "Household",
         "orientation": "v",
         "showlegend": true,
         "textposition": "auto",
         "type": "bar",
         "x": [
          "2021-01",
          "2021-02",
          "2021-03",
          "2021-04",
          "2021-05",
          "2021-06",
          "2021-07",
          "2021-08",
          "2021-09",
          "2021-10",
          "2021-11"
         ],
         "xaxis": "x",
         "y": [
          460.61,
          527.72,
          1580.25,
          211.47,
          529.5,
          1009.99,
          338.08,
          528.16,
          806.5,
          1540.95,
          133.14
         ],
         "yaxis": "y"
        },
        {
         "alignmentgroup": "True",
         "hovertemplate": "Category=Insurance<br>year_month=%{x}<br>Amount=%{y}<extra></extra>",
         "legendgroup": "Insurance",
         "marker": {
          "color": "#00cc96",
          "pattern": {
           "shape": ""
          }
         },
         "name": "Insurance",
         "offsetgroup": "Insurance",
         "orientation": "v",
         "showlegend": true,
         "textposition": "auto",
         "type": "bar",
         "x": [
          "2021-01",
          "2021-02",
          "2021-03",
          "2021-04",
          "2021-05",
          "2021-06",
          "2021-07",
          "2021-08",
          "2021-09",
          "2021-10",
          "2021-11"
         ],
         "xaxis": "x",
         "y": [
          150.19,
          150.19,
          150.19,
          150.19,
          150.19,
          150.19,
          150.19,
          150.19,
          154.04,
          153.84,
          112.99
         ],
         "yaxis": "y"
        },
        {
         "alignmentgroup": "True",
         "hovertemplate": "Category=Interest<br>year_month=%{x}<br>Amount=%{y}<extra></extra>",
         "legendgroup": "Interest",
         "marker": {
          "color": "#ab63fa",
          "pattern": {
           "shape": ""
          }
         },
         "name": "Interest",
         "offsetgroup": "Interest",
         "orientation": "v",
         "showlegend": true,
         "textposition": "auto",
         "type": "bar",
         "x": [
          "2021-01",
          "2021-02",
          "2021-03",
          "2021-04",
          "2021-05",
          "2021-06",
          "2021-07",
          "2021-08",
          "2021-09",
          "2021-10",
          "2021-11"
         ],
         "xaxis": "x",
         "y": [
          90.55,
          7.64,
          51.86,
          83.06,
          20.06,
          24.61,
          127.13,
          104.25,
          5.8100000000000005,
          7.97,
          3.36
         ],
         "yaxis": "y"
        },
        {
         "alignmentgroup": "True",
         "hovertemplate": "Category=Loan<br>year_month=%{x}<br>Amount=%{y}<extra></extra>",
         "legendgroup": "Loan",
         "marker": {
          "color": "#FFA15A",
          "pattern": {
           "shape": ""
          }
         },
         "name": "Loan",
         "offsetgroup": "Loan",
         "orientation": "v",
         "showlegend": true,
         "textposition": "auto",
         "type": "bar",
         "x": [
          "2021-01",
          "2021-02",
          "2021-03",
          "2021-04",
          "2021-05",
          "2021-06",
          "2021-07",
          "2021-08",
          "2021-09",
          "2021-10",
          "2021-11"
         ],
         "xaxis": "x",
         "y": [
          198.66,
          198.66,
          198.66,
          198.66,
          198.66,
          198.66,
          198.66,
          198.66,
          198.66,
          198.66,
          198.66
         ],
         "yaxis": "y"
        },
        {
         "alignmentgroup": "True",
         "hovertemplate": "Category=Money Chris<br>year_month=%{x}<br>Amount=%{y}<extra></extra>",
         "legendgroup": "Money Chris",
         "marker": {
          "color": "#19d3f3",
          "pattern": {
           "shape": ""
          }
         },
         "name": "Money Chris",
         "offsetgroup": "Money Chris",
         "orientation": "v",
         "showlegend": true,
         "textposition": "auto",
         "type": "bar",
         "x": [
          "2021-08"
         ],
         "xaxis": "x",
         "y": [
          15.25
         ],
         "yaxis": "y"
        },
        {
         "alignmentgroup": "True",
         "hovertemplate": "Category=Money Out General<br>year_month=%{x}<br>Amount=%{y}<extra></extra>",
         "legendgroup": "Money Out General",
         "marker": {
          "color": "#FF6692",
          "pattern": {
           "shape": ""
          }
         },
         "name": "Money Out General",
         "offsetgroup": "Money Out General",
         "orientation": "v",
         "showlegend": true,
         "textposition": "auto",
         "type": "bar",
         "x": [
          "2021-02",
          "2021-03",
          "2021-04",
          "2021-05",
          "2021-06",
          "2021-07"
         ],
         "xaxis": "x",
         "y": [
          130,
          22,
          6,
          60.68,
          40.5,
          60
         ],
         "yaxis": "y"
        },
        {
         "alignmentgroup": "True",
         "hovertemplate": "Category=Mortgage<br>year_month=%{x}<br>Amount=%{y}<extra></extra>",
         "legendgroup": "Mortgage",
         "marker": {
          "color": "#B6E880",
          "pattern": {
           "shape": ""
          }
         },
         "name": "Mortgage",
         "offsetgroup": "Mortgage",
         "orientation": "v",
         "showlegend": true,
         "textposition": "auto",
         "type": "bar",
         "x": [
          "2021-01",
          "2021-02",
          "2021-03",
          "2021-04",
          "2021-05",
          "2021-06",
          "2021-07",
          "2021-08",
          "2021-09",
          "2021-10",
          "2021-11"
         ],
         "xaxis": "x",
         "y": [
          2881.7200000000003,
          2995.78,
          2995.78,
          2995.78,
          3085.78,
          2995.78,
          4763.17,
          2995.78,
          2466.4500000000003,
          2568.51,
          2595.7400000000002
         ],
         "yaxis": "y"
        },
        {
         "alignmentgroup": "True",
         "hovertemplate": "Category=Outdoors<br>year_month=%{x}<br>Amount=%{y}<extra></extra>",
         "legendgroup": "Outdoors",
         "marker": {
          "color": "#FF97FF",
          "pattern": {
           "shape": ""
          }
         },
         "name": "Outdoors",
         "offsetgroup": "Outdoors",
         "orientation": "v",
         "showlegend": true,
         "textposition": "auto",
         "type": "bar",
         "x": [
          "2021-06",
          "2021-07"
         ],
         "xaxis": "x",
         "y": [
          42.5,
          69.3
         ],
         "yaxis": "y"
        },
        {
         "alignmentgroup": "True",
         "hovertemplate": "Category=Paypal<br>year_month=%{x}<br>Amount=%{y}<extra></extra>",
         "legendgroup": "Paypal",
         "marker": {
          "color": "#FECB52",
          "pattern": {
           "shape": ""
          }
         },
         "name": "Paypal",
         "offsetgroup": "Paypal",
         "orientation": "v",
         "showlegend": true,
         "textposition": "auto",
         "type": "bar",
         "x": [
          "2021-06"
         ],
         "xaxis": "x",
         "y": [
          100
         ],
         "yaxis": "y"
        },
        {
         "alignmentgroup": "True",
         "hovertemplate": "Category=Phone<br>year_month=%{x}<br>Amount=%{y}<extra></extra>",
         "legendgroup": "Phone",
         "marker": {
          "color": "#636efa",
          "pattern": {
           "shape": ""
          }
         },
         "name": "Phone",
         "offsetgroup": "Phone",
         "orientation": "v",
         "showlegend": true,
         "textposition": "auto",
         "type": "bar",
         "x": [
          "2021-01",
          "2021-02",
          "2021-03",
          "2021-04",
          "2021-05",
          "2021-06",
          "2021-07",
          "2021-08",
          "2021-09",
          "2021-10",
          "2021-11"
         ],
         "xaxis": "x",
         "y": [
          126.55000000000001,
          76.56,
          180.55,
          230.54000000000002,
          148.97,
          131,
          131,
          141.98000000000002,
          136.99,
          87,
          88.30000000000001
         ],
         "yaxis": "y"
        },
        {
         "alignmentgroup": "True",
         "hovertemplate": "Category=Pots<br>year_month=%{x}<br>Amount=%{y}<extra></extra>",
         "legendgroup": "Pots",
         "marker": {
          "color": "#EF553B",
          "pattern": {
           "shape": ""
          }
         },
         "name": "Pots",
         "offsetgroup": "Pots",
         "orientation": "v",
         "showlegend": true,
         "textposition": "auto",
         "type": "bar",
         "x": [
          "2021-01",
          "2021-02",
          "2021-03",
          "2021-04",
          "2021-05",
          "2021-06",
          "2021-07",
          "2021-08",
          "2021-09",
          "2021-10",
          "2021-11"
         ],
         "xaxis": "x",
         "y": [
          -505,
          30.28,
          546.54,
          -745.03,
          -148.23000000000002,
          38.35,
          63.05,
          -177.15,
          1117.25,
          -571.26,
          21.06
         ],
         "yaxis": "y"
        },
        {
         "alignmentgroup": "True",
         "hovertemplate": "Category=Professional Fees<br>year_month=%{x}<br>Amount=%{y}<extra></extra>",
         "legendgroup": "Professional Fees",
         "marker": {
          "color": "#00cc96",
          "pattern": {
           "shape": ""
          }
         },
         "name": "Professional Fees",
         "offsetgroup": "Professional Fees",
         "orientation": "v",
         "showlegend": true,
         "textposition": "auto",
         "type": "bar",
         "x": [
          "2021-01",
          "2021-02",
          "2021-03",
          "2021-04",
          "2021-05",
          "2021-06",
          "2021-07",
          "2021-08",
          "2021-09",
          "2021-10",
          "2021-11"
         ],
         "xaxis": "x",
         "y": [
          16.4,
          41.4,
          341.4,
          16.4,
          16.4,
          16.4,
          16.4,
          16.4,
          16.4,
          16.4,
          16.4
         ],
         "yaxis": "y"
        },
        {
         "alignmentgroup": "True",
         "hovertemplate": "Category=RCA<br>year_month=%{x}<br>Amount=%{y}<extra></extra>",
         "legendgroup": "RCA",
         "marker": {
          "color": "#ab63fa",
          "pattern": {
           "shape": ""
          }
         },
         "name": "RCA",
         "offsetgroup": "RCA",
         "orientation": "v",
         "showlegend": true,
         "textposition": "auto",
         "type": "bar",
         "x": [
          "2021-01",
          "2021-02",
          "2021-03",
          "2021-04",
          "2021-05",
          "2021-06",
          "2021-07",
          "2021-08",
          "2021-10"
         ],
         "xaxis": "x",
         "y": [
          -1643.74,
          -1353.52,
          -1255.8000000000002,
          -1510.93,
          -1285.27,
          -1017.29,
          -433.28,
          331.78,
          100
         ],
         "yaxis": "y"
        },
        {
         "alignmentgroup": "True",
         "hovertemplate": "Category=Recovery<br>year_month=%{x}<br>Amount=%{y}<extra></extra>",
         "legendgroup": "Recovery",
         "marker": {
          "color": "#FFA15A",
          "pattern": {
           "shape": ""
          }
         },
         "name": "Recovery",
         "offsetgroup": "Recovery",
         "orientation": "v",
         "showlegend": true,
         "textposition": "auto",
         "type": "bar",
         "x": [
          "2021-01",
          "2021-02",
          "2021-03",
          "2021-05"
         ],
         "xaxis": "x",
         "y": [
          200.46,
          87,
          22.62,
          22.4
         ],
         "yaxis": "y"
        },
        {
         "alignmentgroup": "True",
         "hovertemplate": "Category=Refund<br>year_month=%{x}<br>Amount=%{y}<extra></extra>",
         "legendgroup": "Refund",
         "marker": {
          "color": "#19d3f3",
          "pattern": {
           "shape": ""
          }
         },
         "name": "Refund",
         "offsetgroup": "Refund",
         "orientation": "v",
         "showlegend": true,
         "textposition": "auto",
         "type": "bar",
         "x": [
          "2021-06",
          "2021-07"
         ],
         "xaxis": "x",
         "y": [
          -263.18,
          -90.12
         ],
         "yaxis": "y"
        },
        {
         "alignmentgroup": "True",
         "hovertemplate": "Category=Restaurant<br>year_month=%{x}<br>Amount=%{y}<extra></extra>",
         "legendgroup": "Restaurant",
         "marker": {
          "color": "#FF6692",
          "pattern": {
           "shape": ""
          }
         },
         "name": "Restaurant",
         "offsetgroup": "Restaurant",
         "orientation": "v",
         "showlegend": true,
         "textposition": "auto",
         "type": "bar",
         "x": [
          "2021-04",
          "2021-05",
          "2021-06",
          "2021-07",
          "2021-08",
          "2021-09",
          "2021-10",
          "2021-11"
         ],
         "xaxis": "x",
         "y": [
          155.25,
          186.74,
          100.64,
          1055.28,
          134.10999999999999,
          367.44,
          285.33,
          45.5
         ],
         "yaxis": "y"
        },
        {
         "alignmentgroup": "True",
         "hovertemplate": "Category=Scam<br>year_month=%{x}<br>Amount=%{y}<extra></extra>",
         "legendgroup": "Scam",
         "marker": {
          "color": "#B6E880",
          "pattern": {
           "shape": ""
          }
         },
         "name": "Scam",
         "offsetgroup": "Scam",
         "orientation": "v",
         "showlegend": true,
         "textposition": "auto",
         "type": "bar",
         "x": [
          "2021-01",
          "2021-02"
         ],
         "xaxis": "x",
         "y": [
          10,
          35
         ],
         "yaxis": "y"
        },
        {
         "alignmentgroup": "True",
         "hovertemplate": "Category=Snackette<br>year_month=%{x}<br>Amount=%{y}<extra></extra>",
         "legendgroup": "Snackette",
         "marker": {
          "color": "#FF97FF",
          "pattern": {
           "shape": ""
          }
         },
         "name": "Snackette",
         "offsetgroup": "Snackette",
         "orientation": "v",
         "showlegend": true,
         "textposition": "auto",
         "type": "bar",
         "x": [
          "2021-01",
          "2021-02",
          "2021-03",
          "2021-04",
          "2021-05",
          "2021-06",
          "2021-07",
          "2021-08",
          "2021-09",
          "2021-10",
          "2021-11"
         ],
         "xaxis": "x",
         "y": [
          107.12,
          104.55,
          250.94,
          356.08,
          170.61,
          212.23999999999998,
          515.79,
          307.83,
          336.09,
          402.45,
          215.87
         ],
         "yaxis": "y"
        },
        {
         "alignmentgroup": "True",
         "hovertemplate": "Category=Software<br>year_month=%{x}<br>Amount=%{y}<extra></extra>",
         "legendgroup": "Software",
         "marker": {
          "color": "#FECB52",
          "pattern": {
           "shape": ""
          }
         },
         "name": "Software",
         "offsetgroup": "Software",
         "orientation": "v",
         "showlegend": true,
         "textposition": "auto",
         "type": "bar",
         "x": [
          "2021-01",
          "2021-02",
          "2021-03",
          "2021-04",
          "2021-05",
          "2021-06",
          "2021-07",
          "2021-08",
          "2021-09",
          "2021-10"
         ],
         "xaxis": "x",
         "y": [
          9.98,
          9.98,
          9.98,
          9.98,
          9.98,
          9.98,
          9.98,
          9.98,
          9.98,
          9.98
         ],
         "yaxis": "y"
        },
        {
         "alignmentgroup": "True",
         "hovertemplate": "Category=Sport<br>year_month=%{x}<br>Amount=%{y}<extra></extra>",
         "legendgroup": "Sport",
         "marker": {
          "color": "#636efa",
          "pattern": {
           "shape": ""
          }
         },
         "name": "Sport",
         "offsetgroup": "Sport",
         "orientation": "v",
         "showlegend": true,
         "textposition": "auto",
         "type": "bar",
         "x": [
          "2021-05"
         ],
         "xaxis": "x",
         "y": [
          8.99
         ],
         "yaxis": "y"
        },
        {
         "alignmentgroup": "True",
         "hovertemplate": "Category=Sport and Excercise<br>year_month=%{x}<br>Amount=%{y}<extra></extra>",
         "legendgroup": "Sport and Excercise",
         "marker": {
          "color": "#EF553B",
          "pattern": {
           "shape": ""
          }
         },
         "name": "Sport and Excercise",
         "offsetgroup": "Sport and Excercise",
         "orientation": "v",
         "showlegend": true,
         "textposition": "auto",
         "type": "bar",
         "x": [
          "2021-08"
         ],
         "xaxis": "x",
         "y": [
          302.5
         ],
         "yaxis": "y"
        },
        {
         "alignmentgroup": "True",
         "hovertemplate": "Category=Sport and Fitness<br>year_month=%{x}<br>Amount=%{y}<extra></extra>",
         "legendgroup": "Sport and Fitness",
         "marker": {
          "color": "#00cc96",
          "pattern": {
           "shape": ""
          }
         },
         "name": "Sport and Fitness",
         "offsetgroup": "Sport and Fitness",
         "orientation": "v",
         "showlegend": true,
         "textposition": "auto",
         "type": "bar",
         "x": [
          "2021-01",
          "2021-02",
          "2021-03",
          "2021-04",
          "2021-05",
          "2021-06",
          "2021-07",
          "2021-08",
          "2021-09",
          "2021-10"
         ],
         "xaxis": "x",
         "y": [
          75,
          60,
          60,
          167,
          285,
          260,
          165,
          150,
          150,
          150
         ],
         "yaxis": "y"
        },
        {
         "alignmentgroup": "True",
         "hovertemplate": "Category=Takeaway<br>year_month=%{x}<br>Amount=%{y}<extra></extra>",
         "legendgroup": "Takeaway",
         "marker": {
          "color": "#ab63fa",
          "pattern": {
           "shape": ""
          }
         },
         "name": "Takeaway",
         "offsetgroup": "Takeaway",
         "orientation": "v",
         "showlegend": true,
         "textposition": "auto",
         "type": "bar",
         "x": [
          "2021-01",
          "2021-02",
          "2021-03",
          "2021-04",
          "2021-05",
          "2021-06",
          "2021-07",
          "2021-08",
          "2021-09",
          "2021-10",
          "2021-11"
         ],
         "xaxis": "x",
         "y": [
          82.82000000000001,
          411.3,
          229.03,
          246.68,
          306.13,
          117.53,
          155.11,
          122.92,
          259.51,
          166.81,
          14.98
         ],
         "yaxis": "y"
        },
        {
         "alignmentgroup": "True",
         "hovertemplate": "Category=Tax<br>year_month=%{x}<br>Amount=%{y}<extra></extra>",
         "legendgroup": "Tax",
         "marker": {
          "color": "#FFA15A",
          "pattern": {
           "shape": ""
          }
         },
         "name": "Tax",
         "offsetgroup": "Tax",
         "orientation": "v",
         "showlegend": true,
         "textposition": "auto",
         "type": "bar",
         "x": [
          "2021-01",
          "2021-02",
          "2021-07",
          "2021-10"
         ],
         "xaxis": "x",
         "y": [
          5959.12,
          4961.95,
          3318.28,
          324
         ],
         "yaxis": "y"
        },
        {
         "alignmentgroup": "True",
         "hovertemplate": "Category=Tech<br>year_month=%{x}<br>Amount=%{y}<extra></extra>",
         "legendgroup": "Tech",
         "marker": {
          "color": "#19d3f3",
          "pattern": {
           "shape": ""
          }
         },
         "name": "Tech",
         "offsetgroup": "Tech",
         "orientation": "v",
         "showlegend": true,
         "textposition": "auto",
         "type": "bar",
         "x": [
          "2021-05"
         ],
         "xaxis": "x",
         "y": [
          11.99
         ],
         "yaxis": "y"
        },
        {
         "alignmentgroup": "True",
         "hovertemplate": "Category=Therapy<br>year_month=%{x}<br>Amount=%{y}<extra></extra>",
         "legendgroup": "Therapy",
         "marker": {
          "color": "#FF6692",
          "pattern": {
           "shape": ""
          }
         },
         "name": "Therapy",
         "offsetgroup": "Therapy",
         "orientation": "v",
         "showlegend": true,
         "textposition": "auto",
         "type": "bar",
         "x": [
          "2021-01",
          "2021-02",
          "2021-03",
          "2021-04",
          "2021-05",
          "2021-06",
          "2021-07",
          "2021-09",
          "2021-11"
         ],
         "xaxis": "x",
         "y": [
          95,
          190,
          190,
          190,
          190,
          95,
          285,
          190,
          95
         ],
         "yaxis": "y"
        },
        {
         "alignmentgroup": "True",
         "hovertemplate": "Category=Transport<br>year_month=%{x}<br>Amount=%{y}<extra></extra>",
         "legendgroup": "Transport",
         "marker": {
          "color": "#B6E880",
          "pattern": {
           "shape": ""
          }
         },
         "name": "Transport",
         "offsetgroup": "Transport",
         "orientation": "v",
         "showlegend": true,
         "textposition": "auto",
         "type": "bar",
         "x": [
          "2021-03",
          "2021-04",
          "2021-06",
          "2021-07",
          "2021-09"
         ],
         "xaxis": "x",
         "y": [
          39.769999999999996,
          15.79,
          11.25,
          15.530000000000001,
          15.82
         ],
         "yaxis": "y"
        },
        {
         "alignmentgroup": "True",
         "hovertemplate": "Category=Travel<br>year_month=%{x}<br>Amount=%{y}<extra></extra>",
         "legendgroup": "Travel",
         "marker": {
          "color": "#FF97FF",
          "pattern": {
           "shape": ""
          }
         },
         "name": "Travel",
         "offsetgroup": "Travel",
         "orientation": "v",
         "showlegend": true,
         "textposition": "auto",
         "type": "bar",
         "x": [
          "2021-01",
          "2021-02",
          "2021-03",
          "2021-04",
          "2021-05",
          "2021-06",
          "2021-07",
          "2021-08",
          "2021-09",
          "2021-10",
          "2021-11"
         ],
         "xaxis": "x",
         "y": [
          93.89999999999999,
          121.1,
          175.35,
          227.9,
          141.5,
          170.5,
          149.8,
          199.65,
          290.2,
          232.86,
          78.1
         ],
         "yaxis": "y"
        },
        {
         "alignmentgroup": "True",
         "hovertemplate": "Category=Utilities<br>year_month=%{x}<br>Amount=%{y}<extra></extra>",
         "legendgroup": "Utilities",
         "marker": {
          "color": "#FECB52",
          "pattern": {
           "shape": ""
          }
         },
         "name": "Utilities",
         "offsetgroup": "Utilities",
         "orientation": "v",
         "showlegend": true,
         "textposition": "auto",
         "type": "bar",
         "x": [
          "2021-01",
          "2021-02",
          "2021-03",
          "2021-04",
          "2021-05",
          "2021-06",
          "2021-07",
          "2021-08",
          "2021-09",
          "2021-10"
         ],
         "xaxis": "x",
         "y": [
          289.52,
          244.51999999999998,
          244.51999999999998,
          249.57,
          249.49,
          249.49,
          230.89,
          215.66,
          215.66,
          222.66
         ],
         "yaxis": "y"
        },
        {
         "alignmentgroup": "True",
         "hovertemplate": "Category=groceries<br>year_month=%{x}<br>Amount=%{y}<extra></extra>",
         "legendgroup": "groceries",
         "marker": {
          "color": "#636efa",
          "pattern": {
           "shape": ""
          }
         },
         "name": "groceries",
         "offsetgroup": "groceries",
         "orientation": "v",
         "showlegend": true,
         "textposition": "auto",
         "type": "bar",
         "x": [
          "2021-01",
          "2021-02",
          "2021-03",
          "2021-04",
          "2021-05",
          "2021-06",
          "2021-07",
          "2021-08",
          "2021-09",
          "2021-10",
          "2021-11"
         ],
         "xaxis": "x",
         "y": [
          18.7,
          18.65,
          46.7,
          32.95,
          179.46,
          231.56,
          72.55,
          211.55,
          129.57,
          42.05,
          9.9
         ],
         "yaxis": "y"
        }
       ],
       "layout": {
        "barmode": "relative",
        "legend": {
         "title": {
          "text": "Category"
         },
         "tracegroupgap": 0
        },
        "template": {
         "data": {
          "bar": [
           {
            "error_x": {
             "color": "#2a3f5f"
            },
            "error_y": {
             "color": "#2a3f5f"
            },
            "marker": {
             "line": {
              "color": "#E5ECF6",
              "width": 0.5
             },
             "pattern": {
              "fillmode": "overlay",
              "size": 10,
              "solidity": 0.2
             }
            },
            "type": "bar"
           }
          ],
          "barpolar": [
           {
            "marker": {
             "line": {
              "color": "#E5ECF6",
              "width": 0.5
             },
             "pattern": {
              "fillmode": "overlay",
              "size": 10,
              "solidity": 0.2
             }
            },
            "type": "barpolar"
           }
          ],
          "carpet": [
           {
            "aaxis": {
             "endlinecolor": "#2a3f5f",
             "gridcolor": "white",
             "linecolor": "white",
             "minorgridcolor": "white",
             "startlinecolor": "#2a3f5f"
            },
            "baxis": {
             "endlinecolor": "#2a3f5f",
             "gridcolor": "white",
             "linecolor": "white",
             "minorgridcolor": "white",
             "startlinecolor": "#2a3f5f"
            },
            "type": "carpet"
           }
          ],
          "choropleth": [
           {
            "colorbar": {
             "outlinewidth": 0,
             "ticks": ""
            },
            "type": "choropleth"
           }
          ],
          "contour": [
           {
            "colorbar": {
             "outlinewidth": 0,
             "ticks": ""
            },
            "colorscale": [
             [
              0,
              "#0d0887"
             ],
             [
              0.1111111111111111,
              "#46039f"
             ],
             [
              0.2222222222222222,
              "#7201a8"
             ],
             [
              0.3333333333333333,
              "#9c179e"
             ],
             [
              0.4444444444444444,
              "#bd3786"
             ],
             [
              0.5555555555555556,
              "#d8576b"
             ],
             [
              0.6666666666666666,
              "#ed7953"
             ],
             [
              0.7777777777777778,
              "#fb9f3a"
             ],
             [
              0.8888888888888888,
              "#fdca26"
             ],
             [
              1,
              "#f0f921"
             ]
            ],
            "type": "contour"
           }
          ],
          "contourcarpet": [
           {
            "colorbar": {
             "outlinewidth": 0,
             "ticks": ""
            },
            "type": "contourcarpet"
           }
          ],
          "heatmap": [
           {
            "colorbar": {
             "outlinewidth": 0,
             "ticks": ""
            },
            "colorscale": [
             [
              0,
              "#0d0887"
             ],
             [
              0.1111111111111111,
              "#46039f"
             ],
             [
              0.2222222222222222,
              "#7201a8"
             ],
             [
              0.3333333333333333,
              "#9c179e"
             ],
             [
              0.4444444444444444,
              "#bd3786"
             ],
             [
              0.5555555555555556,
              "#d8576b"
             ],
             [
              0.6666666666666666,
              "#ed7953"
             ],
             [
              0.7777777777777778,
              "#fb9f3a"
             ],
             [
              0.8888888888888888,
              "#fdca26"
             ],
             [
              1,
              "#f0f921"
             ]
            ],
            "type": "heatmap"
           }
          ],
          "heatmapgl": [
           {
            "colorbar": {
             "outlinewidth": 0,
             "ticks": ""
            },
            "colorscale": [
             [
              0,
              "#0d0887"
             ],
             [
              0.1111111111111111,
              "#46039f"
             ],
             [
              0.2222222222222222,
              "#7201a8"
             ],
             [
              0.3333333333333333,
              "#9c179e"
             ],
             [
              0.4444444444444444,
              "#bd3786"
             ],
             [
              0.5555555555555556,
              "#d8576b"
             ],
             [
              0.6666666666666666,
              "#ed7953"
             ],
             [
              0.7777777777777778,
              "#fb9f3a"
             ],
             [
              0.8888888888888888,
              "#fdca26"
             ],
             [
              1,
              "#f0f921"
             ]
            ],
            "type": "heatmapgl"
           }
          ],
          "histogram": [
           {
            "marker": {
             "pattern": {
              "fillmode": "overlay",
              "size": 10,
              "solidity": 0.2
             }
            },
            "type": "histogram"
           }
          ],
          "histogram2d": [
           {
            "colorbar": {
             "outlinewidth": 0,
             "ticks": ""
            },
            "colorscale": [
             [
              0,
              "#0d0887"
             ],
             [
              0.1111111111111111,
              "#46039f"
             ],
             [
              0.2222222222222222,
              "#7201a8"
             ],
             [
              0.3333333333333333,
              "#9c179e"
             ],
             [
              0.4444444444444444,
              "#bd3786"
             ],
             [
              0.5555555555555556,
              "#d8576b"
             ],
             [
              0.6666666666666666,
              "#ed7953"
             ],
             [
              0.7777777777777778,
              "#fb9f3a"
             ],
             [
              0.8888888888888888,
              "#fdca26"
             ],
             [
              1,
              "#f0f921"
             ]
            ],
            "type": "histogram2d"
           }
          ],
          "histogram2dcontour": [
           {
            "colorbar": {
             "outlinewidth": 0,
             "ticks": ""
            },
            "colorscale": [
             [
              0,
              "#0d0887"
             ],
             [
              0.1111111111111111,
              "#46039f"
             ],
             [
              0.2222222222222222,
              "#7201a8"
             ],
             [
              0.3333333333333333,
              "#9c179e"
             ],
             [
              0.4444444444444444,
              "#bd3786"
             ],
             [
              0.5555555555555556,
              "#d8576b"
             ],
             [
              0.6666666666666666,
              "#ed7953"
             ],
             [
              0.7777777777777778,
              "#fb9f3a"
             ],
             [
              0.8888888888888888,
              "#fdca26"
             ],
             [
              1,
              "#f0f921"
             ]
            ],
            "type": "histogram2dcontour"
           }
          ],
          "mesh3d": [
           {
            "colorbar": {
             "outlinewidth": 0,
             "ticks": ""
            },
            "type": "mesh3d"
           }
          ],
          "parcoords": [
           {
            "line": {
             "colorbar": {
              "outlinewidth": 0,
              "ticks": ""
             }
            },
            "type": "parcoords"
           }
          ],
          "pie": [
           {
            "automargin": true,
            "type": "pie"
           }
          ],
          "scatter": [
           {
            "marker": {
             "colorbar": {
              "outlinewidth": 0,
              "ticks": ""
             }
            },
            "type": "scatter"
           }
          ],
          "scatter3d": [
           {
            "line": {
             "colorbar": {
              "outlinewidth": 0,
              "ticks": ""
             }
            },
            "marker": {
             "colorbar": {
              "outlinewidth": 0,
              "ticks": ""
             }
            },
            "type": "scatter3d"
           }
          ],
          "scattercarpet": [
           {
            "marker": {
             "colorbar": {
              "outlinewidth": 0,
              "ticks": ""
             }
            },
            "type": "scattercarpet"
           }
          ],
          "scattergeo": [
           {
            "marker": {
             "colorbar": {
              "outlinewidth": 0,
              "ticks": ""
             }
            },
            "type": "scattergeo"
           }
          ],
          "scattergl": [
           {
            "marker": {
             "colorbar": {
              "outlinewidth": 0,
              "ticks": ""
             }
            },
            "type": "scattergl"
           }
          ],
          "scattermapbox": [
           {
            "marker": {
             "colorbar": {
              "outlinewidth": 0,
              "ticks": ""
             }
            },
            "type": "scattermapbox"
           }
          ],
          "scatterpolar": [
           {
            "marker": {
             "colorbar": {
              "outlinewidth": 0,
              "ticks": ""
             }
            },
            "type": "scatterpolar"
           }
          ],
          "scatterpolargl": [
           {
            "marker": {
             "colorbar": {
              "outlinewidth": 0,
              "ticks": ""
             }
            },
            "type": "scatterpolargl"
           }
          ],
          "scatterternary": [
           {
            "marker": {
             "colorbar": {
              "outlinewidth": 0,
              "ticks": ""
             }
            },
            "type": "scatterternary"
           }
          ],
          "surface": [
           {
            "colorbar": {
             "outlinewidth": 0,
             "ticks": ""
            },
            "colorscale": [
             [
              0,
              "#0d0887"
             ],
             [
              0.1111111111111111,
              "#46039f"
             ],
             [
              0.2222222222222222,
              "#7201a8"
             ],
             [
              0.3333333333333333,
              "#9c179e"
             ],
             [
              0.4444444444444444,
              "#bd3786"
             ],
             [
              0.5555555555555556,
              "#d8576b"
             ],
             [
              0.6666666666666666,
              "#ed7953"
             ],
             [
              0.7777777777777778,
              "#fb9f3a"
             ],
             [
              0.8888888888888888,
              "#fdca26"
             ],
             [
              1,
              "#f0f921"
             ]
            ],
            "type": "surface"
           }
          ],
          "table": [
           {
            "cells": {
             "fill": {
              "color": "#EBF0F8"
             },
             "line": {
              "color": "white"
             }
            },
            "header": {
             "fill": {
              "color": "#C8D4E3"
             },
             "line": {
              "color": "white"
             }
            },
            "type": "table"
           }
          ]
         },
         "layout": {
          "annotationdefaults": {
           "arrowcolor": "#2a3f5f",
           "arrowhead": 0,
           "arrowwidth": 1
          },
          "autotypenumbers": "strict",
          "coloraxis": {
           "colorbar": {
            "outlinewidth": 0,
            "ticks": ""
           }
          },
          "colorscale": {
           "diverging": [
            [
             0,
             "#8e0152"
            ],
            [
             0.1,
             "#c51b7d"
            ],
            [
             0.2,
             "#de77ae"
            ],
            [
             0.3,
             "#f1b6da"
            ],
            [
             0.4,
             "#fde0ef"
            ],
            [
             0.5,
             "#f7f7f7"
            ],
            [
             0.6,
             "#e6f5d0"
            ],
            [
             0.7,
             "#b8e186"
            ],
            [
             0.8,
             "#7fbc41"
            ],
            [
             0.9,
             "#4d9221"
            ],
            [
             1,
             "#276419"
            ]
           ],
           "sequential": [
            [
             0,
             "#0d0887"
            ],
            [
             0.1111111111111111,
             "#46039f"
            ],
            [
             0.2222222222222222,
             "#7201a8"
            ],
            [
             0.3333333333333333,
             "#9c179e"
            ],
            [
             0.4444444444444444,
             "#bd3786"
            ],
            [
             0.5555555555555556,
             "#d8576b"
            ],
            [
             0.6666666666666666,
             "#ed7953"
            ],
            [
             0.7777777777777778,
             "#fb9f3a"
            ],
            [
             0.8888888888888888,
             "#fdca26"
            ],
            [
             1,
             "#f0f921"
            ]
           ],
           "sequentialminus": [
            [
             0,
             "#0d0887"
            ],
            [
             0.1111111111111111,
             "#46039f"
            ],
            [
             0.2222222222222222,
             "#7201a8"
            ],
            [
             0.3333333333333333,
             "#9c179e"
            ],
            [
             0.4444444444444444,
             "#bd3786"
            ],
            [
             0.5555555555555556,
             "#d8576b"
            ],
            [
             0.6666666666666666,
             "#ed7953"
            ],
            [
             0.7777777777777778,
             "#fb9f3a"
            ],
            [
             0.8888888888888888,
             "#fdca26"
            ],
            [
             1,
             "#f0f921"
            ]
           ]
          },
          "colorway": [
           "#636efa",
           "#EF553B",
           "#00cc96",
           "#ab63fa",
           "#FFA15A",
           "#19d3f3",
           "#FF6692",
           "#B6E880",
           "#FF97FF",
           "#FECB52"
          ],
          "font": {
           "color": "#2a3f5f"
          },
          "geo": {
           "bgcolor": "white",
           "lakecolor": "white",
           "landcolor": "#E5ECF6",
           "showlakes": true,
           "showland": true,
           "subunitcolor": "white"
          },
          "hoverlabel": {
           "align": "left"
          },
          "hovermode": "closest",
          "mapbox": {
           "style": "light"
          },
          "paper_bgcolor": "white",
          "plot_bgcolor": "#E5ECF6",
          "polar": {
           "angularaxis": {
            "gridcolor": "white",
            "linecolor": "white",
            "ticks": ""
           },
           "bgcolor": "#E5ECF6",
           "radialaxis": {
            "gridcolor": "white",
            "linecolor": "white",
            "ticks": ""
           }
          },
          "scene": {
           "xaxis": {
            "backgroundcolor": "#E5ECF6",
            "gridcolor": "white",
            "gridwidth": 2,
            "linecolor": "white",
            "showbackground": true,
            "ticks": "",
            "zerolinecolor": "white"
           },
           "yaxis": {
            "backgroundcolor": "#E5ECF6",
            "gridcolor": "white",
            "gridwidth": 2,
            "linecolor": "white",
            "showbackground": true,
            "ticks": "",
            "zerolinecolor": "white"
           },
           "zaxis": {
            "backgroundcolor": "#E5ECF6",
            "gridcolor": "white",
            "gridwidth": 2,
            "linecolor": "white",
            "showbackground": true,
            "ticks": "",
            "zerolinecolor": "white"
           }
          },
          "shapedefaults": {
           "line": {
            "color": "#2a3f5f"
           }
          },
          "ternary": {
           "aaxis": {
            "gridcolor": "white",
            "linecolor": "white",
            "ticks": ""
           },
           "baxis": {
            "gridcolor": "white",
            "linecolor": "white",
            "ticks": ""
           },
           "bgcolor": "#E5ECF6",
           "caxis": {
            "gridcolor": "white",
            "linecolor": "white",
            "ticks": ""
           }
          },
          "title": {
           "x": 0.05
          },
          "xaxis": {
           "automargin": true,
           "gridcolor": "white",
           "linecolor": "white",
           "ticks": "",
           "title": {
            "standoff": 15
           },
           "zerolinecolor": "white",
           "zerolinewidth": 2
          },
          "yaxis": {
           "automargin": true,
           "gridcolor": "white",
           "linecolor": "white",
           "ticks": "",
           "title": {
            "standoff": 15
           },
           "zerolinecolor": "white",
           "zerolinewidth": 2
          }
         }
        },
        "title": {
         "text": "Expenses Breakdown"
        },
        "xaxis": {
         "anchor": "y",
         "domain": [
          0,
          1
         ],
         "showticklabels": true,
         "title": {
          "text": "Date"
         },
         "visible": true
        },
        "yaxis": {
         "anchor": "x",
         "domain": [
          0,
          1
         ],
         "showticklabels": true,
         "title": {
          "text": "Expenses (£)"
         },
         "visible": true
        }
       }
      }
     },
     "metadata": {},
     "output_type": "display_data"
    }
   ],
   "source": [
    "Expenses_Breakdown_Table = pd.pivot_table(df_x, values = ['Amount'], index = ['Category', 'year_month'], aggfunc=sum).reset_index()\n",
    "Expenses_Breakdown_Table.columns = [x for x in Expenses_Breakdown_Table.columns]\n",
    "Expenses_Breakdown_Chart = px.bar(Expenses_Breakdown_Table, x='year_month', y=\"Amount\", title=\"Expenses Breakdown\", color = 'Category')\n",
    "Expenses_Breakdown_Chart.update_yaxes(title='Expenses (£)', visible=True, showticklabels=True)\n",
    "Expenses_Breakdown_Chart.update_xaxes(title='Date', visible=True, showticklabels=True)\n",
    "Expenses_Breakdown_Chart.show()"
   ]
  },
  {
   "cell_type": "code",
   "execution_count": 1122,
   "id": "4b68aeaa",
   "metadata": {},
   "outputs": [
    {
     "data": {
      "text/html": [
       "<div>\n",
       "<style scoped>\n",
       "    .dataframe tbody tr th:only-of-type {\n",
       "        vertical-align: middle;\n",
       "    }\n",
       "\n",
       "    .dataframe tbody tr th {\n",
       "        vertical-align: top;\n",
       "    }\n",
       "\n",
       "    .dataframe thead th {\n",
       "        text-align: right;\n",
       "    }\n",
       "</style>\n",
       "<table border=\"1\" class=\"dataframe\">\n",
       "  <thead>\n",
       "    <tr style=\"text-align: right;\">\n",
       "      <th></th>\n",
       "      <th>index</th>\n",
       "      <th>Account</th>\n",
       "      <th>Date</th>\n",
       "      <th>Original Date</th>\n",
       "      <th>Description</th>\n",
       "      <th>Original Description</th>\n",
       "      <th>Amount</th>\n",
       "      <th>Currency</th>\n",
       "      <th>Category</th>\n",
       "      <th>Budget</th>\n",
       "      <th>year_month_day</th>\n",
       "      <th>year_month</th>\n",
       "    </tr>\n",
       "  </thead>\n",
       "  <tbody>\n",
       "    <tr>\n",
       "      <th>0</th>\n",
       "      <td>2</td>\n",
       "      <td>emma_barclaycard</td>\n",
       "      <td>08/11/2021</td>\n",
       "      <td>08/11/2021</td>\n",
       "      <td>Reiss, London</td>\n",
       "      <td>Reiss, London</td>\n",
       "      <td>-350.00</td>\n",
       "      <td>GBP</td>\n",
       "      <td>Clothing</td>\n",
       "      <td>unbudgeted</td>\n",
       "      <td>2021-11-08</td>\n",
       "      <td>2021-11</td>\n",
       "    </tr>\n",
       "    <tr>\n",
       "      <th>2923</th>\n",
       "      <td>3175</td>\n",
       "      <td>emma_firstdirect</td>\n",
       "      <td>11/11/2021</td>\n",
       "      <td>11/11/2021</td>\n",
       "      <td>Klarna London</td>\n",
       "      <td>Klarna            London</td>\n",
       "      <td>-233.17</td>\n",
       "      <td>GBP</td>\n",
       "      <td>Clothing</td>\n",
       "      <td>unbudgeted</td>\n",
       "      <td>2021-11-11</td>\n",
       "      <td>2021-11</td>\n",
       "    </tr>\n",
       "    <tr>\n",
       "      <th>2926</th>\n",
       "      <td>3181</td>\n",
       "      <td>emma_firstdirect</td>\n",
       "      <td>08/11/2021</td>\n",
       "      <td>08/11/2021</td>\n",
       "      <td>Klarna London</td>\n",
       "      <td>Klarna            London</td>\n",
       "      <td>-65.71</td>\n",
       "      <td>GBP</td>\n",
       "      <td>Clothing</td>\n",
       "      <td>unbudgeted</td>\n",
       "      <td>2021-11-08</td>\n",
       "      <td>2021-11</td>\n",
       "    </tr>\n",
       "  </tbody>\n",
       "</table>\n",
       "</div>"
      ],
      "text/plain": [
       "      index           Account        Date Original Date    Description  \\\n",
       "0         2  emma_barclaycard  08/11/2021    08/11/2021  Reiss, London   \n",
       "2923   3175  emma_firstdirect  11/11/2021    11/11/2021  Klarna London   \n",
       "2926   3181  emma_firstdirect  08/11/2021    08/11/2021  Klarna London   \n",
       "\n",
       "          Original Description  Amount Currency  Category      Budget  \\\n",
       "0                Reiss, London -350.00      GBP  Clothing  unbudgeted   \n",
       "2923  Klarna            London -233.17      GBP  Clothing  unbudgeted   \n",
       "2926  Klarna            London  -65.71      GBP  Clothing  unbudgeted   \n",
       "\n",
       "     year_month_day year_month  \n",
       "0        2021-11-08    2021-11  \n",
       "2923     2021-11-11    2021-11  \n",
       "2926     2021-11-08    2021-11  "
      ]
     },
     "execution_count": 1122,
     "metadata": {},
     "output_type": "execute_result"
    }
   ],
   "source": [
    "\n",
    "\n",
    "\n",
    "df[(df.year_month == '2021-11') & (df.Category == 'Clothing')]"
   ]
  },
  {
   "cell_type": "code",
   "execution_count": null,
   "id": "4142d2cd",
   "metadata": {},
   "outputs": [],
   "source": [
    "\n",
    "pd.set_option('display.max_rows', 10000)"
   ]
  },
  {
   "cell_type": "code",
   "execution_count": null,
   "id": "9591e6c7",
   "metadata": {},
   "outputs": [],
   "source": [
    "df_x.Category.unique()"
   ]
  },
  {
   "cell_type": "code",
   "execution_count": null,
   "id": "a169f726",
   "metadata": {},
   "outputs": [],
   "source": [
    "['Car', 'Council Tax', 'Household', 'Gifts','Groceries',\n",
    "       'Postage', 'Utilities', 'Restaurant', 'Holiday',\n",
    "       'Snackette', 'Bank Charges', 'Luxury', 'Clothing', 'Takeaway',\n",
    "       'Health Care', 'Health&Fitness', 'Entertainment', 'Cash Out',\n",
    "       'ALfie', 'Travel', 'Cosmetics', 'Tech',\n",
    "       'Insurance', 'Therapy', 'Hair', 'Mortgage', 'Online Shopping', 'Credit Card', 'Stationary',\n",
    "       'Unknown','Banner Street Expenses', 'Sport',\n",
    "       'Emma Wedgwood Aesthetics Expense', 'HMRC and Tax', 'Union']"
   ]
  },
  {
   "cell_type": "code",
   "execution_count": null,
   "id": "42fe97c7",
   "metadata": {},
   "outputs": [],
   "source": [
    "import ipysheet\n",
    "\n",
    "\n",
    "\n",
    "for category in df_x.Category.unique():\n",
    "    print(category)\n",
    "\n",
    "sheet = ipysheet.sheet(rows=3, columns=4)\n",
    "cell1 = ipysheet.cell(0, 0, 'Hello')\n",
    "cell2 = ipysheet.cell(2, 0, 'World')\n",
    "cell_value = ipysheet.cell(2,2, 42.)\n"
   ]
  },
  {
   "cell_type": "code",
   "execution_count": null,
   "id": "2b96b32d",
   "metadata": {},
   "outputs": [],
   "source": [
    "sheet"
   ]
  },
  {
   "cell_type": "code",
   "execution_count": null,
   "id": "0ebe18c4",
   "metadata": {},
   "outputs": [],
   "source": [
    "sh"
   ]
  }
 ],
 "metadata": {
  "interpreter": {
   "hash": "2ac4c1ea7a5f8379dcdf17739a52716253106d0a395a39f71c910bbc6fc0c802"
  },
  "kernelspec": {
   "display_name": "Python 3.8.3 64-bit ('venv': venv)",
   "name": "python3"
  },
  "language_info": {
   "codemirror_mode": {
    "name": "ipython",
    "version": 3
   },
   "file_extension": ".py",
   "mimetype": "text/x-python",
   "name": "python",
   "nbconvert_exporter": "python",
   "pygments_lexer": "ipython3",
   "version": "3.8.3"
  }
 },
 "nbformat": 4,
 "nbformat_minor": 5
}
