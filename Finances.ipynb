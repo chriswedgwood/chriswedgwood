{
 "cells": [
  {
   "cell_type": "code",
   "execution_count": 289,
   "id": "9e9b35c2",
   "metadata": {},
   "outputs": [],
   "source": [
    "import pandas as pd                       #to perform data manipulation and analysis\n",
    "import numpy as np                        #to cleanse data\n",
    "from datetime import datetime             #to manipulate dates\n",
    "import plotly.express as px               #to create interactive charts\n",
    "import plotly.graph_objects as go         #to create interactive charts\n",
    "from jupyter_dash import JupyterDash      #to build Dash apps from Jupyter environments\n",
    "import dash_core_components as dcc        #to get components for interactive user interfaces\n",
    "import dash_html_components as html       #to compose the dash layout using Python structures"
   ]
  },
  {
   "cell_type": "code",
   "execution_count": 290,
   "id": "a067cbca",
   "metadata": {},
   "outputs": [],
   "source": [
    "df_raw = pd.read_csv(\"/Users/chriswedgwood/Downloads/Monzo_Joint_All_Time.csv\")\n",
    "df_raw[\"Category\"] = \"\"\n",
    "df_raw.fillna('', inplace=True)\n"
   ]
  },
  {
   "cell_type": "code",
   "execution_count": 291,
   "id": "de02dbff",
   "metadata": {},
   "outputs": [],
   "source": [
    "df = df_raw[[\"Transaction ID\",\"Date\",\"Amount\",\"Description\",\"Category\",\"Name\"]].copy()"
   ]
  },
  {
   "cell_type": "code",
   "execution_count": null,
   "id": "6f4b81d7",
   "metadata": {},
   "outputs": [],
   "source": [
    "\n"
   ]
  },
  {
   "cell_type": "code",
   "execution_count": null,
   "id": "e2eea77f",
   "metadata": {},
   "outputs": [],
   "source": []
  },
  {
   "cell_type": "code",
   "execution_count": 372,
   "id": "5e08ee62",
   "metadata": {},
   "outputs": [
    {
     "data": {
      "text/plain": [
       "0       False\n",
       "1       False\n",
       "2       False\n",
       "3       False\n",
       "4       False\n",
       "        ...  \n",
       "4376    False\n",
       "4377    False\n",
       "4378    False\n",
       "4379    False\n",
       "4380    False\n",
       "Name: Description, Length: 4381, dtype: bool"
      ]
     },
     "execution_count": 372,
     "metadata": {},
     "output_type": "execute_result"
    }
   ],
   "source": [
    "df.loc[df['Description'].str.contains('TfL|TFL'), ['Category']] = 'Travel'\n",
    "df.loc[df['Description'].str.contains('Banner Street Pot'), ['Category']] = 'Transfer'\n",
    "df.loc[df['Description'].str.contains('Thames'), ['Category']] = 'Utilities'\n",
    "df.loc[df['Description'].str.contains('Insurance'), ['Category']] = 'Insurance'\n",
    "df.loc[df['Description'].str.contains('TV'), ['Category']] = 'Entertainment'\n",
    "df.loc[df['Description'].str.contains('Joannabenfi'), ['Category']] = 'Therapy'\n",
    "df.loc[df['Description'].str.contains('2 90 Banner'), ['Category']] = 'Rental Income'\n",
    "df.loc[df['Description'].str.contains('HAWKS'), ['Category']] = 'Groceries'\n",
    "df.loc[df['Description'].str.contains('TV'), ['Category']] = 'Entertainment'\n",
    "df.loc[df['Description'].str.contains('WH SMITH'), ['Category']] = 'Postage'\n",
    "df.loc[df['Description'].str.contains('CUSTOMCLEAN-FRHVEY'), ['Category']] = 'Household'\n",
    "df.loc[df['Description'].str.contains('helppay'), ['Category']] = 'Bank Charges'\n",
    "df.loc[df['Description'].str.contains('VICTORIA'), ['Category']] = 'Restaurant'\n",
    "df.loc[df['Description'].str.contains('ChrisEmma Retreat'), ['Category']] = 'Holiday'\n",
    "df.loc[df['Description'].str.contains('GC519884'), ['Category']] = 'Holiday'\n",
    "df.loc[df['Description'].str.contains('rca|Rca|RCA'), ['Category']] = 'RCA'\n",
    "df.loc[df['Description'].str.contains('MANCHESTER MCHSTR EXCHAN'), ['Category']] = 'RCA'\n",
    " \n",
    "\n",
    "\n",
    "\n",
    "\n",
    "\n",
    "\n",
    "df[df['Category'] == '']\n",
    "df['Description'].str.contains('CHESTER')"
   ]
  },
  {
   "cell_type": "code",
   "execution_count": 368,
   "id": "f3b78cab",
   "metadata": {},
   "outputs": [
    {
     "data": {
      "text/html": [
       "<div>\n",
       "<style scoped>\n",
       "    .dataframe tbody tr th:only-of-type {\n",
       "        vertical-align: middle;\n",
       "    }\n",
       "\n",
       "    .dataframe tbody tr th {\n",
       "        vertical-align: top;\n",
       "    }\n",
       "\n",
       "    .dataframe thead th {\n",
       "        text-align: right;\n",
       "    }\n",
       "</style>\n",
       "<table border=\"1\" class=\"dataframe\">\n",
       "  <thead>\n",
       "    <tr style=\"text-align: right;\">\n",
       "      <th></th>\n",
       "      <th>Transaction ID</th>\n",
       "      <th>Date</th>\n",
       "      <th>Amount</th>\n",
       "      <th>Description</th>\n",
       "      <th>Category</th>\n",
       "      <th>Name</th>\n",
       "    </tr>\n",
       "  </thead>\n",
       "  <tbody>\n",
       "    <tr>\n",
       "      <th>462</th>\n",
       "      <td>tx_00009iGZ1kgSNVgLN5biiX</td>\n",
       "      <td>28/04/2019</td>\n",
       "      <td>-64.00</td>\n",
       "      <td>TRIED AND TRUE         PUTNEY        GBR</td>\n",
       "      <td></td>\n",
       "      <td>Tried And True</td>\n",
       "    </tr>\n",
       "    <tr>\n",
       "      <th>468</th>\n",
       "      <td>tx_00009iKspymysvJEktDqWf</td>\n",
       "      <td>30/04/2019</td>\n",
       "      <td>-265.00</td>\n",
       "      <td>SELFRIDGES MANCHESTER  MCHSTR EXCHAN GBR</td>\n",
       "      <td></td>\n",
       "      <td>Selfridges</td>\n",
       "    </tr>\n",
       "    <tr>\n",
       "      <th>476</th>\n",
       "      <td>tx_00009iMQyRJ6KYpnOITGz3</td>\n",
       "      <td>01/05/2019</td>\n",
       "      <td>-78.50</td>\n",
       "      <td>CHISWICK DOES COMEDY   LONDON        GBR</td>\n",
       "      <td></td>\n",
       "      <td>Chiswick Does Comedy</td>\n",
       "    </tr>\n",
       "    <tr>\n",
       "      <th>477</th>\n",
       "      <td>tx_00009iMdXJLx5tRkF4RZar</td>\n",
       "      <td>01/05/2019</td>\n",
       "      <td>-3.69</td>\n",
       "      <td>N L HEALTHCARE LTD     KINGSTON      GBR</td>\n",
       "      <td></td>\n",
       "      <td>N L Healthcare Ltd</td>\n",
       "    </tr>\n",
       "    <tr>\n",
       "      <th>481</th>\n",
       "      <td>tx_00009iPfzc1c33mi2V4LTN</td>\n",
       "      <td>02/05/2019</td>\n",
       "      <td>-150.00</td>\n",
       "      <td>Sent from Monzo</td>\n",
       "      <td></td>\n",
       "      <td>Isabelle Boizis</td>\n",
       "    </tr>\n",
       "    <tr>\n",
       "      <th>...</th>\n",
       "      <td>...</td>\n",
       "      <td>...</td>\n",
       "      <td>...</td>\n",
       "      <td>...</td>\n",
       "      <td>...</td>\n",
       "      <td>...</td>\n",
       "    </tr>\n",
       "    <tr>\n",
       "      <th>3895</th>\n",
       "      <td>tx_0000A88xJAMGDpLPKEDslG</td>\n",
       "      <td>10/06/2021</td>\n",
       "      <td>-4.90</td>\n",
       "      <td>TOMS @ RIVERSIDE       LONDON        GBR</td>\n",
       "      <td></td>\n",
       "      <td>Toms @ Riverside</td>\n",
       "    </tr>\n",
       "    <tr>\n",
       "      <th>3911</th>\n",
       "      <td>tx_0000A8BPYSX67IOQN1C7Ep</td>\n",
       "      <td>11/06/2021</td>\n",
       "      <td>-31.50</td>\n",
       "      <td>IKEA LTD 567 GREENWICH GREENWICH     GBR</td>\n",
       "      <td></td>\n",
       "      <td>IKEA</td>\n",
       "    </tr>\n",
       "    <tr>\n",
       "      <th>3914</th>\n",
       "      <td>tx_0000A8BoKKIMRf5yYnKOOX</td>\n",
       "      <td>11/06/2021</td>\n",
       "      <td>-30.67</td>\n",
       "      <td>A CENA                 TWICKENHAM    GBR</td>\n",
       "      <td></td>\n",
       "      <td>A Cena</td>\n",
       "    </tr>\n",
       "    <tr>\n",
       "      <th>3960</th>\n",
       "      <td>tx_0000A8NUtxoFrBYXi3VwPJ</td>\n",
       "      <td>17/06/2021</td>\n",
       "      <td>-11.15</td>\n",
       "      <td>King of Cotton         Kingston upon GBR</td>\n",
       "      <td></td>\n",
       "      <td>King Of Cotton</td>\n",
       "    </tr>\n",
       "    <tr>\n",
       "      <th>4380</th>\n",
       "      <td>tx_0000A9kXImIGWb2NhaOdph</td>\n",
       "      <td>28/07/2021</td>\n",
       "      <td>-316.00</td>\n",
       "      <td>The Clive Arms         Ludlow        GBR</td>\n",
       "      <td></td>\n",
       "      <td>The Clive Arms</td>\n",
       "    </tr>\n",
       "  </tbody>\n",
       "</table>\n",
       "<p>533 rows × 6 columns</p>\n",
       "</div>"
      ],
      "text/plain": [
       "                 Transaction ID        Date  Amount  \\\n",
       "462   tx_00009iGZ1kgSNVgLN5biiX  28/04/2019  -64.00   \n",
       "468   tx_00009iKspymysvJEktDqWf  30/04/2019 -265.00   \n",
       "476   tx_00009iMQyRJ6KYpnOITGz3  01/05/2019  -78.50   \n",
       "477   tx_00009iMdXJLx5tRkF4RZar  01/05/2019   -3.69   \n",
       "481   tx_00009iPfzc1c33mi2V4LTN  02/05/2019 -150.00   \n",
       "...                         ...         ...     ...   \n",
       "3895  tx_0000A88xJAMGDpLPKEDslG  10/06/2021   -4.90   \n",
       "3911  tx_0000A8BPYSX67IOQN1C7Ep  11/06/2021  -31.50   \n",
       "3914  tx_0000A8BoKKIMRf5yYnKOOX  11/06/2021  -30.67   \n",
       "3960  tx_0000A8NUtxoFrBYXi3VwPJ  17/06/2021  -11.15   \n",
       "4380  tx_0000A9kXImIGWb2NhaOdph  28/07/2021 -316.00   \n",
       "\n",
       "                                   Description Category                  Name  \n",
       "462   TRIED AND TRUE         PUTNEY        GBR                 Tried And True  \n",
       "468   SELFRIDGES MANCHESTER  MCHSTR EXCHAN GBR                     Selfridges  \n",
       "476   CHISWICK DOES COMEDY   LONDON        GBR           Chiswick Does Comedy  \n",
       "477   N L HEALTHCARE LTD     KINGSTON      GBR             N L Healthcare Ltd  \n",
       "481                            Sent from Monzo                Isabelle Boizis  \n",
       "...                                        ...      ...                   ...  \n",
       "3895  TOMS @ RIVERSIDE       LONDON        GBR               Toms @ Riverside  \n",
       "3911  IKEA LTD 567 GREENWICH GREENWICH     GBR                           IKEA  \n",
       "3914  A CENA                 TWICKENHAM    GBR                         A Cena  \n",
       "3960  King of Cotton         Kingston upon GBR                 King Of Cotton  \n",
       "4380  The Clive Arms         Ludlow        GBR                 The Clive Arms  \n",
       "\n",
       "[533 rows x 6 columns]"
      ]
     },
     "execution_count": 368,
     "metadata": {},
     "output_type": "execute_result"
    }
   ],
   "source": [
    "\n",
    "\n",
    "\n",
    "\n",
    "\n",
    "\n",
    "df.loc[df['Name'].str.contains('Insurance'), ['Category']] = 'Insurance'\n",
    "\n",
    "\n",
    "df.loc[df['Name'].str.contains('TfL|TFL'), ['Category']] = 'Travel'\n",
    "df.loc[df['Name'].str.contains('Banner Street Pot'), ['Category']] = 'Transfer'\n",
    "df.loc[df['Name'].str.contains('Thames|Utility Point|Virgin Media|Flow Energy Limited'), ['Category']] = 'Utilities'\n",
    "df.loc[df['Name'].str.contains('Joannabenfi'), ['Category']] = 'Therapy'\n",
    "df.loc[df['Name'].str.contains('2 90 Banner'), ['Category']] = 'Rental Income'\n",
    "df.loc[df['Name'].str.contains('Whistle Stop|HAWKS|Marks & Spencer|Waitrose|Tesco|Sainsbury|Co-op|Ada Food Centre|Ocado|Asda'), ['Category']] = 'Groceries'\n",
    "df.loc[df['Name'].str.contains('TV'), ['Category']] = 'Entertainment'\n",
    "df.loc[df['Name'].str.contains('Aldermore|Mortgage'), ['Category']] = 'Mortgage'\n",
    "df.loc[df['Name'].str.contains('AIG Life'), ['Category']] = 'Insurance'\n",
    "df.loc[df['Name'].str.contains('WEDGWOODLC13|Christopher Wedgwood|WEDGWOOD C'), ['Category']] = 'MoneyFromChris'\n",
    "df.loc[df['Name'].str.contains('Royal Borough|Islington Council'), ['Category']] = 'Council Tax'\n",
    "df.loc[df['Name'].str.contains('Getting Personal|Fortnum|Flower|Clinton Cards'), ['Category']] = 'Gifts'\n",
    "df.loc[df['Name'].str.contains('Regus|Caff|Nero|Coffee|Dr Gelato|Bagel|Cafe|Maison Georges Larnicol'), ['Category']] = 'Snackette'\n",
    "\n",
    "df.loc[df['Name'].str.contains('Deliveroo'), ['Category']] = 'Takeaway'\n",
    "df.loc[df['Name'].str.contains('Amazon'), ['Category']] = 'Online Purchase'\n",
    "df.loc[df['Name'].str.contains('Ryman'), ['Category']] = 'Stationary'\n",
    "df.loc[df['Name'].str.contains('Cloudrx|Shutterstock'), ['Category']] = 'Emma Wedgwood Aesthetics Expense'\n",
    "\n",
    "df.loc[df['Name'].str.contains('Ryman'), ['Category']] = 'Stationary'\n",
    "df.loc[df['Name'].str.contains('Granger & Co.|Boston Tea Party|Restaurant|Same Same|Kitchen|Cote|Resy'), ['Category']] = 'Restaurant'\n",
    "\n",
    "df.loc[df['Name'].str.contains('F45|Tennis'), ['Category']] = 'Health&Fitness'\n",
    "#####\n",
    "df.loc[df['Name'].str.contains('Pet'), ['Category']] = 'ALfie'\n",
    "df.loc[df['Name'].str.contains('PayPal'), ['Category']] = 'Bank Charges'\n",
    "df.loc[df['Name'].str.contains('Phone and Pay|Palace Road|Car Park|Ealing Broadway Centre|Kingston Tyre|Shell|BP|Kingston Valeting|NCP|drivetech|Automotive|LeasePlan UK|Car Leasing|Mipermit|Parking'), ['Category']] = 'Car'\n",
    "df.loc[df['Name'].str.contains('Kwik Fit'), ['Category']] = 'Car'\n",
    "\n",
    "df.loc[df['Name'].str.contains('ATM'), ['Category']] = 'Cash Out'\n",
    "df.loc[df['Name'].str.contains('MBNA|Barclaycard|Halifax'), ['Category']] = 'Credit Card'\n",
    "df.loc[df['Name'].str.contains('Hugo Boss|QVC|H&M|Reiss|Moss Kingston|Zara'), ['Category']] = 'Clothing'\n",
    "df.loc[df['Name'].str.contains('Rituals'), ['Category']] = 'Cosmetics'\n",
    "\n",
    "df.loc[df['Name'].str.contains('TV|Prime Video|Netflix|Audible|Rose Theatre Kingston|Odeon'), ['Category']] = 'Entertainment'\n",
    "df.loc[df['Name'].str.contains('Tiffany|The Conran Shop'), ['Category']] = 'Gifts'\n",
    "df.loc[df['Name'].str.contains('Superdrug|Harry|Boots|Psychiatry-uk|Skn Victoria Street|Stormmedial'), ['Category']] = 'Health Care'\n",
    "df.loc[df['Name'].str.contains('Minster Mill|The Highway Inn|Aquanaut|Booking.com|TripAdvisor|Blacks|Hotel'), ['Category']] = 'Holiday'\n",
    "df.loc[df['Name'].str.contains('The Windmill Reviv|Four Seasons Resort|The Moorfields|Roman Baths|Camping|The Ginger Pig'), ['Category']] = 'Holiday'\n",
    "\n",
    "df.loc[df['Name'].str.contains('House Of Fraser|Adam Siese|Homebase|Lucy White Dry|Argos|Surrey Skip Bags|Garden Revamp Company|Ungaretti|www.chimsoc.co.uk|Lamp and Light|Wilko|John Lewis|Poundland|Tsveti|West Elm|Wickes|Luke|Lucas Ungarett|Lights4fun.|Mike King Electrical'), \n",
    "       ['Category']] = 'Household'\n",
    "df.loc[df['Name'].str.contains('Mnr Jewellers|Serendib Jewellers'), ['Category']] = 'Jewellery'\n",
    "df.loc[df['Name'].str.contains('WEDGWOOD E|POULTNEY E|Emma Wedgwood'), ['Category']] = 'Money From Emma'\n",
    "df.loc[df['Name'].str.contains('Richard Hill'), ['Category']] = 'Money from Friends'\n",
    "df.loc[df['Name'].str.contains('Miss Gemma Oliver|Ruth Vizard|DW Poultney'), ['Category']] = 'Money to Friends'\n",
    "\n",
    "df.loc[df['Name'].str.contains('DHL|Dhl|Royal Mail|Post Office'), ['Category']] = 'Postage'\n",
    "df.loc[df['Name'].str.contains('www.upstairsatthreeand|Franco Manca|Giggling Squid|Trullo|Tangawizi|Nando|Sorabol|Ivy|The Britannia Richmond'), ['Category']] = 'Restaurant'\n",
    "df.loc[df['Name'].str.contains('Buba|The French Table|Opentable|Carluccio|Tangawizi|COOK|Dusk|Iberica|The Admiral Codrington|Haz|Pizza Express'), ['Category']] = 'Restaurant'\n",
    "\n",
    "df.loc[df['Name'].str.contains('Rivermead Leisure Complex and Gym|Pret|Juice|Hazs|Host Olympia|Grababite|Grind|Soul Deli|Eat17'), ['Category']] = 'Snackette'\n",
    "df.loc[df['Name'].str.contains('Bento|Crosstown|Welcome Break|Juice|JUICE|Real Food Market'), ['Category']] = 'Snackette'\n",
    "df.loc[df['Name'].str.contains('Local Hero|Bakery|The Press Room|Krispy|Savanna|McDonald|Tortilla|Leon|Espresso|Roaster|Protein'), ['Category']] = 'Snackette'\n",
    "df.loc[df['Name'].str.contains('Pembroke Lodge|Doughnut Time|Best One Xpress|Pier Walk|Cuppa|Lamb And Flag'), ['Category']] = 'Snackette'\n",
    "df.loc[df['Name'].str.contains('Ryman|Scribbler'), ['Category']] = 'Stationary'\n",
    "\n",
    "df.loc[df['Name'].str.contains('We Are The Fuel|City String Ensemble|Start The Dance|Waymour Bus Hire|Blue Door Productions|Miss Ja Dick'), ['Category']] = 'Wedding'\n",
    "df.loc[df['Name'].str.contains('Zaza|Jack Bunney Ltd|Etsy.com - Bespokewedd|Childrensalon|Bridal|Wonderbly Personalised|Portraits Bridal|Angie Bryant|Wedding|Miss A Akdemir|Select Contracts Uk'), ['Category']] = 'Wedding'\n",
    "df.loc[df['Name'].str.contains('Webhostinghub|ExpressVPN'), ['Category']] = 'Tech'\n",
    "df.loc[df['Name'].str.contains('Artworks|Art5 Gallery'), ['Category']] = 'Art'\n",
    "df.loc[df['Name'].str.contains('Toni|Jo Hansford'), ['Category']] = 'Hair'\n",
    "df.loc[df['Name'].str.contains('SIMPSON MILLAR LLP'), ['Category']] = 'Legal'\n",
    "\n",
    "\n",
    "\n",
    "\n",
    "\n",
    "#####\n",
    "df.loc[df['Name'].str.contains('Louis Vuitton'), ['Category']] = 'Luxury'\n",
    "\n",
    "df.loc[df['Name'].str.contains('Tangawizi'), ['Category']] = 'Restaurant'\n",
    "\n",
    "\n",
    " \n",
    "\n",
    "df[df['Category'] == '']"
   ]
  },
  {
   "cell_type": "code",
   "execution_count": 268,
   "id": "79686f92",
   "metadata": {},
   "outputs": [],
   "source": [
    " \n",
    "df['year_month_day'] = pd.to_datetime(df['Date'], format='%d/%m/%Y').dt.strftime('%Y-%m-%d')\n",
    "df['year_month'] = pd.to_datetime(df['Date'], format='%d/%m/%Y').dt.strftime('%Y-%m')\n"
   ]
  },
  {
   "cell_type": "code",
   "execution_count": 269,
   "id": "ba80a4fe",
   "metadata": {},
   "outputs": [
    {
     "data": {
      "application/vnd.plotly.v1+json": {
       "config": {
        "plotlyServerURL": "https://plot.ly"
       },
       "data": [
        {
         "type": "scatter",
         "x": [
          "2018-09-19",
          "2018-10-26",
          "2018-11-01",
          "2018-11-10",
          "2018-11-19",
          "2018-11-20",
          "2018-11-23",
          "2018-11-24",
          "2018-11-26",
          "2018-11-27",
          "2018-11-28",
          "2018-11-29",
          "2018-11-30",
          "2018-12-01",
          "2018-12-02",
          "2018-12-03",
          "2018-12-04",
          "2018-12-05",
          "2018-12-06",
          "2018-12-07",
          "2018-12-08",
          "2018-12-09",
          "2018-12-10",
          "2018-12-11",
          "2018-12-12",
          "2018-12-14",
          "2018-12-15",
          "2018-12-16",
          "2018-12-17",
          "2018-12-18",
          "2018-12-19",
          "2018-12-20",
          "2018-12-21",
          "2018-12-22",
          "2018-12-23",
          "2018-12-24",
          "2018-12-26",
          "2018-12-27",
          "2018-12-28",
          "2018-12-29",
          "2018-12-30",
          "2018-12-31",
          "2019-01-01",
          "2019-01-02",
          "2019-01-03",
          "2019-01-04",
          "2019-01-06",
          "2019-01-08",
          "2019-01-09",
          "2019-01-10",
          "2019-01-11",
          "2019-01-12",
          "2019-01-13",
          "2019-01-14",
          "2019-01-15",
          "2019-01-16",
          "2019-01-17",
          "2019-01-18",
          "2019-01-19",
          "2019-01-20",
          "2019-01-22",
          "2019-01-23",
          "2019-01-24",
          "2019-01-25",
          "2019-01-26",
          "2019-01-27",
          "2019-01-28",
          "2019-01-29",
          "2019-01-30",
          "2019-01-31",
          "2019-02-01",
          "2019-02-02",
          "2019-02-03",
          "2019-02-04",
          "2019-02-05",
          "2019-02-06",
          "2019-02-07",
          "2019-02-08",
          "2019-02-09",
          "2019-02-10",
          "2019-02-11",
          "2019-02-13",
          "2019-02-14",
          "2019-02-15",
          "2019-02-16",
          "2019-02-17",
          "2019-02-18",
          "2019-02-19",
          "2019-02-20",
          "2019-02-21",
          "2019-02-22",
          "2019-02-23",
          "2019-02-24",
          "2019-02-26",
          "2019-02-27",
          "2019-02-28",
          "2019-03-01",
          "2019-03-02",
          "2019-03-03",
          "2019-03-04",
          "2019-03-06",
          "2019-03-07",
          "2019-03-08",
          "2019-03-09",
          "2019-03-10",
          "2019-03-11",
          "2019-03-13",
          "2019-03-14",
          "2019-03-15",
          "2019-03-18",
          "2019-03-19",
          "2019-03-20",
          "2019-03-21",
          "2019-03-22",
          "2019-03-23",
          "2019-03-24",
          "2019-03-26",
          "2019-03-27",
          "2019-03-28",
          "2019-03-29",
          "2019-03-30",
          "2019-03-31",
          "2019-04-01",
          "2019-04-03",
          "2019-04-04",
          "2019-04-05",
          "2019-04-06",
          "2019-04-07",
          "2019-04-08",
          "2019-04-09",
          "2019-04-10",
          "2019-04-11",
          "2019-04-12",
          "2019-04-13",
          "2019-04-14",
          "2019-04-15",
          "2019-04-16",
          "2019-04-17",
          "2019-04-18",
          "2019-04-19",
          "2019-04-20",
          "2019-04-21",
          "2019-04-23",
          "2019-04-24",
          "2019-04-25",
          "2019-04-26",
          "2019-04-28",
          "2019-04-29",
          "2019-04-30",
          "2019-05-01",
          "2019-05-02",
          "2019-05-03",
          "2019-05-04",
          "2019-05-05",
          "2019-05-08",
          "2019-05-09",
          "2019-05-10",
          "2019-05-11",
          "2019-05-12",
          "2019-05-13",
          "2019-05-14",
          "2019-05-15",
          "2019-05-16",
          "2019-05-17",
          "2019-05-18",
          "2019-05-20",
          "2019-05-21",
          "2019-05-22",
          "2019-05-23",
          "2019-05-24",
          "2019-05-25",
          "2019-05-26",
          "2019-05-27",
          "2019-05-28",
          "2019-05-29",
          "2019-05-30",
          "2019-05-31",
          "2019-06-01",
          "2019-06-02",
          "2019-06-03",
          "2019-06-04",
          "2019-06-05",
          "2019-06-06",
          "2019-06-07",
          "2019-06-08",
          "2019-06-09",
          "2019-06-10",
          "2019-06-11",
          "2019-06-12",
          "2019-06-13",
          "2019-06-14",
          "2019-06-15",
          "2019-06-16",
          "2019-06-17",
          "2019-06-18",
          "2019-06-19",
          "2019-06-20",
          "2019-06-21",
          "2019-06-22",
          "2019-06-23",
          "2019-06-24",
          "2019-06-25",
          "2019-06-26",
          "2019-06-27",
          "2019-06-28",
          "2019-06-29",
          "2019-06-30",
          "2019-07-01",
          "2019-07-02",
          "2019-07-03",
          "2019-07-04",
          "2019-07-05",
          "2019-07-06",
          "2019-07-07",
          "2019-07-08",
          "2019-07-09",
          "2019-07-10",
          "2019-07-11",
          "2019-07-12",
          "2019-07-13",
          "2019-07-14",
          "2019-07-15",
          "2019-07-16",
          "2019-07-17",
          "2019-07-19",
          "2019-07-20",
          "2019-07-21",
          "2019-07-22",
          "2019-07-25",
          "2019-07-28",
          "2019-07-31",
          "2019-08-01",
          "2019-08-05",
          "2019-08-07",
          "2019-08-08",
          "2019-08-09",
          "2019-08-10",
          "2019-08-11",
          "2019-08-12",
          "2019-08-14",
          "2019-08-15",
          "2019-08-16",
          "2019-08-17",
          "2019-08-18",
          "2019-08-19",
          "2019-08-20",
          "2019-08-21",
          "2019-08-22",
          "2019-08-23",
          "2019-08-24",
          "2019-08-25",
          "2019-08-26",
          "2019-08-27",
          "2019-08-28",
          "2019-08-29",
          "2019-08-30",
          "2019-08-31",
          "2019-09-01",
          "2019-09-02",
          "2019-09-04",
          "2019-09-05",
          "2019-09-06",
          "2019-09-07",
          "2019-09-08",
          "2019-09-10",
          "2019-09-11",
          "2019-09-12",
          "2019-09-13",
          "2019-09-14",
          "2019-09-15",
          "2019-09-16",
          "2019-09-18",
          "2019-09-19",
          "2019-09-20",
          "2019-09-21",
          "2019-09-22",
          "2019-09-23",
          "2019-09-24",
          "2019-09-25",
          "2019-09-26",
          "2019-09-27",
          "2019-09-29",
          "2019-09-30",
          "2019-10-01",
          "2019-10-02",
          "2019-10-03",
          "2019-10-07",
          "2019-10-08",
          "2019-10-09",
          "2019-10-10",
          "2019-10-11",
          "2019-10-13",
          "2019-10-14",
          "2019-10-15",
          "2019-10-16",
          "2019-10-17",
          "2019-10-18",
          "2019-10-20",
          "2019-10-21",
          "2019-10-23",
          "2019-10-24",
          "2019-10-25",
          "2019-10-26",
          "2019-10-27",
          "2019-10-28",
          "2019-10-29",
          "2019-10-30",
          "2019-10-31",
          "2019-11-01",
          "2019-11-02",
          "2019-11-03",
          "2019-11-04",
          "2019-11-14",
          "2019-11-15",
          "2019-11-17",
          "2019-11-21",
          "2019-11-22",
          "2019-11-25",
          "2019-11-26",
          "2019-11-27",
          "2019-11-28",
          "2019-11-29",
          "2019-11-30",
          "2019-12-01",
          "2019-12-02",
          "2019-12-03",
          "2019-12-04",
          "2019-12-06",
          "2019-12-07",
          "2019-12-08",
          "2019-12-09",
          "2019-12-10",
          "2019-12-11",
          "2019-12-12",
          "2019-12-15",
          "2019-12-16",
          "2019-12-17",
          "2019-12-20",
          "2019-12-21",
          "2019-12-22",
          "2019-12-23",
          "2019-12-24",
          "2019-12-26",
          "2019-12-27",
          "2019-12-28",
          "2019-12-29",
          "2019-12-31",
          "2020-01-01",
          "2020-01-02",
          "2020-01-03",
          "2020-01-04",
          "2020-01-05",
          "2020-01-07",
          "2020-01-08",
          "2020-01-10",
          "2020-01-11",
          "2020-01-12",
          "2020-01-15",
          "2020-01-16",
          "2020-01-17",
          "2020-01-18",
          "2020-01-19",
          "2020-01-20",
          "2020-01-21",
          "2020-01-22",
          "2020-01-23",
          "2020-01-24",
          "2020-01-25",
          "2020-01-26",
          "2020-01-27",
          "2020-01-28",
          "2020-01-30",
          "2020-01-31",
          "2020-02-01",
          "2020-02-02",
          "2020-02-03",
          "2020-02-04",
          "2020-02-05",
          "2020-02-07",
          "2020-02-08",
          "2020-02-09",
          "2020-02-10",
          "2020-02-11",
          "2020-02-12",
          "2020-02-13",
          "2020-02-14",
          "2020-02-16",
          "2020-02-17",
          "2020-02-18",
          "2020-02-19",
          "2020-02-20",
          "2020-02-21",
          "2020-02-22",
          "2020-02-23",
          "2020-02-25",
          "2020-02-26",
          "2020-02-27",
          "2020-02-28",
          "2020-02-29",
          "2020-03-01",
          "2020-03-02",
          "2020-03-03",
          "2020-03-04",
          "2020-03-05",
          "2020-03-06",
          "2020-03-07",
          "2020-03-08",
          "2020-03-10",
          "2020-03-11",
          "2020-03-12",
          "2020-03-13",
          "2020-03-14",
          "2020-03-15",
          "2020-03-16",
          "2020-03-18",
          "2020-03-20",
          "2020-03-22",
          "2020-03-23",
          "2020-03-24",
          "2020-03-25",
          "2020-03-27",
          "2020-03-28",
          "2020-03-29",
          "2020-03-30",
          "2020-03-31",
          "2020-04-01",
          "2020-04-02",
          "2020-04-03",
          "2020-04-04",
          "2020-04-05",
          "2020-04-06",
          "2020-04-07",
          "2020-04-08",
          "2020-04-09",
          "2020-04-10",
          "2020-04-11",
          "2020-04-13",
          "2020-04-14",
          "2020-04-15",
          "2020-04-16",
          "2020-04-17",
          "2020-04-18",
          "2020-04-19",
          "2020-04-20",
          "2020-04-21",
          "2020-04-22",
          "2020-04-23",
          "2020-04-24",
          "2020-04-25",
          "2020-04-26",
          "2020-04-27",
          "2020-04-28",
          "2020-04-29",
          "2020-05-01",
          "2020-05-02",
          "2020-05-03",
          "2020-05-04",
          "2020-05-05",
          "2020-05-06",
          "2020-05-07",
          "2020-05-08",
          "2020-05-09",
          "2020-05-11",
          "2020-05-12",
          "2020-05-13",
          "2020-05-14",
          "2020-05-15",
          "2020-05-16",
          "2020-05-17",
          "2020-05-18",
          "2020-05-19",
          "2020-05-20",
          "2020-05-21",
          "2020-05-22",
          "2020-05-23",
          "2020-05-26",
          "2020-05-27",
          "2020-05-28",
          "2020-05-29",
          "2020-05-30",
          "2020-05-31",
          "2020-06-01",
          "2020-06-02",
          "2020-06-03",
          "2020-06-04",
          "2020-06-05",
          "2020-06-06",
          "2020-06-08",
          "2020-06-09",
          "2020-06-10",
          "2020-06-11",
          "2020-06-12",
          "2020-06-13",
          "2020-06-14",
          "2020-06-15",
          "2020-06-16",
          "2020-06-17",
          "2020-06-19",
          "2020-06-21",
          "2020-06-22",
          "2020-06-23",
          "2020-06-24",
          "2020-06-25",
          "2020-06-26",
          "2020-06-27",
          "2020-06-28",
          "2020-06-29",
          "2020-06-30",
          "2020-07-01",
          "2020-07-02",
          "2020-07-03",
          "2020-07-04",
          "2020-07-05",
          "2020-07-06",
          "2020-07-07",
          "2020-07-08",
          "2020-07-09",
          "2020-07-10",
          "2020-07-11",
          "2020-07-12",
          "2020-07-13",
          "2020-07-14",
          "2020-07-15",
          "2020-07-16",
          "2020-07-17",
          "2020-07-18",
          "2020-07-19",
          "2020-07-20",
          "2020-07-21",
          "2020-07-22",
          "2020-07-23",
          "2020-07-25",
          "2020-07-26",
          "2020-07-27",
          "2020-07-28",
          "2020-07-29",
          "2020-07-30",
          "2020-07-31",
          "2020-08-01",
          "2020-08-02",
          "2020-08-03",
          "2020-08-04",
          "2020-08-05",
          "2020-08-06",
          "2020-08-07",
          "2020-08-08",
          "2020-08-09",
          "2020-08-11",
          "2020-08-12",
          "2020-08-13",
          "2020-08-14",
          "2020-08-15",
          "2020-08-18",
          "2020-08-19",
          "2020-08-20",
          "2020-08-21",
          "2020-08-22",
          "2020-08-23",
          "2020-08-24",
          "2020-08-25",
          "2020-08-26",
          "2020-08-27",
          "2020-08-28",
          "2020-08-29",
          "2020-08-30",
          "2020-08-31",
          "2020-09-01",
          "2020-09-02",
          "2020-09-03",
          "2020-09-04",
          "2020-09-05",
          "2020-09-06",
          "2020-09-07",
          "2020-09-08",
          "2020-09-09",
          "2020-09-11",
          "2020-09-12",
          "2020-09-13",
          "2020-09-14",
          "2020-09-15",
          "2020-09-16",
          "2020-09-17",
          "2020-09-18",
          "2020-09-19",
          "2020-09-20",
          "2020-09-21",
          "2020-09-22",
          "2020-09-23",
          "2020-09-24",
          "2020-09-25",
          "2020-09-26",
          "2020-09-27",
          "2020-09-28",
          "2020-09-29",
          "2020-09-30",
          "2020-10-01",
          "2020-10-02",
          "2020-10-03",
          "2020-10-04",
          "2020-10-05",
          "2020-10-06",
          "2020-10-07",
          "2020-10-08",
          "2020-10-09",
          "2020-10-10",
          "2020-10-11",
          "2020-10-12",
          "2020-10-13",
          "2020-10-14",
          "2020-10-15",
          "2020-10-16",
          "2020-10-17",
          "2020-10-18",
          "2020-10-19",
          "2020-10-20",
          "2020-10-21",
          "2020-10-22",
          "2020-10-23",
          "2020-10-24",
          "2020-10-25",
          "2020-10-26",
          "2020-10-27",
          "2020-10-28",
          "2020-10-29",
          "2020-10-30",
          "2020-10-31",
          "2020-11-01",
          "2020-11-02",
          "2020-11-03",
          "2020-11-04",
          "2020-11-05",
          "2020-11-06",
          "2020-11-07",
          "2020-11-08",
          "2020-11-09",
          "2020-11-10",
          "2020-11-11",
          "2020-11-12",
          "2020-11-13",
          "2020-11-14",
          "2020-11-15",
          "2020-11-16",
          "2020-11-17",
          "2020-11-18",
          "2020-11-19",
          "2020-11-20",
          "2020-11-21",
          "2020-11-22",
          "2020-11-23",
          "2020-11-24",
          "2020-11-25",
          "2020-11-26",
          "2020-11-27",
          "2020-11-28",
          "2020-11-29",
          "2020-11-30",
          "2020-12-01",
          "2020-12-02",
          "2020-12-03",
          "2020-12-04",
          "2020-12-05",
          "2020-12-06",
          "2020-12-07",
          "2020-12-08",
          "2020-12-09",
          "2020-12-10",
          "2020-12-11",
          "2020-12-12",
          "2020-12-13",
          "2020-12-14",
          "2020-12-15",
          "2020-12-16",
          "2020-12-17",
          "2020-12-18",
          "2020-12-19",
          "2020-12-20",
          "2020-12-21",
          "2020-12-22",
          "2020-12-23",
          "2020-12-24",
          "2020-12-25",
          "2020-12-26",
          "2020-12-27",
          "2020-12-28",
          "2020-12-29",
          "2020-12-30",
          "2020-12-31",
          "2021-01-01",
          "2021-01-02",
          "2021-01-03",
          "2021-01-04",
          "2021-01-05",
          "2021-01-06",
          "2021-01-07",
          "2021-01-08",
          "2021-01-09",
          "2021-01-10",
          "2021-01-11",
          "2021-01-12",
          "2021-01-13",
          "2021-01-14",
          "2021-01-15",
          "2021-01-16",
          "2021-01-17",
          "2021-01-18",
          "2021-01-19",
          "2021-01-20",
          "2021-01-21",
          "2021-01-22",
          "2021-01-23",
          "2021-01-24",
          "2021-01-25",
          "2021-01-26",
          "2021-01-27",
          "2021-01-28",
          "2021-01-29",
          "2021-01-30",
          "2021-01-31",
          "2021-02-01",
          "2021-02-02",
          "2021-02-03",
          "2021-02-04",
          "2021-02-05",
          "2021-02-06",
          "2021-02-07",
          "2021-02-08",
          "2021-02-09",
          "2021-02-10",
          "2021-02-11",
          "2021-02-12",
          "2021-02-13",
          "2021-02-14",
          "2021-02-15",
          "2021-02-16",
          "2021-02-17",
          "2021-02-18",
          "2021-02-19",
          "2021-02-20",
          "2021-02-21",
          "2021-02-22",
          "2021-02-23",
          "2021-02-24",
          "2021-02-25",
          "2021-02-26",
          "2021-02-27",
          "2021-02-28",
          "2021-03-01",
          "2021-03-02",
          "2021-03-03",
          "2021-03-04",
          "2021-03-05",
          "2021-03-06",
          "2021-03-07",
          "2021-03-08",
          "2021-03-09",
          "2021-03-10",
          "2021-03-11",
          "2021-03-12",
          "2021-03-13",
          "2021-03-14",
          "2021-03-15",
          "2021-03-16",
          "2021-03-17",
          "2021-03-18",
          "2021-03-19",
          "2021-03-20",
          "2021-03-21",
          "2021-03-22",
          "2021-03-23",
          "2021-03-24",
          "2021-03-25",
          "2021-03-26",
          "2021-03-27",
          "2021-03-28",
          "2021-03-29",
          "2021-03-30",
          "2021-03-31",
          "2021-04-01",
          "2021-04-02",
          "2021-04-03",
          "2021-04-04",
          "2021-04-05",
          "2021-04-06",
          "2021-04-07",
          "2021-04-08",
          "2021-04-09",
          "2021-04-10",
          "2021-04-11",
          "2021-04-12",
          "2021-04-13",
          "2021-04-14",
          "2021-04-15",
          "2021-04-16",
          "2021-04-17",
          "2021-04-18",
          "2021-04-19",
          "2021-04-20",
          "2021-04-21",
          "2021-04-22",
          "2021-04-23",
          "2021-04-24",
          "2021-04-25",
          "2021-04-26",
          "2021-04-27",
          "2021-04-28",
          "2021-04-29",
          "2021-04-30",
          "2021-05-01",
          "2021-05-02",
          "2021-05-03",
          "2021-05-04",
          "2021-05-05",
          "2021-05-06",
          "2021-05-07",
          "2021-05-08",
          "2021-05-09",
          "2021-05-10",
          "2021-05-11",
          "2021-05-12",
          "2021-05-13",
          "2021-05-14",
          "2021-05-15",
          "2021-05-16",
          "2021-05-17",
          "2021-05-18",
          "2021-05-19",
          "2021-05-20",
          "2021-05-21",
          "2021-05-22",
          "2021-05-23",
          "2021-05-24",
          "2021-05-25",
          "2021-05-26",
          "2021-05-27",
          "2021-05-28",
          "2021-05-29",
          "2021-05-30",
          "2021-05-31",
          "2021-06-01",
          "2021-06-02",
          "2021-06-03",
          "2021-06-04",
          "2021-06-05",
          "2021-06-06",
          "2021-06-07",
          "2021-06-08",
          "2021-06-09",
          "2021-06-10",
          "2021-06-11",
          "2021-06-12",
          "2021-06-13",
          "2021-06-14",
          "2021-06-15",
          "2021-06-16",
          "2021-06-17",
          "2021-06-18",
          "2021-06-19",
          "2021-06-20",
          "2021-06-21",
          "2021-06-22",
          "2021-06-23",
          "2021-06-24",
          "2021-06-25",
          "2021-06-26",
          "2021-06-27",
          "2021-06-28",
          "2021-06-29",
          "2021-06-30",
          "2021-07-01",
          "2021-07-02",
          "2021-07-03",
          "2021-07-04",
          "2021-07-05",
          "2021-07-06",
          "2021-07-07",
          "2021-07-08",
          "2021-07-09",
          "2021-07-10",
          "2021-07-11",
          "2021-07-12",
          "2021-07-13",
          "2021-07-14",
          "2021-07-15",
          "2021-07-16",
          "2021-07-17",
          "2021-07-18",
          "2021-07-19",
          "2021-07-20",
          "2021-07-21",
          "2021-07-22",
          "2021-07-23",
          "2021-07-24",
          "2021-07-25",
          "2021-07-26",
          "2021-07-27",
          "2021-07-28"
         ],
         "y": [
          500,
          165.08999999999997,
          665.0899999999999,
          923.6999999999999,
          923.6999999999999,
          678.6999999999999,
          343.7899999999999,
          843.79,
          623.79,
          578.79,
          325.04999999999995,
          320.55999999999995,
          678.77,
          671.97,
          1139.98,
          716.98,
          709.29,
          650.74,
          416.74,
          335.74,
          368.27,
          263.27,
          243.29,
          194.70999999999998,
          187.60999999999999,
          1129.04,
          831.06,
          342.42999999999995,
          597.53,
          511.53,
          389.99,
          554.48,
          538.49,
          1389.77,
          1229.8,
          1066.31,
          1031.81,
          766.71,
          370.82,
          249.70999999999998,
          110.70999999999998,
          188.40999999999997,
          1183.23,
          902.4300000000001,
          754.26,
          680.31,
          625.42,
          3079.42,
          3030.92,
          3027.14,
          2650.2,
          2583.46,
          2577.08,
          2962.0699999999997,
          3211.5699999999997,
          6167.57,
          5920.21,
          5775.28,
          5761.8,
          5742.34,
          5621.72,
          5465.01,
          5452.12,
          5447.07,
          4323.93,
          4146.59,
          4055.42,
          3044.46,
          2976.9900000000002,
          2888.67,
          2487.87,
          2328.65,
          2878.17,
          2723.12,
          1686.9199999999998,
          881.7899999999998,
          3253.2200000000003,
          908.3700000000003,
          786.4100000000003,
          744.4100000000003,
          682.9100000000003,
          676.9600000000003,
          553.5700000000003,
          385.5400000000003,
          299.38000000000034,
          110.65000000000032,
          600.5700000000004,
          572.3700000000003,
          450.82000000000033,
          537.2500000000003,
          374.57000000000033,
          289.5300000000003,
          203.30000000000032,
          643.3000000000003,
          295.5000000000003,
          683.9700000000003,
          537.4400000000003,
          455.8100000000003,
          347.3600000000003,
          199.8000000000003,
          102.0100000000003,
          207.8900000000003,
          204.1500000000003,
          166.7400000000003,
          89.5900000000003,
          34.5900000000003,
          16.480000000000302,
          108.4900000000003,
          13.490000000000293,
          7.860000000000293,
          4.080000000000293,
          459.08000000000027,
          30.80000000000024,
          276.48000000000025,
          385.68000000000023,
          596.8800000000002,
          647.8400000000003,
          625.4600000000003,
          493.72000000000025,
          383.55000000000024,
          66.11000000000024,
          1977.1600000000003,
          1728.8200000000004,
          1402.3900000000003,
          1350.3200000000004,
          1230.1500000000003,
          1215.1100000000004,
          249.9100000000003,
          97.41000000000031,
          80.41000000000031,
          1703.9100000000003,
          1573.1900000000003,
          1388.0200000000002,
          1338.5200000000002,
          935.8000000000002,
          908.7500000000002,
          150.87000000000023,
          125.87000000000023,
          1761.38,
          1675.2600000000002,
          1038.3700000000003,
          963.5600000000004,
          574.5900000000004,
          45.27000000000032,
          645.2700000000003,
          322.93000000000035,
          217.34000000000034,
          4497.34,
          4200.05,
          1994.75,
          1685.32,
          1364.24,
          1013.55,
          931.6199999999999,
          903.2199999999999,
          804.3599999999999,
          661.4599999999999,
          514.4499999999999,
          356.2199999999999,
          311.2199999999999,
          303.1699999999999,
          134.1099999999999,
          52.3599999999999,
          39.9299999999999,
          1.5399999999998997,
          501.5399999999999,
          137.06999999999988,
          68.04999999999988,
          716.6499999999999,
          249.27999999999986,
          23.889999999999844,
          4312.95,
          4344.849999999999,
          4279.9,
          4105.91,
          3250.47,
          3160.47,
          4923.8099999999995,
          4863.7699999999995,
          1245.6299999999997,
          2634.0399999999995,
          2453.3899999999994,
          1130.7899999999993,
          290.9899999999993,
          137.3799999999993,
          5089.329999999999,
          4973.329999999999,
          4720.059999999999,
          4663.499999999998,
          4207.1399999999985,
          3963.4899999999984,
          3826.9399999999982,
          3596.059999999998,
          3315.759999999998,
          2806.659999999998,
          2165.1699999999983,
          1864.2799999999984,
          1259.6299999999983,
          921.0299999999983,
          153.19999999999823,
          317.29999999999814,
          11609.989999999996,
          2695.3399999999965,
          2240.4699999999966,
          9778.469999999998,
          1780.3399999999974,
          3989.8399999999974,
          255.0099999999975,
          197.45999999999748,
          119.98999999999748,
          17.619999999997475,
          1900.8099999999974,
          1768.3099999999974,
          1519.9199999999973,
          1054.0399999999972,
          1078.3699999999972,
          952.9799999999972,
          439.36999999999716,
          1169.2499999999973,
          1159.8499999999972,
          1154.8499999999972,
          1004.7399999999973,
          854.8499999999973,
          507.00999999999726,
          479.39999999999725,
          465.39999999999725,
          765.3999999999972,
          400.9299999999972,
          383.9299999999972,
          1183.929999999997,
          3983.929999999997,
          943.3999999999969,
          860.4099999999969,
          678.4599999999969,
          670.4699999999968,
          623.2599999999968,
          525.9799999999968,
          416.9999999999968,
          561.4999999999968,
          533.5599999999968,
          467.05999999999676,
          347.00999999999675,
          216.87999999999676,
          94.01999999999676,
          184.01999999999674,
          488.63999999999675,
          109.8199999999967,
          37.49999999999669,
          885.6899999999968,
          932.1299999999967,
          871.8699999999967,
          841.4899999999967,
          749.4699999999967,
          483.4899999999967,
          290.19999999999675,
          3657.7799999999966,
          3576.5999999999967,
          3569.5499999999965,
          1017.3299999999967,
          893.9499999999967,
          850.4699999999967,
          582.0199999999968,
          578.4699999999968,
          476.51999999999686,
          417.3099999999969,
          334.71999999999684,
          300.63999999999686,
          142.88999999999686,
          52.61999999999685,
          218.57999999999686,
          11.579999999996858,
          6.579999999996858,
          136.57999999999686,
          485.0599999999969,
          440.95999999999685,
          438.52999999999685,
          52.179999999996824,
          7.179999999996824,
          397.4299999999968,
          376.5099999999968,
          231.05999999999682,
          70.43999999999681,
          3037.789999999997,
          85.37999999999693,
          13.49999999999693,
          60.48999999999693,
          52.49999999999693,
          46.89999999999693,
          -2.9000000000030752,
          47.099999999996925,
          89.24999999999692,
          48.29999999999691,
          228.2999999999969,
          66.29999999999691,
          9.31999999999691,
          17.31999999999691,
          3.3199999999969094,
          503.3199999999969,
          18.95999999999691,
          581.2699999999968,
          528.0599999999968,
          522.0599999999968,
          318.98999999999677,
          193.63999999999675,
          45.87999999999673,
          32.12999999999673,
          618.3699999999967,
          3171.8199999999965,
          104.63999999999623,
          31.61999999999624,
          34.47999999999624,
          1.5099999999962392,
          163.50999999999624,
          151.50999999999624,
          30.959999999996242,
          47.79999999999622,
          3.49999999999622,
          1294.6999999999962,
          2394.0999999999963,
          2394.0999999999963,
          2228.299999999996,
          3028.299999999996,
          3012.029999999996,
          3509.929999999996,
          467.6999999999962,
          438.1299999999962,
          376.5799999999962,
          287.6899999999962,
          30.379999999996187,
          22.389999999996185,
          122.38999999999618,
          45.61999999999618,
          40.01999999999618,
          74.41999999999618,
          4.189999999996175,
          42.189999999996175,
          12.989999999996176,
          112.98999999999617,
          275.3299999999962,
          553.8299999999962,
          46.30999999999614,
          399.29999999999615,
          3260.4099999999958,
          3723.9699999999957,
          3699.9699999999957,
          3622.9599999999955,
          3607.2699999999954,
          3591.9999999999955,
          967.2899999999954,
          828.2799999999954,
          699.2299999999955,
          671.7799999999954,
          551.1599999999954,
          415.9399999999954,
          410.9499999999954,
          395.7699999999954,
          350.28999999999536,
          168.09999999999536,
          86.86999999999536,
          69.86999999999536,
          73.81999999999536,
          16.419999999995362,
          2421.3799999999956,
          2056.9099999999953,
          1967.5399999999954,
          1962.6399999999953,
          1870.8199999999954,
          1825.4299999999953,
          1808.6399999999953,
          2912.1299999999956,
          2927.1199999999953,
          2827.3799999999956,
          2793.1999999999957,
          2650.749999999996,
          2890.119999999996,
          190.0599999999963,
          105.7499999999963,
          8.799999999996302,
          5.9999999999963025,
          82.3599999999963,
          111.9999999999963,
          71.2299999999963,
          336.50999999999624,
          62.10999999999626,
          48.82999999999626,
          3.829999999996261,
          183.69999999999627,
          218.79999999999626,
          161.69999999999627,
          156.85999999999626,
          391.6999999999963,
          20.949999999996294,
          9.239999999996293,
          2177.779999999996,
          2165.029999999996,
          3548.519999999996,
          3390.7399999999957,
          3231.3599999999956,
          2950.6999999999957,
          3419.9699999999957,
          577.2099999999955,
          500.0799999999955,
          343.1299999999955,
          337.6299999999955,
          301.1199999999955,
          261.4499999999955,
          108.89999999999549,
          218.8999999999955,
          223.8999999999955,
          95.72999999999547,
          88.22999999999547,
          57.29999999999547,
          62.389999999995474,
          2.9399999999954716,
          13.039999999995466,
          2.539999999995466,
          1657.5399999999954,
          1145.1599999999953,
          1046.1899999999953,
          787.9099999999953,
          607.6599999999953,
          577.6699999999953,
          470.7499999999953,
          425.7499999999953,
          2834.6399999999953,
          436.2899999999954,
          410.50999999999544,
          394.56999999999545,
          383.11999999999546,
          322.86999999999546,
          316.47999999999547,
          259.5799999999955,
          201.0199999999955,
          145.2699999999955,
          57.639999999995496,
          9.359999999995495,
          209.3599999999955,
          1930.5499999999956,
          1756.1199999999956,
          1098.6899999999955,
          1090.0799999999956,
          867.6199999999956,
          759.0999999999956,
          601.2299999999956,
          233.25999999999556,
          220.25999999999556,
          116.51999999999556,
          375.82999999999555,
          248.87999999999556,
          248.87999999999556,
          111.16999999999555,
          810.6599999999955,
          657.1199999999956,
          744.0799999999956,
          553.4399999999956,
          527.0799999999956,
          517.0799999999956,
          433.8399999999956,
          272.4899999999956,
          254.11999999999557,
          95.95999999999555,
          85.45999999999555,
          189.48999999999555,
          141.83999999999554,
          102.08999999999554,
          38.429999999995545,
          231.07999999999555,
          109.71999999999554,
          125.51999999999553,
          122.51999999999553,
          577.5199999999955,
          213.04999999999552,
          101.30999999999553,
          87.50999999999553,
          47.569999999995545,
          149.93999999999554,
          144.93999999999554,
          16.119999999995542,
          351.8499999999956,
          107.9699999999956,
          227.9699999999956,
          34.63999999999558,
          1851.0099999999954,
          1900.1299999999953,
          1851.5099999999954,
          1696.3599999999954,
          1046.8499999999954,
          938.7999999999954,
          893.7999999999954,
          830.8699999999955,
          822.8899999999954,
          525.2099999999955,
          425.6299999999955,
          203.6899999999955,
          93.20999999999552,
          724.3099999999955,
          593.2699999999955,
          549.4799999999956,
          850.6899999999956,
          282.5899999999956,
          375.7299999999956,
          310.0699999999956,
          89.56999999999562,
          766.2999999999956,
          574.9199999999956,
          562.1099999999957,
          381.5899999999957,
          2337.039999999996,
          1310.9099999999958,
          1249.6699999999958,
          1211.4099999999958,
          1191.3399999999958,
          1073.0999999999958,
          963.5099999999958,
          366.2199999999958,
          325.69999999999584,
          240.74999999999585,
          945.4299999999957,
          541.4399999999957,
          472.93999999999573,
          373.86999999999574,
          254.13999999999575,
          186.36999999999574,
          75.11999999999573,
          72.11999999999573,
          20.769999999995726,
          953.7099999999958,
          941.9299999999959,
          564.8899999999958,
          544.6899999999957,
          386.99999999999574,
          234.29999999999575,
          167.83999999999574,
          32.72999999999573,
          312.41999999999575,
          295.43999999999573,
          232.00999999999573,
          753.7499999999957,
          671.3999999999957,
          3635.9199999999955,
          488.69999999999527,
          421.83999999999526,
          262.0499999999953,
          193.30999999999528,
          111.13999999999528,
          1033.3999999999953,
          990.0499999999953,
          951.7199999999953,
          839.5399999999953,
          781.0799999999953,
          630.0099999999952,
          328.3999999999952,
          311.3999999999952,
          260.7099999999952,
          516.1599999999952,
          7.749999999995168,
          495.07999999999515,
          483.94999999999516,
          385.3699999999952,
          350.9699999999952,
          993.8699999999951,
          865.8499999999951,
          1378.5399999999952,
          1361.2999999999952,
          1346.1099999999951,
          5129.369999999995,
          2181.259999999995,
          2169.0599999999954,
          2133.6399999999953,
          1861.8999999999953,
          1682.7199999999953,
          1677.7299999999952,
          1222.3199999999952,
          1107.179999999995,
          1067.729999999995,
          970.959999999995,
          958.6599999999951,
          881.2799999999951,
          710.959999999995,
          575.709999999995,
          515.509999999995,
          490.499999999995,
          399.629999999995,
          199.239999999995,
          194.25999999999502,
          67.53999999999499,
          53.28999999999499,
          201.379999999995,
          132.76999999999498,
          84.96999999999498,
          12.709999999994977,
          180.70999999999498,
          216.71999999999497,
          486.79999999999495,
          2590.029999999995,
          2487.829999999995,
          2459.109999999995,
          2413.829999999995,
          2249.229999999995,
          2207.249999999995,
          2105.599999999995,
          2011.9599999999948,
          1486.6099999999947,
          1323.4499999999946,
          1101.2199999999946,
          1058.4199999999946,
          876.2699999999946,
          729.3199999999947,
          607.9999999999948,
          541.6999999999948,
          436.2799999999948,
          256.87999999999477,
          177.62999999999477,
          168.13999999999476,
          145.21999999999477,
          204.57999999999475,
          525.5199999999948,
          461.2399999999948,
          319.40999999999474,
          204.47999999999473,
          62.079999999994726,
          10.749999999994728,
          772.6199999999948,
          566.3199999999947,
          1386.1699999999946,
          1306.8399999999947,
          5244.599999999995,
          2361.969999999995,
          2287.139999999995,
          2226.1299999999947,
          1891.9399999999946,
          1836.9099999999946,
          1553.2199999999946,
          1515.7499999999945,
          1220.7299999999946,
          1155.6599999999946,
          1081.4899999999946,
          887.0699999999945,
          816.7199999999945,
          751.2399999999944,
          719.9299999999944,
          651.0999999999943,
          580.7799999999943,
          559.4299999999943,
          504.8999999999943,
          289.43999999999426,
          212.18999999999426,
          632.9299999999943,
          133.05999999999426,
          86.00999999999426,
          23.339999999994262,
          499.46999999999434,
          202.34999999999434,
          13.34999999999431,
          5.09999999999431,
          1068.229999999994,
          3377.249999999994,
          2441.829999999994,
          2389.239999999994,
          2298.3799999999937,
          2004.6699999999937,
          1999.6799999999937,
          1584.3299999999936,
          1348.9799999999937,
          1311.0999999999935,
          1145.9599999999934,
          970.2499999999934,
          918.3499999999934,
          674.7999999999934,
          441.1399999999934,
          409.1899999999934,
          357.0899999999934,
          84.9999999999934,
          63.50999999999341,
          786.4599999999934,
          628.5799999999934,
          28.389999999993393,
          20.92999999999339,
          5.329999999993392,
          246.89999999999338,
          229.11999999999338,
          251.61999999999338,
          207.83999999999338,
          202.00999999999337,
          57.20999999999336,
          440.8999999999934,
          393.6399999999934,
          391.6499999999934,
          205.71999999999338,
          3377.7299999999937,
          415.8199999999938,
          395.0199999999938,
          686.2699999999938,
          290.76999999999384,
          54.43999999999386,
          164.11999999999387,
          275.9199999999939,
          40.81999999999388,
          6.5799999999938805,
          169.10999999999387,
          64.84999999999387,
          111.98999999999387,
          40.29999999999387,
          20.049999999993872,
          -0.09000000000612829,
          77.73999999999387,
          213.7499999999939,
          216.71999999999383,
          170.9899999999938,
          73.92999999999381,
          45.17999999999381,
          8.929999999993811,
          6.5299999999938105,
          934.8399999999938,
          769.9799999999938,
          821.1699999999938,
          974.2499999999939,
          6226.829999999994,
          2159.8999999999937,
          2087.1699999999937,
          2057.279999999994,
          1836.959999999994,
          2042.159999999994,
          2023.679999999994,
          2461.339999999994,
          2606.5399999999936,
          2872.6299999999937,
          2647.589999999994,
          3368.6199999999935,
          2918.3999999999933,
          2880.3999999999933,
          2736.3999999999933,
          2710.3999999999933,
          2665.999999999993,
          2605.999999999993,
          2422.999999999993,
          2360.999999999993,
          2282.999999999993,
          2066.999999999993,
          886.8999999999933,
          755.8999999999933,
          618.6599999999933,
          542.1299999999933,
          2444.979999999993,
          2357.979999999993,
          2301.979999999993,
          2931.219999999993,
          2876.219999999993,
          2783.999999999993,
          2765.999999999993,
          2636.999999999993,
          2525.999999999993,
          2471.999999999993,
          2203.7999999999934,
          2041.2999999999934,
          1805.9999999999934,
          1548.9999999999934,
          1462.9999999999934,
          1337.9999999999934,
          816.9999999999934,
          805.1999999999935,
          659.1999999999935,
          598.1999999999935,
          573.1999999999935,
          387.19999999999345,
          230.14999999999344,
          488.14999999999344,
          7.07999999999339,
          121.07999999999339,
          90.17999999999338,
          86.99999999999336,
          998.9999999999934,
          779.9999999999934,
          601.9999999999934,
          412.6999999999934,
          387.6999999999934,
          1353.6999999999935,
          1222.8599999999933,
          1186.8499999999933,
          1081.6499999999933,
          1038.6499999999933,
          887.6499999999933,
          455.9999999999933,
          401.9999999999933,
          154.7999999999933,
          103.0999999999933,
          56.0999999999933,
          517.0999999999933,
          182.9999999999933,
          149.9999999999933,
          80.99999999999329,
          129.9999999999933,
          93.3999999999933,
          88.3999999999933,
          64.3999999999933,
          31.5999999999933,
          463.5999999999933,
          521.1299999999933,
          258.6299999999933,
          171.9999999999933,
          57.99999999999328,
          203.9999999999933,
          151.9999999999933,
          137.2999999999933,
          620.2999999999934,
          340.18999999999335,
          173.58999999999335,
          72.90999999999335,
          0.45999999999334307,
          5129.459999999994,
          2011.9999999999936,
          1928.1999999999937,
          1570.2099999999937,
          1534.2099999999937,
          1380.1099999999938,
          1347.1099999999938,
          975.6499999999937,
          689.1099999999938,
          541.6099999999938,
          489.99999999999375,
          437.99999999999375,
          360.99999999999375,
          189.99999999999375,
          86.99999999999375,
          705.2999999999938,
          641.9999999999939,
          507.99999999999386,
          1306.079999999994,
          1089.079999999994,
          660.079999999994,
          442.079999999994,
          302.999999999994,
          296.999999999994,
          410.999999999994,
          47.999999999993975,
          446.999999999994,
          245.99999999999397,
          4229.319999999993,
          788.4799999999932,
          696.4799999999932,
          1272.9999999999932,
          1235.9999999999932,
          1123.4999999999932,
          945.4999999999932,
          549.4999999999932,
          469.4999999999932,
          269.4999999999932,
          250.33999999999318,
          258.7499999999932,
          188.74999999999318,
          170.5499999999932,
          137.4499999999932,
          530.4499999999932,
          485.4499999999932,
          473.4499999999932,
          380.4499999999932,
          229.44999999999322,
          828.9499999999932,
          174.14999999999316,
          138.44999999999317,
          117.00999999999317,
          103.75999999999317,
          103.75999999999317,
          175.75999999999317,
          52.75999999999317,
          77.4799999999932,
          61.4799999999932,
          1158.4799999999932,
          1791.999999999993,
          1674.3499999999929,
          1287.3499999999929,
          1080.3499999999929,
          992.3499999999929,
          818.9999999999928,
          1143.9999999999927,
          672.9999999999927,
          402.9999999999927,
          868.9999999999927,
          816.9999999999927,
          574.9999999999927,
          502.3999999999927,
          262.3999999999927,
          24.3999999999927,
          643.5199999999927,
          573.5199999999927,
          482.9999999999927,
          383.6499999999927,
          615.6499999999927,
          379.07999999999265,
          56.99999999999267,
          50.99999999999267,
          119.99999999999267,
          91.99999999999267,
          64.19999999999267,
          35.19999999999267,
          949.1999999999927
         ]
        }
       ],
       "layout": {
        "hovermode": "x unified",
        "template": {
         "data": {
          "bar": [
           {
            "error_x": {
             "color": "#2a3f5f"
            },
            "error_y": {
             "color": "#2a3f5f"
            },
            "marker": {
             "line": {
              "color": "#E5ECF6",
              "width": 0.5
             },
             "pattern": {
              "fillmode": "overlay",
              "size": 10,
              "solidity": 0.2
             }
            },
            "type": "bar"
           }
          ],
          "barpolar": [
           {
            "marker": {
             "line": {
              "color": "#E5ECF6",
              "width": 0.5
             },
             "pattern": {
              "fillmode": "overlay",
              "size": 10,
              "solidity": 0.2
             }
            },
            "type": "barpolar"
           }
          ],
          "carpet": [
           {
            "aaxis": {
             "endlinecolor": "#2a3f5f",
             "gridcolor": "white",
             "linecolor": "white",
             "minorgridcolor": "white",
             "startlinecolor": "#2a3f5f"
            },
            "baxis": {
             "endlinecolor": "#2a3f5f",
             "gridcolor": "white",
             "linecolor": "white",
             "minorgridcolor": "white",
             "startlinecolor": "#2a3f5f"
            },
            "type": "carpet"
           }
          ],
          "choropleth": [
           {
            "colorbar": {
             "outlinewidth": 0,
             "ticks": ""
            },
            "type": "choropleth"
           }
          ],
          "contour": [
           {
            "colorbar": {
             "outlinewidth": 0,
             "ticks": ""
            },
            "colorscale": [
             [
              0,
              "#0d0887"
             ],
             [
              0.1111111111111111,
              "#46039f"
             ],
             [
              0.2222222222222222,
              "#7201a8"
             ],
             [
              0.3333333333333333,
              "#9c179e"
             ],
             [
              0.4444444444444444,
              "#bd3786"
             ],
             [
              0.5555555555555556,
              "#d8576b"
             ],
             [
              0.6666666666666666,
              "#ed7953"
             ],
             [
              0.7777777777777778,
              "#fb9f3a"
             ],
             [
              0.8888888888888888,
              "#fdca26"
             ],
             [
              1,
              "#f0f921"
             ]
            ],
            "type": "contour"
           }
          ],
          "contourcarpet": [
           {
            "colorbar": {
             "outlinewidth": 0,
             "ticks": ""
            },
            "type": "contourcarpet"
           }
          ],
          "heatmap": [
           {
            "colorbar": {
             "outlinewidth": 0,
             "ticks": ""
            },
            "colorscale": [
             [
              0,
              "#0d0887"
             ],
             [
              0.1111111111111111,
              "#46039f"
             ],
             [
              0.2222222222222222,
              "#7201a8"
             ],
             [
              0.3333333333333333,
              "#9c179e"
             ],
             [
              0.4444444444444444,
              "#bd3786"
             ],
             [
              0.5555555555555556,
              "#d8576b"
             ],
             [
              0.6666666666666666,
              "#ed7953"
             ],
             [
              0.7777777777777778,
              "#fb9f3a"
             ],
             [
              0.8888888888888888,
              "#fdca26"
             ],
             [
              1,
              "#f0f921"
             ]
            ],
            "type": "heatmap"
           }
          ],
          "heatmapgl": [
           {
            "colorbar": {
             "outlinewidth": 0,
             "ticks": ""
            },
            "colorscale": [
             [
              0,
              "#0d0887"
             ],
             [
              0.1111111111111111,
              "#46039f"
             ],
             [
              0.2222222222222222,
              "#7201a8"
             ],
             [
              0.3333333333333333,
              "#9c179e"
             ],
             [
              0.4444444444444444,
              "#bd3786"
             ],
             [
              0.5555555555555556,
              "#d8576b"
             ],
             [
              0.6666666666666666,
              "#ed7953"
             ],
             [
              0.7777777777777778,
              "#fb9f3a"
             ],
             [
              0.8888888888888888,
              "#fdca26"
             ],
             [
              1,
              "#f0f921"
             ]
            ],
            "type": "heatmapgl"
           }
          ],
          "histogram": [
           {
            "marker": {
             "pattern": {
              "fillmode": "overlay",
              "size": 10,
              "solidity": 0.2
             }
            },
            "type": "histogram"
           }
          ],
          "histogram2d": [
           {
            "colorbar": {
             "outlinewidth": 0,
             "ticks": ""
            },
            "colorscale": [
             [
              0,
              "#0d0887"
             ],
             [
              0.1111111111111111,
              "#46039f"
             ],
             [
              0.2222222222222222,
              "#7201a8"
             ],
             [
              0.3333333333333333,
              "#9c179e"
             ],
             [
              0.4444444444444444,
              "#bd3786"
             ],
             [
              0.5555555555555556,
              "#d8576b"
             ],
             [
              0.6666666666666666,
              "#ed7953"
             ],
             [
              0.7777777777777778,
              "#fb9f3a"
             ],
             [
              0.8888888888888888,
              "#fdca26"
             ],
             [
              1,
              "#f0f921"
             ]
            ],
            "type": "histogram2d"
           }
          ],
          "histogram2dcontour": [
           {
            "colorbar": {
             "outlinewidth": 0,
             "ticks": ""
            },
            "colorscale": [
             [
              0,
              "#0d0887"
             ],
             [
              0.1111111111111111,
              "#46039f"
             ],
             [
              0.2222222222222222,
              "#7201a8"
             ],
             [
              0.3333333333333333,
              "#9c179e"
             ],
             [
              0.4444444444444444,
              "#bd3786"
             ],
             [
              0.5555555555555556,
              "#d8576b"
             ],
             [
              0.6666666666666666,
              "#ed7953"
             ],
             [
              0.7777777777777778,
              "#fb9f3a"
             ],
             [
              0.8888888888888888,
              "#fdca26"
             ],
             [
              1,
              "#f0f921"
             ]
            ],
            "type": "histogram2dcontour"
           }
          ],
          "mesh3d": [
           {
            "colorbar": {
             "outlinewidth": 0,
             "ticks": ""
            },
            "type": "mesh3d"
           }
          ],
          "parcoords": [
           {
            "line": {
             "colorbar": {
              "outlinewidth": 0,
              "ticks": ""
             }
            },
            "type": "parcoords"
           }
          ],
          "pie": [
           {
            "automargin": true,
            "type": "pie"
           }
          ],
          "scatter": [
           {
            "marker": {
             "colorbar": {
              "outlinewidth": 0,
              "ticks": ""
             }
            },
            "type": "scatter"
           }
          ],
          "scatter3d": [
           {
            "line": {
             "colorbar": {
              "outlinewidth": 0,
              "ticks": ""
             }
            },
            "marker": {
             "colorbar": {
              "outlinewidth": 0,
              "ticks": ""
             }
            },
            "type": "scatter3d"
           }
          ],
          "scattercarpet": [
           {
            "marker": {
             "colorbar": {
              "outlinewidth": 0,
              "ticks": ""
             }
            },
            "type": "scattercarpet"
           }
          ],
          "scattergeo": [
           {
            "marker": {
             "colorbar": {
              "outlinewidth": 0,
              "ticks": ""
             }
            },
            "type": "scattergeo"
           }
          ],
          "scattergl": [
           {
            "marker": {
             "colorbar": {
              "outlinewidth": 0,
              "ticks": ""
             }
            },
            "type": "scattergl"
           }
          ],
          "scattermapbox": [
           {
            "marker": {
             "colorbar": {
              "outlinewidth": 0,
              "ticks": ""
             }
            },
            "type": "scattermapbox"
           }
          ],
          "scatterpolar": [
           {
            "marker": {
             "colorbar": {
              "outlinewidth": 0,
              "ticks": ""
             }
            },
            "type": "scatterpolar"
           }
          ],
          "scatterpolargl": [
           {
            "marker": {
             "colorbar": {
              "outlinewidth": 0,
              "ticks": ""
             }
            },
            "type": "scatterpolargl"
           }
          ],
          "scatterternary": [
           {
            "marker": {
             "colorbar": {
              "outlinewidth": 0,
              "ticks": ""
             }
            },
            "type": "scatterternary"
           }
          ],
          "surface": [
           {
            "colorbar": {
             "outlinewidth": 0,
             "ticks": ""
            },
            "colorscale": [
             [
              0,
              "#0d0887"
             ],
             [
              0.1111111111111111,
              "#46039f"
             ],
             [
              0.2222222222222222,
              "#7201a8"
             ],
             [
              0.3333333333333333,
              "#9c179e"
             ],
             [
              0.4444444444444444,
              "#bd3786"
             ],
             [
              0.5555555555555556,
              "#d8576b"
             ],
             [
              0.6666666666666666,
              "#ed7953"
             ],
             [
              0.7777777777777778,
              "#fb9f3a"
             ],
             [
              0.8888888888888888,
              "#fdca26"
             ],
             [
              1,
              "#f0f921"
             ]
            ],
            "type": "surface"
           }
          ],
          "table": [
           {
            "cells": {
             "fill": {
              "color": "#EBF0F8"
             },
             "line": {
              "color": "white"
             }
            },
            "header": {
             "fill": {
              "color": "#C8D4E3"
             },
             "line": {
              "color": "white"
             }
            },
            "type": "table"
           }
          ]
         },
         "layout": {
          "annotationdefaults": {
           "arrowcolor": "#2a3f5f",
           "arrowhead": 0,
           "arrowwidth": 1
          },
          "autotypenumbers": "strict",
          "coloraxis": {
           "colorbar": {
            "outlinewidth": 0,
            "ticks": ""
           }
          },
          "colorscale": {
           "diverging": [
            [
             0,
             "#8e0152"
            ],
            [
             0.1,
             "#c51b7d"
            ],
            [
             0.2,
             "#de77ae"
            ],
            [
             0.3,
             "#f1b6da"
            ],
            [
             0.4,
             "#fde0ef"
            ],
            [
             0.5,
             "#f7f7f7"
            ],
            [
             0.6,
             "#e6f5d0"
            ],
            [
             0.7,
             "#b8e186"
            ],
            [
             0.8,
             "#7fbc41"
            ],
            [
             0.9,
             "#4d9221"
            ],
            [
             1,
             "#276419"
            ]
           ],
           "sequential": [
            [
             0,
             "#0d0887"
            ],
            [
             0.1111111111111111,
             "#46039f"
            ],
            [
             0.2222222222222222,
             "#7201a8"
            ],
            [
             0.3333333333333333,
             "#9c179e"
            ],
            [
             0.4444444444444444,
             "#bd3786"
            ],
            [
             0.5555555555555556,
             "#d8576b"
            ],
            [
             0.6666666666666666,
             "#ed7953"
            ],
            [
             0.7777777777777778,
             "#fb9f3a"
            ],
            [
             0.8888888888888888,
             "#fdca26"
            ],
            [
             1,
             "#f0f921"
            ]
           ],
           "sequentialminus": [
            [
             0,
             "#0d0887"
            ],
            [
             0.1111111111111111,
             "#46039f"
            ],
            [
             0.2222222222222222,
             "#7201a8"
            ],
            [
             0.3333333333333333,
             "#9c179e"
            ],
            [
             0.4444444444444444,
             "#bd3786"
            ],
            [
             0.5555555555555556,
             "#d8576b"
            ],
            [
             0.6666666666666666,
             "#ed7953"
            ],
            [
             0.7777777777777778,
             "#fb9f3a"
            ],
            [
             0.8888888888888888,
             "#fdca26"
            ],
            [
             1,
             "#f0f921"
            ]
           ]
          },
          "colorway": [
           "#636efa",
           "#EF553B",
           "#00cc96",
           "#ab63fa",
           "#FFA15A",
           "#19d3f3",
           "#FF6692",
           "#B6E880",
           "#FF97FF",
           "#FECB52"
          ],
          "font": {
           "color": "#2a3f5f"
          },
          "geo": {
           "bgcolor": "white",
           "lakecolor": "white",
           "landcolor": "#E5ECF6",
           "showlakes": true,
           "showland": true,
           "subunitcolor": "white"
          },
          "hoverlabel": {
           "align": "left"
          },
          "hovermode": "closest",
          "mapbox": {
           "style": "light"
          },
          "paper_bgcolor": "white",
          "plot_bgcolor": "#E5ECF6",
          "polar": {
           "angularaxis": {
            "gridcolor": "white",
            "linecolor": "white",
            "ticks": ""
           },
           "bgcolor": "#E5ECF6",
           "radialaxis": {
            "gridcolor": "white",
            "linecolor": "white",
            "ticks": ""
           }
          },
          "scene": {
           "xaxis": {
            "backgroundcolor": "#E5ECF6",
            "gridcolor": "white",
            "gridwidth": 2,
            "linecolor": "white",
            "showbackground": true,
            "ticks": "",
            "zerolinecolor": "white"
           },
           "yaxis": {
            "backgroundcolor": "#E5ECF6",
            "gridcolor": "white",
            "gridwidth": 2,
            "linecolor": "white",
            "showbackground": true,
            "ticks": "",
            "zerolinecolor": "white"
           },
           "zaxis": {
            "backgroundcolor": "#E5ECF6",
            "gridcolor": "white",
            "gridwidth": 2,
            "linecolor": "white",
            "showbackground": true,
            "ticks": "",
            "zerolinecolor": "white"
           }
          },
          "shapedefaults": {
           "line": {
            "color": "#2a3f5f"
           }
          },
          "ternary": {
           "aaxis": {
            "gridcolor": "white",
            "linecolor": "white",
            "ticks": ""
           },
           "baxis": {
            "gridcolor": "white",
            "linecolor": "white",
            "ticks": ""
           },
           "bgcolor": "#E5ECF6",
           "caxis": {
            "gridcolor": "white",
            "linecolor": "white",
            "ticks": ""
           }
          },
          "title": {
           "x": 0.05
          },
          "xaxis": {
           "automargin": true,
           "gridcolor": "white",
           "linecolor": "white",
           "ticks": "",
           "title": {
            "standoff": 15
           },
           "zerolinecolor": "white",
           "zerolinewidth": 2
          },
          "yaxis": {
           "automargin": true,
           "gridcolor": "white",
           "linecolor": "white",
           "ticks": "",
           "title": {
            "standoff": 15
           },
           "zerolinecolor": "white",
           "zerolinewidth": 2
          }
         }
        },
        "title": {
         "text": "Net Worth Over Time"
        },
        "xaxis": {
         "tickangle": 45,
         "title": {
          "text": "Date"
         }
        },
        "yaxis": {
         "title": {
          "text": "Net Worth (£)"
         }
        }
       }
      },
      "text/html": [
       "<div>                            <div id=\"74d08b5b-3543-489d-96b3-9cbeba7ef90b\" class=\"plotly-graph-div\" style=\"height:525px; width:100%;\"></div>            <script type=\"text/javascript\">                require([\"plotly\"], function(Plotly) {                    window.PLOTLYENV=window.PLOTLYENV || {};                                    if (document.getElementById(\"74d08b5b-3543-489d-96b3-9cbeba7ef90b\")) {                    Plotly.newPlot(                        \"74d08b5b-3543-489d-96b3-9cbeba7ef90b\",                        [{\"type\":\"scatter\",\"x\":[\"2018-09-19\",\"2018-10-26\",\"2018-11-01\",\"2018-11-10\",\"2018-11-19\",\"2018-11-20\",\"2018-11-23\",\"2018-11-24\",\"2018-11-26\",\"2018-11-27\",\"2018-11-28\",\"2018-11-29\",\"2018-11-30\",\"2018-12-01\",\"2018-12-02\",\"2018-12-03\",\"2018-12-04\",\"2018-12-05\",\"2018-12-06\",\"2018-12-07\",\"2018-12-08\",\"2018-12-09\",\"2018-12-10\",\"2018-12-11\",\"2018-12-12\",\"2018-12-14\",\"2018-12-15\",\"2018-12-16\",\"2018-12-17\",\"2018-12-18\",\"2018-12-19\",\"2018-12-20\",\"2018-12-21\",\"2018-12-22\",\"2018-12-23\",\"2018-12-24\",\"2018-12-26\",\"2018-12-27\",\"2018-12-28\",\"2018-12-29\",\"2018-12-30\",\"2018-12-31\",\"2019-01-01\",\"2019-01-02\",\"2019-01-03\",\"2019-01-04\",\"2019-01-06\",\"2019-01-08\",\"2019-01-09\",\"2019-01-10\",\"2019-01-11\",\"2019-01-12\",\"2019-01-13\",\"2019-01-14\",\"2019-01-15\",\"2019-01-16\",\"2019-01-17\",\"2019-01-18\",\"2019-01-19\",\"2019-01-20\",\"2019-01-22\",\"2019-01-23\",\"2019-01-24\",\"2019-01-25\",\"2019-01-26\",\"2019-01-27\",\"2019-01-28\",\"2019-01-29\",\"2019-01-30\",\"2019-01-31\",\"2019-02-01\",\"2019-02-02\",\"2019-02-03\",\"2019-02-04\",\"2019-02-05\",\"2019-02-06\",\"2019-02-07\",\"2019-02-08\",\"2019-02-09\",\"2019-02-10\",\"2019-02-11\",\"2019-02-13\",\"2019-02-14\",\"2019-02-15\",\"2019-02-16\",\"2019-02-17\",\"2019-02-18\",\"2019-02-19\",\"2019-02-20\",\"2019-02-21\",\"2019-02-22\",\"2019-02-23\",\"2019-02-24\",\"2019-02-26\",\"2019-02-27\",\"2019-02-28\",\"2019-03-01\",\"2019-03-02\",\"2019-03-03\",\"2019-03-04\",\"2019-03-06\",\"2019-03-07\",\"2019-03-08\",\"2019-03-09\",\"2019-03-10\",\"2019-03-11\",\"2019-03-13\",\"2019-03-14\",\"2019-03-15\",\"2019-03-18\",\"2019-03-19\",\"2019-03-20\",\"2019-03-21\",\"2019-03-22\",\"2019-03-23\",\"2019-03-24\",\"2019-03-26\",\"2019-03-27\",\"2019-03-28\",\"2019-03-29\",\"2019-03-30\",\"2019-03-31\",\"2019-04-01\",\"2019-04-03\",\"2019-04-04\",\"2019-04-05\",\"2019-04-06\",\"2019-04-07\",\"2019-04-08\",\"2019-04-09\",\"2019-04-10\",\"2019-04-11\",\"2019-04-12\",\"2019-04-13\",\"2019-04-14\",\"2019-04-15\",\"2019-04-16\",\"2019-04-17\",\"2019-04-18\",\"2019-04-19\",\"2019-04-20\",\"2019-04-21\",\"2019-04-23\",\"2019-04-24\",\"2019-04-25\",\"2019-04-26\",\"2019-04-28\",\"2019-04-29\",\"2019-04-30\",\"2019-05-01\",\"2019-05-02\",\"2019-05-03\",\"2019-05-04\",\"2019-05-05\",\"2019-05-08\",\"2019-05-09\",\"2019-05-10\",\"2019-05-11\",\"2019-05-12\",\"2019-05-13\",\"2019-05-14\",\"2019-05-15\",\"2019-05-16\",\"2019-05-17\",\"2019-05-18\",\"2019-05-20\",\"2019-05-21\",\"2019-05-22\",\"2019-05-23\",\"2019-05-24\",\"2019-05-25\",\"2019-05-26\",\"2019-05-27\",\"2019-05-28\",\"2019-05-29\",\"2019-05-30\",\"2019-05-31\",\"2019-06-01\",\"2019-06-02\",\"2019-06-03\",\"2019-06-04\",\"2019-06-05\",\"2019-06-06\",\"2019-06-07\",\"2019-06-08\",\"2019-06-09\",\"2019-06-10\",\"2019-06-11\",\"2019-06-12\",\"2019-06-13\",\"2019-06-14\",\"2019-06-15\",\"2019-06-16\",\"2019-06-17\",\"2019-06-18\",\"2019-06-19\",\"2019-06-20\",\"2019-06-21\",\"2019-06-22\",\"2019-06-23\",\"2019-06-24\",\"2019-06-25\",\"2019-06-26\",\"2019-06-27\",\"2019-06-28\",\"2019-06-29\",\"2019-06-30\",\"2019-07-01\",\"2019-07-02\",\"2019-07-03\",\"2019-07-04\",\"2019-07-05\",\"2019-07-06\",\"2019-07-07\",\"2019-07-08\",\"2019-07-09\",\"2019-07-10\",\"2019-07-11\",\"2019-07-12\",\"2019-07-13\",\"2019-07-14\",\"2019-07-15\",\"2019-07-16\",\"2019-07-17\",\"2019-07-19\",\"2019-07-20\",\"2019-07-21\",\"2019-07-22\",\"2019-07-25\",\"2019-07-28\",\"2019-07-31\",\"2019-08-01\",\"2019-08-05\",\"2019-08-07\",\"2019-08-08\",\"2019-08-09\",\"2019-08-10\",\"2019-08-11\",\"2019-08-12\",\"2019-08-14\",\"2019-08-15\",\"2019-08-16\",\"2019-08-17\",\"2019-08-18\",\"2019-08-19\",\"2019-08-20\",\"2019-08-21\",\"2019-08-22\",\"2019-08-23\",\"2019-08-24\",\"2019-08-25\",\"2019-08-26\",\"2019-08-27\",\"2019-08-28\",\"2019-08-29\",\"2019-08-30\",\"2019-08-31\",\"2019-09-01\",\"2019-09-02\",\"2019-09-04\",\"2019-09-05\",\"2019-09-06\",\"2019-09-07\",\"2019-09-08\",\"2019-09-10\",\"2019-09-11\",\"2019-09-12\",\"2019-09-13\",\"2019-09-14\",\"2019-09-15\",\"2019-09-16\",\"2019-09-18\",\"2019-09-19\",\"2019-09-20\",\"2019-09-21\",\"2019-09-22\",\"2019-09-23\",\"2019-09-24\",\"2019-09-25\",\"2019-09-26\",\"2019-09-27\",\"2019-09-29\",\"2019-09-30\",\"2019-10-01\",\"2019-10-02\",\"2019-10-03\",\"2019-10-07\",\"2019-10-08\",\"2019-10-09\",\"2019-10-10\",\"2019-10-11\",\"2019-10-13\",\"2019-10-14\",\"2019-10-15\",\"2019-10-16\",\"2019-10-17\",\"2019-10-18\",\"2019-10-20\",\"2019-10-21\",\"2019-10-23\",\"2019-10-24\",\"2019-10-25\",\"2019-10-26\",\"2019-10-27\",\"2019-10-28\",\"2019-10-29\",\"2019-10-30\",\"2019-10-31\",\"2019-11-01\",\"2019-11-02\",\"2019-11-03\",\"2019-11-04\",\"2019-11-14\",\"2019-11-15\",\"2019-11-17\",\"2019-11-21\",\"2019-11-22\",\"2019-11-25\",\"2019-11-26\",\"2019-11-27\",\"2019-11-28\",\"2019-11-29\",\"2019-11-30\",\"2019-12-01\",\"2019-12-02\",\"2019-12-03\",\"2019-12-04\",\"2019-12-06\",\"2019-12-07\",\"2019-12-08\",\"2019-12-09\",\"2019-12-10\",\"2019-12-11\",\"2019-12-12\",\"2019-12-15\",\"2019-12-16\",\"2019-12-17\",\"2019-12-20\",\"2019-12-21\",\"2019-12-22\",\"2019-12-23\",\"2019-12-24\",\"2019-12-26\",\"2019-12-27\",\"2019-12-28\",\"2019-12-29\",\"2019-12-31\",\"2020-01-01\",\"2020-01-02\",\"2020-01-03\",\"2020-01-04\",\"2020-01-05\",\"2020-01-07\",\"2020-01-08\",\"2020-01-10\",\"2020-01-11\",\"2020-01-12\",\"2020-01-15\",\"2020-01-16\",\"2020-01-17\",\"2020-01-18\",\"2020-01-19\",\"2020-01-20\",\"2020-01-21\",\"2020-01-22\",\"2020-01-23\",\"2020-01-24\",\"2020-01-25\",\"2020-01-26\",\"2020-01-27\",\"2020-01-28\",\"2020-01-30\",\"2020-01-31\",\"2020-02-01\",\"2020-02-02\",\"2020-02-03\",\"2020-02-04\",\"2020-02-05\",\"2020-02-07\",\"2020-02-08\",\"2020-02-09\",\"2020-02-10\",\"2020-02-11\",\"2020-02-12\",\"2020-02-13\",\"2020-02-14\",\"2020-02-16\",\"2020-02-17\",\"2020-02-18\",\"2020-02-19\",\"2020-02-20\",\"2020-02-21\",\"2020-02-22\",\"2020-02-23\",\"2020-02-25\",\"2020-02-26\",\"2020-02-27\",\"2020-02-28\",\"2020-02-29\",\"2020-03-01\",\"2020-03-02\",\"2020-03-03\",\"2020-03-04\",\"2020-03-05\",\"2020-03-06\",\"2020-03-07\",\"2020-03-08\",\"2020-03-10\",\"2020-03-11\",\"2020-03-12\",\"2020-03-13\",\"2020-03-14\",\"2020-03-15\",\"2020-03-16\",\"2020-03-18\",\"2020-03-20\",\"2020-03-22\",\"2020-03-23\",\"2020-03-24\",\"2020-03-25\",\"2020-03-27\",\"2020-03-28\",\"2020-03-29\",\"2020-03-30\",\"2020-03-31\",\"2020-04-01\",\"2020-04-02\",\"2020-04-03\",\"2020-04-04\",\"2020-04-05\",\"2020-04-06\",\"2020-04-07\",\"2020-04-08\",\"2020-04-09\",\"2020-04-10\",\"2020-04-11\",\"2020-04-13\",\"2020-04-14\",\"2020-04-15\",\"2020-04-16\",\"2020-04-17\",\"2020-04-18\",\"2020-04-19\",\"2020-04-20\",\"2020-04-21\",\"2020-04-22\",\"2020-04-23\",\"2020-04-24\",\"2020-04-25\",\"2020-04-26\",\"2020-04-27\",\"2020-04-28\",\"2020-04-29\",\"2020-05-01\",\"2020-05-02\",\"2020-05-03\",\"2020-05-04\",\"2020-05-05\",\"2020-05-06\",\"2020-05-07\",\"2020-05-08\",\"2020-05-09\",\"2020-05-11\",\"2020-05-12\",\"2020-05-13\",\"2020-05-14\",\"2020-05-15\",\"2020-05-16\",\"2020-05-17\",\"2020-05-18\",\"2020-05-19\",\"2020-05-20\",\"2020-05-21\",\"2020-05-22\",\"2020-05-23\",\"2020-05-26\",\"2020-05-27\",\"2020-05-28\",\"2020-05-29\",\"2020-05-30\",\"2020-05-31\",\"2020-06-01\",\"2020-06-02\",\"2020-06-03\",\"2020-06-04\",\"2020-06-05\",\"2020-06-06\",\"2020-06-08\",\"2020-06-09\",\"2020-06-10\",\"2020-06-11\",\"2020-06-12\",\"2020-06-13\",\"2020-06-14\",\"2020-06-15\",\"2020-06-16\",\"2020-06-17\",\"2020-06-19\",\"2020-06-21\",\"2020-06-22\",\"2020-06-23\",\"2020-06-24\",\"2020-06-25\",\"2020-06-26\",\"2020-06-27\",\"2020-06-28\",\"2020-06-29\",\"2020-06-30\",\"2020-07-01\",\"2020-07-02\",\"2020-07-03\",\"2020-07-04\",\"2020-07-05\",\"2020-07-06\",\"2020-07-07\",\"2020-07-08\",\"2020-07-09\",\"2020-07-10\",\"2020-07-11\",\"2020-07-12\",\"2020-07-13\",\"2020-07-14\",\"2020-07-15\",\"2020-07-16\",\"2020-07-17\",\"2020-07-18\",\"2020-07-19\",\"2020-07-20\",\"2020-07-21\",\"2020-07-22\",\"2020-07-23\",\"2020-07-25\",\"2020-07-26\",\"2020-07-27\",\"2020-07-28\",\"2020-07-29\",\"2020-07-30\",\"2020-07-31\",\"2020-08-01\",\"2020-08-02\",\"2020-08-03\",\"2020-08-04\",\"2020-08-05\",\"2020-08-06\",\"2020-08-07\",\"2020-08-08\",\"2020-08-09\",\"2020-08-11\",\"2020-08-12\",\"2020-08-13\",\"2020-08-14\",\"2020-08-15\",\"2020-08-18\",\"2020-08-19\",\"2020-08-20\",\"2020-08-21\",\"2020-08-22\",\"2020-08-23\",\"2020-08-24\",\"2020-08-25\",\"2020-08-26\",\"2020-08-27\",\"2020-08-28\",\"2020-08-29\",\"2020-08-30\",\"2020-08-31\",\"2020-09-01\",\"2020-09-02\",\"2020-09-03\",\"2020-09-04\",\"2020-09-05\",\"2020-09-06\",\"2020-09-07\",\"2020-09-08\",\"2020-09-09\",\"2020-09-11\",\"2020-09-12\",\"2020-09-13\",\"2020-09-14\",\"2020-09-15\",\"2020-09-16\",\"2020-09-17\",\"2020-09-18\",\"2020-09-19\",\"2020-09-20\",\"2020-09-21\",\"2020-09-22\",\"2020-09-23\",\"2020-09-24\",\"2020-09-25\",\"2020-09-26\",\"2020-09-27\",\"2020-09-28\",\"2020-09-29\",\"2020-09-30\",\"2020-10-01\",\"2020-10-02\",\"2020-10-03\",\"2020-10-04\",\"2020-10-05\",\"2020-10-06\",\"2020-10-07\",\"2020-10-08\",\"2020-10-09\",\"2020-10-10\",\"2020-10-11\",\"2020-10-12\",\"2020-10-13\",\"2020-10-14\",\"2020-10-15\",\"2020-10-16\",\"2020-10-17\",\"2020-10-18\",\"2020-10-19\",\"2020-10-20\",\"2020-10-21\",\"2020-10-22\",\"2020-10-23\",\"2020-10-24\",\"2020-10-25\",\"2020-10-26\",\"2020-10-27\",\"2020-10-28\",\"2020-10-29\",\"2020-10-30\",\"2020-10-31\",\"2020-11-01\",\"2020-11-02\",\"2020-11-03\",\"2020-11-04\",\"2020-11-05\",\"2020-11-06\",\"2020-11-07\",\"2020-11-08\",\"2020-11-09\",\"2020-11-10\",\"2020-11-11\",\"2020-11-12\",\"2020-11-13\",\"2020-11-14\",\"2020-11-15\",\"2020-11-16\",\"2020-11-17\",\"2020-11-18\",\"2020-11-19\",\"2020-11-20\",\"2020-11-21\",\"2020-11-22\",\"2020-11-23\",\"2020-11-24\",\"2020-11-25\",\"2020-11-26\",\"2020-11-27\",\"2020-11-28\",\"2020-11-29\",\"2020-11-30\",\"2020-12-01\",\"2020-12-02\",\"2020-12-03\",\"2020-12-04\",\"2020-12-05\",\"2020-12-06\",\"2020-12-07\",\"2020-12-08\",\"2020-12-09\",\"2020-12-10\",\"2020-12-11\",\"2020-12-12\",\"2020-12-13\",\"2020-12-14\",\"2020-12-15\",\"2020-12-16\",\"2020-12-17\",\"2020-12-18\",\"2020-12-19\",\"2020-12-20\",\"2020-12-21\",\"2020-12-22\",\"2020-12-23\",\"2020-12-24\",\"2020-12-25\",\"2020-12-26\",\"2020-12-27\",\"2020-12-28\",\"2020-12-29\",\"2020-12-30\",\"2020-12-31\",\"2021-01-01\",\"2021-01-02\",\"2021-01-03\",\"2021-01-04\",\"2021-01-05\",\"2021-01-06\",\"2021-01-07\",\"2021-01-08\",\"2021-01-09\",\"2021-01-10\",\"2021-01-11\",\"2021-01-12\",\"2021-01-13\",\"2021-01-14\",\"2021-01-15\",\"2021-01-16\",\"2021-01-17\",\"2021-01-18\",\"2021-01-19\",\"2021-01-20\",\"2021-01-21\",\"2021-01-22\",\"2021-01-23\",\"2021-01-24\",\"2021-01-25\",\"2021-01-26\",\"2021-01-27\",\"2021-01-28\",\"2021-01-29\",\"2021-01-30\",\"2021-01-31\",\"2021-02-01\",\"2021-02-02\",\"2021-02-03\",\"2021-02-04\",\"2021-02-05\",\"2021-02-06\",\"2021-02-07\",\"2021-02-08\",\"2021-02-09\",\"2021-02-10\",\"2021-02-11\",\"2021-02-12\",\"2021-02-13\",\"2021-02-14\",\"2021-02-15\",\"2021-02-16\",\"2021-02-17\",\"2021-02-18\",\"2021-02-19\",\"2021-02-20\",\"2021-02-21\",\"2021-02-22\",\"2021-02-23\",\"2021-02-24\",\"2021-02-25\",\"2021-02-26\",\"2021-02-27\",\"2021-02-28\",\"2021-03-01\",\"2021-03-02\",\"2021-03-03\",\"2021-03-04\",\"2021-03-05\",\"2021-03-06\",\"2021-03-07\",\"2021-03-08\",\"2021-03-09\",\"2021-03-10\",\"2021-03-11\",\"2021-03-12\",\"2021-03-13\",\"2021-03-14\",\"2021-03-15\",\"2021-03-16\",\"2021-03-17\",\"2021-03-18\",\"2021-03-19\",\"2021-03-20\",\"2021-03-21\",\"2021-03-22\",\"2021-03-23\",\"2021-03-24\",\"2021-03-25\",\"2021-03-26\",\"2021-03-27\",\"2021-03-28\",\"2021-03-29\",\"2021-03-30\",\"2021-03-31\",\"2021-04-01\",\"2021-04-02\",\"2021-04-03\",\"2021-04-04\",\"2021-04-05\",\"2021-04-06\",\"2021-04-07\",\"2021-04-08\",\"2021-04-09\",\"2021-04-10\",\"2021-04-11\",\"2021-04-12\",\"2021-04-13\",\"2021-04-14\",\"2021-04-15\",\"2021-04-16\",\"2021-04-17\",\"2021-04-18\",\"2021-04-19\",\"2021-04-20\",\"2021-04-21\",\"2021-04-22\",\"2021-04-23\",\"2021-04-24\",\"2021-04-25\",\"2021-04-26\",\"2021-04-27\",\"2021-04-28\",\"2021-04-29\",\"2021-04-30\",\"2021-05-01\",\"2021-05-02\",\"2021-05-03\",\"2021-05-04\",\"2021-05-05\",\"2021-05-06\",\"2021-05-07\",\"2021-05-08\",\"2021-05-09\",\"2021-05-10\",\"2021-05-11\",\"2021-05-12\",\"2021-05-13\",\"2021-05-14\",\"2021-05-15\",\"2021-05-16\",\"2021-05-17\",\"2021-05-18\",\"2021-05-19\",\"2021-05-20\",\"2021-05-21\",\"2021-05-22\",\"2021-05-23\",\"2021-05-24\",\"2021-05-25\",\"2021-05-26\",\"2021-05-27\",\"2021-05-28\",\"2021-05-29\",\"2021-05-30\",\"2021-05-31\",\"2021-06-01\",\"2021-06-02\",\"2021-06-03\",\"2021-06-04\",\"2021-06-05\",\"2021-06-06\",\"2021-06-07\",\"2021-06-08\",\"2021-06-09\",\"2021-06-10\",\"2021-06-11\",\"2021-06-12\",\"2021-06-13\",\"2021-06-14\",\"2021-06-15\",\"2021-06-16\",\"2021-06-17\",\"2021-06-18\",\"2021-06-19\",\"2021-06-20\",\"2021-06-21\",\"2021-06-22\",\"2021-06-23\",\"2021-06-24\",\"2021-06-25\",\"2021-06-26\",\"2021-06-27\",\"2021-06-28\",\"2021-06-29\",\"2021-06-30\",\"2021-07-01\",\"2021-07-02\",\"2021-07-03\",\"2021-07-04\",\"2021-07-05\",\"2021-07-06\",\"2021-07-07\",\"2021-07-08\",\"2021-07-09\",\"2021-07-10\",\"2021-07-11\",\"2021-07-12\",\"2021-07-13\",\"2021-07-14\",\"2021-07-15\",\"2021-07-16\",\"2021-07-17\",\"2021-07-18\",\"2021-07-19\",\"2021-07-20\",\"2021-07-21\",\"2021-07-22\",\"2021-07-23\",\"2021-07-24\",\"2021-07-25\",\"2021-07-26\",\"2021-07-27\",\"2021-07-28\"],\"y\":[500.0,165.08999999999997,665.0899999999999,923.6999999999999,923.6999999999999,678.6999999999999,343.7899999999999,843.79,623.79,578.79,325.04999999999995,320.55999999999995,678.77,671.97,1139.98,716.98,709.29,650.74,416.74,335.74,368.27,263.27,243.29,194.70999999999998,187.60999999999999,1129.04,831.06,342.42999999999995,597.53,511.53,389.99,554.48,538.49,1389.77,1229.8,1066.31,1031.81,766.71,370.82,249.70999999999998,110.70999999999998,188.40999999999997,1183.23,902.4300000000001,754.26,680.31,625.42,3079.42,3030.92,3027.14,2650.2,2583.46,2577.08,2962.0699999999997,3211.5699999999997,6167.57,5920.21,5775.28,5761.8,5742.34,5621.72,5465.01,5452.12,5447.07,4323.93,4146.59,4055.42,3044.46,2976.9900000000002,2888.67,2487.87,2328.65,2878.17,2723.12,1686.9199999999998,881.7899999999998,3253.2200000000003,908.3700000000003,786.4100000000003,744.4100000000003,682.9100000000003,676.9600000000003,553.5700000000003,385.5400000000003,299.38000000000034,110.65000000000032,600.5700000000004,572.3700000000003,450.82000000000033,537.2500000000003,374.57000000000033,289.5300000000003,203.30000000000032,643.3000000000003,295.5000000000003,683.9700000000003,537.4400000000003,455.8100000000003,347.3600000000003,199.8000000000003,102.0100000000003,207.8900000000003,204.1500000000003,166.7400000000003,89.5900000000003,34.5900000000003,16.480000000000302,108.4900000000003,13.490000000000293,7.860000000000293,4.080000000000293,459.08000000000027,30.80000000000024,276.48000000000025,385.68000000000023,596.8800000000002,647.8400000000003,625.4600000000003,493.72000000000025,383.55000000000024,66.11000000000024,1977.1600000000003,1728.8200000000004,1402.3900000000003,1350.3200000000004,1230.1500000000003,1215.1100000000004,249.9100000000003,97.41000000000031,80.41000000000031,1703.9100000000003,1573.1900000000003,1388.0200000000002,1338.5200000000002,935.8000000000002,908.7500000000002,150.87000000000023,125.87000000000023,1761.38,1675.2600000000002,1038.3700000000003,963.5600000000004,574.5900000000004,45.27000000000032,645.2700000000003,322.93000000000035,217.34000000000034,4497.34,4200.05,1994.75,1685.32,1364.24,1013.55,931.6199999999999,903.2199999999999,804.3599999999999,661.4599999999999,514.4499999999999,356.2199999999999,311.2199999999999,303.1699999999999,134.1099999999999,52.3599999999999,39.9299999999999,1.5399999999998997,501.5399999999999,137.06999999999988,68.04999999999988,716.6499999999999,249.27999999999986,23.889999999999844,4312.95,4344.849999999999,4279.9,4105.91,3250.47,3160.47,4923.8099999999995,4863.7699999999995,1245.6299999999997,2634.0399999999995,2453.3899999999994,1130.7899999999993,290.9899999999993,137.3799999999993,5089.329999999999,4973.329999999999,4720.059999999999,4663.499999999998,4207.1399999999985,3963.4899999999984,3826.9399999999982,3596.059999999998,3315.759999999998,2806.659999999998,2165.1699999999983,1864.2799999999984,1259.6299999999983,921.0299999999983,153.19999999999823,317.29999999999814,11609.989999999996,2695.3399999999965,2240.4699999999966,9778.469999999998,1780.3399999999974,3989.8399999999974,255.0099999999975,197.45999999999748,119.98999999999748,17.619999999997475,1900.8099999999974,1768.3099999999974,1519.9199999999973,1054.0399999999972,1078.3699999999972,952.9799999999972,439.36999999999716,1169.2499999999973,1159.8499999999972,1154.8499999999972,1004.7399999999973,854.8499999999973,507.00999999999726,479.39999999999725,465.39999999999725,765.3999999999972,400.9299999999972,383.9299999999972,1183.929999999997,3983.929999999997,943.3999999999969,860.4099999999969,678.4599999999969,670.4699999999968,623.2599999999968,525.9799999999968,416.9999999999968,561.4999999999968,533.5599999999968,467.05999999999676,347.00999999999675,216.87999999999676,94.01999999999676,184.01999999999674,488.63999999999675,109.8199999999967,37.49999999999669,885.6899999999968,932.1299999999967,871.8699999999967,841.4899999999967,749.4699999999967,483.4899999999967,290.19999999999675,3657.7799999999966,3576.5999999999967,3569.5499999999965,1017.3299999999967,893.9499999999967,850.4699999999967,582.0199999999968,578.4699999999968,476.51999999999686,417.3099999999969,334.71999999999684,300.63999999999686,142.88999999999686,52.61999999999685,218.57999999999686,11.579999999996858,6.579999999996858,136.57999999999686,485.0599999999969,440.95999999999685,438.52999999999685,52.179999999996824,7.179999999996824,397.4299999999968,376.5099999999968,231.05999999999682,70.43999999999681,3037.789999999997,85.37999999999693,13.49999999999693,60.48999999999693,52.49999999999693,46.89999999999693,-2.9000000000030752,47.099999999996925,89.24999999999692,48.29999999999691,228.2999999999969,66.29999999999691,9.31999999999691,17.31999999999691,3.3199999999969094,503.3199999999969,18.95999999999691,581.2699999999968,528.0599999999968,522.0599999999968,318.98999999999677,193.63999999999675,45.87999999999673,32.12999999999673,618.3699999999967,3171.8199999999965,104.63999999999623,31.61999999999624,34.47999999999624,1.5099999999962392,163.50999999999624,151.50999999999624,30.959999999996242,47.79999999999622,3.49999999999622,1294.6999999999962,2394.0999999999963,2394.0999999999963,2228.299999999996,3028.299999999996,3012.029999999996,3509.929999999996,467.6999999999962,438.1299999999962,376.5799999999962,287.6899999999962,30.379999999996187,22.389999999996185,122.38999999999618,45.61999999999618,40.01999999999618,74.41999999999618,4.189999999996175,42.189999999996175,12.989999999996176,112.98999999999617,275.3299999999962,553.8299999999962,46.30999999999614,399.29999999999615,3260.4099999999958,3723.9699999999957,3699.9699999999957,3622.9599999999955,3607.2699999999954,3591.9999999999955,967.2899999999954,828.2799999999954,699.2299999999955,671.7799999999954,551.1599999999954,415.9399999999954,410.9499999999954,395.7699999999954,350.28999999999536,168.09999999999536,86.86999999999536,69.86999999999536,73.81999999999536,16.419999999995362,2421.3799999999956,2056.9099999999953,1967.5399999999954,1962.6399999999953,1870.8199999999954,1825.4299999999953,1808.6399999999953,2912.1299999999956,2927.1199999999953,2827.3799999999956,2793.1999999999957,2650.749999999996,2890.119999999996,190.0599999999963,105.7499999999963,8.799999999996302,5.9999999999963025,82.3599999999963,111.9999999999963,71.2299999999963,336.50999999999624,62.10999999999626,48.82999999999626,3.829999999996261,183.69999999999627,218.79999999999626,161.69999999999627,156.85999999999626,391.6999999999963,20.949999999996294,9.239999999996293,2177.779999999996,2165.029999999996,3548.519999999996,3390.7399999999957,3231.3599999999956,2950.6999999999957,3419.9699999999957,577.2099999999955,500.0799999999955,343.1299999999955,337.6299999999955,301.1199999999955,261.4499999999955,108.89999999999549,218.8999999999955,223.8999999999955,95.72999999999547,88.22999999999547,57.29999999999547,62.389999999995474,2.9399999999954716,13.039999999995466,2.539999999995466,1657.5399999999954,1145.1599999999953,1046.1899999999953,787.9099999999953,607.6599999999953,577.6699999999953,470.7499999999953,425.7499999999953,2834.6399999999953,436.2899999999954,410.50999999999544,394.56999999999545,383.11999999999546,322.86999999999546,316.47999999999547,259.5799999999955,201.0199999999955,145.2699999999955,57.639999999995496,9.359999999995495,209.3599999999955,1930.5499999999956,1756.1199999999956,1098.6899999999955,1090.0799999999956,867.6199999999956,759.0999999999956,601.2299999999956,233.25999999999556,220.25999999999556,116.51999999999556,375.82999999999555,248.87999999999556,248.87999999999556,111.16999999999555,810.6599999999955,657.1199999999956,744.0799999999956,553.4399999999956,527.0799999999956,517.0799999999956,433.8399999999956,272.4899999999956,254.11999999999557,95.95999999999555,85.45999999999555,189.48999999999555,141.83999999999554,102.08999999999554,38.429999999995545,231.07999999999555,109.71999999999554,125.51999999999553,122.51999999999553,577.5199999999955,213.04999999999552,101.30999999999553,87.50999999999553,47.569999999995545,149.93999999999554,144.93999999999554,16.119999999995542,351.8499999999956,107.9699999999956,227.9699999999956,34.63999999999558,1851.0099999999954,1900.1299999999953,1851.5099999999954,1696.3599999999954,1046.8499999999954,938.7999999999954,893.7999999999954,830.8699999999955,822.8899999999954,525.2099999999955,425.6299999999955,203.6899999999955,93.20999999999552,724.3099999999955,593.2699999999955,549.4799999999956,850.6899999999956,282.5899999999956,375.7299999999956,310.0699999999956,89.56999999999562,766.2999999999956,574.9199999999956,562.1099999999957,381.5899999999957,2337.039999999996,1310.9099999999958,1249.6699999999958,1211.4099999999958,1191.3399999999958,1073.0999999999958,963.5099999999958,366.2199999999958,325.69999999999584,240.74999999999585,945.4299999999957,541.4399999999957,472.93999999999573,373.86999999999574,254.13999999999575,186.36999999999574,75.11999999999573,72.11999999999573,20.769999999995726,953.7099999999958,941.9299999999959,564.8899999999958,544.6899999999957,386.99999999999574,234.29999999999575,167.83999999999574,32.72999999999573,312.41999999999575,295.43999999999573,232.00999999999573,753.7499999999957,671.3999999999957,3635.9199999999955,488.69999999999527,421.83999999999526,262.0499999999953,193.30999999999528,111.13999999999528,1033.3999999999953,990.0499999999953,951.7199999999953,839.5399999999953,781.0799999999953,630.0099999999952,328.3999999999952,311.3999999999952,260.7099999999952,516.1599999999952,7.749999999995168,495.07999999999515,483.94999999999516,385.3699999999952,350.9699999999952,993.8699999999951,865.8499999999951,1378.5399999999952,1361.2999999999952,1346.1099999999951,5129.369999999995,2181.259999999995,2169.0599999999954,2133.6399999999953,1861.8999999999953,1682.7199999999953,1677.7299999999952,1222.3199999999952,1107.179999999995,1067.729999999995,970.959999999995,958.6599999999951,881.2799999999951,710.959999999995,575.709999999995,515.509999999995,490.499999999995,399.629999999995,199.239999999995,194.25999999999502,67.53999999999499,53.28999999999499,201.379999999995,132.76999999999498,84.96999999999498,12.709999999994977,180.70999999999498,216.71999999999497,486.79999999999495,2590.029999999995,2487.829999999995,2459.109999999995,2413.829999999995,2249.229999999995,2207.249999999995,2105.599999999995,2011.9599999999948,1486.6099999999947,1323.4499999999946,1101.2199999999946,1058.4199999999946,876.2699999999946,729.3199999999947,607.9999999999948,541.6999999999948,436.2799999999948,256.87999999999477,177.62999999999477,168.13999999999476,145.21999999999477,204.57999999999475,525.5199999999948,461.2399999999948,319.40999999999474,204.47999999999473,62.079999999994726,10.749999999994728,772.6199999999948,566.3199999999947,1386.1699999999946,1306.8399999999947,5244.599999999995,2361.969999999995,2287.139999999995,2226.1299999999947,1891.9399999999946,1836.9099999999946,1553.2199999999946,1515.7499999999945,1220.7299999999946,1155.6599999999946,1081.4899999999946,887.0699999999945,816.7199999999945,751.2399999999944,719.9299999999944,651.0999999999943,580.7799999999943,559.4299999999943,504.8999999999943,289.43999999999426,212.18999999999426,632.9299999999943,133.05999999999426,86.00999999999426,23.339999999994262,499.46999999999434,202.34999999999434,13.34999999999431,5.09999999999431,1068.229999999994,3377.249999999994,2441.829999999994,2389.239999999994,2298.3799999999937,2004.6699999999937,1999.6799999999937,1584.3299999999936,1348.9799999999937,1311.0999999999935,1145.9599999999934,970.2499999999934,918.3499999999934,674.7999999999934,441.1399999999934,409.1899999999934,357.0899999999934,84.9999999999934,63.50999999999341,786.4599999999934,628.5799999999934,28.389999999993393,20.92999999999339,5.329999999993392,246.89999999999338,229.11999999999338,251.61999999999338,207.83999999999338,202.00999999999337,57.20999999999336,440.8999999999934,393.6399999999934,391.6499999999934,205.71999999999338,3377.7299999999937,415.8199999999938,395.0199999999938,686.2699999999938,290.76999999999384,54.43999999999386,164.11999999999387,275.9199999999939,40.81999999999388,6.5799999999938805,169.10999999999387,64.84999999999387,111.98999999999387,40.29999999999387,20.049999999993872,-0.09000000000612829,77.73999999999387,213.7499999999939,216.71999999999383,170.9899999999938,73.92999999999381,45.17999999999381,8.929999999993811,6.5299999999938105,934.8399999999938,769.9799999999938,821.1699999999938,974.2499999999939,6226.829999999994,2159.8999999999937,2087.1699999999937,2057.279999999994,1836.959999999994,2042.159999999994,2023.679999999994,2461.339999999994,2606.5399999999936,2872.6299999999937,2647.589999999994,3368.6199999999935,2918.3999999999933,2880.3999999999933,2736.3999999999933,2710.3999999999933,2665.999999999993,2605.999999999993,2422.999999999993,2360.999999999993,2282.999999999993,2066.999999999993,886.8999999999933,755.8999999999933,618.6599999999933,542.1299999999933,2444.979999999993,2357.979999999993,2301.979999999993,2931.219999999993,2876.219999999993,2783.999999999993,2765.999999999993,2636.999999999993,2525.999999999993,2471.999999999993,2203.7999999999934,2041.2999999999934,1805.9999999999934,1548.9999999999934,1462.9999999999934,1337.9999999999934,816.9999999999934,805.1999999999935,659.1999999999935,598.1999999999935,573.1999999999935,387.19999999999345,230.14999999999344,488.14999999999344,7.07999999999339,121.07999999999339,90.17999999999338,86.99999999999336,998.9999999999934,779.9999999999934,601.9999999999934,412.6999999999934,387.6999999999934,1353.6999999999935,1222.8599999999933,1186.8499999999933,1081.6499999999933,1038.6499999999933,887.6499999999933,455.9999999999933,401.9999999999933,154.7999999999933,103.0999999999933,56.0999999999933,517.0999999999933,182.9999999999933,149.9999999999933,80.99999999999329,129.9999999999933,93.3999999999933,88.3999999999933,64.3999999999933,31.5999999999933,463.5999999999933,521.1299999999933,258.6299999999933,171.9999999999933,57.99999999999328,203.9999999999933,151.9999999999933,137.2999999999933,620.2999999999934,340.18999999999335,173.58999999999335,72.90999999999335,0.45999999999334307,5129.459999999994,2011.9999999999936,1928.1999999999937,1570.2099999999937,1534.2099999999937,1380.1099999999938,1347.1099999999938,975.6499999999937,689.1099999999938,541.6099999999938,489.99999999999375,437.99999999999375,360.99999999999375,189.99999999999375,86.99999999999375,705.2999999999938,641.9999999999939,507.99999999999386,1306.079999999994,1089.079999999994,660.079999999994,442.079999999994,302.999999999994,296.999999999994,410.999999999994,47.999999999993975,446.999999999994,245.99999999999397,4229.319999999993,788.4799999999932,696.4799999999932,1272.9999999999932,1235.9999999999932,1123.4999999999932,945.4999999999932,549.4999999999932,469.4999999999932,269.4999999999932,250.33999999999318,258.7499999999932,188.74999999999318,170.5499999999932,137.4499999999932,530.4499999999932,485.4499999999932,473.4499999999932,380.4499999999932,229.44999999999322,828.9499999999932,174.14999999999316,138.44999999999317,117.00999999999317,103.75999999999317,103.75999999999317,175.75999999999317,52.75999999999317,77.4799999999932,61.4799999999932,1158.4799999999932,1791.999999999993,1674.3499999999929,1287.3499999999929,1080.3499999999929,992.3499999999929,818.9999999999928,1143.9999999999927,672.9999999999927,402.9999999999927,868.9999999999927,816.9999999999927,574.9999999999927,502.3999999999927,262.3999999999927,24.3999999999927,643.5199999999927,573.5199999999927,482.9999999999927,383.6499999999927,615.6499999999927,379.07999999999265,56.99999999999267,50.99999999999267,119.99999999999267,91.99999999999267,64.19999999999267,35.19999999999267,949.1999999999927]}],                        {\"hovermode\":\"x unified\",\"template\":{\"data\":{\"bar\":[{\"error_x\":{\"color\":\"#2a3f5f\"},\"error_y\":{\"color\":\"#2a3f5f\"},\"marker\":{\"line\":{\"color\":\"#E5ECF6\",\"width\":0.5},\"pattern\":{\"fillmode\":\"overlay\",\"size\":10,\"solidity\":0.2}},\"type\":\"bar\"}],\"barpolar\":[{\"marker\":{\"line\":{\"color\":\"#E5ECF6\",\"width\":0.5},\"pattern\":{\"fillmode\":\"overlay\",\"size\":10,\"solidity\":0.2}},\"type\":\"barpolar\"}],\"carpet\":[{\"aaxis\":{\"endlinecolor\":\"#2a3f5f\",\"gridcolor\":\"white\",\"linecolor\":\"white\",\"minorgridcolor\":\"white\",\"startlinecolor\":\"#2a3f5f\"},\"baxis\":{\"endlinecolor\":\"#2a3f5f\",\"gridcolor\":\"white\",\"linecolor\":\"white\",\"minorgridcolor\":\"white\",\"startlinecolor\":\"#2a3f5f\"},\"type\":\"carpet\"}],\"choropleth\":[{\"colorbar\":{\"outlinewidth\":0,\"ticks\":\"\"},\"type\":\"choropleth\"}],\"contour\":[{\"colorbar\":{\"outlinewidth\":0,\"ticks\":\"\"},\"colorscale\":[[0.0,\"#0d0887\"],[0.1111111111111111,\"#46039f\"],[0.2222222222222222,\"#7201a8\"],[0.3333333333333333,\"#9c179e\"],[0.4444444444444444,\"#bd3786\"],[0.5555555555555556,\"#d8576b\"],[0.6666666666666666,\"#ed7953\"],[0.7777777777777778,\"#fb9f3a\"],[0.8888888888888888,\"#fdca26\"],[1.0,\"#f0f921\"]],\"type\":\"contour\"}],\"contourcarpet\":[{\"colorbar\":{\"outlinewidth\":0,\"ticks\":\"\"},\"type\":\"contourcarpet\"}],\"heatmap\":[{\"colorbar\":{\"outlinewidth\":0,\"ticks\":\"\"},\"colorscale\":[[0.0,\"#0d0887\"],[0.1111111111111111,\"#46039f\"],[0.2222222222222222,\"#7201a8\"],[0.3333333333333333,\"#9c179e\"],[0.4444444444444444,\"#bd3786\"],[0.5555555555555556,\"#d8576b\"],[0.6666666666666666,\"#ed7953\"],[0.7777777777777778,\"#fb9f3a\"],[0.8888888888888888,\"#fdca26\"],[1.0,\"#f0f921\"]],\"type\":\"heatmap\"}],\"heatmapgl\":[{\"colorbar\":{\"outlinewidth\":0,\"ticks\":\"\"},\"colorscale\":[[0.0,\"#0d0887\"],[0.1111111111111111,\"#46039f\"],[0.2222222222222222,\"#7201a8\"],[0.3333333333333333,\"#9c179e\"],[0.4444444444444444,\"#bd3786\"],[0.5555555555555556,\"#d8576b\"],[0.6666666666666666,\"#ed7953\"],[0.7777777777777778,\"#fb9f3a\"],[0.8888888888888888,\"#fdca26\"],[1.0,\"#f0f921\"]],\"type\":\"heatmapgl\"}],\"histogram\":[{\"marker\":{\"pattern\":{\"fillmode\":\"overlay\",\"size\":10,\"solidity\":0.2}},\"type\":\"histogram\"}],\"histogram2d\":[{\"colorbar\":{\"outlinewidth\":0,\"ticks\":\"\"},\"colorscale\":[[0.0,\"#0d0887\"],[0.1111111111111111,\"#46039f\"],[0.2222222222222222,\"#7201a8\"],[0.3333333333333333,\"#9c179e\"],[0.4444444444444444,\"#bd3786\"],[0.5555555555555556,\"#d8576b\"],[0.6666666666666666,\"#ed7953\"],[0.7777777777777778,\"#fb9f3a\"],[0.8888888888888888,\"#fdca26\"],[1.0,\"#f0f921\"]],\"type\":\"histogram2d\"}],\"histogram2dcontour\":[{\"colorbar\":{\"outlinewidth\":0,\"ticks\":\"\"},\"colorscale\":[[0.0,\"#0d0887\"],[0.1111111111111111,\"#46039f\"],[0.2222222222222222,\"#7201a8\"],[0.3333333333333333,\"#9c179e\"],[0.4444444444444444,\"#bd3786\"],[0.5555555555555556,\"#d8576b\"],[0.6666666666666666,\"#ed7953\"],[0.7777777777777778,\"#fb9f3a\"],[0.8888888888888888,\"#fdca26\"],[1.0,\"#f0f921\"]],\"type\":\"histogram2dcontour\"}],\"mesh3d\":[{\"colorbar\":{\"outlinewidth\":0,\"ticks\":\"\"},\"type\":\"mesh3d\"}],\"parcoords\":[{\"line\":{\"colorbar\":{\"outlinewidth\":0,\"ticks\":\"\"}},\"type\":\"parcoords\"}],\"pie\":[{\"automargin\":true,\"type\":\"pie\"}],\"scatter\":[{\"marker\":{\"colorbar\":{\"outlinewidth\":0,\"ticks\":\"\"}},\"type\":\"scatter\"}],\"scatter3d\":[{\"line\":{\"colorbar\":{\"outlinewidth\":0,\"ticks\":\"\"}},\"marker\":{\"colorbar\":{\"outlinewidth\":0,\"ticks\":\"\"}},\"type\":\"scatter3d\"}],\"scattercarpet\":[{\"marker\":{\"colorbar\":{\"outlinewidth\":0,\"ticks\":\"\"}},\"type\":\"scattercarpet\"}],\"scattergeo\":[{\"marker\":{\"colorbar\":{\"outlinewidth\":0,\"ticks\":\"\"}},\"type\":\"scattergeo\"}],\"scattergl\":[{\"marker\":{\"colorbar\":{\"outlinewidth\":0,\"ticks\":\"\"}},\"type\":\"scattergl\"}],\"scattermapbox\":[{\"marker\":{\"colorbar\":{\"outlinewidth\":0,\"ticks\":\"\"}},\"type\":\"scattermapbox\"}],\"scatterpolar\":[{\"marker\":{\"colorbar\":{\"outlinewidth\":0,\"ticks\":\"\"}},\"type\":\"scatterpolar\"}],\"scatterpolargl\":[{\"marker\":{\"colorbar\":{\"outlinewidth\":0,\"ticks\":\"\"}},\"type\":\"scatterpolargl\"}],\"scatterternary\":[{\"marker\":{\"colorbar\":{\"outlinewidth\":0,\"ticks\":\"\"}},\"type\":\"scatterternary\"}],\"surface\":[{\"colorbar\":{\"outlinewidth\":0,\"ticks\":\"\"},\"colorscale\":[[0.0,\"#0d0887\"],[0.1111111111111111,\"#46039f\"],[0.2222222222222222,\"#7201a8\"],[0.3333333333333333,\"#9c179e\"],[0.4444444444444444,\"#bd3786\"],[0.5555555555555556,\"#d8576b\"],[0.6666666666666666,\"#ed7953\"],[0.7777777777777778,\"#fb9f3a\"],[0.8888888888888888,\"#fdca26\"],[1.0,\"#f0f921\"]],\"type\":\"surface\"}],\"table\":[{\"cells\":{\"fill\":{\"color\":\"#EBF0F8\"},\"line\":{\"color\":\"white\"}},\"header\":{\"fill\":{\"color\":\"#C8D4E3\"},\"line\":{\"color\":\"white\"}},\"type\":\"table\"}]},\"layout\":{\"annotationdefaults\":{\"arrowcolor\":\"#2a3f5f\",\"arrowhead\":0,\"arrowwidth\":1},\"autotypenumbers\":\"strict\",\"coloraxis\":{\"colorbar\":{\"outlinewidth\":0,\"ticks\":\"\"}},\"colorscale\":{\"diverging\":[[0,\"#8e0152\"],[0.1,\"#c51b7d\"],[0.2,\"#de77ae\"],[0.3,\"#f1b6da\"],[0.4,\"#fde0ef\"],[0.5,\"#f7f7f7\"],[0.6,\"#e6f5d0\"],[0.7,\"#b8e186\"],[0.8,\"#7fbc41\"],[0.9,\"#4d9221\"],[1,\"#276419\"]],\"sequential\":[[0.0,\"#0d0887\"],[0.1111111111111111,\"#46039f\"],[0.2222222222222222,\"#7201a8\"],[0.3333333333333333,\"#9c179e\"],[0.4444444444444444,\"#bd3786\"],[0.5555555555555556,\"#d8576b\"],[0.6666666666666666,\"#ed7953\"],[0.7777777777777778,\"#fb9f3a\"],[0.8888888888888888,\"#fdca26\"],[1.0,\"#f0f921\"]],\"sequentialminus\":[[0.0,\"#0d0887\"],[0.1111111111111111,\"#46039f\"],[0.2222222222222222,\"#7201a8\"],[0.3333333333333333,\"#9c179e\"],[0.4444444444444444,\"#bd3786\"],[0.5555555555555556,\"#d8576b\"],[0.6666666666666666,\"#ed7953\"],[0.7777777777777778,\"#fb9f3a\"],[0.8888888888888888,\"#fdca26\"],[1.0,\"#f0f921\"]]},\"colorway\":[\"#636efa\",\"#EF553B\",\"#00cc96\",\"#ab63fa\",\"#FFA15A\",\"#19d3f3\",\"#FF6692\",\"#B6E880\",\"#FF97FF\",\"#FECB52\"],\"font\":{\"color\":\"#2a3f5f\"},\"geo\":{\"bgcolor\":\"white\",\"lakecolor\":\"white\",\"landcolor\":\"#E5ECF6\",\"showlakes\":true,\"showland\":true,\"subunitcolor\":\"white\"},\"hoverlabel\":{\"align\":\"left\"},\"hovermode\":\"closest\",\"mapbox\":{\"style\":\"light\"},\"paper_bgcolor\":\"white\",\"plot_bgcolor\":\"#E5ECF6\",\"polar\":{\"angularaxis\":{\"gridcolor\":\"white\",\"linecolor\":\"white\",\"ticks\":\"\"},\"bgcolor\":\"#E5ECF6\",\"radialaxis\":{\"gridcolor\":\"white\",\"linecolor\":\"white\",\"ticks\":\"\"}},\"scene\":{\"xaxis\":{\"backgroundcolor\":\"#E5ECF6\",\"gridcolor\":\"white\",\"gridwidth\":2,\"linecolor\":\"white\",\"showbackground\":true,\"ticks\":\"\",\"zerolinecolor\":\"white\"},\"yaxis\":{\"backgroundcolor\":\"#E5ECF6\",\"gridcolor\":\"white\",\"gridwidth\":2,\"linecolor\":\"white\",\"showbackground\":true,\"ticks\":\"\",\"zerolinecolor\":\"white\"},\"zaxis\":{\"backgroundcolor\":\"#E5ECF6\",\"gridcolor\":\"white\",\"gridwidth\":2,\"linecolor\":\"white\",\"showbackground\":true,\"ticks\":\"\",\"zerolinecolor\":\"white\"}},\"shapedefaults\":{\"line\":{\"color\":\"#2a3f5f\"}},\"ternary\":{\"aaxis\":{\"gridcolor\":\"white\",\"linecolor\":\"white\",\"ticks\":\"\"},\"baxis\":{\"gridcolor\":\"white\",\"linecolor\":\"white\",\"ticks\":\"\"},\"bgcolor\":\"#E5ECF6\",\"caxis\":{\"gridcolor\":\"white\",\"linecolor\":\"white\",\"ticks\":\"\"}},\"title\":{\"x\":0.05},\"xaxis\":{\"automargin\":true,\"gridcolor\":\"white\",\"linecolor\":\"white\",\"ticks\":\"\",\"title\":{\"standoff\":15},\"zerolinecolor\":\"white\",\"zerolinewidth\":2},\"yaxis\":{\"automargin\":true,\"gridcolor\":\"white\",\"linecolor\":\"white\",\"ticks\":\"\",\"title\":{\"standoff\":15},\"zerolinecolor\":\"white\",\"zerolinewidth\":2}}},\"title\":{\"text\":\"Net Worth Over Time\"},\"xaxis\":{\"tickangle\":45,\"title\":{\"text\":\"Date\"}},\"yaxis\":{\"title\":{\"text\":\"Net Worth (\\u00a3)\"}}},                        {\"responsive\": true}                    ).then(function(){\n",
       "                            \n",
       "var gd = document.getElementById('74d08b5b-3543-489d-96b3-9cbeba7ef90b');\n",
       "var x = new MutationObserver(function (mutations, observer) {{\n",
       "        var display = window.getComputedStyle(gd).display;\n",
       "        if (!display || display === 'none') {{\n",
       "            console.log([gd, 'removed!']);\n",
       "            Plotly.purge(gd);\n",
       "            observer.disconnect();\n",
       "        }}\n",
       "}});\n",
       "\n",
       "// Listen for the removal of the full notebook cells\n",
       "var notebookContainer = gd.closest('#notebook-container');\n",
       "if (notebookContainer) {{\n",
       "    x.observe(notebookContainer, {childList: true});\n",
       "}}\n",
       "\n",
       "// Listen for the clearing of the current output cell\n",
       "var outputEl = gd.closest('.output');\n",
       "if (outputEl) {{\n",
       "    x.observe(outputEl, {childList: true});\n",
       "}}\n",
       "\n",
       "                        })                };                });            </script>        </div>"
      ]
     },
     "metadata": {},
     "output_type": "display_data"
    }
   ],
   "source": [
    "Net_Worth_Table = df.groupby('year_month_day')['Amount'].sum().reset_index(name ='sum')\n",
    "Net_Worth_Table['cumulative sum'] = Net_Worth_Table['sum'].cumsum()\n",
    "Net_Worth_Chart = go.Figure(\n",
    "    data = go.Scatter(x = Net_Worth_Table[\"year_month_day\"], y = Net_Worth_Table[\"cumulative sum\"]),\n",
    "    layout = go.Layout(\n",
    "        title = go.layout.Title(text = \"Net Worth Over Time\")\n",
    "    )\n",
    ")\n",
    "Net_Worth_Chart.update_layout(\n",
    "    xaxis_title = \"Date\",\n",
    "    yaxis_title = \"Net Worth (£)\",\n",
    "    hovermode = 'x unified'\n",
    "    )\n",
    "Net_Worth_Chart.update_xaxes(\n",
    "    tickangle = 45)\n",
    "Net_Worth_Chart.show()"
   ]
  },
  {
   "cell_type": "code",
   "execution_count": 138,
   "id": "bfb129f4",
   "metadata": {},
   "outputs": [
    {
     "data": {
      "text/plain": [
       "array(['Travel', 'Transfer', 'Utilities', 'Insurance', 'Entertainment',\n",
       "       'Mortgage', 'MoneyFromChris', 'Credit Card', 'Council Tax',\n",
       "       'Gifts', 'Groceries', 'Stationary', 'Houesehold', 'Takeaway',\n",
       "       'Emma Wedgwood Aesthetics Expense', 'Online Purchase', 'Postage',\n",
       "       'Holiday', 'Snackette', 'Therapy', 'Money from Friends', 'Car',\n",
       "       'Alfie', 'Cash Out', 'Restaurant', 'Health&Fitness',\n",
       "       'Money From Emma', 'Pharmacy', 'Jewellery', 'Household',\n",
       "       'Bank Charges', 'Rental Income'], dtype=object)"
      ]
     },
     "execution_count": 138,
     "metadata": {},
     "output_type": "execute_result"
    }
   ],
   "source": [
    "df.Category.unique()"
   ]
  },
  {
   "cell_type": "code",
   "execution_count": 204,
   "id": "2cd65c30",
   "metadata": {},
   "outputs": [
    {
     "data": {
      "application/vnd.plotly.v1+json": {
       "config": {
        "plotlyServerURL": "https://plot.ly"
       },
       "data": [
        {
         "alignmentgroup": "True",
         "hovertemplate": "year_month=%{x}<br>sum=%{y}<extra></extra>",
         "legendgroup": "",
         "marker": {
          "color": "#636efa",
          "pattern": {
           "shape": ""
          }
         },
         "name": "",
         "offsetgroup": "",
         "orientation": "v",
         "showlegend": false,
         "textposition": "auto",
         "type": "bar",
         "x": [
          "2021-07"
         ],
         "xaxis": "x",
         "y": [
          7508.28
         ],
         "yaxis": "y"
        }
       ],
       "layout": {
        "barmode": "relative",
        "legend": {
         "tracegroupgap": 0
        },
        "template": {
         "data": {
          "bar": [
           {
            "error_x": {
             "color": "#2a3f5f"
            },
            "error_y": {
             "color": "#2a3f5f"
            },
            "marker": {
             "line": {
              "color": "#E5ECF6",
              "width": 0.5
             },
             "pattern": {
              "fillmode": "overlay",
              "size": 10,
              "solidity": 0.2
             }
            },
            "type": "bar"
           }
          ],
          "barpolar": [
           {
            "marker": {
             "line": {
              "color": "#E5ECF6",
              "width": 0.5
             },
             "pattern": {
              "fillmode": "overlay",
              "size": 10,
              "solidity": 0.2
             }
            },
            "type": "barpolar"
           }
          ],
          "carpet": [
           {
            "aaxis": {
             "endlinecolor": "#2a3f5f",
             "gridcolor": "white",
             "linecolor": "white",
             "minorgridcolor": "white",
             "startlinecolor": "#2a3f5f"
            },
            "baxis": {
             "endlinecolor": "#2a3f5f",
             "gridcolor": "white",
             "linecolor": "white",
             "minorgridcolor": "white",
             "startlinecolor": "#2a3f5f"
            },
            "type": "carpet"
           }
          ],
          "choropleth": [
           {
            "colorbar": {
             "outlinewidth": 0,
             "ticks": ""
            },
            "type": "choropleth"
           }
          ],
          "contour": [
           {
            "colorbar": {
             "outlinewidth": 0,
             "ticks": ""
            },
            "colorscale": [
             [
              0,
              "#0d0887"
             ],
             [
              0.1111111111111111,
              "#46039f"
             ],
             [
              0.2222222222222222,
              "#7201a8"
             ],
             [
              0.3333333333333333,
              "#9c179e"
             ],
             [
              0.4444444444444444,
              "#bd3786"
             ],
             [
              0.5555555555555556,
              "#d8576b"
             ],
             [
              0.6666666666666666,
              "#ed7953"
             ],
             [
              0.7777777777777778,
              "#fb9f3a"
             ],
             [
              0.8888888888888888,
              "#fdca26"
             ],
             [
              1,
              "#f0f921"
             ]
            ],
            "type": "contour"
           }
          ],
          "contourcarpet": [
           {
            "colorbar": {
             "outlinewidth": 0,
             "ticks": ""
            },
            "type": "contourcarpet"
           }
          ],
          "heatmap": [
           {
            "colorbar": {
             "outlinewidth": 0,
             "ticks": ""
            },
            "colorscale": [
             [
              0,
              "#0d0887"
             ],
             [
              0.1111111111111111,
              "#46039f"
             ],
             [
              0.2222222222222222,
              "#7201a8"
             ],
             [
              0.3333333333333333,
              "#9c179e"
             ],
             [
              0.4444444444444444,
              "#bd3786"
             ],
             [
              0.5555555555555556,
              "#d8576b"
             ],
             [
              0.6666666666666666,
              "#ed7953"
             ],
             [
              0.7777777777777778,
              "#fb9f3a"
             ],
             [
              0.8888888888888888,
              "#fdca26"
             ],
             [
              1,
              "#f0f921"
             ]
            ],
            "type": "heatmap"
           }
          ],
          "heatmapgl": [
           {
            "colorbar": {
             "outlinewidth": 0,
             "ticks": ""
            },
            "colorscale": [
             [
              0,
              "#0d0887"
             ],
             [
              0.1111111111111111,
              "#46039f"
             ],
             [
              0.2222222222222222,
              "#7201a8"
             ],
             [
              0.3333333333333333,
              "#9c179e"
             ],
             [
              0.4444444444444444,
              "#bd3786"
             ],
             [
              0.5555555555555556,
              "#d8576b"
             ],
             [
              0.6666666666666666,
              "#ed7953"
             ],
             [
              0.7777777777777778,
              "#fb9f3a"
             ],
             [
              0.8888888888888888,
              "#fdca26"
             ],
             [
              1,
              "#f0f921"
             ]
            ],
            "type": "heatmapgl"
           }
          ],
          "histogram": [
           {
            "marker": {
             "pattern": {
              "fillmode": "overlay",
              "size": 10,
              "solidity": 0.2
             }
            },
            "type": "histogram"
           }
          ],
          "histogram2d": [
           {
            "colorbar": {
             "outlinewidth": 0,
             "ticks": ""
            },
            "colorscale": [
             [
              0,
              "#0d0887"
             ],
             [
              0.1111111111111111,
              "#46039f"
             ],
             [
              0.2222222222222222,
              "#7201a8"
             ],
             [
              0.3333333333333333,
              "#9c179e"
             ],
             [
              0.4444444444444444,
              "#bd3786"
             ],
             [
              0.5555555555555556,
              "#d8576b"
             ],
             [
              0.6666666666666666,
              "#ed7953"
             ],
             [
              0.7777777777777778,
              "#fb9f3a"
             ],
             [
              0.8888888888888888,
              "#fdca26"
             ],
             [
              1,
              "#f0f921"
             ]
            ],
            "type": "histogram2d"
           }
          ],
          "histogram2dcontour": [
           {
            "colorbar": {
             "outlinewidth": 0,
             "ticks": ""
            },
            "colorscale": [
             [
              0,
              "#0d0887"
             ],
             [
              0.1111111111111111,
              "#46039f"
             ],
             [
              0.2222222222222222,
              "#7201a8"
             ],
             [
              0.3333333333333333,
              "#9c179e"
             ],
             [
              0.4444444444444444,
              "#bd3786"
             ],
             [
              0.5555555555555556,
              "#d8576b"
             ],
             [
              0.6666666666666666,
              "#ed7953"
             ],
             [
              0.7777777777777778,
              "#fb9f3a"
             ],
             [
              0.8888888888888888,
              "#fdca26"
             ],
             [
              1,
              "#f0f921"
             ]
            ],
            "type": "histogram2dcontour"
           }
          ],
          "mesh3d": [
           {
            "colorbar": {
             "outlinewidth": 0,
             "ticks": ""
            },
            "type": "mesh3d"
           }
          ],
          "parcoords": [
           {
            "line": {
             "colorbar": {
              "outlinewidth": 0,
              "ticks": ""
             }
            },
            "type": "parcoords"
           }
          ],
          "pie": [
           {
            "automargin": true,
            "type": "pie"
           }
          ],
          "scatter": [
           {
            "marker": {
             "colorbar": {
              "outlinewidth": 0,
              "ticks": ""
             }
            },
            "type": "scatter"
           }
          ],
          "scatter3d": [
           {
            "line": {
             "colorbar": {
              "outlinewidth": 0,
              "ticks": ""
             }
            },
            "marker": {
             "colorbar": {
              "outlinewidth": 0,
              "ticks": ""
             }
            },
            "type": "scatter3d"
           }
          ],
          "scattercarpet": [
           {
            "marker": {
             "colorbar": {
              "outlinewidth": 0,
              "ticks": ""
             }
            },
            "type": "scattercarpet"
           }
          ],
          "scattergeo": [
           {
            "marker": {
             "colorbar": {
              "outlinewidth": 0,
              "ticks": ""
             }
            },
            "type": "scattergeo"
           }
          ],
          "scattergl": [
           {
            "marker": {
             "colorbar": {
              "outlinewidth": 0,
              "ticks": ""
             }
            },
            "type": "scattergl"
           }
          ],
          "scattermapbox": [
           {
            "marker": {
             "colorbar": {
              "outlinewidth": 0,
              "ticks": ""
             }
            },
            "type": "scattermapbox"
           }
          ],
          "scatterpolar": [
           {
            "marker": {
             "colorbar": {
              "outlinewidth": 0,
              "ticks": ""
             }
            },
            "type": "scatterpolar"
           }
          ],
          "scatterpolargl": [
           {
            "marker": {
             "colorbar": {
              "outlinewidth": 0,
              "ticks": ""
             }
            },
            "type": "scatterpolargl"
           }
          ],
          "scatterternary": [
           {
            "marker": {
             "colorbar": {
              "outlinewidth": 0,
              "ticks": ""
             }
            },
            "type": "scatterternary"
           }
          ],
          "surface": [
           {
            "colorbar": {
             "outlinewidth": 0,
             "ticks": ""
            },
            "colorscale": [
             [
              0,
              "#0d0887"
             ],
             [
              0.1111111111111111,
              "#46039f"
             ],
             [
              0.2222222222222222,
              "#7201a8"
             ],
             [
              0.3333333333333333,
              "#9c179e"
             ],
             [
              0.4444444444444444,
              "#bd3786"
             ],
             [
              0.5555555555555556,
              "#d8576b"
             ],
             [
              0.6666666666666666,
              "#ed7953"
             ],
             [
              0.7777777777777778,
              "#fb9f3a"
             ],
             [
              0.8888888888888888,
              "#fdca26"
             ],
             [
              1,
              "#f0f921"
             ]
            ],
            "type": "surface"
           }
          ],
          "table": [
           {
            "cells": {
             "fill": {
              "color": "#EBF0F8"
             },
             "line": {
              "color": "white"
             }
            },
            "header": {
             "fill": {
              "color": "#C8D4E3"
             },
             "line": {
              "color": "white"
             }
            },
            "type": "table"
           }
          ]
         },
         "layout": {
          "annotationdefaults": {
           "arrowcolor": "#2a3f5f",
           "arrowhead": 0,
           "arrowwidth": 1
          },
          "autotypenumbers": "strict",
          "coloraxis": {
           "colorbar": {
            "outlinewidth": 0,
            "ticks": ""
           }
          },
          "colorscale": {
           "diverging": [
            [
             0,
             "#8e0152"
            ],
            [
             0.1,
             "#c51b7d"
            ],
            [
             0.2,
             "#de77ae"
            ],
            [
             0.3,
             "#f1b6da"
            ],
            [
             0.4,
             "#fde0ef"
            ],
            [
             0.5,
             "#f7f7f7"
            ],
            [
             0.6,
             "#e6f5d0"
            ],
            [
             0.7,
             "#b8e186"
            ],
            [
             0.8,
             "#7fbc41"
            ],
            [
             0.9,
             "#4d9221"
            ],
            [
             1,
             "#276419"
            ]
           ],
           "sequential": [
            [
             0,
             "#0d0887"
            ],
            [
             0.1111111111111111,
             "#46039f"
            ],
            [
             0.2222222222222222,
             "#7201a8"
            ],
            [
             0.3333333333333333,
             "#9c179e"
            ],
            [
             0.4444444444444444,
             "#bd3786"
            ],
            [
             0.5555555555555556,
             "#d8576b"
            ],
            [
             0.6666666666666666,
             "#ed7953"
            ],
            [
             0.7777777777777778,
             "#fb9f3a"
            ],
            [
             0.8888888888888888,
             "#fdca26"
            ],
            [
             1,
             "#f0f921"
            ]
           ],
           "sequentialminus": [
            [
             0,
             "#0d0887"
            ],
            [
             0.1111111111111111,
             "#46039f"
            ],
            [
             0.2222222222222222,
             "#7201a8"
            ],
            [
             0.3333333333333333,
             "#9c179e"
            ],
            [
             0.4444444444444444,
             "#bd3786"
            ],
            [
             0.5555555555555556,
             "#d8576b"
            ],
            [
             0.6666666666666666,
             "#ed7953"
            ],
            [
             0.7777777777777778,
             "#fb9f3a"
            ],
            [
             0.8888888888888888,
             "#fdca26"
            ],
            [
             1,
             "#f0f921"
            ]
           ]
          },
          "colorway": [
           "#636efa",
           "#EF553B",
           "#00cc96",
           "#ab63fa",
           "#FFA15A",
           "#19d3f3",
           "#FF6692",
           "#B6E880",
           "#FF97FF",
           "#FECB52"
          ],
          "font": {
           "color": "#2a3f5f"
          },
          "geo": {
           "bgcolor": "white",
           "lakecolor": "white",
           "landcolor": "#E5ECF6",
           "showlakes": true,
           "showland": true,
           "subunitcolor": "white"
          },
          "hoverlabel": {
           "align": "left"
          },
          "hovermode": "closest",
          "mapbox": {
           "style": "light"
          },
          "paper_bgcolor": "white",
          "plot_bgcolor": "#E5ECF6",
          "polar": {
           "angularaxis": {
            "gridcolor": "white",
            "linecolor": "white",
            "ticks": ""
           },
           "bgcolor": "#E5ECF6",
           "radialaxis": {
            "gridcolor": "white",
            "linecolor": "white",
            "ticks": ""
           }
          },
          "scene": {
           "xaxis": {
            "backgroundcolor": "#E5ECF6",
            "gridcolor": "white",
            "gridwidth": 2,
            "linecolor": "white",
            "showbackground": true,
            "ticks": "",
            "zerolinecolor": "white"
           },
           "yaxis": {
            "backgroundcolor": "#E5ECF6",
            "gridcolor": "white",
            "gridwidth": 2,
            "linecolor": "white",
            "showbackground": true,
            "ticks": "",
            "zerolinecolor": "white"
           },
           "zaxis": {
            "backgroundcolor": "#E5ECF6",
            "gridcolor": "white",
            "gridwidth": 2,
            "linecolor": "white",
            "showbackground": true,
            "ticks": "",
            "zerolinecolor": "white"
           }
          },
          "shapedefaults": {
           "line": {
            "color": "#2a3f5f"
           }
          },
          "ternary": {
           "aaxis": {
            "gridcolor": "white",
            "linecolor": "white",
            "ticks": ""
           },
           "baxis": {
            "gridcolor": "white",
            "linecolor": "white",
            "ticks": ""
           },
           "bgcolor": "#E5ECF6",
           "caxis": {
            "gridcolor": "white",
            "linecolor": "white",
            "ticks": ""
           }
          },
          "title": {
           "x": 0.05
          },
          "xaxis": {
           "automargin": true,
           "gridcolor": "white",
           "linecolor": "white",
           "ticks": "",
           "title": {
            "standoff": 15
           },
           "zerolinecolor": "white",
           "zerolinewidth": 2
          },
          "yaxis": {
           "automargin": true,
           "gridcolor": "white",
           "linecolor": "white",
           "ticks": "",
           "title": {
            "standoff": 15
           },
           "zerolinecolor": "white",
           "zerolinewidth": 2
          }
         }
        },
        "title": {
         "text": "Total Monthly Expenses"
        },
        "xaxis": {
         "anchor": "y",
         "domain": [
          0,
          1
         ],
         "showticklabels": true,
         "title": {
          "text": "Date"
         },
         "visible": true
        },
        "yaxis": {
         "anchor": "x",
         "domain": [
          0,
          1
         ],
         "showticklabels": true,
         "title": {
          "text": "Expenses (£)"
         },
         "visible": true
        }
       }
      },
      "text/html": [
       "<div>                            <div id=\"715aeae9-822d-4c4a-ba63-ff3241c0712a\" class=\"plotly-graph-div\" style=\"height:525px; width:100%;\"></div>            <script type=\"text/javascript\">                require([\"plotly\"], function(Plotly) {                    window.PLOTLYENV=window.PLOTLYENV || {};                                    if (document.getElementById(\"715aeae9-822d-4c4a-ba63-ff3241c0712a\")) {                    Plotly.newPlot(                        \"715aeae9-822d-4c4a-ba63-ff3241c0712a\",                        [{\"alignmentgroup\":\"True\",\"hovertemplate\":\"year_month=%{x}<br>sum=%{y}<extra></extra>\",\"legendgroup\":\"\",\"marker\":{\"color\":\"#636efa\",\"pattern\":{\"shape\":\"\"}},\"name\":\"\",\"offsetgroup\":\"\",\"orientation\":\"v\",\"showlegend\":false,\"textposition\":\"auto\",\"type\":\"bar\",\"x\":[\"2021-07\"],\"xaxis\":\"x\",\"y\":[7508.28],\"yaxis\":\"y\"}],                        {\"barmode\":\"relative\",\"legend\":{\"tracegroupgap\":0},\"template\":{\"data\":{\"bar\":[{\"error_x\":{\"color\":\"#2a3f5f\"},\"error_y\":{\"color\":\"#2a3f5f\"},\"marker\":{\"line\":{\"color\":\"#E5ECF6\",\"width\":0.5},\"pattern\":{\"fillmode\":\"overlay\",\"size\":10,\"solidity\":0.2}},\"type\":\"bar\"}],\"barpolar\":[{\"marker\":{\"line\":{\"color\":\"#E5ECF6\",\"width\":0.5},\"pattern\":{\"fillmode\":\"overlay\",\"size\":10,\"solidity\":0.2}},\"type\":\"barpolar\"}],\"carpet\":[{\"aaxis\":{\"endlinecolor\":\"#2a3f5f\",\"gridcolor\":\"white\",\"linecolor\":\"white\",\"minorgridcolor\":\"white\",\"startlinecolor\":\"#2a3f5f\"},\"baxis\":{\"endlinecolor\":\"#2a3f5f\",\"gridcolor\":\"white\",\"linecolor\":\"white\",\"minorgridcolor\":\"white\",\"startlinecolor\":\"#2a3f5f\"},\"type\":\"carpet\"}],\"choropleth\":[{\"colorbar\":{\"outlinewidth\":0,\"ticks\":\"\"},\"type\":\"choropleth\"}],\"contour\":[{\"colorbar\":{\"outlinewidth\":0,\"ticks\":\"\"},\"colorscale\":[[0.0,\"#0d0887\"],[0.1111111111111111,\"#46039f\"],[0.2222222222222222,\"#7201a8\"],[0.3333333333333333,\"#9c179e\"],[0.4444444444444444,\"#bd3786\"],[0.5555555555555556,\"#d8576b\"],[0.6666666666666666,\"#ed7953\"],[0.7777777777777778,\"#fb9f3a\"],[0.8888888888888888,\"#fdca26\"],[1.0,\"#f0f921\"]],\"type\":\"contour\"}],\"contourcarpet\":[{\"colorbar\":{\"outlinewidth\":0,\"ticks\":\"\"},\"type\":\"contourcarpet\"}],\"heatmap\":[{\"colorbar\":{\"outlinewidth\":0,\"ticks\":\"\"},\"colorscale\":[[0.0,\"#0d0887\"],[0.1111111111111111,\"#46039f\"],[0.2222222222222222,\"#7201a8\"],[0.3333333333333333,\"#9c179e\"],[0.4444444444444444,\"#bd3786\"],[0.5555555555555556,\"#d8576b\"],[0.6666666666666666,\"#ed7953\"],[0.7777777777777778,\"#fb9f3a\"],[0.8888888888888888,\"#fdca26\"],[1.0,\"#f0f921\"]],\"type\":\"heatmap\"}],\"heatmapgl\":[{\"colorbar\":{\"outlinewidth\":0,\"ticks\":\"\"},\"colorscale\":[[0.0,\"#0d0887\"],[0.1111111111111111,\"#46039f\"],[0.2222222222222222,\"#7201a8\"],[0.3333333333333333,\"#9c179e\"],[0.4444444444444444,\"#bd3786\"],[0.5555555555555556,\"#d8576b\"],[0.6666666666666666,\"#ed7953\"],[0.7777777777777778,\"#fb9f3a\"],[0.8888888888888888,\"#fdca26\"],[1.0,\"#f0f921\"]],\"type\":\"heatmapgl\"}],\"histogram\":[{\"marker\":{\"pattern\":{\"fillmode\":\"overlay\",\"size\":10,\"solidity\":0.2}},\"type\":\"histogram\"}],\"histogram2d\":[{\"colorbar\":{\"outlinewidth\":0,\"ticks\":\"\"},\"colorscale\":[[0.0,\"#0d0887\"],[0.1111111111111111,\"#46039f\"],[0.2222222222222222,\"#7201a8\"],[0.3333333333333333,\"#9c179e\"],[0.4444444444444444,\"#bd3786\"],[0.5555555555555556,\"#d8576b\"],[0.6666666666666666,\"#ed7953\"],[0.7777777777777778,\"#fb9f3a\"],[0.8888888888888888,\"#fdca26\"],[1.0,\"#f0f921\"]],\"type\":\"histogram2d\"}],\"histogram2dcontour\":[{\"colorbar\":{\"outlinewidth\":0,\"ticks\":\"\"},\"colorscale\":[[0.0,\"#0d0887\"],[0.1111111111111111,\"#46039f\"],[0.2222222222222222,\"#7201a8\"],[0.3333333333333333,\"#9c179e\"],[0.4444444444444444,\"#bd3786\"],[0.5555555555555556,\"#d8576b\"],[0.6666666666666666,\"#ed7953\"],[0.7777777777777778,\"#fb9f3a\"],[0.8888888888888888,\"#fdca26\"],[1.0,\"#f0f921\"]],\"type\":\"histogram2dcontour\"}],\"mesh3d\":[{\"colorbar\":{\"outlinewidth\":0,\"ticks\":\"\"},\"type\":\"mesh3d\"}],\"parcoords\":[{\"line\":{\"colorbar\":{\"outlinewidth\":0,\"ticks\":\"\"}},\"type\":\"parcoords\"}],\"pie\":[{\"automargin\":true,\"type\":\"pie\"}],\"scatter\":[{\"marker\":{\"colorbar\":{\"outlinewidth\":0,\"ticks\":\"\"}},\"type\":\"scatter\"}],\"scatter3d\":[{\"line\":{\"colorbar\":{\"outlinewidth\":0,\"ticks\":\"\"}},\"marker\":{\"colorbar\":{\"outlinewidth\":0,\"ticks\":\"\"}},\"type\":\"scatter3d\"}],\"scattercarpet\":[{\"marker\":{\"colorbar\":{\"outlinewidth\":0,\"ticks\":\"\"}},\"type\":\"scattercarpet\"}],\"scattergeo\":[{\"marker\":{\"colorbar\":{\"outlinewidth\":0,\"ticks\":\"\"}},\"type\":\"scattergeo\"}],\"scattergl\":[{\"marker\":{\"colorbar\":{\"outlinewidth\":0,\"ticks\":\"\"}},\"type\":\"scattergl\"}],\"scattermapbox\":[{\"marker\":{\"colorbar\":{\"outlinewidth\":0,\"ticks\":\"\"}},\"type\":\"scattermapbox\"}],\"scatterpolar\":[{\"marker\":{\"colorbar\":{\"outlinewidth\":0,\"ticks\":\"\"}},\"type\":\"scatterpolar\"}],\"scatterpolargl\":[{\"marker\":{\"colorbar\":{\"outlinewidth\":0,\"ticks\":\"\"}},\"type\":\"scatterpolargl\"}],\"scatterternary\":[{\"marker\":{\"colorbar\":{\"outlinewidth\":0,\"ticks\":\"\"}},\"type\":\"scatterternary\"}],\"surface\":[{\"colorbar\":{\"outlinewidth\":0,\"ticks\":\"\"},\"colorscale\":[[0.0,\"#0d0887\"],[0.1111111111111111,\"#46039f\"],[0.2222222222222222,\"#7201a8\"],[0.3333333333333333,\"#9c179e\"],[0.4444444444444444,\"#bd3786\"],[0.5555555555555556,\"#d8576b\"],[0.6666666666666666,\"#ed7953\"],[0.7777777777777778,\"#fb9f3a\"],[0.8888888888888888,\"#fdca26\"],[1.0,\"#f0f921\"]],\"type\":\"surface\"}],\"table\":[{\"cells\":{\"fill\":{\"color\":\"#EBF0F8\"},\"line\":{\"color\":\"white\"}},\"header\":{\"fill\":{\"color\":\"#C8D4E3\"},\"line\":{\"color\":\"white\"}},\"type\":\"table\"}]},\"layout\":{\"annotationdefaults\":{\"arrowcolor\":\"#2a3f5f\",\"arrowhead\":0,\"arrowwidth\":1},\"autotypenumbers\":\"strict\",\"coloraxis\":{\"colorbar\":{\"outlinewidth\":0,\"ticks\":\"\"}},\"colorscale\":{\"diverging\":[[0,\"#8e0152\"],[0.1,\"#c51b7d\"],[0.2,\"#de77ae\"],[0.3,\"#f1b6da\"],[0.4,\"#fde0ef\"],[0.5,\"#f7f7f7\"],[0.6,\"#e6f5d0\"],[0.7,\"#b8e186\"],[0.8,\"#7fbc41\"],[0.9,\"#4d9221\"],[1,\"#276419\"]],\"sequential\":[[0.0,\"#0d0887\"],[0.1111111111111111,\"#46039f\"],[0.2222222222222222,\"#7201a8\"],[0.3333333333333333,\"#9c179e\"],[0.4444444444444444,\"#bd3786\"],[0.5555555555555556,\"#d8576b\"],[0.6666666666666666,\"#ed7953\"],[0.7777777777777778,\"#fb9f3a\"],[0.8888888888888888,\"#fdca26\"],[1.0,\"#f0f921\"]],\"sequentialminus\":[[0.0,\"#0d0887\"],[0.1111111111111111,\"#46039f\"],[0.2222222222222222,\"#7201a8\"],[0.3333333333333333,\"#9c179e\"],[0.4444444444444444,\"#bd3786\"],[0.5555555555555556,\"#d8576b\"],[0.6666666666666666,\"#ed7953\"],[0.7777777777777778,\"#fb9f3a\"],[0.8888888888888888,\"#fdca26\"],[1.0,\"#f0f921\"]]},\"colorway\":[\"#636efa\",\"#EF553B\",\"#00cc96\",\"#ab63fa\",\"#FFA15A\",\"#19d3f3\",\"#FF6692\",\"#B6E880\",\"#FF97FF\",\"#FECB52\"],\"font\":{\"color\":\"#2a3f5f\"},\"geo\":{\"bgcolor\":\"white\",\"lakecolor\":\"white\",\"landcolor\":\"#E5ECF6\",\"showlakes\":true,\"showland\":true,\"subunitcolor\":\"white\"},\"hoverlabel\":{\"align\":\"left\"},\"hovermode\":\"closest\",\"mapbox\":{\"style\":\"light\"},\"paper_bgcolor\":\"white\",\"plot_bgcolor\":\"#E5ECF6\",\"polar\":{\"angularaxis\":{\"gridcolor\":\"white\",\"linecolor\":\"white\",\"ticks\":\"\"},\"bgcolor\":\"#E5ECF6\",\"radialaxis\":{\"gridcolor\":\"white\",\"linecolor\":\"white\",\"ticks\":\"\"}},\"scene\":{\"xaxis\":{\"backgroundcolor\":\"#E5ECF6\",\"gridcolor\":\"white\",\"gridwidth\":2,\"linecolor\":\"white\",\"showbackground\":true,\"ticks\":\"\",\"zerolinecolor\":\"white\"},\"yaxis\":{\"backgroundcolor\":\"#E5ECF6\",\"gridcolor\":\"white\",\"gridwidth\":2,\"linecolor\":\"white\",\"showbackground\":true,\"ticks\":\"\",\"zerolinecolor\":\"white\"},\"zaxis\":{\"backgroundcolor\":\"#E5ECF6\",\"gridcolor\":\"white\",\"gridwidth\":2,\"linecolor\":\"white\",\"showbackground\":true,\"ticks\":\"\",\"zerolinecolor\":\"white\"}},\"shapedefaults\":{\"line\":{\"color\":\"#2a3f5f\"}},\"ternary\":{\"aaxis\":{\"gridcolor\":\"white\",\"linecolor\":\"white\",\"ticks\":\"\"},\"baxis\":{\"gridcolor\":\"white\",\"linecolor\":\"white\",\"ticks\":\"\"},\"bgcolor\":\"#E5ECF6\",\"caxis\":{\"gridcolor\":\"white\",\"linecolor\":\"white\",\"ticks\":\"\"}},\"title\":{\"x\":0.05},\"xaxis\":{\"automargin\":true,\"gridcolor\":\"white\",\"linecolor\":\"white\",\"ticks\":\"\",\"title\":{\"standoff\":15},\"zerolinecolor\":\"white\",\"zerolinewidth\":2},\"yaxis\":{\"automargin\":true,\"gridcolor\":\"white\",\"linecolor\":\"white\",\"ticks\":\"\",\"title\":{\"standoff\":15},\"zerolinecolor\":\"white\",\"zerolinewidth\":2}}},\"title\":{\"text\":\"Total Monthly Expenses\"},\"xaxis\":{\"anchor\":\"y\",\"domain\":[0.0,1.0],\"showticklabels\":true,\"title\":{\"text\":\"Date\"},\"visible\":true},\"yaxis\":{\"anchor\":\"x\",\"domain\":[0.0,1.0],\"showticklabels\":true,\"title\":{\"text\":\"Expenses (\\u00a3)\"},\"visible\":true}},                        {\"responsive\": true}                    ).then(function(){\n",
       "                            \n",
       "var gd = document.getElementById('715aeae9-822d-4c4a-ba63-ff3241c0712a');\n",
       "var x = new MutationObserver(function (mutations, observer) {{\n",
       "        var display = window.getComputedStyle(gd).display;\n",
       "        if (!display || display === 'none') {{\n",
       "            console.log([gd, 'removed!']);\n",
       "            Plotly.purge(gd);\n",
       "            observer.disconnect();\n",
       "        }}\n",
       "}});\n",
       "\n",
       "// Listen for the removal of the full notebook cells\n",
       "var notebookContainer = gd.closest('#notebook-container');\n",
       "if (notebookContainer) {{\n",
       "    x.observe(notebookContainer, {childList: true});\n",
       "}}\n",
       "\n",
       "// Listen for the clearing of the current output cell\n",
       "var outputEl = gd.closest('.output');\n",
       "if (outputEl) {{\n",
       "    x.observe(outputEl, {childList: true});\n",
       "}}\n",
       "\n",
       "                        })                };                });            </script>        </div>"
      ]
     },
     "metadata": {},
     "output_type": "display_data"
    }
   ],
   "source": [
    "df_x = df[(df.Category != \"MoneyFromChris\") & (df.Category != \"Money from Friends\") & (df.Category != \"Money From Emma\") \n",
    "       & (df.Category != \"Rental Income\") ].copy() \n",
    "df_x['AbsAmount'] = df.Amount*(-1) \n",
    "Total_Monthly_Expenses_Table = df_x.groupby('year_month')['AbsAmount'].sum().reset_index(name = 'sum')\n",
    "Total_Monthly_Expenses_Chart = px.bar(Total_Monthly_Expenses_Table, x = \"year_month\", y = \"sum\", title = \"Total Monthly Expenses\")\n",
    "Total_Monthly_Expenses_Chart.update_yaxes(title = 'Expenses (£)', visible = True, showticklabels = True)\n",
    "Total_Monthly_Expenses_Chart.update_xaxes(title = 'Date', visible = True, showticklabels = True)\n",
    "Total_Monthly_Expenses_Chart.show()"
   ]
  },
  {
   "cell_type": "code",
   "execution_count": 205,
   "id": "c30369e6",
   "metadata": {},
   "outputs": [
    {
     "data": {
      "text/html": [
       "<div>\n",
       "<style scoped>\n",
       "    .dataframe tbody tr th:only-of-type {\n",
       "        vertical-align: middle;\n",
       "    }\n",
       "\n",
       "    .dataframe tbody tr th {\n",
       "        vertical-align: top;\n",
       "    }\n",
       "\n",
       "    .dataframe thead th {\n",
       "        text-align: right;\n",
       "    }\n",
       "</style>\n",
       "<table border=\"1\" class=\"dataframe\">\n",
       "  <thead>\n",
       "    <tr style=\"text-align: right;\">\n",
       "      <th></th>\n",
       "      <th>Transaction ID</th>\n",
       "      <th>Date</th>\n",
       "      <th>Amount</th>\n",
       "      <th>Description</th>\n",
       "      <th>Category</th>\n",
       "      <th>Name</th>\n",
       "      <th>year_month_day</th>\n",
       "      <th>year_month</th>\n",
       "    </tr>\n",
       "  </thead>\n",
       "  <tbody>\n",
       "    <tr>\n",
       "      <th>7</th>\n",
       "      <td>tx_0000A8pleviIVTIMNcrhvl</td>\n",
       "      <td>01/07/2021</td>\n",
       "      <td>1200.00</td>\n",
       "      <td>MoneyToEmma</td>\n",
       "      <td>MoneyFromChris</td>\n",
       "      <td>WEDGWOODLC13 LIMITED</td>\n",
       "      <td>2021-07-01</td>\n",
       "      <td>2021-07</td>\n",
       "    </tr>\n",
       "    <tr>\n",
       "      <th>8</th>\n",
       "      <td>tx_0000A8plhpnqwBghCXtmyY</td>\n",
       "      <td>01/07/2021</td>\n",
       "      <td>2800.00</td>\n",
       "      <td></td>\n",
       "      <td>MoneyFromChris</td>\n",
       "      <td>Christopher Wedgwood</td>\n",
       "      <td>2021-07-01</td>\n",
       "      <td>2021-07</td>\n",
       "    </tr>\n",
       "    <tr>\n",
       "      <th>67</th>\n",
       "      <td>tx_0000A91C0azowrsPNGAANt</td>\n",
       "      <td>06/07/2021</td>\n",
       "      <td>0.35</td>\n",
       "      <td></td>\n",
       "      <td>Transfer</td>\n",
       "      <td>Banner Street Pot</td>\n",
       "      <td>2021-07-06</td>\n",
       "      <td>2021-07</td>\n",
       "    </tr>\n",
       "    <tr>\n",
       "      <th>75</th>\n",
       "      <td>tx_0000A92upReQ2lZ0Kg1TWr</td>\n",
       "      <td>07/07/2021</td>\n",
       "      <td>500.00</td>\n",
       "      <td>CASH</td>\n",
       "      <td>Money From Emma</td>\n",
       "      <td>WEDGWOOD E</td>\n",
       "      <td>2021-07-07</td>\n",
       "      <td>2021-07</td>\n",
       "    </tr>\n",
       "    <tr>\n",
       "      <th>122</th>\n",
       "      <td>tx_0000A998ASnFSK9yv7TyLJ</td>\n",
       "      <td>10/07/2021</td>\n",
       "      <td>500.00</td>\n",
       "      <td>CASH</td>\n",
       "      <td>Money From Emma</td>\n",
       "      <td>WEDGWOOD E</td>\n",
       "      <td>2021-07-10</td>\n",
       "      <td>2021-07</td>\n",
       "    </tr>\n",
       "    <tr>\n",
       "      <th>201</th>\n",
       "      <td>tx_0000A9Kwhdhx1t6pC9CxqD</td>\n",
       "      <td>16/07/2021</td>\n",
       "      <td>90.12</td>\n",
       "      <td>DHL PARCEL UK         \\Coe House              ...</td>\n",
       "      <td>Postage</td>\n",
       "      <td>Dhl Parcel Uk</td>\n",
       "      <td>2021-07-16</td>\n",
       "      <td>2021-07</td>\n",
       "    </tr>\n",
       "    <tr>\n",
       "      <th>212</th>\n",
       "      <td>tx_0000A9LzMfsUGD5NnxwOdl</td>\n",
       "      <td>16/07/2021</td>\n",
       "      <td>600.00</td>\n",
       "      <td>MoneyToEmma</td>\n",
       "      <td>MoneyFromChris</td>\n",
       "      <td>WEDGWOODLC13 LIMITED</td>\n",
       "      <td>2021-07-16</td>\n",
       "      <td>2021-07</td>\n",
       "    </tr>\n",
       "    <tr>\n",
       "      <th>231</th>\n",
       "      <td>tx_0000A9QfeSDEmP69L1nL6H</td>\n",
       "      <td>19/07/2021</td>\n",
       "      <td>18.60</td>\n",
       "      <td>TWREF 900018491806</td>\n",
       "      <td>Utilities</td>\n",
       "      <td>Thames Water</td>\n",
       "      <td>2021-07-19</td>\n",
       "      <td>2021-07</td>\n",
       "    </tr>\n",
       "    <tr>\n",
       "      <th>248</th>\n",
       "      <td>tx_0000A9USnpUh4EmZgPev9V</td>\n",
       "      <td>20/07/2021</td>\n",
       "      <td>100.00</td>\n",
       "      <td></td>\n",
       "      <td>MoneyFromChris</td>\n",
       "      <td>Christopher Wedgwood</td>\n",
       "      <td>2021-07-20</td>\n",
       "      <td>2021-07</td>\n",
       "    </tr>\n",
       "    <tr>\n",
       "      <th>249</th>\n",
       "      <td>tx_0000A9Uef50PE2XOKpDeZV</td>\n",
       "      <td>20/07/2021</td>\n",
       "      <td>200.00</td>\n",
       "      <td>CASH</td>\n",
       "      <td>Money From Emma</td>\n",
       "      <td>WEDGWOOD E</td>\n",
       "      <td>2021-07-20</td>\n",
       "      <td>2021-07</td>\n",
       "    </tr>\n",
       "    <tr>\n",
       "      <th>252</th>\n",
       "      <td>tx_0000A9VT4TcHr4Pcfh5jaj</td>\n",
       "      <td>21/07/2021</td>\n",
       "      <td>0.74</td>\n",
       "      <td>PAYPAL                 35314369001   GBR</td>\n",
       "      <td>Bank Charges</td>\n",
       "      <td>PayPal</td>\n",
       "      <td>2021-07-21</td>\n",
       "      <td>2021-07</td>\n",
       "    </tr>\n",
       "    <tr>\n",
       "      <th>267</th>\n",
       "      <td>tx_0000A9Wf9ifmhE42fGyFwv</td>\n",
       "      <td>21/07/2021</td>\n",
       "      <td>200.00</td>\n",
       "      <td>CASH</td>\n",
       "      <td>Money From Emma</td>\n",
       "      <td>WEDGWOOD E</td>\n",
       "      <td>2021-07-21</td>\n",
       "      <td>2021-07</td>\n",
       "    </tr>\n",
       "    <tr>\n",
       "      <th>283</th>\n",
       "      <td>tx_0000A9c0LebshIK2BmHwQr</td>\n",
       "      <td>24/07/2021</td>\n",
       "      <td>250.00</td>\n",
       "      <td></td>\n",
       "      <td>MoneyFromChris</td>\n",
       "      <td>Christopher Wedgwood</td>\n",
       "      <td>2021-07-24</td>\n",
       "      <td>2021-07</td>\n",
       "    </tr>\n",
       "    <tr>\n",
       "      <th>316</th>\n",
       "      <td>tx_0000A9jKG0GEe5Io4LS9pJ</td>\n",
       "      <td>28/07/2021</td>\n",
       "      <td>1338.00</td>\n",
       "      <td>2 90 BANNER</td>\n",
       "      <td>Rental Income</td>\n",
       "      <td>2 90 Banner</td>\n",
       "      <td>2021-07-28</td>\n",
       "      <td>2021-07</td>\n",
       "    </tr>\n",
       "  </tbody>\n",
       "</table>\n",
       "</div>"
      ],
      "text/plain": [
       "                Transaction ID        Date   Amount  \\\n",
       "7    tx_0000A8pleviIVTIMNcrhvl  01/07/2021  1200.00   \n",
       "8    tx_0000A8plhpnqwBghCXtmyY  01/07/2021  2800.00   \n",
       "67   tx_0000A91C0azowrsPNGAANt  06/07/2021     0.35   \n",
       "75   tx_0000A92upReQ2lZ0Kg1TWr  07/07/2021   500.00   \n",
       "122  tx_0000A998ASnFSK9yv7TyLJ  10/07/2021   500.00   \n",
       "201  tx_0000A9Kwhdhx1t6pC9CxqD  16/07/2021    90.12   \n",
       "212  tx_0000A9LzMfsUGD5NnxwOdl  16/07/2021   600.00   \n",
       "231  tx_0000A9QfeSDEmP69L1nL6H  19/07/2021    18.60   \n",
       "248  tx_0000A9USnpUh4EmZgPev9V  20/07/2021   100.00   \n",
       "249  tx_0000A9Uef50PE2XOKpDeZV  20/07/2021   200.00   \n",
       "252  tx_0000A9VT4TcHr4Pcfh5jaj  21/07/2021     0.74   \n",
       "267  tx_0000A9Wf9ifmhE42fGyFwv  21/07/2021   200.00   \n",
       "283  tx_0000A9c0LebshIK2BmHwQr  24/07/2021   250.00   \n",
       "316  tx_0000A9jKG0GEe5Io4LS9pJ  28/07/2021  1338.00   \n",
       "\n",
       "                                           Description         Category  \\\n",
       "7                                          MoneyToEmma   MoneyFromChris   \n",
       "8                                                        MoneyFromChris   \n",
       "67                                                             Transfer   \n",
       "75                                                CASH  Money From Emma   \n",
       "122                                               CASH  Money From Emma   \n",
       "201  DHL PARCEL UK         \\Coe House              ...          Postage   \n",
       "212                                        MoneyToEmma   MoneyFromChris   \n",
       "231                                 TWREF 900018491806        Utilities   \n",
       "248                                                      MoneyFromChris   \n",
       "249                                               CASH  Money From Emma   \n",
       "252           PAYPAL                 35314369001   GBR     Bank Charges   \n",
       "267                                               CASH  Money From Emma   \n",
       "283                                                      MoneyFromChris   \n",
       "316                                        2 90 BANNER    Rental Income   \n",
       "\n",
       "                     Name year_month_day year_month  \n",
       "7    WEDGWOODLC13 LIMITED     2021-07-01    2021-07  \n",
       "8    Christopher Wedgwood     2021-07-01    2021-07  \n",
       "67      Banner Street Pot     2021-07-06    2021-07  \n",
       "75             WEDGWOOD E     2021-07-07    2021-07  \n",
       "122            WEDGWOOD E     2021-07-10    2021-07  \n",
       "201         Dhl Parcel Uk     2021-07-16    2021-07  \n",
       "212  WEDGWOODLC13 LIMITED     2021-07-16    2021-07  \n",
       "231          Thames Water     2021-07-19    2021-07  \n",
       "248  Christopher Wedgwood     2021-07-20    2021-07  \n",
       "249            WEDGWOOD E     2021-07-20    2021-07  \n",
       "252                PayPal     2021-07-21    2021-07  \n",
       "267            WEDGWOOD E     2021-07-21    2021-07  \n",
       "283  Christopher Wedgwood     2021-07-24    2021-07  \n",
       "316           2 90 Banner     2021-07-28    2021-07  "
      ]
     },
     "execution_count": 205,
     "metadata": {},
     "output_type": "execute_result"
    }
   ],
   "source": [
    "df[df.Amount>0]"
   ]
  },
  {
   "cell_type": "code",
   "execution_count": 213,
   "id": "b3b32233",
   "metadata": {},
   "outputs": [
    {
     "data": {
      "application/vnd.plotly.v1+json": {
       "config": {
        "plotlyServerURL": "https://plot.ly"
       },
       "data": [
        {
         "hovertemplate": "Category=<br>year_month=%{x}<br>Amount=%{y}<extra></extra>",
         "legendgroup": "",
         "line": {
          "color": "#636efa",
          "dash": "solid"
         },
         "mode": "lines",
         "name": "",
         "orientation": "v",
         "showlegend": false,
         "type": "scatter",
         "x": [
          "2021-07"
         ],
         "xaxis": "x",
         "y": [
          -39
         ],
         "yaxis": "y"
        },
        {
         "hovertemplate": "Category=Bank Charges<br>year_month=%{x}<br>Amount=%{y}<extra></extra>",
         "legendgroup": "Bank Charges",
         "line": {
          "color": "#EF553B",
          "dash": "solid"
         },
         "mode": "lines",
         "name": "Bank Charges",
         "orientation": "v",
         "showlegend": true,
         "type": "scatter",
         "x": [
          "2021-07"
         ],
         "xaxis": "x",
         "y": [
          0
         ],
         "yaxis": "y"
        },
        {
         "hovertemplate": "Category=Car<br>year_month=%{x}<br>Amount=%{y}<extra></extra>",
         "legendgroup": "Car",
         "line": {
          "color": "#00cc96",
          "dash": "solid"
         },
         "mode": "lines",
         "name": "Car",
         "orientation": "v",
         "showlegend": true,
         "type": "scatter",
         "x": [
          "2021-07"
         ],
         "xaxis": "x",
         "y": [
          -631.66
         ],
         "yaxis": "y"
        },
        {
         "hovertemplate": "Category=Cash Out<br>year_month=%{x}<br>Amount=%{y}<extra></extra>",
         "legendgroup": "Cash Out",
         "line": {
          "color": "#ab63fa",
          "dash": "solid"
         },
         "mode": "lines",
         "name": "Cash Out",
         "orientation": "v",
         "showlegend": true,
         "type": "scatter",
         "x": [
          "2021-07"
         ],
         "xaxis": "x",
         "y": [
          -50
         ],
         "yaxis": "y"
        },
        {
         "hovertemplate": "Category=Council Tax<br>year_month=%{x}<br>Amount=%{y}<extra></extra>",
         "legendgroup": "Council Tax",
         "line": {
          "color": "#FFA15A",
          "dash": "solid"
         },
         "mode": "lines",
         "name": "Council Tax",
         "orientation": "v",
         "showlegend": true,
         "type": "scatter",
         "x": [
          "2021-07"
         ],
         "xaxis": "x",
         "y": [
          -214.99
         ],
         "yaxis": "y"
        },
        {
         "hovertemplate": "Category=Credit Card<br>year_month=%{x}<br>Amount=%{y}<extra></extra>",
         "legendgroup": "Credit Card",
         "line": {
          "color": "#19d3f3",
          "dash": "solid"
         },
         "mode": "lines",
         "name": "Credit Card",
         "orientation": "v",
         "showlegend": true,
         "type": "scatter",
         "x": [
          "2021-07"
         ],
         "xaxis": "x",
         "y": [
          -2469.9500000000003
         ],
         "yaxis": "y"
        },
        {
         "hovertemplate": "Category=Emma Wedgwood Aesthetics Expense<br>year_month=%{x}<br>Amount=%{y}<extra></extra>",
         "legendgroup": "Emma Wedgwood Aesthetics Expense",
         "line": {
          "color": "#FF6692",
          "dash": "solid"
         },
         "mode": "lines",
         "name": "Emma Wedgwood Aesthetics Expense",
         "orientation": "v",
         "showlegend": true,
         "type": "scatter",
         "x": [
          "2021-07"
         ],
         "xaxis": "x",
         "y": [
          -70.05
         ],
         "yaxis": "y"
        },
        {
         "hovertemplate": "Category=Entertainment<br>year_month=%{x}<br>Amount=%{y}<extra></extra>",
         "legendgroup": "Entertainment",
         "line": {
          "color": "#B6E880",
          "dash": "solid"
         },
         "mode": "lines",
         "name": "Entertainment",
         "orientation": "v",
         "showlegend": true,
         "type": "scatter",
         "x": [
          "2021-07"
         ],
         "xaxis": "x",
         "y": [
          -39.33
         ],
         "yaxis": "y"
        },
        {
         "hovertemplate": "Category=Gifts<br>year_month=%{x}<br>Amount=%{y}<extra></extra>",
         "legendgroup": "Gifts",
         "line": {
          "color": "#FF97FF",
          "dash": "solid"
         },
         "mode": "lines",
         "name": "Gifts",
         "orientation": "v",
         "showlegend": true,
         "type": "scatter",
         "x": [
          "2021-07"
         ],
         "xaxis": "x",
         "y": [
          -205.28
         ],
         "yaxis": "y"
        },
        {
         "hovertemplate": "Category=Groceries<br>year_month=%{x}<br>Amount=%{y}<extra></extra>",
         "legendgroup": "Groceries",
         "line": {
          "color": "#FECB52",
          "dash": "solid"
         },
         "mode": "lines",
         "name": "Groceries",
         "orientation": "v",
         "showlegend": true,
         "type": "scatter",
         "x": [
          "2021-07"
         ],
         "xaxis": "x",
         "y": [
          -395.95
         ],
         "yaxis": "y"
        },
        {
         "hovertemplate": "Category=Health&Fitness<br>year_month=%{x}<br>Amount=%{y}<extra></extra>",
         "legendgroup": "Health&Fitness",
         "line": {
          "color": "#636efa",
          "dash": "solid"
         },
         "mode": "lines",
         "name": "Health&Fitness",
         "orientation": "v",
         "showlegend": true,
         "type": "scatter",
         "x": [
          "2021-07"
         ],
         "xaxis": "x",
         "y": [
          -15
         ],
         "yaxis": "y"
        },
        {
         "hovertemplate": "Category=Holiday<br>year_month=%{x}<br>Amount=%{y}<extra></extra>",
         "legendgroup": "Holiday",
         "line": {
          "color": "#EF553B",
          "dash": "solid"
         },
         "mode": "lines",
         "name": "Holiday",
         "orientation": "v",
         "showlegend": true,
         "type": "scatter",
         "x": [
          "2021-07"
         ],
         "xaxis": "x",
         "y": [
          -380.1
         ],
         "yaxis": "y"
        },
        {
         "hovertemplate": "Category=Houesehold<br>year_month=%{x}<br>Amount=%{y}<extra></extra>",
         "legendgroup": "Houesehold",
         "line": {
          "color": "#00cc96",
          "dash": "solid"
         },
         "mode": "lines",
         "name": "Houesehold",
         "orientation": "v",
         "showlegend": true,
         "type": "scatter",
         "x": [
          "2021-07"
         ],
         "xaxis": "x",
         "y": [
          -61.05
         ],
         "yaxis": "y"
        },
        {
         "hovertemplate": "Category=Household<br>year_month=%{x}<br>Amount=%{y}<extra></extra>",
         "legendgroup": "Household",
         "line": {
          "color": "#ab63fa",
          "dash": "solid"
         },
         "mode": "lines",
         "name": "Household",
         "orientation": "v",
         "showlegend": true,
         "type": "scatter",
         "x": [
          "2021-07"
         ],
         "xaxis": "x",
         "y": [
          -17
         ],
         "yaxis": "y"
        },
        {
         "hovertemplate": "Category=Insurance<br>year_month=%{x}<br>Amount=%{y}<extra></extra>",
         "legendgroup": "Insurance",
         "line": {
          "color": "#FFA15A",
          "dash": "solid"
         },
         "mode": "lines",
         "name": "Insurance",
         "orientation": "v",
         "showlegend": true,
         "type": "scatter",
         "x": [
          "2021-07"
         ],
         "xaxis": "x",
         "y": [
          -106.96000000000001
         ],
         "yaxis": "y"
        },
        {
         "hovertemplate": "Category=Jewellery<br>year_month=%{x}<br>Amount=%{y}<extra></extra>",
         "legendgroup": "Jewellery",
         "line": {
          "color": "#19d3f3",
          "dash": "solid"
         },
         "mode": "lines",
         "name": "Jewellery",
         "orientation": "v",
         "showlegend": true,
         "type": "scatter",
         "x": [
          "2021-07"
         ],
         "xaxis": "x",
         "y": [
          -130
         ],
         "yaxis": "y"
        },
        {
         "hovertemplate": "Category=Money From Emma<br>year_month=%{x}<br>Amount=%{y}<extra></extra>",
         "legendgroup": "Money From Emma",
         "line": {
          "color": "#FF6692",
          "dash": "solid"
         },
         "mode": "lines",
         "name": "Money From Emma",
         "orientation": "v",
         "showlegend": true,
         "type": "scatter",
         "x": [
          "2021-07"
         ],
         "xaxis": "x",
         "y": [
          1400
         ],
         "yaxis": "y"
        },
        {
         "hovertemplate": "Category=Money from Friends<br>year_month=%{x}<br>Amount=%{y}<extra></extra>",
         "legendgroup": "Money from Friends",
         "line": {
          "color": "#B6E880",
          "dash": "solid"
         },
         "mode": "lines",
         "name": "Money from Friends",
         "orientation": "v",
         "showlegend": true,
         "type": "scatter",
         "x": [
          "2021-07"
         ],
         "xaxis": "x",
         "y": [
          -60
         ],
         "yaxis": "y"
        },
        {
         "hovertemplate": "Category=MoneyFromChris<br>year_month=%{x}<br>Amount=%{y}<extra></extra>",
         "legendgroup": "MoneyFromChris",
         "line": {
          "color": "#FF97FF",
          "dash": "solid"
         },
         "mode": "lines",
         "name": "MoneyFromChris",
         "orientation": "v",
         "showlegend": true,
         "type": "scatter",
         "x": [
          "2021-07"
         ],
         "xaxis": "x",
         "y": [
          4950
         ],
         "yaxis": "y"
        },
        {
         "hovertemplate": "Category=Mortgage<br>year_month=%{x}<br>Amount=%{y}<extra></extra>",
         "legendgroup": "Mortgage",
         "line": {
          "color": "#FECB52",
          "dash": "solid"
         },
         "mode": "lines",
         "name": "Mortgage",
         "orientation": "v",
         "showlegend": true,
         "type": "scatter",
         "x": [
          "2021-07"
         ],
         "xaxis": "x",
         "y": [
          -963.94
         ],
         "yaxis": "y"
        },
        {
         "hovertemplate": "Category=Online Purchase<br>year_month=%{x}<br>Amount=%{y}<extra></extra>",
         "legendgroup": "Online Purchase",
         "line": {
          "color": "#636efa",
          "dash": "solid"
         },
         "mode": "lines",
         "name": "Online Purchase",
         "orientation": "v",
         "showlegend": true,
         "type": "scatter",
         "x": [
          "2021-07"
         ],
         "xaxis": "x",
         "y": [
          -9.99
         ],
         "yaxis": "y"
        },
        {
         "hovertemplate": "Category=Pharmacy<br>year_month=%{x}<br>Amount=%{y}<extra></extra>",
         "legendgroup": "Pharmacy",
         "line": {
          "color": "#EF553B",
          "dash": "solid"
         },
         "mode": "lines",
         "name": "Pharmacy",
         "orientation": "v",
         "showlegend": true,
         "type": "scatter",
         "x": [
          "2021-07"
         ],
         "xaxis": "x",
         "y": [
          -50.4
         ],
         "yaxis": "y"
        },
        {
         "hovertemplate": "Category=Postage<br>year_month=%{x}<br>Amount=%{y}<extra></extra>",
         "legendgroup": "Postage",
         "line": {
          "color": "#00cc96",
          "dash": "solid"
         },
         "mode": "lines",
         "name": "Postage",
         "orientation": "v",
         "showlegend": true,
         "type": "scatter",
         "x": [
          "2021-07"
         ],
         "xaxis": "x",
         "y": [
          -74.93999999999998
         ],
         "yaxis": "y"
        },
        {
         "hovertemplate": "Category=Rental Income<br>year_month=%{x}<br>Amount=%{y}<extra></extra>",
         "legendgroup": "Rental Income",
         "line": {
          "color": "#ab63fa",
          "dash": "solid"
         },
         "mode": "lines",
         "name": "Rental Income",
         "orientation": "v",
         "showlegend": true,
         "type": "scatter",
         "x": [
          "2021-07"
         ],
         "xaxis": "x",
         "y": [
          1338
         ],
         "yaxis": "y"
        },
        {
         "hovertemplate": "Category=Restaurant<br>year_month=%{x}<br>Amount=%{y}<extra></extra>",
         "legendgroup": "Restaurant",
         "line": {
          "color": "#FFA15A",
          "dash": "solid"
         },
         "mode": "lines",
         "name": "Restaurant",
         "orientation": "v",
         "showlegend": true,
         "type": "scatter",
         "x": [
          "2021-07"
         ],
         "xaxis": "x",
         "y": [
          -392.57
         ],
         "yaxis": "y"
        },
        {
         "hovertemplate": "Category=Snackette<br>year_month=%{x}<br>Amount=%{y}<extra></extra>",
         "legendgroup": "Snackette",
         "line": {
          "color": "#19d3f3",
          "dash": "solid"
         },
         "mode": "lines",
         "name": "Snackette",
         "orientation": "v",
         "showlegend": true,
         "type": "scatter",
         "x": [
          "2021-07"
         ],
         "xaxis": "x",
         "y": [
          -318.22
         ],
         "yaxis": "y"
        },
        {
         "hovertemplate": "Category=Stationary<br>year_month=%{x}<br>Amount=%{y}<extra></extra>",
         "legendgroup": "Stationary",
         "line": {
          "color": "#FF6692",
          "dash": "solid"
         },
         "mode": "lines",
         "name": "Stationary",
         "orientation": "v",
         "showlegend": true,
         "type": "scatter",
         "x": [
          "2021-07"
         ],
         "xaxis": "x",
         "y": [
          -29.99
         ],
         "yaxis": "y"
        },
        {
         "hovertemplate": "Category=Takeaway<br>year_month=%{x}<br>Amount=%{y}<extra></extra>",
         "legendgroup": "Takeaway",
         "line": {
          "color": "#B6E880",
          "dash": "solid"
         },
         "mode": "lines",
         "name": "Takeaway",
         "orientation": "v",
         "showlegend": true,
         "type": "scatter",
         "x": [
          "2021-07"
         ],
         "xaxis": "x",
         "y": [
          -147.85
         ],
         "yaxis": "y"
        },
        {
         "hovertemplate": "Category=Therapy<br>year_month=%{x}<br>Amount=%{y}<extra></extra>",
         "legendgroup": "Therapy",
         "line": {
          "color": "#FF97FF",
          "dash": "solid"
         },
         "mode": "lines",
         "name": "Therapy",
         "orientation": "v",
         "showlegend": true,
         "type": "scatter",
         "x": [
          "2021-07"
         ],
         "xaxis": "x",
         "y": [
          -285
         ],
         "yaxis": "y"
        },
        {
         "hovertemplate": "Category=Transfer<br>year_month=%{x}<br>Amount=%{y}<extra></extra>",
         "legendgroup": "Transfer",
         "line": {
          "color": "#FECB52",
          "dash": "solid"
         },
         "mode": "lines",
         "name": "Transfer",
         "orientation": "v",
         "showlegend": true,
         "type": "scatter",
         "x": [
          "2021-07"
         ],
         "xaxis": "x",
         "y": [
          -57.62
         ],
         "yaxis": "y"
        },
        {
         "hovertemplate": "Category=Travel<br>year_month=%{x}<br>Amount=%{y}<extra></extra>",
         "legendgroup": "Travel",
         "line": {
          "color": "#636efa",
          "dash": "solid"
         },
         "mode": "lines",
         "name": "Travel",
         "orientation": "v",
         "showlegend": true,
         "type": "scatter",
         "x": [
          "2021-07"
         ],
         "xaxis": "x",
         "y": [
          -120.55
         ],
         "yaxis": "y"
        },
        {
         "hovertemplate": "Category=Utilities<br>year_month=%{x}<br>Amount=%{y}<extra></extra>",
         "legendgroup": "Utilities",
         "line": {
          "color": "#EF553B",
          "dash": "solid"
         },
         "mode": "lines",
         "name": "Utilities",
         "orientation": "v",
         "showlegend": true,
         "type": "scatter",
         "x": [
          "2021-07"
         ],
         "xaxis": "x",
         "y": [
          -230.89
         ],
         "yaxis": "y"
        }
       ],
       "layout": {
        "legend": {
         "title": {
          "text": "Category"
         },
         "tracegroupgap": 0
        },
        "template": {
         "data": {
          "bar": [
           {
            "error_x": {
             "color": "#2a3f5f"
            },
            "error_y": {
             "color": "#2a3f5f"
            },
            "marker": {
             "line": {
              "color": "#E5ECF6",
              "width": 0.5
             },
             "pattern": {
              "fillmode": "overlay",
              "size": 10,
              "solidity": 0.2
             }
            },
            "type": "bar"
           }
          ],
          "barpolar": [
           {
            "marker": {
             "line": {
              "color": "#E5ECF6",
              "width": 0.5
             },
             "pattern": {
              "fillmode": "overlay",
              "size": 10,
              "solidity": 0.2
             }
            },
            "type": "barpolar"
           }
          ],
          "carpet": [
           {
            "aaxis": {
             "endlinecolor": "#2a3f5f",
             "gridcolor": "white",
             "linecolor": "white",
             "minorgridcolor": "white",
             "startlinecolor": "#2a3f5f"
            },
            "baxis": {
             "endlinecolor": "#2a3f5f",
             "gridcolor": "white",
             "linecolor": "white",
             "minorgridcolor": "white",
             "startlinecolor": "#2a3f5f"
            },
            "type": "carpet"
           }
          ],
          "choropleth": [
           {
            "colorbar": {
             "outlinewidth": 0,
             "ticks": ""
            },
            "type": "choropleth"
           }
          ],
          "contour": [
           {
            "colorbar": {
             "outlinewidth": 0,
             "ticks": ""
            },
            "colorscale": [
             [
              0,
              "#0d0887"
             ],
             [
              0.1111111111111111,
              "#46039f"
             ],
             [
              0.2222222222222222,
              "#7201a8"
             ],
             [
              0.3333333333333333,
              "#9c179e"
             ],
             [
              0.4444444444444444,
              "#bd3786"
             ],
             [
              0.5555555555555556,
              "#d8576b"
             ],
             [
              0.6666666666666666,
              "#ed7953"
             ],
             [
              0.7777777777777778,
              "#fb9f3a"
             ],
             [
              0.8888888888888888,
              "#fdca26"
             ],
             [
              1,
              "#f0f921"
             ]
            ],
            "type": "contour"
           }
          ],
          "contourcarpet": [
           {
            "colorbar": {
             "outlinewidth": 0,
             "ticks": ""
            },
            "type": "contourcarpet"
           }
          ],
          "heatmap": [
           {
            "colorbar": {
             "outlinewidth": 0,
             "ticks": ""
            },
            "colorscale": [
             [
              0,
              "#0d0887"
             ],
             [
              0.1111111111111111,
              "#46039f"
             ],
             [
              0.2222222222222222,
              "#7201a8"
             ],
             [
              0.3333333333333333,
              "#9c179e"
             ],
             [
              0.4444444444444444,
              "#bd3786"
             ],
             [
              0.5555555555555556,
              "#d8576b"
             ],
             [
              0.6666666666666666,
              "#ed7953"
             ],
             [
              0.7777777777777778,
              "#fb9f3a"
             ],
             [
              0.8888888888888888,
              "#fdca26"
             ],
             [
              1,
              "#f0f921"
             ]
            ],
            "type": "heatmap"
           }
          ],
          "heatmapgl": [
           {
            "colorbar": {
             "outlinewidth": 0,
             "ticks": ""
            },
            "colorscale": [
             [
              0,
              "#0d0887"
             ],
             [
              0.1111111111111111,
              "#46039f"
             ],
             [
              0.2222222222222222,
              "#7201a8"
             ],
             [
              0.3333333333333333,
              "#9c179e"
             ],
             [
              0.4444444444444444,
              "#bd3786"
             ],
             [
              0.5555555555555556,
              "#d8576b"
             ],
             [
              0.6666666666666666,
              "#ed7953"
             ],
             [
              0.7777777777777778,
              "#fb9f3a"
             ],
             [
              0.8888888888888888,
              "#fdca26"
             ],
             [
              1,
              "#f0f921"
             ]
            ],
            "type": "heatmapgl"
           }
          ],
          "histogram": [
           {
            "marker": {
             "pattern": {
              "fillmode": "overlay",
              "size": 10,
              "solidity": 0.2
             }
            },
            "type": "histogram"
           }
          ],
          "histogram2d": [
           {
            "colorbar": {
             "outlinewidth": 0,
             "ticks": ""
            },
            "colorscale": [
             [
              0,
              "#0d0887"
             ],
             [
              0.1111111111111111,
              "#46039f"
             ],
             [
              0.2222222222222222,
              "#7201a8"
             ],
             [
              0.3333333333333333,
              "#9c179e"
             ],
             [
              0.4444444444444444,
              "#bd3786"
             ],
             [
              0.5555555555555556,
              "#d8576b"
             ],
             [
              0.6666666666666666,
              "#ed7953"
             ],
             [
              0.7777777777777778,
              "#fb9f3a"
             ],
             [
              0.8888888888888888,
              "#fdca26"
             ],
             [
              1,
              "#f0f921"
             ]
            ],
            "type": "histogram2d"
           }
          ],
          "histogram2dcontour": [
           {
            "colorbar": {
             "outlinewidth": 0,
             "ticks": ""
            },
            "colorscale": [
             [
              0,
              "#0d0887"
             ],
             [
              0.1111111111111111,
              "#46039f"
             ],
             [
              0.2222222222222222,
              "#7201a8"
             ],
             [
              0.3333333333333333,
              "#9c179e"
             ],
             [
              0.4444444444444444,
              "#bd3786"
             ],
             [
              0.5555555555555556,
              "#d8576b"
             ],
             [
              0.6666666666666666,
              "#ed7953"
             ],
             [
              0.7777777777777778,
              "#fb9f3a"
             ],
             [
              0.8888888888888888,
              "#fdca26"
             ],
             [
              1,
              "#f0f921"
             ]
            ],
            "type": "histogram2dcontour"
           }
          ],
          "mesh3d": [
           {
            "colorbar": {
             "outlinewidth": 0,
             "ticks": ""
            },
            "type": "mesh3d"
           }
          ],
          "parcoords": [
           {
            "line": {
             "colorbar": {
              "outlinewidth": 0,
              "ticks": ""
             }
            },
            "type": "parcoords"
           }
          ],
          "pie": [
           {
            "automargin": true,
            "type": "pie"
           }
          ],
          "scatter": [
           {
            "marker": {
             "colorbar": {
              "outlinewidth": 0,
              "ticks": ""
             }
            },
            "type": "scatter"
           }
          ],
          "scatter3d": [
           {
            "line": {
             "colorbar": {
              "outlinewidth": 0,
              "ticks": ""
             }
            },
            "marker": {
             "colorbar": {
              "outlinewidth": 0,
              "ticks": ""
             }
            },
            "type": "scatter3d"
           }
          ],
          "scattercarpet": [
           {
            "marker": {
             "colorbar": {
              "outlinewidth": 0,
              "ticks": ""
             }
            },
            "type": "scattercarpet"
           }
          ],
          "scattergeo": [
           {
            "marker": {
             "colorbar": {
              "outlinewidth": 0,
              "ticks": ""
             }
            },
            "type": "scattergeo"
           }
          ],
          "scattergl": [
           {
            "marker": {
             "colorbar": {
              "outlinewidth": 0,
              "ticks": ""
             }
            },
            "type": "scattergl"
           }
          ],
          "scattermapbox": [
           {
            "marker": {
             "colorbar": {
              "outlinewidth": 0,
              "ticks": ""
             }
            },
            "type": "scattermapbox"
           }
          ],
          "scatterpolar": [
           {
            "marker": {
             "colorbar": {
              "outlinewidth": 0,
              "ticks": ""
             }
            },
            "type": "scatterpolar"
           }
          ],
          "scatterpolargl": [
           {
            "marker": {
             "colorbar": {
              "outlinewidth": 0,
              "ticks": ""
             }
            },
            "type": "scatterpolargl"
           }
          ],
          "scatterternary": [
           {
            "marker": {
             "colorbar": {
              "outlinewidth": 0,
              "ticks": ""
             }
            },
            "type": "scatterternary"
           }
          ],
          "surface": [
           {
            "colorbar": {
             "outlinewidth": 0,
             "ticks": ""
            },
            "colorscale": [
             [
              0,
              "#0d0887"
             ],
             [
              0.1111111111111111,
              "#46039f"
             ],
             [
              0.2222222222222222,
              "#7201a8"
             ],
             [
              0.3333333333333333,
              "#9c179e"
             ],
             [
              0.4444444444444444,
              "#bd3786"
             ],
             [
              0.5555555555555556,
              "#d8576b"
             ],
             [
              0.6666666666666666,
              "#ed7953"
             ],
             [
              0.7777777777777778,
              "#fb9f3a"
             ],
             [
              0.8888888888888888,
              "#fdca26"
             ],
             [
              1,
              "#f0f921"
             ]
            ],
            "type": "surface"
           }
          ],
          "table": [
           {
            "cells": {
             "fill": {
              "color": "#EBF0F8"
             },
             "line": {
              "color": "white"
             }
            },
            "header": {
             "fill": {
              "color": "#C8D4E3"
             },
             "line": {
              "color": "white"
             }
            },
            "type": "table"
           }
          ]
         },
         "layout": {
          "annotationdefaults": {
           "arrowcolor": "#2a3f5f",
           "arrowhead": 0,
           "arrowwidth": 1
          },
          "autotypenumbers": "strict",
          "coloraxis": {
           "colorbar": {
            "outlinewidth": 0,
            "ticks": ""
           }
          },
          "colorscale": {
           "diverging": [
            [
             0,
             "#8e0152"
            ],
            [
             0.1,
             "#c51b7d"
            ],
            [
             0.2,
             "#de77ae"
            ],
            [
             0.3,
             "#f1b6da"
            ],
            [
             0.4,
             "#fde0ef"
            ],
            [
             0.5,
             "#f7f7f7"
            ],
            [
             0.6,
             "#e6f5d0"
            ],
            [
             0.7,
             "#b8e186"
            ],
            [
             0.8,
             "#7fbc41"
            ],
            [
             0.9,
             "#4d9221"
            ],
            [
             1,
             "#276419"
            ]
           ],
           "sequential": [
            [
             0,
             "#0d0887"
            ],
            [
             0.1111111111111111,
             "#46039f"
            ],
            [
             0.2222222222222222,
             "#7201a8"
            ],
            [
             0.3333333333333333,
             "#9c179e"
            ],
            [
             0.4444444444444444,
             "#bd3786"
            ],
            [
             0.5555555555555556,
             "#d8576b"
            ],
            [
             0.6666666666666666,
             "#ed7953"
            ],
            [
             0.7777777777777778,
             "#fb9f3a"
            ],
            [
             0.8888888888888888,
             "#fdca26"
            ],
            [
             1,
             "#f0f921"
            ]
           ],
           "sequentialminus": [
            [
             0,
             "#0d0887"
            ],
            [
             0.1111111111111111,
             "#46039f"
            ],
            [
             0.2222222222222222,
             "#7201a8"
            ],
            [
             0.3333333333333333,
             "#9c179e"
            ],
            [
             0.4444444444444444,
             "#bd3786"
            ],
            [
             0.5555555555555556,
             "#d8576b"
            ],
            [
             0.6666666666666666,
             "#ed7953"
            ],
            [
             0.7777777777777778,
             "#fb9f3a"
            ],
            [
             0.8888888888888888,
             "#fdca26"
            ],
            [
             1,
             "#f0f921"
            ]
           ]
          },
          "colorway": [
           "#636efa",
           "#EF553B",
           "#00cc96",
           "#ab63fa",
           "#FFA15A",
           "#19d3f3",
           "#FF6692",
           "#B6E880",
           "#FF97FF",
           "#FECB52"
          ],
          "font": {
           "color": "#2a3f5f"
          },
          "geo": {
           "bgcolor": "white",
           "lakecolor": "white",
           "landcolor": "#E5ECF6",
           "showlakes": true,
           "showland": true,
           "subunitcolor": "white"
          },
          "hoverlabel": {
           "align": "left"
          },
          "hovermode": "closest",
          "mapbox": {
           "style": "light"
          },
          "paper_bgcolor": "white",
          "plot_bgcolor": "#E5ECF6",
          "polar": {
           "angularaxis": {
            "gridcolor": "white",
            "linecolor": "white",
            "ticks": ""
           },
           "bgcolor": "#E5ECF6",
           "radialaxis": {
            "gridcolor": "white",
            "linecolor": "white",
            "ticks": ""
           }
          },
          "scene": {
           "xaxis": {
            "backgroundcolor": "#E5ECF6",
            "gridcolor": "white",
            "gridwidth": 2,
            "linecolor": "white",
            "showbackground": true,
            "ticks": "",
            "zerolinecolor": "white"
           },
           "yaxis": {
            "backgroundcolor": "#E5ECF6",
            "gridcolor": "white",
            "gridwidth": 2,
            "linecolor": "white",
            "showbackground": true,
            "ticks": "",
            "zerolinecolor": "white"
           },
           "zaxis": {
            "backgroundcolor": "#E5ECF6",
            "gridcolor": "white",
            "gridwidth": 2,
            "linecolor": "white",
            "showbackground": true,
            "ticks": "",
            "zerolinecolor": "white"
           }
          },
          "shapedefaults": {
           "line": {
            "color": "#2a3f5f"
           }
          },
          "ternary": {
           "aaxis": {
            "gridcolor": "white",
            "linecolor": "white",
            "ticks": ""
           },
           "baxis": {
            "gridcolor": "white",
            "linecolor": "white",
            "ticks": ""
           },
           "bgcolor": "#E5ECF6",
           "caxis": {
            "gridcolor": "white",
            "linecolor": "white",
            "ticks": ""
           }
          },
          "title": {
           "x": 0.05
          },
          "xaxis": {
           "automargin": true,
           "gridcolor": "white",
           "linecolor": "white",
           "ticks": "",
           "title": {
            "standoff": 15
           },
           "zerolinecolor": "white",
           "zerolinewidth": 2
          },
          "yaxis": {
           "automargin": true,
           "gridcolor": "white",
           "linecolor": "white",
           "ticks": "",
           "title": {
            "standoff": 15
           },
           "zerolinecolor": "white",
           "zerolinewidth": 2
          }
         }
        },
        "title": {
         "text": "Expenses Breakdown"
        },
        "xaxis": {
         "anchor": "y",
         "domain": [
          0,
          1
         ],
         "showticklabels": true,
         "title": {
          "text": "Date"
         },
         "visible": true
        },
        "yaxis": {
         "anchor": "x",
         "domain": [
          0,
          1
         ],
         "showticklabels": true,
         "title": {
          "text": "Expenses (£)"
         },
         "visible": true
        }
       }
      },
      "text/html": [
       "<div>                            <div id=\"15f924c1-1f64-4b3a-a42d-3b1b474d3b62\" class=\"plotly-graph-div\" style=\"height:525px; width:100%;\"></div>            <script type=\"text/javascript\">                require([\"plotly\"], function(Plotly) {                    window.PLOTLYENV=window.PLOTLYENV || {};                                    if (document.getElementById(\"15f924c1-1f64-4b3a-a42d-3b1b474d3b62\")) {                    Plotly.newPlot(                        \"15f924c1-1f64-4b3a-a42d-3b1b474d3b62\",                        [{\"hovertemplate\":\"Category=<br>year_month=%{x}<br>Amount=%{y}<extra></extra>\",\"legendgroup\":\"\",\"line\":{\"color\":\"#636efa\",\"dash\":\"solid\"},\"mode\":\"lines\",\"name\":\"\",\"orientation\":\"v\",\"showlegend\":false,\"type\":\"scatter\",\"x\":[\"2021-07\"],\"xaxis\":\"x\",\"y\":[-39.0],\"yaxis\":\"y\"},{\"hovertemplate\":\"Category=Bank Charges<br>year_month=%{x}<br>Amount=%{y}<extra></extra>\",\"legendgroup\":\"Bank Charges\",\"line\":{\"color\":\"#EF553B\",\"dash\":\"solid\"},\"mode\":\"lines\",\"name\":\"Bank Charges\",\"orientation\":\"v\",\"showlegend\":true,\"type\":\"scatter\",\"x\":[\"2021-07\"],\"xaxis\":\"x\",\"y\":[0.0],\"yaxis\":\"y\"},{\"hovertemplate\":\"Category=Car<br>year_month=%{x}<br>Amount=%{y}<extra></extra>\",\"legendgroup\":\"Car\",\"line\":{\"color\":\"#00cc96\",\"dash\":\"solid\"},\"mode\":\"lines\",\"name\":\"Car\",\"orientation\":\"v\",\"showlegend\":true,\"type\":\"scatter\",\"x\":[\"2021-07\"],\"xaxis\":\"x\",\"y\":[-631.66],\"yaxis\":\"y\"},{\"hovertemplate\":\"Category=Cash Out<br>year_month=%{x}<br>Amount=%{y}<extra></extra>\",\"legendgroup\":\"Cash Out\",\"line\":{\"color\":\"#ab63fa\",\"dash\":\"solid\"},\"mode\":\"lines\",\"name\":\"Cash Out\",\"orientation\":\"v\",\"showlegend\":true,\"type\":\"scatter\",\"x\":[\"2021-07\"],\"xaxis\":\"x\",\"y\":[-50.0],\"yaxis\":\"y\"},{\"hovertemplate\":\"Category=Council Tax<br>year_month=%{x}<br>Amount=%{y}<extra></extra>\",\"legendgroup\":\"Council Tax\",\"line\":{\"color\":\"#FFA15A\",\"dash\":\"solid\"},\"mode\":\"lines\",\"name\":\"Council Tax\",\"orientation\":\"v\",\"showlegend\":true,\"type\":\"scatter\",\"x\":[\"2021-07\"],\"xaxis\":\"x\",\"y\":[-214.99],\"yaxis\":\"y\"},{\"hovertemplate\":\"Category=Credit Card<br>year_month=%{x}<br>Amount=%{y}<extra></extra>\",\"legendgroup\":\"Credit Card\",\"line\":{\"color\":\"#19d3f3\",\"dash\":\"solid\"},\"mode\":\"lines\",\"name\":\"Credit Card\",\"orientation\":\"v\",\"showlegend\":true,\"type\":\"scatter\",\"x\":[\"2021-07\"],\"xaxis\":\"x\",\"y\":[-2469.9500000000003],\"yaxis\":\"y\"},{\"hovertemplate\":\"Category=Emma Wedgwood Aesthetics Expense<br>year_month=%{x}<br>Amount=%{y}<extra></extra>\",\"legendgroup\":\"Emma Wedgwood Aesthetics Expense\",\"line\":{\"color\":\"#FF6692\",\"dash\":\"solid\"},\"mode\":\"lines\",\"name\":\"Emma Wedgwood Aesthetics Expense\",\"orientation\":\"v\",\"showlegend\":true,\"type\":\"scatter\",\"x\":[\"2021-07\"],\"xaxis\":\"x\",\"y\":[-70.05],\"yaxis\":\"y\"},{\"hovertemplate\":\"Category=Entertainment<br>year_month=%{x}<br>Amount=%{y}<extra></extra>\",\"legendgroup\":\"Entertainment\",\"line\":{\"color\":\"#B6E880\",\"dash\":\"solid\"},\"mode\":\"lines\",\"name\":\"Entertainment\",\"orientation\":\"v\",\"showlegend\":true,\"type\":\"scatter\",\"x\":[\"2021-07\"],\"xaxis\":\"x\",\"y\":[-39.33],\"yaxis\":\"y\"},{\"hovertemplate\":\"Category=Gifts<br>year_month=%{x}<br>Amount=%{y}<extra></extra>\",\"legendgroup\":\"Gifts\",\"line\":{\"color\":\"#FF97FF\",\"dash\":\"solid\"},\"mode\":\"lines\",\"name\":\"Gifts\",\"orientation\":\"v\",\"showlegend\":true,\"type\":\"scatter\",\"x\":[\"2021-07\"],\"xaxis\":\"x\",\"y\":[-205.28],\"yaxis\":\"y\"},{\"hovertemplate\":\"Category=Groceries<br>year_month=%{x}<br>Amount=%{y}<extra></extra>\",\"legendgroup\":\"Groceries\",\"line\":{\"color\":\"#FECB52\",\"dash\":\"solid\"},\"mode\":\"lines\",\"name\":\"Groceries\",\"orientation\":\"v\",\"showlegend\":true,\"type\":\"scatter\",\"x\":[\"2021-07\"],\"xaxis\":\"x\",\"y\":[-395.95],\"yaxis\":\"y\"},{\"hovertemplate\":\"Category=Health&Fitness<br>year_month=%{x}<br>Amount=%{y}<extra></extra>\",\"legendgroup\":\"Health&Fitness\",\"line\":{\"color\":\"#636efa\",\"dash\":\"solid\"},\"mode\":\"lines\",\"name\":\"Health&Fitness\",\"orientation\":\"v\",\"showlegend\":true,\"type\":\"scatter\",\"x\":[\"2021-07\"],\"xaxis\":\"x\",\"y\":[-15.0],\"yaxis\":\"y\"},{\"hovertemplate\":\"Category=Holiday<br>year_month=%{x}<br>Amount=%{y}<extra></extra>\",\"legendgroup\":\"Holiday\",\"line\":{\"color\":\"#EF553B\",\"dash\":\"solid\"},\"mode\":\"lines\",\"name\":\"Holiday\",\"orientation\":\"v\",\"showlegend\":true,\"type\":\"scatter\",\"x\":[\"2021-07\"],\"xaxis\":\"x\",\"y\":[-380.1],\"yaxis\":\"y\"},{\"hovertemplate\":\"Category=Houesehold<br>year_month=%{x}<br>Amount=%{y}<extra></extra>\",\"legendgroup\":\"Houesehold\",\"line\":{\"color\":\"#00cc96\",\"dash\":\"solid\"},\"mode\":\"lines\",\"name\":\"Houesehold\",\"orientation\":\"v\",\"showlegend\":true,\"type\":\"scatter\",\"x\":[\"2021-07\"],\"xaxis\":\"x\",\"y\":[-61.05],\"yaxis\":\"y\"},{\"hovertemplate\":\"Category=Household<br>year_month=%{x}<br>Amount=%{y}<extra></extra>\",\"legendgroup\":\"Household\",\"line\":{\"color\":\"#ab63fa\",\"dash\":\"solid\"},\"mode\":\"lines\",\"name\":\"Household\",\"orientation\":\"v\",\"showlegend\":true,\"type\":\"scatter\",\"x\":[\"2021-07\"],\"xaxis\":\"x\",\"y\":[-17.0],\"yaxis\":\"y\"},{\"hovertemplate\":\"Category=Insurance<br>year_month=%{x}<br>Amount=%{y}<extra></extra>\",\"legendgroup\":\"Insurance\",\"line\":{\"color\":\"#FFA15A\",\"dash\":\"solid\"},\"mode\":\"lines\",\"name\":\"Insurance\",\"orientation\":\"v\",\"showlegend\":true,\"type\":\"scatter\",\"x\":[\"2021-07\"],\"xaxis\":\"x\",\"y\":[-106.96000000000001],\"yaxis\":\"y\"},{\"hovertemplate\":\"Category=Jewellery<br>year_month=%{x}<br>Amount=%{y}<extra></extra>\",\"legendgroup\":\"Jewellery\",\"line\":{\"color\":\"#19d3f3\",\"dash\":\"solid\"},\"mode\":\"lines\",\"name\":\"Jewellery\",\"orientation\":\"v\",\"showlegend\":true,\"type\":\"scatter\",\"x\":[\"2021-07\"],\"xaxis\":\"x\",\"y\":[-130.0],\"yaxis\":\"y\"},{\"hovertemplate\":\"Category=Money From Emma<br>year_month=%{x}<br>Amount=%{y}<extra></extra>\",\"legendgroup\":\"Money From Emma\",\"line\":{\"color\":\"#FF6692\",\"dash\":\"solid\"},\"mode\":\"lines\",\"name\":\"Money From Emma\",\"orientation\":\"v\",\"showlegend\":true,\"type\":\"scatter\",\"x\":[\"2021-07\"],\"xaxis\":\"x\",\"y\":[1400.0],\"yaxis\":\"y\"},{\"hovertemplate\":\"Category=Money from Friends<br>year_month=%{x}<br>Amount=%{y}<extra></extra>\",\"legendgroup\":\"Money from Friends\",\"line\":{\"color\":\"#B6E880\",\"dash\":\"solid\"},\"mode\":\"lines\",\"name\":\"Money from Friends\",\"orientation\":\"v\",\"showlegend\":true,\"type\":\"scatter\",\"x\":[\"2021-07\"],\"xaxis\":\"x\",\"y\":[-60.0],\"yaxis\":\"y\"},{\"hovertemplate\":\"Category=MoneyFromChris<br>year_month=%{x}<br>Amount=%{y}<extra></extra>\",\"legendgroup\":\"MoneyFromChris\",\"line\":{\"color\":\"#FF97FF\",\"dash\":\"solid\"},\"mode\":\"lines\",\"name\":\"MoneyFromChris\",\"orientation\":\"v\",\"showlegend\":true,\"type\":\"scatter\",\"x\":[\"2021-07\"],\"xaxis\":\"x\",\"y\":[4950.0],\"yaxis\":\"y\"},{\"hovertemplate\":\"Category=Mortgage<br>year_month=%{x}<br>Amount=%{y}<extra></extra>\",\"legendgroup\":\"Mortgage\",\"line\":{\"color\":\"#FECB52\",\"dash\":\"solid\"},\"mode\":\"lines\",\"name\":\"Mortgage\",\"orientation\":\"v\",\"showlegend\":true,\"type\":\"scatter\",\"x\":[\"2021-07\"],\"xaxis\":\"x\",\"y\":[-963.94],\"yaxis\":\"y\"},{\"hovertemplate\":\"Category=Online Purchase<br>year_month=%{x}<br>Amount=%{y}<extra></extra>\",\"legendgroup\":\"Online Purchase\",\"line\":{\"color\":\"#636efa\",\"dash\":\"solid\"},\"mode\":\"lines\",\"name\":\"Online Purchase\",\"orientation\":\"v\",\"showlegend\":true,\"type\":\"scatter\",\"x\":[\"2021-07\"],\"xaxis\":\"x\",\"y\":[-9.99],\"yaxis\":\"y\"},{\"hovertemplate\":\"Category=Pharmacy<br>year_month=%{x}<br>Amount=%{y}<extra></extra>\",\"legendgroup\":\"Pharmacy\",\"line\":{\"color\":\"#EF553B\",\"dash\":\"solid\"},\"mode\":\"lines\",\"name\":\"Pharmacy\",\"orientation\":\"v\",\"showlegend\":true,\"type\":\"scatter\",\"x\":[\"2021-07\"],\"xaxis\":\"x\",\"y\":[-50.4],\"yaxis\":\"y\"},{\"hovertemplate\":\"Category=Postage<br>year_month=%{x}<br>Amount=%{y}<extra></extra>\",\"legendgroup\":\"Postage\",\"line\":{\"color\":\"#00cc96\",\"dash\":\"solid\"},\"mode\":\"lines\",\"name\":\"Postage\",\"orientation\":\"v\",\"showlegend\":true,\"type\":\"scatter\",\"x\":[\"2021-07\"],\"xaxis\":\"x\",\"y\":[-74.93999999999998],\"yaxis\":\"y\"},{\"hovertemplate\":\"Category=Rental Income<br>year_month=%{x}<br>Amount=%{y}<extra></extra>\",\"legendgroup\":\"Rental Income\",\"line\":{\"color\":\"#ab63fa\",\"dash\":\"solid\"},\"mode\":\"lines\",\"name\":\"Rental Income\",\"orientation\":\"v\",\"showlegend\":true,\"type\":\"scatter\",\"x\":[\"2021-07\"],\"xaxis\":\"x\",\"y\":[1338.0],\"yaxis\":\"y\"},{\"hovertemplate\":\"Category=Restaurant<br>year_month=%{x}<br>Amount=%{y}<extra></extra>\",\"legendgroup\":\"Restaurant\",\"line\":{\"color\":\"#FFA15A\",\"dash\":\"solid\"},\"mode\":\"lines\",\"name\":\"Restaurant\",\"orientation\":\"v\",\"showlegend\":true,\"type\":\"scatter\",\"x\":[\"2021-07\"],\"xaxis\":\"x\",\"y\":[-392.57],\"yaxis\":\"y\"},{\"hovertemplate\":\"Category=Snackette<br>year_month=%{x}<br>Amount=%{y}<extra></extra>\",\"legendgroup\":\"Snackette\",\"line\":{\"color\":\"#19d3f3\",\"dash\":\"solid\"},\"mode\":\"lines\",\"name\":\"Snackette\",\"orientation\":\"v\",\"showlegend\":true,\"type\":\"scatter\",\"x\":[\"2021-07\"],\"xaxis\":\"x\",\"y\":[-318.22],\"yaxis\":\"y\"},{\"hovertemplate\":\"Category=Stationary<br>year_month=%{x}<br>Amount=%{y}<extra></extra>\",\"legendgroup\":\"Stationary\",\"line\":{\"color\":\"#FF6692\",\"dash\":\"solid\"},\"mode\":\"lines\",\"name\":\"Stationary\",\"orientation\":\"v\",\"showlegend\":true,\"type\":\"scatter\",\"x\":[\"2021-07\"],\"xaxis\":\"x\",\"y\":[-29.99],\"yaxis\":\"y\"},{\"hovertemplate\":\"Category=Takeaway<br>year_month=%{x}<br>Amount=%{y}<extra></extra>\",\"legendgroup\":\"Takeaway\",\"line\":{\"color\":\"#B6E880\",\"dash\":\"solid\"},\"mode\":\"lines\",\"name\":\"Takeaway\",\"orientation\":\"v\",\"showlegend\":true,\"type\":\"scatter\",\"x\":[\"2021-07\"],\"xaxis\":\"x\",\"y\":[-147.85],\"yaxis\":\"y\"},{\"hovertemplate\":\"Category=Therapy<br>year_month=%{x}<br>Amount=%{y}<extra></extra>\",\"legendgroup\":\"Therapy\",\"line\":{\"color\":\"#FF97FF\",\"dash\":\"solid\"},\"mode\":\"lines\",\"name\":\"Therapy\",\"orientation\":\"v\",\"showlegend\":true,\"type\":\"scatter\",\"x\":[\"2021-07\"],\"xaxis\":\"x\",\"y\":[-285.0],\"yaxis\":\"y\"},{\"hovertemplate\":\"Category=Transfer<br>year_month=%{x}<br>Amount=%{y}<extra></extra>\",\"legendgroup\":\"Transfer\",\"line\":{\"color\":\"#FECB52\",\"dash\":\"solid\"},\"mode\":\"lines\",\"name\":\"Transfer\",\"orientation\":\"v\",\"showlegend\":true,\"type\":\"scatter\",\"x\":[\"2021-07\"],\"xaxis\":\"x\",\"y\":[-57.62],\"yaxis\":\"y\"},{\"hovertemplate\":\"Category=Travel<br>year_month=%{x}<br>Amount=%{y}<extra></extra>\",\"legendgroup\":\"Travel\",\"line\":{\"color\":\"#636efa\",\"dash\":\"solid\"},\"mode\":\"lines\",\"name\":\"Travel\",\"orientation\":\"v\",\"showlegend\":true,\"type\":\"scatter\",\"x\":[\"2021-07\"],\"xaxis\":\"x\",\"y\":[-120.55],\"yaxis\":\"y\"},{\"hovertemplate\":\"Category=Utilities<br>year_month=%{x}<br>Amount=%{y}<extra></extra>\",\"legendgroup\":\"Utilities\",\"line\":{\"color\":\"#EF553B\",\"dash\":\"solid\"},\"mode\":\"lines\",\"name\":\"Utilities\",\"orientation\":\"v\",\"showlegend\":true,\"type\":\"scatter\",\"x\":[\"2021-07\"],\"xaxis\":\"x\",\"y\":[-230.89],\"yaxis\":\"y\"}],                        {\"legend\":{\"title\":{\"text\":\"Category\"},\"tracegroupgap\":0},\"template\":{\"data\":{\"bar\":[{\"error_x\":{\"color\":\"#2a3f5f\"},\"error_y\":{\"color\":\"#2a3f5f\"},\"marker\":{\"line\":{\"color\":\"#E5ECF6\",\"width\":0.5},\"pattern\":{\"fillmode\":\"overlay\",\"size\":10,\"solidity\":0.2}},\"type\":\"bar\"}],\"barpolar\":[{\"marker\":{\"line\":{\"color\":\"#E5ECF6\",\"width\":0.5},\"pattern\":{\"fillmode\":\"overlay\",\"size\":10,\"solidity\":0.2}},\"type\":\"barpolar\"}],\"carpet\":[{\"aaxis\":{\"endlinecolor\":\"#2a3f5f\",\"gridcolor\":\"white\",\"linecolor\":\"white\",\"minorgridcolor\":\"white\",\"startlinecolor\":\"#2a3f5f\"},\"baxis\":{\"endlinecolor\":\"#2a3f5f\",\"gridcolor\":\"white\",\"linecolor\":\"white\",\"minorgridcolor\":\"white\",\"startlinecolor\":\"#2a3f5f\"},\"type\":\"carpet\"}],\"choropleth\":[{\"colorbar\":{\"outlinewidth\":0,\"ticks\":\"\"},\"type\":\"choropleth\"}],\"contour\":[{\"colorbar\":{\"outlinewidth\":0,\"ticks\":\"\"},\"colorscale\":[[0.0,\"#0d0887\"],[0.1111111111111111,\"#46039f\"],[0.2222222222222222,\"#7201a8\"],[0.3333333333333333,\"#9c179e\"],[0.4444444444444444,\"#bd3786\"],[0.5555555555555556,\"#d8576b\"],[0.6666666666666666,\"#ed7953\"],[0.7777777777777778,\"#fb9f3a\"],[0.8888888888888888,\"#fdca26\"],[1.0,\"#f0f921\"]],\"type\":\"contour\"}],\"contourcarpet\":[{\"colorbar\":{\"outlinewidth\":0,\"ticks\":\"\"},\"type\":\"contourcarpet\"}],\"heatmap\":[{\"colorbar\":{\"outlinewidth\":0,\"ticks\":\"\"},\"colorscale\":[[0.0,\"#0d0887\"],[0.1111111111111111,\"#46039f\"],[0.2222222222222222,\"#7201a8\"],[0.3333333333333333,\"#9c179e\"],[0.4444444444444444,\"#bd3786\"],[0.5555555555555556,\"#d8576b\"],[0.6666666666666666,\"#ed7953\"],[0.7777777777777778,\"#fb9f3a\"],[0.8888888888888888,\"#fdca26\"],[1.0,\"#f0f921\"]],\"type\":\"heatmap\"}],\"heatmapgl\":[{\"colorbar\":{\"outlinewidth\":0,\"ticks\":\"\"},\"colorscale\":[[0.0,\"#0d0887\"],[0.1111111111111111,\"#46039f\"],[0.2222222222222222,\"#7201a8\"],[0.3333333333333333,\"#9c179e\"],[0.4444444444444444,\"#bd3786\"],[0.5555555555555556,\"#d8576b\"],[0.6666666666666666,\"#ed7953\"],[0.7777777777777778,\"#fb9f3a\"],[0.8888888888888888,\"#fdca26\"],[1.0,\"#f0f921\"]],\"type\":\"heatmapgl\"}],\"histogram\":[{\"marker\":{\"pattern\":{\"fillmode\":\"overlay\",\"size\":10,\"solidity\":0.2}},\"type\":\"histogram\"}],\"histogram2d\":[{\"colorbar\":{\"outlinewidth\":0,\"ticks\":\"\"},\"colorscale\":[[0.0,\"#0d0887\"],[0.1111111111111111,\"#46039f\"],[0.2222222222222222,\"#7201a8\"],[0.3333333333333333,\"#9c179e\"],[0.4444444444444444,\"#bd3786\"],[0.5555555555555556,\"#d8576b\"],[0.6666666666666666,\"#ed7953\"],[0.7777777777777778,\"#fb9f3a\"],[0.8888888888888888,\"#fdca26\"],[1.0,\"#f0f921\"]],\"type\":\"histogram2d\"}],\"histogram2dcontour\":[{\"colorbar\":{\"outlinewidth\":0,\"ticks\":\"\"},\"colorscale\":[[0.0,\"#0d0887\"],[0.1111111111111111,\"#46039f\"],[0.2222222222222222,\"#7201a8\"],[0.3333333333333333,\"#9c179e\"],[0.4444444444444444,\"#bd3786\"],[0.5555555555555556,\"#d8576b\"],[0.6666666666666666,\"#ed7953\"],[0.7777777777777778,\"#fb9f3a\"],[0.8888888888888888,\"#fdca26\"],[1.0,\"#f0f921\"]],\"type\":\"histogram2dcontour\"}],\"mesh3d\":[{\"colorbar\":{\"outlinewidth\":0,\"ticks\":\"\"},\"type\":\"mesh3d\"}],\"parcoords\":[{\"line\":{\"colorbar\":{\"outlinewidth\":0,\"ticks\":\"\"}},\"type\":\"parcoords\"}],\"pie\":[{\"automargin\":true,\"type\":\"pie\"}],\"scatter\":[{\"marker\":{\"colorbar\":{\"outlinewidth\":0,\"ticks\":\"\"}},\"type\":\"scatter\"}],\"scatter3d\":[{\"line\":{\"colorbar\":{\"outlinewidth\":0,\"ticks\":\"\"}},\"marker\":{\"colorbar\":{\"outlinewidth\":0,\"ticks\":\"\"}},\"type\":\"scatter3d\"}],\"scattercarpet\":[{\"marker\":{\"colorbar\":{\"outlinewidth\":0,\"ticks\":\"\"}},\"type\":\"scattercarpet\"}],\"scattergeo\":[{\"marker\":{\"colorbar\":{\"outlinewidth\":0,\"ticks\":\"\"}},\"type\":\"scattergeo\"}],\"scattergl\":[{\"marker\":{\"colorbar\":{\"outlinewidth\":0,\"ticks\":\"\"}},\"type\":\"scattergl\"}],\"scattermapbox\":[{\"marker\":{\"colorbar\":{\"outlinewidth\":0,\"ticks\":\"\"}},\"type\":\"scattermapbox\"}],\"scatterpolar\":[{\"marker\":{\"colorbar\":{\"outlinewidth\":0,\"ticks\":\"\"}},\"type\":\"scatterpolar\"}],\"scatterpolargl\":[{\"marker\":{\"colorbar\":{\"outlinewidth\":0,\"ticks\":\"\"}},\"type\":\"scatterpolargl\"}],\"scatterternary\":[{\"marker\":{\"colorbar\":{\"outlinewidth\":0,\"ticks\":\"\"}},\"type\":\"scatterternary\"}],\"surface\":[{\"colorbar\":{\"outlinewidth\":0,\"ticks\":\"\"},\"colorscale\":[[0.0,\"#0d0887\"],[0.1111111111111111,\"#46039f\"],[0.2222222222222222,\"#7201a8\"],[0.3333333333333333,\"#9c179e\"],[0.4444444444444444,\"#bd3786\"],[0.5555555555555556,\"#d8576b\"],[0.6666666666666666,\"#ed7953\"],[0.7777777777777778,\"#fb9f3a\"],[0.8888888888888888,\"#fdca26\"],[1.0,\"#f0f921\"]],\"type\":\"surface\"}],\"table\":[{\"cells\":{\"fill\":{\"color\":\"#EBF0F8\"},\"line\":{\"color\":\"white\"}},\"header\":{\"fill\":{\"color\":\"#C8D4E3\"},\"line\":{\"color\":\"white\"}},\"type\":\"table\"}]},\"layout\":{\"annotationdefaults\":{\"arrowcolor\":\"#2a3f5f\",\"arrowhead\":0,\"arrowwidth\":1},\"autotypenumbers\":\"strict\",\"coloraxis\":{\"colorbar\":{\"outlinewidth\":0,\"ticks\":\"\"}},\"colorscale\":{\"diverging\":[[0,\"#8e0152\"],[0.1,\"#c51b7d\"],[0.2,\"#de77ae\"],[0.3,\"#f1b6da\"],[0.4,\"#fde0ef\"],[0.5,\"#f7f7f7\"],[0.6,\"#e6f5d0\"],[0.7,\"#b8e186\"],[0.8,\"#7fbc41\"],[0.9,\"#4d9221\"],[1,\"#276419\"]],\"sequential\":[[0.0,\"#0d0887\"],[0.1111111111111111,\"#46039f\"],[0.2222222222222222,\"#7201a8\"],[0.3333333333333333,\"#9c179e\"],[0.4444444444444444,\"#bd3786\"],[0.5555555555555556,\"#d8576b\"],[0.6666666666666666,\"#ed7953\"],[0.7777777777777778,\"#fb9f3a\"],[0.8888888888888888,\"#fdca26\"],[1.0,\"#f0f921\"]],\"sequentialminus\":[[0.0,\"#0d0887\"],[0.1111111111111111,\"#46039f\"],[0.2222222222222222,\"#7201a8\"],[0.3333333333333333,\"#9c179e\"],[0.4444444444444444,\"#bd3786\"],[0.5555555555555556,\"#d8576b\"],[0.6666666666666666,\"#ed7953\"],[0.7777777777777778,\"#fb9f3a\"],[0.8888888888888888,\"#fdca26\"],[1.0,\"#f0f921\"]]},\"colorway\":[\"#636efa\",\"#EF553B\",\"#00cc96\",\"#ab63fa\",\"#FFA15A\",\"#19d3f3\",\"#FF6692\",\"#B6E880\",\"#FF97FF\",\"#FECB52\"],\"font\":{\"color\":\"#2a3f5f\"},\"geo\":{\"bgcolor\":\"white\",\"lakecolor\":\"white\",\"landcolor\":\"#E5ECF6\",\"showlakes\":true,\"showland\":true,\"subunitcolor\":\"white\"},\"hoverlabel\":{\"align\":\"left\"},\"hovermode\":\"closest\",\"mapbox\":{\"style\":\"light\"},\"paper_bgcolor\":\"white\",\"plot_bgcolor\":\"#E5ECF6\",\"polar\":{\"angularaxis\":{\"gridcolor\":\"white\",\"linecolor\":\"white\",\"ticks\":\"\"},\"bgcolor\":\"#E5ECF6\",\"radialaxis\":{\"gridcolor\":\"white\",\"linecolor\":\"white\",\"ticks\":\"\"}},\"scene\":{\"xaxis\":{\"backgroundcolor\":\"#E5ECF6\",\"gridcolor\":\"white\",\"gridwidth\":2,\"linecolor\":\"white\",\"showbackground\":true,\"ticks\":\"\",\"zerolinecolor\":\"white\"},\"yaxis\":{\"backgroundcolor\":\"#E5ECF6\",\"gridcolor\":\"white\",\"gridwidth\":2,\"linecolor\":\"white\",\"showbackground\":true,\"ticks\":\"\",\"zerolinecolor\":\"white\"},\"zaxis\":{\"backgroundcolor\":\"#E5ECF6\",\"gridcolor\":\"white\",\"gridwidth\":2,\"linecolor\":\"white\",\"showbackground\":true,\"ticks\":\"\",\"zerolinecolor\":\"white\"}},\"shapedefaults\":{\"line\":{\"color\":\"#2a3f5f\"}},\"ternary\":{\"aaxis\":{\"gridcolor\":\"white\",\"linecolor\":\"white\",\"ticks\":\"\"},\"baxis\":{\"gridcolor\":\"white\",\"linecolor\":\"white\",\"ticks\":\"\"},\"bgcolor\":\"#E5ECF6\",\"caxis\":{\"gridcolor\":\"white\",\"linecolor\":\"white\",\"ticks\":\"\"}},\"title\":{\"x\":0.05},\"xaxis\":{\"automargin\":true,\"gridcolor\":\"white\",\"linecolor\":\"white\",\"ticks\":\"\",\"title\":{\"standoff\":15},\"zerolinecolor\":\"white\",\"zerolinewidth\":2},\"yaxis\":{\"automargin\":true,\"gridcolor\":\"white\",\"linecolor\":\"white\",\"ticks\":\"\",\"title\":{\"standoff\":15},\"zerolinecolor\":\"white\",\"zerolinewidth\":2}}},\"title\":{\"text\":\"Expenses Breakdown\"},\"xaxis\":{\"anchor\":\"y\",\"domain\":[0.0,1.0],\"showticklabels\":true,\"title\":{\"text\":\"Date\"},\"visible\":true},\"yaxis\":{\"anchor\":\"x\",\"domain\":[0.0,1.0],\"showticklabels\":true,\"title\":{\"text\":\"Expenses (\\u00a3)\"},\"visible\":true}},                        {\"responsive\": true}                    ).then(function(){\n",
       "                            \n",
       "var gd = document.getElementById('15f924c1-1f64-4b3a-a42d-3b1b474d3b62');\n",
       "var x = new MutationObserver(function (mutations, observer) {{\n",
       "        var display = window.getComputedStyle(gd).display;\n",
       "        if (!display || display === 'none') {{\n",
       "            console.log([gd, 'removed!']);\n",
       "            Plotly.purge(gd);\n",
       "            observer.disconnect();\n",
       "        }}\n",
       "}});\n",
       "\n",
       "// Listen for the removal of the full notebook cells\n",
       "var notebookContainer = gd.closest('#notebook-container');\n",
       "if (notebookContainer) {{\n",
       "    x.observe(notebookContainer, {childList: true});\n",
       "}}\n",
       "\n",
       "// Listen for the clearing of the current output cell\n",
       "var outputEl = gd.closest('.output');\n",
       "if (outputEl) {{\n",
       "    x.observe(outputEl, {childList: true});\n",
       "}}\n",
       "\n",
       "                        })                };                });            </script>        </div>"
      ]
     },
     "metadata": {},
     "output_type": "display_data"
    }
   ],
   "source": [
    "Expenses_Breakdown_Table = pd.pivot_table(df, values = ['Amount'], index = ['Category', 'year_month'], aggfunc=sum).reset_index()\n",
    "Expenses_Breakdown_Table.columns = [x for x in Expenses_Breakdown_Table.columns]\n",
    "Expenses_Breakdown_Chart = px.line(Expenses_Breakdown_Table, x='year_month', y=\"Amount\", title=\"Expenses Breakdown\", color = 'Category')\n",
    "Expenses_Breakdown_Chart.update_yaxes(title='Expenses (£)', visible=True, showticklabels=True)\n",
    "Expenses_Breakdown_Chart.update_xaxes(title='Date', visible=True, showticklabels=True)\n",
    "Expenses_Breakdown_Chart.show()"
   ]
  },
  {
   "cell_type": "code",
   "execution_count": null,
   "id": "4b68aeaa",
   "metadata": {},
   "outputs": [],
   "source": []
  }
 ],
 "metadata": {
  "kernelspec": {
   "display_name": "Django Shell-Plus",
   "language": "python",
   "name": "django_extensions"
  },
  "language_info": {
   "codemirror_mode": {
    "name": "ipython",
    "version": 3
   },
   "file_extension": ".py",
   "mimetype": "text/x-python",
   "name": "python",
   "nbconvert_exporter": "python",
   "pygments_lexer": "ipython3",
   "version": "3.8.3"
  }
 },
 "nbformat": 4,
 "nbformat_minor": 5
}
