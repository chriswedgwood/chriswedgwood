{
 "cells": [
  {
   "cell_type": "code",
   "execution_count": 315,
   "id": "9e9b35c2",
   "metadata": {},
   "outputs": [],
   "source": [
    "import pandas as pd                       #to perform data manipulation and analysis\n",
    "import numpy as np                        #to cleanse data\n",
    "from datetime import datetime             #to manipulate dates\n",
    "import plotly.express as px               #to create interactive charts\n",
    "import plotly.graph_objects as go         #to create interactive charts\n",
    "from jupyter_dash import JupyterDash      #to build Dash apps from Jupyter environments\n",
    "import dash_core_components as dcc        #to get components for interactive user interfaces\n",
    "import dash_html_components as html       #to compose the dash layout using Python structures"
   ]
  },
  {
   "cell_type": "code",
   "execution_count": 316,
   "id": "a067cbca",
   "metadata": {},
   "outputs": [],
   "source": [
    "df_raw = pd.read_csv(\"/Users/chriswedgwood/Downloads/Monzo_Joint_All_Time.csv\")\n",
    "df_raw[\"Category\"] = \"\"\n",
    "df_raw.fillna('', inplace=True)\n"
   ]
  },
  {
   "cell_type": "code",
   "execution_count": 317,
   "id": "de02dbff",
   "metadata": {},
   "outputs": [],
   "source": [
    "df = df_raw[[\"Transaction ID\",\"Date\",\"Amount\",\"Description\",\"Category\",\"Name\"]].copy()"
   ]
  },
  {
   "cell_type": "code",
   "execution_count": null,
   "id": "6f4b81d7",
   "metadata": {},
   "outputs": [],
   "source": [
    "\n"
   ]
  },
  {
   "cell_type": "code",
   "execution_count": null,
   "id": "e2eea77f",
   "metadata": {},
   "outputs": [],
   "source": []
  },
  {
   "cell_type": "code",
   "execution_count": 318,
   "id": "5e08ee62",
   "metadata": {},
   "outputs": [
    {
     "data": {
      "text/html": [
       "<div>\n",
       "<style scoped>\n",
       "    .dataframe tbody tr th:only-of-type {\n",
       "        vertical-align: middle;\n",
       "    }\n",
       "\n",
       "    .dataframe tbody tr th {\n",
       "        vertical-align: top;\n",
       "    }\n",
       "\n",
       "    .dataframe thead th {\n",
       "        text-align: right;\n",
       "    }\n",
       "</style>\n",
       "<table border=\"1\" class=\"dataframe\">\n",
       "  <thead>\n",
       "    <tr style=\"text-align: right;\">\n",
       "      <th></th>\n",
       "      <th>Transaction ID</th>\n",
       "      <th>Date</th>\n",
       "      <th>Amount</th>\n",
       "      <th>Description</th>\n",
       "      <th>Category</th>\n",
       "      <th>Name</th>\n",
       "    </tr>\n",
       "  </thead>\n",
       "  <tbody>\n",
       "    <tr>\n",
       "      <th>0</th>\n",
       "      <td>tx_00009asHmlPehTBJo1NbXN</td>\n",
       "      <td>19/09/2018</td>\n",
       "      <td>500.00</td>\n",
       "      <td>HOUSE MONEY</td>\n",
       "      <td></td>\n",
       "      <td>WEDGWOOD C B</td>\n",
       "    </tr>\n",
       "    <tr>\n",
       "      <th>1</th>\n",
       "      <td>tx_00009c6AfDhbhgXhxdeMN7</td>\n",
       "      <td>26/10/2018</td>\n",
       "      <td>-334.91</td>\n",
       "      <td>0840189-0504533208</td>\n",
       "      <td></td>\n",
       "      <td>LeasePlan UK</td>\n",
       "    </tr>\n",
       "    <tr>\n",
       "      <th>2</th>\n",
       "      <td>tx_00009cJn93Mt0po1zwUbL7</td>\n",
       "      <td>01/11/2018</td>\n",
       "      <td>500.00</td>\n",
       "      <td>HOUSE MONEY</td>\n",
       "      <td></td>\n",
       "      <td>WEDGWOOD C B</td>\n",
       "    </tr>\n",
       "    <tr>\n",
       "      <th>4</th>\n",
       "      <td>tx_00009cc3gmaT0RWbMAwT9F</td>\n",
       "      <td>10/11/2018</td>\n",
       "      <td>500.00</td>\n",
       "      <td>HOUSE MONEY</td>\n",
       "      <td></td>\n",
       "      <td>WEDGWOOD C B</td>\n",
       "    </tr>\n",
       "    <tr>\n",
       "      <th>5</th>\n",
       "      <td>tx_00009cv5akwi5QfzaEY3ST</td>\n",
       "      <td>19/11/2018</td>\n",
       "      <td>200.00</td>\n",
       "      <td>HOUSE MONEY</td>\n",
       "      <td></td>\n",
       "      <td>WEDGWOOD C B</td>\n",
       "    </tr>\n",
       "    <tr>\n",
       "      <th>...</th>\n",
       "      <td>...</td>\n",
       "      <td>...</td>\n",
       "      <td>...</td>\n",
       "      <td>...</td>\n",
       "      <td>...</td>\n",
       "      <td>...</td>\n",
       "    </tr>\n",
       "    <tr>\n",
       "      <th>4375</th>\n",
       "      <td>tx_0000A9jey4cZnEXZIeMfy5</td>\n",
       "      <td>28/07/2021</td>\n",
       "      <td>-95.00</td>\n",
       "      <td>PAYPAL *JOANNABENFI    35314369001   GBR</td>\n",
       "      <td></td>\n",
       "      <td>Joannabenfi</td>\n",
       "    </tr>\n",
       "    <tr>\n",
       "      <th>4376</th>\n",
       "      <td>tx_0000A9kGV743QX6FgRpF4s</td>\n",
       "      <td>28/07/2021</td>\n",
       "      <td>-8.90</td>\n",
       "      <td>LEON RESTAURANTS LTD    GREAT BRITAI GBR</td>\n",
       "      <td></td>\n",
       "      <td>Leon</td>\n",
       "    </tr>\n",
       "    <tr>\n",
       "      <th>4377</th>\n",
       "      <td>tx_0000A9kGVBYgiZoFcmmDgX</td>\n",
       "      <td>28/07/2021</td>\n",
       "      <td>-0.10</td>\n",
       "      <td>Round up</td>\n",
       "      <td></td>\n",
       "      <td>Banner Street Pot</td>\n",
       "    </tr>\n",
       "    <tr>\n",
       "      <th>4379</th>\n",
       "      <td>tx_0000A9kNowp3umbEYs3d5d</td>\n",
       "      <td>28/07/2021</td>\n",
       "      <td>-0.46</td>\n",
       "      <td>Round up</td>\n",
       "      <td></td>\n",
       "      <td>Banner Street Pot</td>\n",
       "    </tr>\n",
       "    <tr>\n",
       "      <th>4380</th>\n",
       "      <td>tx_0000A9kXImIGWb2NhaOdph</td>\n",
       "      <td>28/07/2021</td>\n",
       "      <td>-316.00</td>\n",
       "      <td>The Clive Arms         Ludlow        GBR</td>\n",
       "      <td></td>\n",
       "      <td>The Clive Arms</td>\n",
       "    </tr>\n",
       "  </tbody>\n",
       "</table>\n",
       "<p>3845 rows × 6 columns</p>\n",
       "</div>"
      ],
      "text/plain": [
       "                 Transaction ID        Date  Amount  \\\n",
       "0     tx_00009asHmlPehTBJo1NbXN  19/09/2018  500.00   \n",
       "1     tx_00009c6AfDhbhgXhxdeMN7  26/10/2018 -334.91   \n",
       "2     tx_00009cJn93Mt0po1zwUbL7  01/11/2018  500.00   \n",
       "4     tx_00009cc3gmaT0RWbMAwT9F  10/11/2018  500.00   \n",
       "5     tx_00009cv5akwi5QfzaEY3ST  19/11/2018  200.00   \n",
       "...                         ...         ...     ...   \n",
       "4375  tx_0000A9jey4cZnEXZIeMfy5  28/07/2021  -95.00   \n",
       "4376  tx_0000A9kGV743QX6FgRpF4s  28/07/2021   -8.90   \n",
       "4377  tx_0000A9kGVBYgiZoFcmmDgX  28/07/2021   -0.10   \n",
       "4379  tx_0000A9kNowp3umbEYs3d5d  28/07/2021   -0.46   \n",
       "4380  tx_0000A9kXImIGWb2NhaOdph  28/07/2021 -316.00   \n",
       "\n",
       "                                   Description Category               Name  \n",
       "0                                  HOUSE MONEY                WEDGWOOD C B  \n",
       "1                           0840189-0504533208                LeasePlan UK  \n",
       "2                                  HOUSE MONEY                WEDGWOOD C B  \n",
       "4                                  HOUSE MONEY                WEDGWOOD C B  \n",
       "5                                  HOUSE MONEY                WEDGWOOD C B  \n",
       "...                                        ...      ...                ...  \n",
       "4375  PAYPAL *JOANNABENFI    35314369001   GBR                 Joannabenfi  \n",
       "4376  LEON RESTAURANTS LTD    GREAT BRITAI GBR                        Leon  \n",
       "4377                                  Round up           Banner Street Pot  \n",
       "4379                                  Round up           Banner Street Pot  \n",
       "4380  The Clive Arms         Ludlow        GBR              The Clive Arms  \n",
       "\n",
       "[3845 rows x 6 columns]"
      ]
     },
     "execution_count": 318,
     "metadata": {},
     "output_type": "execute_result"
    }
   ],
   "source": [
    "df.loc[df['Description'].str.contains('TfL|TFL|Uber'), ['Category']] = 'Travel'\n",
    "df.loc[df['Description'].str.contains('Banner Street Pot'), ['Category']] = 'Transfer'\n",
    "df.loc[df['Description'].str.contains('Thames'), ['Category']] = 'Utilities'\n",
    "df.loc[df['Description'].str.contains('Insurance'), ['Category']] = 'Insurance'\n",
    "df.loc[df['Description'].str.contains('TV'), ['Category']] = 'Entertainment'\n",
    "df.loc[df['Description'].str.contains('Joannabenfi'), ['Category']] = 'Therapy'\n",
    "df.loc[df['Description'].str.contains('2 90 Banner'), ['Category']] = 'Rental Income'\n",
    "df.loc[df['Description'].str.contains('HAWKS'), ['Category']] = 'Groceries'\n",
    "df.loc[df['Description'].str.contains('TV'), ['Category']] = 'Entertainment'\n",
    "df.loc[df['Description'].str.contains('WH SMITH'), ['Category']] = 'Postage'\n",
    "df.loc[df['Description'].str.contains('CUSTOMCLEAN-FRHVEY'), ['Category']] = 'Household'\n",
    "df.loc[df['Description'].str.contains('helppay'), ['Category']] = 'Bank Charges'\n",
    "df.loc[df['Description'].str.contains('VICTORIA'), ['Category']] = 'Restaurant'\n",
    "df.loc[df['Description'].str.contains('ChrisEmma Retreat'), ['Category']] = 'Holiday'\n",
    "df.loc[df['Description'].str.contains('GC519884'), ['Category']] = 'Holiday'\n",
    "df.loc[df['Description'].str.contains('rca|Rca|RCA'), ['Category']] = 'RCA'\n",
    "df.loc[df['Description'].str.contains('MANCHESTER MCHSTR EXCHAN'), ['Category']] = 'RCA'\n",
    "df.loc[df['Description'].str.contains('FarmFresh'), ['Category']] = 'Groceries'\n",
    "df.loc[df['Description'].str.contains('www.emma-matratze.ch'), ['Category']] = 'Household'\n",
    "df.loc[df['Description'].str.contains('Ole'), ['Category']] = 'Snackette'\n",
    "\n",
    "\n",
    "\n",
    "\n",
    "\n",
    " \n",
    " \n",
    "\n",
    "\n",
    "\n",
    "\n",
    "\n",
    "\n",
    "df[df['Category'] == '']\n"
   ]
  },
  {
   "cell_type": "code",
   "execution_count": 321,
   "id": "f3b78cab",
   "metadata": {},
   "outputs": [
    {
     "data": {
      "text/html": [
       "<div>\n",
       "<style scoped>\n",
       "    .dataframe tbody tr th:only-of-type {\n",
       "        vertical-align: middle;\n",
       "    }\n",
       "\n",
       "    .dataframe tbody tr th {\n",
       "        vertical-align: top;\n",
       "    }\n",
       "\n",
       "    .dataframe thead th {\n",
       "        text-align: right;\n",
       "    }\n",
       "</style>\n",
       "<table border=\"1\" class=\"dataframe\">\n",
       "  <thead>\n",
       "    <tr style=\"text-align: right;\">\n",
       "      <th></th>\n",
       "      <th>Transaction ID</th>\n",
       "      <th>Date</th>\n",
       "      <th>Amount</th>\n",
       "      <th>Description</th>\n",
       "      <th>Category</th>\n",
       "      <th>Name</th>\n",
       "      <th>year_month_day</th>\n",
       "      <th>year_month</th>\n",
       "    </tr>\n",
       "  </thead>\n",
       "  <tbody>\n",
       "  </tbody>\n",
       "</table>\n",
       "</div>"
      ],
      "text/plain": [
       "Empty DataFrame\n",
       "Columns: [Transaction ID, Date, Amount, Description, Category, Name, year_month_day, year_month]\n",
       "Index: []"
      ]
     },
     "execution_count": 321,
     "metadata": {},
     "output_type": "execute_result"
    }
   ],
   "source": [
    "\n",
    "\n",
    "\n",
    "\n",
    "\n",
    "\n",
    "df.loc[df['Name'].str.contains('Leisureguard Lite|Insurance'), ['Category']] = 'Insurance'\n",
    "\n",
    "\n",
    "df.loc[df['Name'].str.contains('TfL|TFL|Uber|Cabvision'), ['Category']] = 'Travel'\n",
    "df.loc[df['Name'].str.contains('Banner Street Pot|Save For Next Month Pot|Tax Money Pot|Holidays Pot'), ['Category']] = 'Transfer'\n",
    "df.loc[df['Name'].str.contains('iSupply|Isupply|Thames|Utility Point|Virgin Media|Flow Energy Limited'), ['Category']] = 'Utilities'\n",
    "df.loc[df['Name'].str.contains('Joannabenfi|Joanna'), ['Category']] = 'Therapy'\n",
    "df.loc[df['Name'].str.contains('2 90 Banner'), ['Category']] = 'Rental Income'\n",
    "df.loc[df['Name'].str.contains('Plenish Drinks|The Treestone Butchers|Lidl|S And S Food And Wine|Whistle Stop|HAWKS|Marks & Spencer|Waitrose|Tesco|Sainsbury|Co-op|Ada Food Centre|Ocado|Asda|Bevans Butchers'), ['Category']] = 'Groceries'\n",
    "df.loc[df['Name'].str.contains('www.party.de|Royal Botanic Garderns|Tickets|Ticketmaster|Rose Theatre|Hayu|Fever Uk|TV|www.vam.ac.uk|City Lit|London Victorians'), ['Category']] = 'Entertainment'\n",
    "df.loc[df['Name'].str.contains('B2b Loans & Mortga|Aldermore|Mortgage'), ['Category']] = 'Mortgage'\n",
    "df.loc[df['Name'].str.contains('AIG Life|Aviva'), ['Category']] = 'Insurance'\n",
    "df.loc[df['Name'].str.contains('WEDGWOODLC13|Christopher Wedgwood|WEDGWOOD C|WEDWOODLC13'), ['Category']] = 'MoneyFromChris'\n",
    "df.loc[df['Name'].str.contains('Royal Borough|Islington Council'), ['Category']] = 'Council Tax'\n",
    "df.loc[df['Name'].str.contains('HMRC|Easy Online Accounting'), ['Category']] = 'HMRC and Tax'\n",
    "\n",
    "df.loc[df['Name'].str.contains('florist|Teflorist|Recovery 12|Harvey Nichols|Selfridges|Getting Personal|Fortnum|Flower|Clinton Cards|Moonpig|Paperchase|Creased Cards'), ['Category']] = 'Gifts'\n",
    "df.loc[df['Name'].str.contains('Regus|Caff|Nero|Coffee|Dr Gelato|Bagel|Cafe|Maison Georges Larnicol'), ['Category']] = 'Snackette'\n",
    "\n",
    "df.loc[df['Name'].str.contains('Deliveroo|The Chip Club|Just Eat'), ['Category']] = 'Takeaway'\n",
    "df.loc[df['Name'].str.contains('Amazon'), ['Category']] = 'Online Purchase'\n",
    "df.loc[df['Name'].str.contains('Ryman'), ['Category']] = 'Stationary'\n",
    "df.loc[df['Name'].str.contains('Cloudrx|Shutterstock'), ['Category']] = 'Emma Wedgwood Aesthetics Expense'\n",
    "\n",
    "df.loc[df['Name'].str.contains('Ryman'), ['Category']] = 'Stationary'\n",
    "df.loc[df['Name'].str.contains('Adesso|The Providores|Granger & Co.|Boston Tea Party|Restaurant|Same Same|Kitchen|Cote|Resy'), ['Category']] = 'Restaurant'\n",
    "\n",
    "df.loc[df['Name'].str.contains('F45|Tennis'), ['Category']] = 'Health&Fitness'\n",
    "#####\n",
    "df.loc[df['Name'].str.contains('Pet|Kingston Veterinary Ce|www.waitrosepet.com'), ['Category']] = 'ALfie'\n",
    "df.loc[df['Name'].str.contains('PayPal|PAYPAL'), ['Category']] = 'Bank Charges'\n",
    "df.loc[df['Name'].str.contains('Phone and Pay|Palace Road|Car Park|Ealing Broadway Centre|Kingston Tyre|Shell|BP|Kingston Valeting|NCP|drivetech|Automotive|LeasePlan UK|Car Leasing|Mipermit|Parking'), ['Category']] = 'Car'\n",
    "df.loc[df['Name'].str.contains('Royal Park Cf|Service Station|Carpark|Westfield London|Kwik Fit|Quote Me Happy|Windsor and Maidenhead'), ['Category']] = 'Car'\n",
    "\n",
    "df.loc[df['Name'].str.contains('ATM'), ['Category']] = 'Cash Out'\n",
    "df.loc[df['Name'].str.contains('MBNA|Barclaycard|Halifax'), ['Category']] = 'Credit Card'\n",
    "df.loc[df['Name'].str.contains('The Outnet|Boss Store|Sweatybetty|Hugo Boss|QVC|H&M|Reiss|Moss Kingston|Zara|OFFICE|Marcdarcy|Billabong|Kurt Geiger|Fenwick|Klarna|Clarks|Menstweedsuits'), ['Category']] = 'Clothing'\n",
    "df.loc[df['Name'].str.contains('Sk;n Clinics|Sk:n Clinics|Beauty Pie|Rituals|Look Fantastic'), ['Category']] = 'Cosmetics'\n",
    "\n",
    "df.loc[df['Name'].str.contains('Chiswick Does Comedy|TV|Prime Video|Netflix|Audible|Rose Theatre Kingston|Odeon'), ['Category']] = 'Entertainment'\n",
    "df.loc[df['Name'].str.contains('Tiffany|The Conran Shop|Blackwell'), ['Category']] = 'Gifts'\n",
    "df.loc[df['Name'].str.contains('Healthcare|Kingstonfeet Ltd|Hampstead Chiropractic Clinic Ltd|Newson Health|Aura Centre Of Dental|Pharmacy|N L Healthcare Ltd|Superdrug|Harry|Boots|Psychiatry-uk|Skn Victoria Street|Stormmedial'), ['Category']] = 'Health Care'\n",
    "df.loc[df['Name'].str.contains('Minster Mill|The Highway Inn|Aquanaut|Booking.com|TripAdvisor|Blacks|Hotel|British Airways|Birmingham Metropole'), ['Category']] = 'Holiday'\n",
    "df.loc[df['Name'].str.contains('US Customs and Border Protection ESTA|Zazzle|Bute & Co|The Clive Arms|The Windmill Reviv|Four Seasons Resort|The Moorfields|Roman Baths|Camping|Ginger Pig'), ['Category']] = 'Holiday'\n",
    "\n",
    "df.loc[df['Name'].str.contains('Sophie J Benhissen|TaskRabbit|Abigail Ahern Limited|Kronenbergs|Westway|Habitat|Fowler & Smith Ltd|King Of Cotton|Gerald F Giles Ltd|Sable Private Wealth Management Limited|Debenhams|Watsons-on-the-web|IKEA|House Of Fraser|Adam Siese|Homebase|Lucy White Dry|Argos|Surrey Skip Bags|Garden Revamp Company|Ungaretti|www.chimsoc.co.uk|Lamp and Light|Wilko|John Lewis|Poundland|Tsveti|West Elm|Wickes|Luke|Lucas Ungarett|Lights4fun.|Mike King Electrical'), \n",
    "       ['Category']] = 'Household'\n",
    "df.loc[df['Name'].str.contains('Mnr Jewellers|Serendib Jewellers'), ['Category']] = 'Jewellery'\n",
    "df.loc[df['Name'].str.contains('WEDGWOOD E|POULTNEY E|Emma Wedgwood|EMMA WEDGWOOD|Emma Poultney'), ['Category']] = 'Money From Emma'\n",
    "df.loc[df['Name'].str.contains('Richard Hill'), ['Category']] = 'Money from Friends'\n",
    "df.loc[df['Name'].str.contains('Miss Gemma Oliver|Ruth Vizard|DW Poultney|Victoria Poultney|Adriana Piedade|S P Galanova'), ['Category']] = 'Money to Friends'\n",
    "\n",
    "df.loc[df['Name'].str.contains('DHL|Dhl|Royal Mail|Post Office|UPS|Customs Charges'), ['Category']] = 'Postage'\n",
    "df.loc[df['Name'].str.contains('www.upstairsatthreeand|Franco Manca|Giggling Squid|Trullo|Tangawizi|Nando|Sorabol|Ivy|The Britannia Richmond'), ['Category']] = 'Restaurant'\n",
    "df.loc[df['Name'].str.contains('Buba|The French Table|Opentable|Carluccio|Tangawizi|COOK|Dusk|Iberica|The Admiral Codrington|Haz|Pizza Express'), ['Category']] = 'Restaurant'\n",
    "df.loc[df['Name'].str.contains('Brewery|The Vansittart Arms|A Cena|Banana Tree'), ['Category']] = 'Restaurant'\n",
    "\n",
    "\n",
    "df.loc[df['Name'].str.contains('Rivermead Leisure Complex and Gym|Pret|Juice|Hazs|Host Olympia|Grababite|Grind|Soul Deli|Eat17'), ['Category']] = 'Snackette'\n",
    "df.loc[df['Name'].str.contains('Harrods|Bento|Crosstown|Welcome Break|Juice|JUICE|Real Food Market'), ['Category']] = 'Snackette'\n",
    "df.loc[df['Name'].str.contains('Local Hero|Bakery|The Press Room|Krispy|Savanna|McDonald|Tortilla|Leon|Espresso|Roaster|Protein'), ['Category']] = 'Snackette'\n",
    "df.loc[df['Name'].str.contains('Pembroke Lodge|Doughnut Time|Best One Xpress|Pier Walk|Cuppa|Lamb And Flag'), ['Category']] = 'Snackette'\n",
    "df.loc[df['Name'].str.contains('Toms @ Riverside|Wafflemeister Kingston|Ichiba|Ole Steen|Tried And True'), ['Category']] = 'Snackette'\n",
    "df.loc[df['Name'].str.contains('Ravello|Shrimpy Limited|Farrago|Simit Sarayi|Minamoto Kitchoan'), ['Category']] = 'Snackette'\n",
    "\n",
    "df.loc[df['Name'].str.contains('Ryman|Scribbler'), ['Category']] = 'Stationary'\n",
    "\n",
    "df.loc[df['Name'].str.contains('Chambers Bespoke Tailors|Catering|Duchess & Butler}|We Are The Fuel|City String Ensemble|Start The Dance|Waymour Bus Hire|Blue Door Productions|Miss Ja Dick|Charlotteex|Granger Hertzog Ltd'), ['Category']] = 'Wedding'\n",
    "df.loc[df['Name'].str.contains('Ms A Akdemir|Great St Bartholomew|Gresham Blake Ltd|Party Foctors|Rachelle Speed|Hannah Martin|BUTL LTD|Thomas Pink Shirtmaker|T.M. Lewin|Ben Minnaar Photography|Merchant Taylors Hall|Furniture4Events|Brittani Coupland|Classic Crockery|Duchess & Butler|Isabelle Boizis|Zaza|Jack Bunney Ltd|Etsy.com - Bespokewedd|Childrensalon|Bridal|Wonderbly Personalised|Portraits Bridal|Angie Bryant|Wedding|Miss A Akdemir|Select Contracts Uk'), ['Category']] = 'Wedding'\n",
    "df.loc[df['Name'].str.contains('Webhostinghub|ExpressVPN|Apple|Currys PC World|Zoom'), ['Category']] = 'Tech'\n",
    "df.loc[df['Name'].str.contains('Artworks|Art5 Gallery'), ['Category']] = 'Art'\n",
    "df.loc[df['Name'].str.contains('Toni|Jo Hansford'), ['Category']] = 'Hair'\n",
    "df.loc[df['Name'].str.contains('SIMPSON MILLAR LLP'), ['Category']] = 'Legal'\n",
    "df.loc[df['Name'].str.contains('British A1252116736968'), ['Category']] = 'Refunds'\n",
    "df.loc[df['Name'].str.contains('London SW Intergroup|Chelsea Convention|Serpilquinn|Recoveringc'), ['Category']] = 'Recovery'\n",
    "df.loc[df['Name'].str.contains('American Golf|World Of Golf|Ben Tebbs Pga Golf Sho|Vitality London'), ['Category']] = 'Sport'\n",
    "df.loc[df['Name'].str.contains('KW Client Account'), ['Category']] = 'Legal'\n",
    "df.loc[df['Name'].str.contains('Homeground Management|Gus Slator|West One Secured Loans Limited|Daniel Watney|Bright Cloud Cleaning Services'), ['Category']] = 'Banner Street Expenses'\n",
    "\n",
    "\n",
    "\n",
    "\n",
    "\n",
    "\n",
    "\n",
    "\n",
    "\n",
    "\n",
    "\n",
    "\n",
    "\n",
    "\n",
    "#####\n",
    "df.loc[df['Name'].str.contains('Louis Vuitton'), ['Category']] = 'Luxury'\n",
    "df.loc[df['Name'].str.contains('CATERING LTD'), ['Category']] = 'Wedding'\n",
    "\n",
    "\n",
    "df.loc[df['Name'].str.contains(\"thened|White House|s Wimbledon|Smith's|Pizza Bro|Caravan City|The Albion|The Riverside|Park Plaza|Moksha|Busaba Eatha|Youngs|Jarvis|Sea Containers London|The Good Egg|Poor Boys|Tangawizi|Foyer & Reading Room|Gilbeys\"), ['Category']] = 'Restaurant'\n",
    "\n",
    "df.loc[df['Name'].str.contains('Etsy|Esbhome|Snappy Snaps|The Plastic Box Company|Restory Booking|The Lavender Room Ltd|Timpson|Bentall|Garden|Sophie Allport|Flying Tiger|Garsons Esher|Must Have Ideas Ltd|Lakeland|The White Company|Garsons Garden|westelm|Cleaner|Green Cleen|Casachicltd|MADE.COM|Pics2posters|Dry Cleaner|1ofseven.co.uk|Big Yellow - Kingston|Bentalls|Access|Farrow|Relaxdays|Best4frames|Wayfair|Ideal Cleaning|MK Electrical Services|ProSleepy|Plumbing|Centrica|Tsvetelina Koleva'), ['Category']] = 'Household'\n",
    "df.loc[df['Name'].str.contains('Londis|Kingston Superstore|s News|S Simply Food|Grape Tree|Whole Foods|Fratelli Delicatessen|Farmdrop|Aldi|8greens|Ajand Sweet And News|Bm Superstore'), ['Category']] = 'Groceries'\n",
    "df.loc[df['Name'].str.contains('Hulu'), ['Category']] = 'Entertainment'\n",
    "df.loc[df['Name'].str.contains('Top Cream|Tg Moleside|Wine London|One Step|Change Please|Whirld|Horn Ok Please|The Black Pig|Premier Inn 44536885|Wined Up|Hush Hush|Guliano|Maison St. Cassien|Broma Foods Ltd|Wahaca|Itsu|Sandwich|Decorum Vending|Creamy Btb|Bowl and Roll|Poke|Pokie|Paul|Wasabi|Pod Food|Sushi Shop|Burger King|Benugo|Al Forno|Belgian Chips'), ['Category']] = 'Snackette'\n",
    "df.loc[df['Name'].str.contains('hush-uk|Hm Online|Primark|GAP'), ['Category']] = 'Clothing'\n",
    "df.loc[df['Name'].str.contains('Nursing & Midwifery Council'), ['Category']] = 'Union'\n",
    "df.loc[df['Name'].str.contains('Hilary King Mgt'), ['Category']] = 'Scams'\n",
    "df.loc[df['Name'].str.contains('Reading Borough Council|Hampton Court Service|Four Marks Sf Connect|Ncp|PayByPhone|Air-SERV|ESSO MFG|Tex Emb|Esso|Richmond Council|Thorney Toll Service|Admiral Portal'), ['Category']] = 'Car'\n",
    "df.loc[df['Name'].str.contains('Healthmatic Ltd'), ['Category']] = 'Public Toilet'\n",
    "df.loc[df['Name'].str.contains('Prentice|Test.com|JOHNSON AC'), ['Category']] = 'Unknown'\n",
    "\n",
    "\n",
    "\n",
    "\n",
    "\n",
    "df[df['Category'] == ''].sort_values(by=['Amount'])\n",
    "\n",
    "\n",
    "\n",
    "\n"
   ]
  },
  {
   "cell_type": "code",
   "execution_count": 322,
   "id": "79686f92",
   "metadata": {},
   "outputs": [],
   "source": [
    " \n",
    "df['year_month_day'] = pd.to_datetime(df['Date'], format='%d/%m/%Y').dt.strftime('%Y-%m-%d')\n",
    "df['year_month'] = pd.to_datetime(df['Date'], format='%d/%m/%Y').dt.strftime('%Y-%m')\n"
   ]
  },
  {
   "cell_type": "code",
   "execution_count": 323,
   "id": "ba80a4fe",
   "metadata": {},
   "outputs": [
    {
     "data": {
      "application/vnd.plotly.v1+json": {
       "config": {
        "plotlyServerURL": "https://plot.ly"
       },
       "data": [
        {
         "type": "scatter",
         "x": [
          "2018-09",
          "2018-10",
          "2018-11",
          "2018-12",
          "2019-01",
          "2019-02",
          "2019-03",
          "2019-04",
          "2019-05",
          "2019-06",
          "2019-07",
          "2019-08",
          "2019-09",
          "2019-10",
          "2019-11",
          "2019-12",
          "2020-01",
          "2020-02",
          "2020-03",
          "2020-04",
          "2020-05",
          "2020-06",
          "2020-07",
          "2020-08",
          "2020-09",
          "2020-10",
          "2020-11",
          "2020-12",
          "2021-01",
          "2021-02",
          "2021-03",
          "2021-04",
          "2021-05",
          "2021-06",
          "2021-07"
         ],
         "y": [
          500,
          165.08999999999997,
          678.77,
          188.40999999999997,
          2888.6699999999996,
          683.9699999999998,
          1977.1599999999996,
          4200.049999999999,
          3160.4699999999993,
          3989.8399999999992,
          3983.929999999999,
          3576.599999999999,
          3037.789999999999,
          3171.8199999999993,
          3012.0299999999993,
          3607.269999999999,
          2793.2,
          2950.7000000000003,
          2834.6400000000003,
          657.1200000000003,
          227.97000000000037,
          2337.0400000000004,
          753.7500000000005,
          5129.370000000001,
          2590.0300000000007,
          1306.8400000000004,
          1068.2300000000005,
          393.64000000000044,
          6226.830000000001,
          2301.980000000001,
          1353.7000000000005,
          173.59000000000037,
          4229.32,
          1158.4799999999996,
          949.1999999999994
         ]
        }
       ],
       "layout": {
        "hovermode": "x unified",
        "template": {
         "data": {
          "bar": [
           {
            "error_x": {
             "color": "#2a3f5f"
            },
            "error_y": {
             "color": "#2a3f5f"
            },
            "marker": {
             "line": {
              "color": "#E5ECF6",
              "width": 0.5
             },
             "pattern": {
              "fillmode": "overlay",
              "size": 10,
              "solidity": 0.2
             }
            },
            "type": "bar"
           }
          ],
          "barpolar": [
           {
            "marker": {
             "line": {
              "color": "#E5ECF6",
              "width": 0.5
             },
             "pattern": {
              "fillmode": "overlay",
              "size": 10,
              "solidity": 0.2
             }
            },
            "type": "barpolar"
           }
          ],
          "carpet": [
           {
            "aaxis": {
             "endlinecolor": "#2a3f5f",
             "gridcolor": "white",
             "linecolor": "white",
             "minorgridcolor": "white",
             "startlinecolor": "#2a3f5f"
            },
            "baxis": {
             "endlinecolor": "#2a3f5f",
             "gridcolor": "white",
             "linecolor": "white",
             "minorgridcolor": "white",
             "startlinecolor": "#2a3f5f"
            },
            "type": "carpet"
           }
          ],
          "choropleth": [
           {
            "colorbar": {
             "outlinewidth": 0,
             "ticks": ""
            },
            "type": "choropleth"
           }
          ],
          "contour": [
           {
            "colorbar": {
             "outlinewidth": 0,
             "ticks": ""
            },
            "colorscale": [
             [
              0,
              "#0d0887"
             ],
             [
              0.1111111111111111,
              "#46039f"
             ],
             [
              0.2222222222222222,
              "#7201a8"
             ],
             [
              0.3333333333333333,
              "#9c179e"
             ],
             [
              0.4444444444444444,
              "#bd3786"
             ],
             [
              0.5555555555555556,
              "#d8576b"
             ],
             [
              0.6666666666666666,
              "#ed7953"
             ],
             [
              0.7777777777777778,
              "#fb9f3a"
             ],
             [
              0.8888888888888888,
              "#fdca26"
             ],
             [
              1,
              "#f0f921"
             ]
            ],
            "type": "contour"
           }
          ],
          "contourcarpet": [
           {
            "colorbar": {
             "outlinewidth": 0,
             "ticks": ""
            },
            "type": "contourcarpet"
           }
          ],
          "heatmap": [
           {
            "colorbar": {
             "outlinewidth": 0,
             "ticks": ""
            },
            "colorscale": [
             [
              0,
              "#0d0887"
             ],
             [
              0.1111111111111111,
              "#46039f"
             ],
             [
              0.2222222222222222,
              "#7201a8"
             ],
             [
              0.3333333333333333,
              "#9c179e"
             ],
             [
              0.4444444444444444,
              "#bd3786"
             ],
             [
              0.5555555555555556,
              "#d8576b"
             ],
             [
              0.6666666666666666,
              "#ed7953"
             ],
             [
              0.7777777777777778,
              "#fb9f3a"
             ],
             [
              0.8888888888888888,
              "#fdca26"
             ],
             [
              1,
              "#f0f921"
             ]
            ],
            "type": "heatmap"
           }
          ],
          "heatmapgl": [
           {
            "colorbar": {
             "outlinewidth": 0,
             "ticks": ""
            },
            "colorscale": [
             [
              0,
              "#0d0887"
             ],
             [
              0.1111111111111111,
              "#46039f"
             ],
             [
              0.2222222222222222,
              "#7201a8"
             ],
             [
              0.3333333333333333,
              "#9c179e"
             ],
             [
              0.4444444444444444,
              "#bd3786"
             ],
             [
              0.5555555555555556,
              "#d8576b"
             ],
             [
              0.6666666666666666,
              "#ed7953"
             ],
             [
              0.7777777777777778,
              "#fb9f3a"
             ],
             [
              0.8888888888888888,
              "#fdca26"
             ],
             [
              1,
              "#f0f921"
             ]
            ],
            "type": "heatmapgl"
           }
          ],
          "histogram": [
           {
            "marker": {
             "pattern": {
              "fillmode": "overlay",
              "size": 10,
              "solidity": 0.2
             }
            },
            "type": "histogram"
           }
          ],
          "histogram2d": [
           {
            "colorbar": {
             "outlinewidth": 0,
             "ticks": ""
            },
            "colorscale": [
             [
              0,
              "#0d0887"
             ],
             [
              0.1111111111111111,
              "#46039f"
             ],
             [
              0.2222222222222222,
              "#7201a8"
             ],
             [
              0.3333333333333333,
              "#9c179e"
             ],
             [
              0.4444444444444444,
              "#bd3786"
             ],
             [
              0.5555555555555556,
              "#d8576b"
             ],
             [
              0.6666666666666666,
              "#ed7953"
             ],
             [
              0.7777777777777778,
              "#fb9f3a"
             ],
             [
              0.8888888888888888,
              "#fdca26"
             ],
             [
              1,
              "#f0f921"
             ]
            ],
            "type": "histogram2d"
           }
          ],
          "histogram2dcontour": [
           {
            "colorbar": {
             "outlinewidth": 0,
             "ticks": ""
            },
            "colorscale": [
             [
              0,
              "#0d0887"
             ],
             [
              0.1111111111111111,
              "#46039f"
             ],
             [
              0.2222222222222222,
              "#7201a8"
             ],
             [
              0.3333333333333333,
              "#9c179e"
             ],
             [
              0.4444444444444444,
              "#bd3786"
             ],
             [
              0.5555555555555556,
              "#d8576b"
             ],
             [
              0.6666666666666666,
              "#ed7953"
             ],
             [
              0.7777777777777778,
              "#fb9f3a"
             ],
             [
              0.8888888888888888,
              "#fdca26"
             ],
             [
              1,
              "#f0f921"
             ]
            ],
            "type": "histogram2dcontour"
           }
          ],
          "mesh3d": [
           {
            "colorbar": {
             "outlinewidth": 0,
             "ticks": ""
            },
            "type": "mesh3d"
           }
          ],
          "parcoords": [
           {
            "line": {
             "colorbar": {
              "outlinewidth": 0,
              "ticks": ""
             }
            },
            "type": "parcoords"
           }
          ],
          "pie": [
           {
            "automargin": true,
            "type": "pie"
           }
          ],
          "scatter": [
           {
            "marker": {
             "colorbar": {
              "outlinewidth": 0,
              "ticks": ""
             }
            },
            "type": "scatter"
           }
          ],
          "scatter3d": [
           {
            "line": {
             "colorbar": {
              "outlinewidth": 0,
              "ticks": ""
             }
            },
            "marker": {
             "colorbar": {
              "outlinewidth": 0,
              "ticks": ""
             }
            },
            "type": "scatter3d"
           }
          ],
          "scattercarpet": [
           {
            "marker": {
             "colorbar": {
              "outlinewidth": 0,
              "ticks": ""
             }
            },
            "type": "scattercarpet"
           }
          ],
          "scattergeo": [
           {
            "marker": {
             "colorbar": {
              "outlinewidth": 0,
              "ticks": ""
             }
            },
            "type": "scattergeo"
           }
          ],
          "scattergl": [
           {
            "marker": {
             "colorbar": {
              "outlinewidth": 0,
              "ticks": ""
             }
            },
            "type": "scattergl"
           }
          ],
          "scattermapbox": [
           {
            "marker": {
             "colorbar": {
              "outlinewidth": 0,
              "ticks": ""
             }
            },
            "type": "scattermapbox"
           }
          ],
          "scatterpolar": [
           {
            "marker": {
             "colorbar": {
              "outlinewidth": 0,
              "ticks": ""
             }
            },
            "type": "scatterpolar"
           }
          ],
          "scatterpolargl": [
           {
            "marker": {
             "colorbar": {
              "outlinewidth": 0,
              "ticks": ""
             }
            },
            "type": "scatterpolargl"
           }
          ],
          "scatterternary": [
           {
            "marker": {
             "colorbar": {
              "outlinewidth": 0,
              "ticks": ""
             }
            },
            "type": "scatterternary"
           }
          ],
          "surface": [
           {
            "colorbar": {
             "outlinewidth": 0,
             "ticks": ""
            },
            "colorscale": [
             [
              0,
              "#0d0887"
             ],
             [
              0.1111111111111111,
              "#46039f"
             ],
             [
              0.2222222222222222,
              "#7201a8"
             ],
             [
              0.3333333333333333,
              "#9c179e"
             ],
             [
              0.4444444444444444,
              "#bd3786"
             ],
             [
              0.5555555555555556,
              "#d8576b"
             ],
             [
              0.6666666666666666,
              "#ed7953"
             ],
             [
              0.7777777777777778,
              "#fb9f3a"
             ],
             [
              0.8888888888888888,
              "#fdca26"
             ],
             [
              1,
              "#f0f921"
             ]
            ],
            "type": "surface"
           }
          ],
          "table": [
           {
            "cells": {
             "fill": {
              "color": "#EBF0F8"
             },
             "line": {
              "color": "white"
             }
            },
            "header": {
             "fill": {
              "color": "#C8D4E3"
             },
             "line": {
              "color": "white"
             }
            },
            "type": "table"
           }
          ]
         },
         "layout": {
          "annotationdefaults": {
           "arrowcolor": "#2a3f5f",
           "arrowhead": 0,
           "arrowwidth": 1
          },
          "autotypenumbers": "strict",
          "coloraxis": {
           "colorbar": {
            "outlinewidth": 0,
            "ticks": ""
           }
          },
          "colorscale": {
           "diverging": [
            [
             0,
             "#8e0152"
            ],
            [
             0.1,
             "#c51b7d"
            ],
            [
             0.2,
             "#de77ae"
            ],
            [
             0.3,
             "#f1b6da"
            ],
            [
             0.4,
             "#fde0ef"
            ],
            [
             0.5,
             "#f7f7f7"
            ],
            [
             0.6,
             "#e6f5d0"
            ],
            [
             0.7,
             "#b8e186"
            ],
            [
             0.8,
             "#7fbc41"
            ],
            [
             0.9,
             "#4d9221"
            ],
            [
             1,
             "#276419"
            ]
           ],
           "sequential": [
            [
             0,
             "#0d0887"
            ],
            [
             0.1111111111111111,
             "#46039f"
            ],
            [
             0.2222222222222222,
             "#7201a8"
            ],
            [
             0.3333333333333333,
             "#9c179e"
            ],
            [
             0.4444444444444444,
             "#bd3786"
            ],
            [
             0.5555555555555556,
             "#d8576b"
            ],
            [
             0.6666666666666666,
             "#ed7953"
            ],
            [
             0.7777777777777778,
             "#fb9f3a"
            ],
            [
             0.8888888888888888,
             "#fdca26"
            ],
            [
             1,
             "#f0f921"
            ]
           ],
           "sequentialminus": [
            [
             0,
             "#0d0887"
            ],
            [
             0.1111111111111111,
             "#46039f"
            ],
            [
             0.2222222222222222,
             "#7201a8"
            ],
            [
             0.3333333333333333,
             "#9c179e"
            ],
            [
             0.4444444444444444,
             "#bd3786"
            ],
            [
             0.5555555555555556,
             "#d8576b"
            ],
            [
             0.6666666666666666,
             "#ed7953"
            ],
            [
             0.7777777777777778,
             "#fb9f3a"
            ],
            [
             0.8888888888888888,
             "#fdca26"
            ],
            [
             1,
             "#f0f921"
            ]
           ]
          },
          "colorway": [
           "#636efa",
           "#EF553B",
           "#00cc96",
           "#ab63fa",
           "#FFA15A",
           "#19d3f3",
           "#FF6692",
           "#B6E880",
           "#FF97FF",
           "#FECB52"
          ],
          "font": {
           "color": "#2a3f5f"
          },
          "geo": {
           "bgcolor": "white",
           "lakecolor": "white",
           "landcolor": "#E5ECF6",
           "showlakes": true,
           "showland": true,
           "subunitcolor": "white"
          },
          "hoverlabel": {
           "align": "left"
          },
          "hovermode": "closest",
          "mapbox": {
           "style": "light"
          },
          "paper_bgcolor": "white",
          "plot_bgcolor": "#E5ECF6",
          "polar": {
           "angularaxis": {
            "gridcolor": "white",
            "linecolor": "white",
            "ticks": ""
           },
           "bgcolor": "#E5ECF6",
           "radialaxis": {
            "gridcolor": "white",
            "linecolor": "white",
            "ticks": ""
           }
          },
          "scene": {
           "xaxis": {
            "backgroundcolor": "#E5ECF6",
            "gridcolor": "white",
            "gridwidth": 2,
            "linecolor": "white",
            "showbackground": true,
            "ticks": "",
            "zerolinecolor": "white"
           },
           "yaxis": {
            "backgroundcolor": "#E5ECF6",
            "gridcolor": "white",
            "gridwidth": 2,
            "linecolor": "white",
            "showbackground": true,
            "ticks": "",
            "zerolinecolor": "white"
           },
           "zaxis": {
            "backgroundcolor": "#E5ECF6",
            "gridcolor": "white",
            "gridwidth": 2,
            "linecolor": "white",
            "showbackground": true,
            "ticks": "",
            "zerolinecolor": "white"
           }
          },
          "shapedefaults": {
           "line": {
            "color": "#2a3f5f"
           }
          },
          "ternary": {
           "aaxis": {
            "gridcolor": "white",
            "linecolor": "white",
            "ticks": ""
           },
           "baxis": {
            "gridcolor": "white",
            "linecolor": "white",
            "ticks": ""
           },
           "bgcolor": "#E5ECF6",
           "caxis": {
            "gridcolor": "white",
            "linecolor": "white",
            "ticks": ""
           }
          },
          "title": {
           "x": 0.05
          },
          "xaxis": {
           "automargin": true,
           "gridcolor": "white",
           "linecolor": "white",
           "ticks": "",
           "title": {
            "standoff": 15
           },
           "zerolinecolor": "white",
           "zerolinewidth": 2
          },
          "yaxis": {
           "automargin": true,
           "gridcolor": "white",
           "linecolor": "white",
           "ticks": "",
           "title": {
            "standoff": 15
           },
           "zerolinecolor": "white",
           "zerolinewidth": 2
          }
         }
        },
        "title": {
         "text": "Net Worth Over Time"
        },
        "xaxis": {
         "tickangle": 45,
         "title": {
          "text": "Date"
         }
        },
        "yaxis": {
         "title": {
          "text": "Net Worth (£)"
         }
        }
       }
      },
      "text/html": [
       "<div>                            <div id=\"98ae822e-9b07-486e-8c6e-d2eb3ea1c5dc\" class=\"plotly-graph-div\" style=\"height:525px; width:100%;\"></div>            <script type=\"text/javascript\">                require([\"plotly\"], function(Plotly) {                    window.PLOTLYENV=window.PLOTLYENV || {};                                    if (document.getElementById(\"98ae822e-9b07-486e-8c6e-d2eb3ea1c5dc\")) {                    Plotly.newPlot(                        \"98ae822e-9b07-486e-8c6e-d2eb3ea1c5dc\",                        [{\"type\":\"scatter\",\"x\":[\"2018-09\",\"2018-10\",\"2018-11\",\"2018-12\",\"2019-01\",\"2019-02\",\"2019-03\",\"2019-04\",\"2019-05\",\"2019-06\",\"2019-07\",\"2019-08\",\"2019-09\",\"2019-10\",\"2019-11\",\"2019-12\",\"2020-01\",\"2020-02\",\"2020-03\",\"2020-04\",\"2020-05\",\"2020-06\",\"2020-07\",\"2020-08\",\"2020-09\",\"2020-10\",\"2020-11\",\"2020-12\",\"2021-01\",\"2021-02\",\"2021-03\",\"2021-04\",\"2021-05\",\"2021-06\",\"2021-07\"],\"y\":[500.0,165.08999999999997,678.77,188.40999999999997,2888.6699999999996,683.9699999999998,1977.1599999999996,4200.049999999999,3160.4699999999993,3989.8399999999992,3983.929999999999,3576.599999999999,3037.789999999999,3171.8199999999993,3012.0299999999993,3607.269999999999,2793.2,2950.7000000000003,2834.6400000000003,657.1200000000003,227.97000000000037,2337.0400000000004,753.7500000000005,5129.370000000001,2590.0300000000007,1306.8400000000004,1068.2300000000005,393.64000000000044,6226.830000000001,2301.980000000001,1353.7000000000005,173.59000000000037,4229.32,1158.4799999999996,949.1999999999994]}],                        {\"hovermode\":\"x unified\",\"template\":{\"data\":{\"bar\":[{\"error_x\":{\"color\":\"#2a3f5f\"},\"error_y\":{\"color\":\"#2a3f5f\"},\"marker\":{\"line\":{\"color\":\"#E5ECF6\",\"width\":0.5},\"pattern\":{\"fillmode\":\"overlay\",\"size\":10,\"solidity\":0.2}},\"type\":\"bar\"}],\"barpolar\":[{\"marker\":{\"line\":{\"color\":\"#E5ECF6\",\"width\":0.5},\"pattern\":{\"fillmode\":\"overlay\",\"size\":10,\"solidity\":0.2}},\"type\":\"barpolar\"}],\"carpet\":[{\"aaxis\":{\"endlinecolor\":\"#2a3f5f\",\"gridcolor\":\"white\",\"linecolor\":\"white\",\"minorgridcolor\":\"white\",\"startlinecolor\":\"#2a3f5f\"},\"baxis\":{\"endlinecolor\":\"#2a3f5f\",\"gridcolor\":\"white\",\"linecolor\":\"white\",\"minorgridcolor\":\"white\",\"startlinecolor\":\"#2a3f5f\"},\"type\":\"carpet\"}],\"choropleth\":[{\"colorbar\":{\"outlinewidth\":0,\"ticks\":\"\"},\"type\":\"choropleth\"}],\"contour\":[{\"colorbar\":{\"outlinewidth\":0,\"ticks\":\"\"},\"colorscale\":[[0.0,\"#0d0887\"],[0.1111111111111111,\"#46039f\"],[0.2222222222222222,\"#7201a8\"],[0.3333333333333333,\"#9c179e\"],[0.4444444444444444,\"#bd3786\"],[0.5555555555555556,\"#d8576b\"],[0.6666666666666666,\"#ed7953\"],[0.7777777777777778,\"#fb9f3a\"],[0.8888888888888888,\"#fdca26\"],[1.0,\"#f0f921\"]],\"type\":\"contour\"}],\"contourcarpet\":[{\"colorbar\":{\"outlinewidth\":0,\"ticks\":\"\"},\"type\":\"contourcarpet\"}],\"heatmap\":[{\"colorbar\":{\"outlinewidth\":0,\"ticks\":\"\"},\"colorscale\":[[0.0,\"#0d0887\"],[0.1111111111111111,\"#46039f\"],[0.2222222222222222,\"#7201a8\"],[0.3333333333333333,\"#9c179e\"],[0.4444444444444444,\"#bd3786\"],[0.5555555555555556,\"#d8576b\"],[0.6666666666666666,\"#ed7953\"],[0.7777777777777778,\"#fb9f3a\"],[0.8888888888888888,\"#fdca26\"],[1.0,\"#f0f921\"]],\"type\":\"heatmap\"}],\"heatmapgl\":[{\"colorbar\":{\"outlinewidth\":0,\"ticks\":\"\"},\"colorscale\":[[0.0,\"#0d0887\"],[0.1111111111111111,\"#46039f\"],[0.2222222222222222,\"#7201a8\"],[0.3333333333333333,\"#9c179e\"],[0.4444444444444444,\"#bd3786\"],[0.5555555555555556,\"#d8576b\"],[0.6666666666666666,\"#ed7953\"],[0.7777777777777778,\"#fb9f3a\"],[0.8888888888888888,\"#fdca26\"],[1.0,\"#f0f921\"]],\"type\":\"heatmapgl\"}],\"histogram\":[{\"marker\":{\"pattern\":{\"fillmode\":\"overlay\",\"size\":10,\"solidity\":0.2}},\"type\":\"histogram\"}],\"histogram2d\":[{\"colorbar\":{\"outlinewidth\":0,\"ticks\":\"\"},\"colorscale\":[[0.0,\"#0d0887\"],[0.1111111111111111,\"#46039f\"],[0.2222222222222222,\"#7201a8\"],[0.3333333333333333,\"#9c179e\"],[0.4444444444444444,\"#bd3786\"],[0.5555555555555556,\"#d8576b\"],[0.6666666666666666,\"#ed7953\"],[0.7777777777777778,\"#fb9f3a\"],[0.8888888888888888,\"#fdca26\"],[1.0,\"#f0f921\"]],\"type\":\"histogram2d\"}],\"histogram2dcontour\":[{\"colorbar\":{\"outlinewidth\":0,\"ticks\":\"\"},\"colorscale\":[[0.0,\"#0d0887\"],[0.1111111111111111,\"#46039f\"],[0.2222222222222222,\"#7201a8\"],[0.3333333333333333,\"#9c179e\"],[0.4444444444444444,\"#bd3786\"],[0.5555555555555556,\"#d8576b\"],[0.6666666666666666,\"#ed7953\"],[0.7777777777777778,\"#fb9f3a\"],[0.8888888888888888,\"#fdca26\"],[1.0,\"#f0f921\"]],\"type\":\"histogram2dcontour\"}],\"mesh3d\":[{\"colorbar\":{\"outlinewidth\":0,\"ticks\":\"\"},\"type\":\"mesh3d\"}],\"parcoords\":[{\"line\":{\"colorbar\":{\"outlinewidth\":0,\"ticks\":\"\"}},\"type\":\"parcoords\"}],\"pie\":[{\"automargin\":true,\"type\":\"pie\"}],\"scatter\":[{\"marker\":{\"colorbar\":{\"outlinewidth\":0,\"ticks\":\"\"}},\"type\":\"scatter\"}],\"scatter3d\":[{\"line\":{\"colorbar\":{\"outlinewidth\":0,\"ticks\":\"\"}},\"marker\":{\"colorbar\":{\"outlinewidth\":0,\"ticks\":\"\"}},\"type\":\"scatter3d\"}],\"scattercarpet\":[{\"marker\":{\"colorbar\":{\"outlinewidth\":0,\"ticks\":\"\"}},\"type\":\"scattercarpet\"}],\"scattergeo\":[{\"marker\":{\"colorbar\":{\"outlinewidth\":0,\"ticks\":\"\"}},\"type\":\"scattergeo\"}],\"scattergl\":[{\"marker\":{\"colorbar\":{\"outlinewidth\":0,\"ticks\":\"\"}},\"type\":\"scattergl\"}],\"scattermapbox\":[{\"marker\":{\"colorbar\":{\"outlinewidth\":0,\"ticks\":\"\"}},\"type\":\"scattermapbox\"}],\"scatterpolar\":[{\"marker\":{\"colorbar\":{\"outlinewidth\":0,\"ticks\":\"\"}},\"type\":\"scatterpolar\"}],\"scatterpolargl\":[{\"marker\":{\"colorbar\":{\"outlinewidth\":0,\"ticks\":\"\"}},\"type\":\"scatterpolargl\"}],\"scatterternary\":[{\"marker\":{\"colorbar\":{\"outlinewidth\":0,\"ticks\":\"\"}},\"type\":\"scatterternary\"}],\"surface\":[{\"colorbar\":{\"outlinewidth\":0,\"ticks\":\"\"},\"colorscale\":[[0.0,\"#0d0887\"],[0.1111111111111111,\"#46039f\"],[0.2222222222222222,\"#7201a8\"],[0.3333333333333333,\"#9c179e\"],[0.4444444444444444,\"#bd3786\"],[0.5555555555555556,\"#d8576b\"],[0.6666666666666666,\"#ed7953\"],[0.7777777777777778,\"#fb9f3a\"],[0.8888888888888888,\"#fdca26\"],[1.0,\"#f0f921\"]],\"type\":\"surface\"}],\"table\":[{\"cells\":{\"fill\":{\"color\":\"#EBF0F8\"},\"line\":{\"color\":\"white\"}},\"header\":{\"fill\":{\"color\":\"#C8D4E3\"},\"line\":{\"color\":\"white\"}},\"type\":\"table\"}]},\"layout\":{\"annotationdefaults\":{\"arrowcolor\":\"#2a3f5f\",\"arrowhead\":0,\"arrowwidth\":1},\"autotypenumbers\":\"strict\",\"coloraxis\":{\"colorbar\":{\"outlinewidth\":0,\"ticks\":\"\"}},\"colorscale\":{\"diverging\":[[0,\"#8e0152\"],[0.1,\"#c51b7d\"],[0.2,\"#de77ae\"],[0.3,\"#f1b6da\"],[0.4,\"#fde0ef\"],[0.5,\"#f7f7f7\"],[0.6,\"#e6f5d0\"],[0.7,\"#b8e186\"],[0.8,\"#7fbc41\"],[0.9,\"#4d9221\"],[1,\"#276419\"]],\"sequential\":[[0.0,\"#0d0887\"],[0.1111111111111111,\"#46039f\"],[0.2222222222222222,\"#7201a8\"],[0.3333333333333333,\"#9c179e\"],[0.4444444444444444,\"#bd3786\"],[0.5555555555555556,\"#d8576b\"],[0.6666666666666666,\"#ed7953\"],[0.7777777777777778,\"#fb9f3a\"],[0.8888888888888888,\"#fdca26\"],[1.0,\"#f0f921\"]],\"sequentialminus\":[[0.0,\"#0d0887\"],[0.1111111111111111,\"#46039f\"],[0.2222222222222222,\"#7201a8\"],[0.3333333333333333,\"#9c179e\"],[0.4444444444444444,\"#bd3786\"],[0.5555555555555556,\"#d8576b\"],[0.6666666666666666,\"#ed7953\"],[0.7777777777777778,\"#fb9f3a\"],[0.8888888888888888,\"#fdca26\"],[1.0,\"#f0f921\"]]},\"colorway\":[\"#636efa\",\"#EF553B\",\"#00cc96\",\"#ab63fa\",\"#FFA15A\",\"#19d3f3\",\"#FF6692\",\"#B6E880\",\"#FF97FF\",\"#FECB52\"],\"font\":{\"color\":\"#2a3f5f\"},\"geo\":{\"bgcolor\":\"white\",\"lakecolor\":\"white\",\"landcolor\":\"#E5ECF6\",\"showlakes\":true,\"showland\":true,\"subunitcolor\":\"white\"},\"hoverlabel\":{\"align\":\"left\"},\"hovermode\":\"closest\",\"mapbox\":{\"style\":\"light\"},\"paper_bgcolor\":\"white\",\"plot_bgcolor\":\"#E5ECF6\",\"polar\":{\"angularaxis\":{\"gridcolor\":\"white\",\"linecolor\":\"white\",\"ticks\":\"\"},\"bgcolor\":\"#E5ECF6\",\"radialaxis\":{\"gridcolor\":\"white\",\"linecolor\":\"white\",\"ticks\":\"\"}},\"scene\":{\"xaxis\":{\"backgroundcolor\":\"#E5ECF6\",\"gridcolor\":\"white\",\"gridwidth\":2,\"linecolor\":\"white\",\"showbackground\":true,\"ticks\":\"\",\"zerolinecolor\":\"white\"},\"yaxis\":{\"backgroundcolor\":\"#E5ECF6\",\"gridcolor\":\"white\",\"gridwidth\":2,\"linecolor\":\"white\",\"showbackground\":true,\"ticks\":\"\",\"zerolinecolor\":\"white\"},\"zaxis\":{\"backgroundcolor\":\"#E5ECF6\",\"gridcolor\":\"white\",\"gridwidth\":2,\"linecolor\":\"white\",\"showbackground\":true,\"ticks\":\"\",\"zerolinecolor\":\"white\"}},\"shapedefaults\":{\"line\":{\"color\":\"#2a3f5f\"}},\"ternary\":{\"aaxis\":{\"gridcolor\":\"white\",\"linecolor\":\"white\",\"ticks\":\"\"},\"baxis\":{\"gridcolor\":\"white\",\"linecolor\":\"white\",\"ticks\":\"\"},\"bgcolor\":\"#E5ECF6\",\"caxis\":{\"gridcolor\":\"white\",\"linecolor\":\"white\",\"ticks\":\"\"}},\"title\":{\"x\":0.05},\"xaxis\":{\"automargin\":true,\"gridcolor\":\"white\",\"linecolor\":\"white\",\"ticks\":\"\",\"title\":{\"standoff\":15},\"zerolinecolor\":\"white\",\"zerolinewidth\":2},\"yaxis\":{\"automargin\":true,\"gridcolor\":\"white\",\"linecolor\":\"white\",\"ticks\":\"\",\"title\":{\"standoff\":15},\"zerolinecolor\":\"white\",\"zerolinewidth\":2}}},\"title\":{\"text\":\"Net Worth Over Time\"},\"xaxis\":{\"tickangle\":45,\"title\":{\"text\":\"Date\"}},\"yaxis\":{\"title\":{\"text\":\"Net Worth (\\u00a3)\"}}},                        {\"responsive\": true}                    ).then(function(){\n",
       "                            \n",
       "var gd = document.getElementById('98ae822e-9b07-486e-8c6e-d2eb3ea1c5dc');\n",
       "var x = new MutationObserver(function (mutations, observer) {{\n",
       "        var display = window.getComputedStyle(gd).display;\n",
       "        if (!display || display === 'none') {{\n",
       "            console.log([gd, 'removed!']);\n",
       "            Plotly.purge(gd);\n",
       "            observer.disconnect();\n",
       "        }}\n",
       "}});\n",
       "\n",
       "// Listen for the removal of the full notebook cells\n",
       "var notebookContainer = gd.closest('#notebook-container');\n",
       "if (notebookContainer) {{\n",
       "    x.observe(notebookContainer, {childList: true});\n",
       "}}\n",
       "\n",
       "// Listen for the clearing of the current output cell\n",
       "var outputEl = gd.closest('.output');\n",
       "if (outputEl) {{\n",
       "    x.observe(outputEl, {childList: true});\n",
       "}}\n",
       "\n",
       "                        })                };                });            </script>        </div>"
      ]
     },
     "metadata": {},
     "output_type": "display_data"
    }
   ],
   "source": [
    "Net_Worth_Table = df.groupby('year_month')['Amount'].sum().reset_index(name ='sum')\n",
    "Net_Worth_Table['cumulative sum'] = Net_Worth_Table['sum'].cumsum()\n",
    "Net_Worth_Chart = go.Figure(\n",
    "    data = go.Scatter(x = Net_Worth_Table[\"year_month\"], y = Net_Worth_Table[\"cumulative sum\"]),\n",
    "    layout = go.Layout(\n",
    "        title = go.layout.Title(text = \"Net Worth Over Time\")\n",
    "    )\n",
    ")\n",
    "Net_Worth_Chart.update_layout(\n",
    "    xaxis_title = \"Date\",\n",
    "    yaxis_title = \"Net Worth (£)\",\n",
    "    hovermode = 'x unified'\n",
    "    )\n",
    "Net_Worth_Chart.update_xaxes(\n",
    "    tickangle = 45)\n",
    "Net_Worth_Chart.show()"
   ]
  },
  {
   "cell_type": "code",
   "execution_count": 138,
   "id": "bfb129f4",
   "metadata": {},
   "outputs": [
    {
     "data": {
      "text/plain": [
       "array(['Travel', 'Transfer', 'Utilities', 'Insurance', 'Entertainment',\n",
       "       'Mortgage', 'MoneyFromChris', 'Credit Card', 'Council Tax',\n",
       "       'Gifts', 'Groceries', 'Stationary', 'Houesehold', 'Takeaway',\n",
       "       'Emma Wedgwood Aesthetics Expense', 'Online Purchase', 'Postage',\n",
       "       'Holiday', 'Snackette', 'Therapy', 'Money from Friends', 'Car',\n",
       "       'Alfie', 'Cash Out', 'Restaurant', 'Health&Fitness',\n",
       "       'Money From Emma', 'Pharmacy', 'Jewellery', 'Household',\n",
       "       'Bank Charges', 'Rental Income'], dtype=object)"
      ]
     },
     "execution_count": 138,
     "metadata": {},
     "output_type": "execute_result"
    }
   ],
   "source": [
    "df.Category.unique()"
   ]
  },
  {
   "cell_type": "code",
   "execution_count": 313,
   "id": "2cd65c30",
   "metadata": {},
   "outputs": [
    {
     "data": {
      "application/vnd.plotly.v1+json": {
       "config": {
        "plotlyServerURL": "https://plot.ly"
       },
       "data": [
        {
         "alignmentgroup": "True",
         "hovertemplate": "year_month=%{x}<br>sum=%{y}<extra></extra>",
         "legendgroup": "",
         "marker": {
          "color": "#636efa",
          "pattern": {
           "shape": ""
          }
         },
         "name": "",
         "offsetgroup": "",
         "orientation": "v",
         "showlegend": false,
         "textposition": "auto",
         "type": "bar",
         "x": [
          "2018-10",
          "2018-11",
          "2018-12",
          "2019-01",
          "2019-02",
          "2019-03",
          "2019-04",
          "2019-05",
          "2019-06",
          "2019-07",
          "2019-08",
          "2019-09",
          "2019-10",
          "2019-11",
          "2019-12",
          "2020-01",
          "2020-02",
          "2020-03",
          "2020-04",
          "2020-05",
          "2020-06",
          "2020-07",
          "2020-08",
          "2020-09",
          "2020-10",
          "2020-11",
          "2020-12",
          "2021-01",
          "2021-02",
          "2021-03",
          "2021-04",
          "2021-05",
          "2021-06",
          "2021-07"
         ],
         "xaxis": "x",
         "y": [
          334.91,
          1986.32,
          6035.36,
          7349.74,
          7804.7,
          3606.81,
          7077.110000000001,
          7219.58,
          48570.63,
          10905.91,
          5157.33,
          5568.81,
          7321.26,
          4261.79,
          5304.759999999999,
          5434.07,
          5467.5,
          5741.0599999999995,
          5396.5,
          3143.99,
          3646.93,
          4723.29,
          5809.38,
          6049.34,
          6453.19,
          6563.610000000001,
          10879.59,
          12534.81,
          13384.85,
          7625.280000000001,
          6390.110000000001,
          8874.27,
          8560.84,
          7837.280000000001
         ],
         "yaxis": "y"
        }
       ],
       "layout": {
        "barmode": "relative",
        "legend": {
         "tracegroupgap": 0
        },
        "template": {
         "data": {
          "bar": [
           {
            "error_x": {
             "color": "#2a3f5f"
            },
            "error_y": {
             "color": "#2a3f5f"
            },
            "marker": {
             "line": {
              "color": "#E5ECF6",
              "width": 0.5
             },
             "pattern": {
              "fillmode": "overlay",
              "size": 10,
              "solidity": 0.2
             }
            },
            "type": "bar"
           }
          ],
          "barpolar": [
           {
            "marker": {
             "line": {
              "color": "#E5ECF6",
              "width": 0.5
             },
             "pattern": {
              "fillmode": "overlay",
              "size": 10,
              "solidity": 0.2
             }
            },
            "type": "barpolar"
           }
          ],
          "carpet": [
           {
            "aaxis": {
             "endlinecolor": "#2a3f5f",
             "gridcolor": "white",
             "linecolor": "white",
             "minorgridcolor": "white",
             "startlinecolor": "#2a3f5f"
            },
            "baxis": {
             "endlinecolor": "#2a3f5f",
             "gridcolor": "white",
             "linecolor": "white",
             "minorgridcolor": "white",
             "startlinecolor": "#2a3f5f"
            },
            "type": "carpet"
           }
          ],
          "choropleth": [
           {
            "colorbar": {
             "outlinewidth": 0,
             "ticks": ""
            },
            "type": "choropleth"
           }
          ],
          "contour": [
           {
            "colorbar": {
             "outlinewidth": 0,
             "ticks": ""
            },
            "colorscale": [
             [
              0,
              "#0d0887"
             ],
             [
              0.1111111111111111,
              "#46039f"
             ],
             [
              0.2222222222222222,
              "#7201a8"
             ],
             [
              0.3333333333333333,
              "#9c179e"
             ],
             [
              0.4444444444444444,
              "#bd3786"
             ],
             [
              0.5555555555555556,
              "#d8576b"
             ],
             [
              0.6666666666666666,
              "#ed7953"
             ],
             [
              0.7777777777777778,
              "#fb9f3a"
             ],
             [
              0.8888888888888888,
              "#fdca26"
             ],
             [
              1,
              "#f0f921"
             ]
            ],
            "type": "contour"
           }
          ],
          "contourcarpet": [
           {
            "colorbar": {
             "outlinewidth": 0,
             "ticks": ""
            },
            "type": "contourcarpet"
           }
          ],
          "heatmap": [
           {
            "colorbar": {
             "outlinewidth": 0,
             "ticks": ""
            },
            "colorscale": [
             [
              0,
              "#0d0887"
             ],
             [
              0.1111111111111111,
              "#46039f"
             ],
             [
              0.2222222222222222,
              "#7201a8"
             ],
             [
              0.3333333333333333,
              "#9c179e"
             ],
             [
              0.4444444444444444,
              "#bd3786"
             ],
             [
              0.5555555555555556,
              "#d8576b"
             ],
             [
              0.6666666666666666,
              "#ed7953"
             ],
             [
              0.7777777777777778,
              "#fb9f3a"
             ],
             [
              0.8888888888888888,
              "#fdca26"
             ],
             [
              1,
              "#f0f921"
             ]
            ],
            "type": "heatmap"
           }
          ],
          "heatmapgl": [
           {
            "colorbar": {
             "outlinewidth": 0,
             "ticks": ""
            },
            "colorscale": [
             [
              0,
              "#0d0887"
             ],
             [
              0.1111111111111111,
              "#46039f"
             ],
             [
              0.2222222222222222,
              "#7201a8"
             ],
             [
              0.3333333333333333,
              "#9c179e"
             ],
             [
              0.4444444444444444,
              "#bd3786"
             ],
             [
              0.5555555555555556,
              "#d8576b"
             ],
             [
              0.6666666666666666,
              "#ed7953"
             ],
             [
              0.7777777777777778,
              "#fb9f3a"
             ],
             [
              0.8888888888888888,
              "#fdca26"
             ],
             [
              1,
              "#f0f921"
             ]
            ],
            "type": "heatmapgl"
           }
          ],
          "histogram": [
           {
            "marker": {
             "pattern": {
              "fillmode": "overlay",
              "size": 10,
              "solidity": 0.2
             }
            },
            "type": "histogram"
           }
          ],
          "histogram2d": [
           {
            "colorbar": {
             "outlinewidth": 0,
             "ticks": ""
            },
            "colorscale": [
             [
              0,
              "#0d0887"
             ],
             [
              0.1111111111111111,
              "#46039f"
             ],
             [
              0.2222222222222222,
              "#7201a8"
             ],
             [
              0.3333333333333333,
              "#9c179e"
             ],
             [
              0.4444444444444444,
              "#bd3786"
             ],
             [
              0.5555555555555556,
              "#d8576b"
             ],
             [
              0.6666666666666666,
              "#ed7953"
             ],
             [
              0.7777777777777778,
              "#fb9f3a"
             ],
             [
              0.8888888888888888,
              "#fdca26"
             ],
             [
              1,
              "#f0f921"
             ]
            ],
            "type": "histogram2d"
           }
          ],
          "histogram2dcontour": [
           {
            "colorbar": {
             "outlinewidth": 0,
             "ticks": ""
            },
            "colorscale": [
             [
              0,
              "#0d0887"
             ],
             [
              0.1111111111111111,
              "#46039f"
             ],
             [
              0.2222222222222222,
              "#7201a8"
             ],
             [
              0.3333333333333333,
              "#9c179e"
             ],
             [
              0.4444444444444444,
              "#bd3786"
             ],
             [
              0.5555555555555556,
              "#d8576b"
             ],
             [
              0.6666666666666666,
              "#ed7953"
             ],
             [
              0.7777777777777778,
              "#fb9f3a"
             ],
             [
              0.8888888888888888,
              "#fdca26"
             ],
             [
              1,
              "#f0f921"
             ]
            ],
            "type": "histogram2dcontour"
           }
          ],
          "mesh3d": [
           {
            "colorbar": {
             "outlinewidth": 0,
             "ticks": ""
            },
            "type": "mesh3d"
           }
          ],
          "parcoords": [
           {
            "line": {
             "colorbar": {
              "outlinewidth": 0,
              "ticks": ""
             }
            },
            "type": "parcoords"
           }
          ],
          "pie": [
           {
            "automargin": true,
            "type": "pie"
           }
          ],
          "scatter": [
           {
            "marker": {
             "colorbar": {
              "outlinewidth": 0,
              "ticks": ""
             }
            },
            "type": "scatter"
           }
          ],
          "scatter3d": [
           {
            "line": {
             "colorbar": {
              "outlinewidth": 0,
              "ticks": ""
             }
            },
            "marker": {
             "colorbar": {
              "outlinewidth": 0,
              "ticks": ""
             }
            },
            "type": "scatter3d"
           }
          ],
          "scattercarpet": [
           {
            "marker": {
             "colorbar": {
              "outlinewidth": 0,
              "ticks": ""
             }
            },
            "type": "scattercarpet"
           }
          ],
          "scattergeo": [
           {
            "marker": {
             "colorbar": {
              "outlinewidth": 0,
              "ticks": ""
             }
            },
            "type": "scattergeo"
           }
          ],
          "scattergl": [
           {
            "marker": {
             "colorbar": {
              "outlinewidth": 0,
              "ticks": ""
             }
            },
            "type": "scattergl"
           }
          ],
          "scattermapbox": [
           {
            "marker": {
             "colorbar": {
              "outlinewidth": 0,
              "ticks": ""
             }
            },
            "type": "scattermapbox"
           }
          ],
          "scatterpolar": [
           {
            "marker": {
             "colorbar": {
              "outlinewidth": 0,
              "ticks": ""
             }
            },
            "type": "scatterpolar"
           }
          ],
          "scatterpolargl": [
           {
            "marker": {
             "colorbar": {
              "outlinewidth": 0,
              "ticks": ""
             }
            },
            "type": "scatterpolargl"
           }
          ],
          "scatterternary": [
           {
            "marker": {
             "colorbar": {
              "outlinewidth": 0,
              "ticks": ""
             }
            },
            "type": "scatterternary"
           }
          ],
          "surface": [
           {
            "colorbar": {
             "outlinewidth": 0,
             "ticks": ""
            },
            "colorscale": [
             [
              0,
              "#0d0887"
             ],
             [
              0.1111111111111111,
              "#46039f"
             ],
             [
              0.2222222222222222,
              "#7201a8"
             ],
             [
              0.3333333333333333,
              "#9c179e"
             ],
             [
              0.4444444444444444,
              "#bd3786"
             ],
             [
              0.5555555555555556,
              "#d8576b"
             ],
             [
              0.6666666666666666,
              "#ed7953"
             ],
             [
              0.7777777777777778,
              "#fb9f3a"
             ],
             [
              0.8888888888888888,
              "#fdca26"
             ],
             [
              1,
              "#f0f921"
             ]
            ],
            "type": "surface"
           }
          ],
          "table": [
           {
            "cells": {
             "fill": {
              "color": "#EBF0F8"
             },
             "line": {
              "color": "white"
             }
            },
            "header": {
             "fill": {
              "color": "#C8D4E3"
             },
             "line": {
              "color": "white"
             }
            },
            "type": "table"
           }
          ]
         },
         "layout": {
          "annotationdefaults": {
           "arrowcolor": "#2a3f5f",
           "arrowhead": 0,
           "arrowwidth": 1
          },
          "autotypenumbers": "strict",
          "coloraxis": {
           "colorbar": {
            "outlinewidth": 0,
            "ticks": ""
           }
          },
          "colorscale": {
           "diverging": [
            [
             0,
             "#8e0152"
            ],
            [
             0.1,
             "#c51b7d"
            ],
            [
             0.2,
             "#de77ae"
            ],
            [
             0.3,
             "#f1b6da"
            ],
            [
             0.4,
             "#fde0ef"
            ],
            [
             0.5,
             "#f7f7f7"
            ],
            [
             0.6,
             "#e6f5d0"
            ],
            [
             0.7,
             "#b8e186"
            ],
            [
             0.8,
             "#7fbc41"
            ],
            [
             0.9,
             "#4d9221"
            ],
            [
             1,
             "#276419"
            ]
           ],
           "sequential": [
            [
             0,
             "#0d0887"
            ],
            [
             0.1111111111111111,
             "#46039f"
            ],
            [
             0.2222222222222222,
             "#7201a8"
            ],
            [
             0.3333333333333333,
             "#9c179e"
            ],
            [
             0.4444444444444444,
             "#bd3786"
            ],
            [
             0.5555555555555556,
             "#d8576b"
            ],
            [
             0.6666666666666666,
             "#ed7953"
            ],
            [
             0.7777777777777778,
             "#fb9f3a"
            ],
            [
             0.8888888888888888,
             "#fdca26"
            ],
            [
             1,
             "#f0f921"
            ]
           ],
           "sequentialminus": [
            [
             0,
             "#0d0887"
            ],
            [
             0.1111111111111111,
             "#46039f"
            ],
            [
             0.2222222222222222,
             "#7201a8"
            ],
            [
             0.3333333333333333,
             "#9c179e"
            ],
            [
             0.4444444444444444,
             "#bd3786"
            ],
            [
             0.5555555555555556,
             "#d8576b"
            ],
            [
             0.6666666666666666,
             "#ed7953"
            ],
            [
             0.7777777777777778,
             "#fb9f3a"
            ],
            [
             0.8888888888888888,
             "#fdca26"
            ],
            [
             1,
             "#f0f921"
            ]
           ]
          },
          "colorway": [
           "#636efa",
           "#EF553B",
           "#00cc96",
           "#ab63fa",
           "#FFA15A",
           "#19d3f3",
           "#FF6692",
           "#B6E880",
           "#FF97FF",
           "#FECB52"
          ],
          "font": {
           "color": "#2a3f5f"
          },
          "geo": {
           "bgcolor": "white",
           "lakecolor": "white",
           "landcolor": "#E5ECF6",
           "showlakes": true,
           "showland": true,
           "subunitcolor": "white"
          },
          "hoverlabel": {
           "align": "left"
          },
          "hovermode": "closest",
          "mapbox": {
           "style": "light"
          },
          "paper_bgcolor": "white",
          "plot_bgcolor": "#E5ECF6",
          "polar": {
           "angularaxis": {
            "gridcolor": "white",
            "linecolor": "white",
            "ticks": ""
           },
           "bgcolor": "#E5ECF6",
           "radialaxis": {
            "gridcolor": "white",
            "linecolor": "white",
            "ticks": ""
           }
          },
          "scene": {
           "xaxis": {
            "backgroundcolor": "#E5ECF6",
            "gridcolor": "white",
            "gridwidth": 2,
            "linecolor": "white",
            "showbackground": true,
            "ticks": "",
            "zerolinecolor": "white"
           },
           "yaxis": {
            "backgroundcolor": "#E5ECF6",
            "gridcolor": "white",
            "gridwidth": 2,
            "linecolor": "white",
            "showbackground": true,
            "ticks": "",
            "zerolinecolor": "white"
           },
           "zaxis": {
            "backgroundcolor": "#E5ECF6",
            "gridcolor": "white",
            "gridwidth": 2,
            "linecolor": "white",
            "showbackground": true,
            "ticks": "",
            "zerolinecolor": "white"
           }
          },
          "shapedefaults": {
           "line": {
            "color": "#2a3f5f"
           }
          },
          "ternary": {
           "aaxis": {
            "gridcolor": "white",
            "linecolor": "white",
            "ticks": ""
           },
           "baxis": {
            "gridcolor": "white",
            "linecolor": "white",
            "ticks": ""
           },
           "bgcolor": "#E5ECF6",
           "caxis": {
            "gridcolor": "white",
            "linecolor": "white",
            "ticks": ""
           }
          },
          "title": {
           "x": 0.05
          },
          "xaxis": {
           "automargin": true,
           "gridcolor": "white",
           "linecolor": "white",
           "ticks": "",
           "title": {
            "standoff": 15
           },
           "zerolinecolor": "white",
           "zerolinewidth": 2
          },
          "yaxis": {
           "automargin": true,
           "gridcolor": "white",
           "linecolor": "white",
           "ticks": "",
           "title": {
            "standoff": 15
           },
           "zerolinecolor": "white",
           "zerolinewidth": 2
          }
         }
        },
        "title": {
         "text": "Total Monthly Expenses"
        },
        "xaxis": {
         "anchor": "y",
         "domain": [
          0,
          1
         ],
         "showticklabels": true,
         "title": {
          "text": "Date"
         },
         "visible": true
        },
        "yaxis": {
         "anchor": "x",
         "domain": [
          0,
          1
         ],
         "showticklabels": true,
         "title": {
          "text": "Expenses (£)"
         },
         "visible": true
        }
       }
      },
      "text/html": [
       "<div>                            <div id=\"4de7ecac-67fb-4753-98ea-7595dc62a7cc\" class=\"plotly-graph-div\" style=\"height:525px; width:100%;\"></div>            <script type=\"text/javascript\">                require([\"plotly\"], function(Plotly) {                    window.PLOTLYENV=window.PLOTLYENV || {};                                    if (document.getElementById(\"4de7ecac-67fb-4753-98ea-7595dc62a7cc\")) {                    Plotly.newPlot(                        \"4de7ecac-67fb-4753-98ea-7595dc62a7cc\",                        [{\"alignmentgroup\":\"True\",\"hovertemplate\":\"year_month=%{x}<br>sum=%{y}<extra></extra>\",\"legendgroup\":\"\",\"marker\":{\"color\":\"#636efa\",\"pattern\":{\"shape\":\"\"}},\"name\":\"\",\"offsetgroup\":\"\",\"orientation\":\"v\",\"showlegend\":false,\"textposition\":\"auto\",\"type\":\"bar\",\"x\":[\"2018-10\",\"2018-11\",\"2018-12\",\"2019-01\",\"2019-02\",\"2019-03\",\"2019-04\",\"2019-05\",\"2019-06\",\"2019-07\",\"2019-08\",\"2019-09\",\"2019-10\",\"2019-11\",\"2019-12\",\"2020-01\",\"2020-02\",\"2020-03\",\"2020-04\",\"2020-05\",\"2020-06\",\"2020-07\",\"2020-08\",\"2020-09\",\"2020-10\",\"2020-11\",\"2020-12\",\"2021-01\",\"2021-02\",\"2021-03\",\"2021-04\",\"2021-05\",\"2021-06\",\"2021-07\"],\"xaxis\":\"x\",\"y\":[334.91,1986.32,6035.36,7349.74,7804.7,3606.81,7077.110000000001,7219.58,48570.63,10905.91,5157.33,5568.81,7321.26,4261.79,5304.759999999999,5434.07,5467.5,5741.0599999999995,5396.5,3143.99,3646.93,4723.29,5809.38,6049.34,6453.19,6563.610000000001,10879.59,12534.81,13384.85,7625.280000000001,6390.110000000001,8874.27,8560.84,7837.280000000001],\"yaxis\":\"y\"}],                        {\"barmode\":\"relative\",\"legend\":{\"tracegroupgap\":0},\"template\":{\"data\":{\"bar\":[{\"error_x\":{\"color\":\"#2a3f5f\"},\"error_y\":{\"color\":\"#2a3f5f\"},\"marker\":{\"line\":{\"color\":\"#E5ECF6\",\"width\":0.5},\"pattern\":{\"fillmode\":\"overlay\",\"size\":10,\"solidity\":0.2}},\"type\":\"bar\"}],\"barpolar\":[{\"marker\":{\"line\":{\"color\":\"#E5ECF6\",\"width\":0.5},\"pattern\":{\"fillmode\":\"overlay\",\"size\":10,\"solidity\":0.2}},\"type\":\"barpolar\"}],\"carpet\":[{\"aaxis\":{\"endlinecolor\":\"#2a3f5f\",\"gridcolor\":\"white\",\"linecolor\":\"white\",\"minorgridcolor\":\"white\",\"startlinecolor\":\"#2a3f5f\"},\"baxis\":{\"endlinecolor\":\"#2a3f5f\",\"gridcolor\":\"white\",\"linecolor\":\"white\",\"minorgridcolor\":\"white\",\"startlinecolor\":\"#2a3f5f\"},\"type\":\"carpet\"}],\"choropleth\":[{\"colorbar\":{\"outlinewidth\":0,\"ticks\":\"\"},\"type\":\"choropleth\"}],\"contour\":[{\"colorbar\":{\"outlinewidth\":0,\"ticks\":\"\"},\"colorscale\":[[0.0,\"#0d0887\"],[0.1111111111111111,\"#46039f\"],[0.2222222222222222,\"#7201a8\"],[0.3333333333333333,\"#9c179e\"],[0.4444444444444444,\"#bd3786\"],[0.5555555555555556,\"#d8576b\"],[0.6666666666666666,\"#ed7953\"],[0.7777777777777778,\"#fb9f3a\"],[0.8888888888888888,\"#fdca26\"],[1.0,\"#f0f921\"]],\"type\":\"contour\"}],\"contourcarpet\":[{\"colorbar\":{\"outlinewidth\":0,\"ticks\":\"\"},\"type\":\"contourcarpet\"}],\"heatmap\":[{\"colorbar\":{\"outlinewidth\":0,\"ticks\":\"\"},\"colorscale\":[[0.0,\"#0d0887\"],[0.1111111111111111,\"#46039f\"],[0.2222222222222222,\"#7201a8\"],[0.3333333333333333,\"#9c179e\"],[0.4444444444444444,\"#bd3786\"],[0.5555555555555556,\"#d8576b\"],[0.6666666666666666,\"#ed7953\"],[0.7777777777777778,\"#fb9f3a\"],[0.8888888888888888,\"#fdca26\"],[1.0,\"#f0f921\"]],\"type\":\"heatmap\"}],\"heatmapgl\":[{\"colorbar\":{\"outlinewidth\":0,\"ticks\":\"\"},\"colorscale\":[[0.0,\"#0d0887\"],[0.1111111111111111,\"#46039f\"],[0.2222222222222222,\"#7201a8\"],[0.3333333333333333,\"#9c179e\"],[0.4444444444444444,\"#bd3786\"],[0.5555555555555556,\"#d8576b\"],[0.6666666666666666,\"#ed7953\"],[0.7777777777777778,\"#fb9f3a\"],[0.8888888888888888,\"#fdca26\"],[1.0,\"#f0f921\"]],\"type\":\"heatmapgl\"}],\"histogram\":[{\"marker\":{\"pattern\":{\"fillmode\":\"overlay\",\"size\":10,\"solidity\":0.2}},\"type\":\"histogram\"}],\"histogram2d\":[{\"colorbar\":{\"outlinewidth\":0,\"ticks\":\"\"},\"colorscale\":[[0.0,\"#0d0887\"],[0.1111111111111111,\"#46039f\"],[0.2222222222222222,\"#7201a8\"],[0.3333333333333333,\"#9c179e\"],[0.4444444444444444,\"#bd3786\"],[0.5555555555555556,\"#d8576b\"],[0.6666666666666666,\"#ed7953\"],[0.7777777777777778,\"#fb9f3a\"],[0.8888888888888888,\"#fdca26\"],[1.0,\"#f0f921\"]],\"type\":\"histogram2d\"}],\"histogram2dcontour\":[{\"colorbar\":{\"outlinewidth\":0,\"ticks\":\"\"},\"colorscale\":[[0.0,\"#0d0887\"],[0.1111111111111111,\"#46039f\"],[0.2222222222222222,\"#7201a8\"],[0.3333333333333333,\"#9c179e\"],[0.4444444444444444,\"#bd3786\"],[0.5555555555555556,\"#d8576b\"],[0.6666666666666666,\"#ed7953\"],[0.7777777777777778,\"#fb9f3a\"],[0.8888888888888888,\"#fdca26\"],[1.0,\"#f0f921\"]],\"type\":\"histogram2dcontour\"}],\"mesh3d\":[{\"colorbar\":{\"outlinewidth\":0,\"ticks\":\"\"},\"type\":\"mesh3d\"}],\"parcoords\":[{\"line\":{\"colorbar\":{\"outlinewidth\":0,\"ticks\":\"\"}},\"type\":\"parcoords\"}],\"pie\":[{\"automargin\":true,\"type\":\"pie\"}],\"scatter\":[{\"marker\":{\"colorbar\":{\"outlinewidth\":0,\"ticks\":\"\"}},\"type\":\"scatter\"}],\"scatter3d\":[{\"line\":{\"colorbar\":{\"outlinewidth\":0,\"ticks\":\"\"}},\"marker\":{\"colorbar\":{\"outlinewidth\":0,\"ticks\":\"\"}},\"type\":\"scatter3d\"}],\"scattercarpet\":[{\"marker\":{\"colorbar\":{\"outlinewidth\":0,\"ticks\":\"\"}},\"type\":\"scattercarpet\"}],\"scattergeo\":[{\"marker\":{\"colorbar\":{\"outlinewidth\":0,\"ticks\":\"\"}},\"type\":\"scattergeo\"}],\"scattergl\":[{\"marker\":{\"colorbar\":{\"outlinewidth\":0,\"ticks\":\"\"}},\"type\":\"scattergl\"}],\"scattermapbox\":[{\"marker\":{\"colorbar\":{\"outlinewidth\":0,\"ticks\":\"\"}},\"type\":\"scattermapbox\"}],\"scatterpolar\":[{\"marker\":{\"colorbar\":{\"outlinewidth\":0,\"ticks\":\"\"}},\"type\":\"scatterpolar\"}],\"scatterpolargl\":[{\"marker\":{\"colorbar\":{\"outlinewidth\":0,\"ticks\":\"\"}},\"type\":\"scatterpolargl\"}],\"scatterternary\":[{\"marker\":{\"colorbar\":{\"outlinewidth\":0,\"ticks\":\"\"}},\"type\":\"scatterternary\"}],\"surface\":[{\"colorbar\":{\"outlinewidth\":0,\"ticks\":\"\"},\"colorscale\":[[0.0,\"#0d0887\"],[0.1111111111111111,\"#46039f\"],[0.2222222222222222,\"#7201a8\"],[0.3333333333333333,\"#9c179e\"],[0.4444444444444444,\"#bd3786\"],[0.5555555555555556,\"#d8576b\"],[0.6666666666666666,\"#ed7953\"],[0.7777777777777778,\"#fb9f3a\"],[0.8888888888888888,\"#fdca26\"],[1.0,\"#f0f921\"]],\"type\":\"surface\"}],\"table\":[{\"cells\":{\"fill\":{\"color\":\"#EBF0F8\"},\"line\":{\"color\":\"white\"}},\"header\":{\"fill\":{\"color\":\"#C8D4E3\"},\"line\":{\"color\":\"white\"}},\"type\":\"table\"}]},\"layout\":{\"annotationdefaults\":{\"arrowcolor\":\"#2a3f5f\",\"arrowhead\":0,\"arrowwidth\":1},\"autotypenumbers\":\"strict\",\"coloraxis\":{\"colorbar\":{\"outlinewidth\":0,\"ticks\":\"\"}},\"colorscale\":{\"diverging\":[[0,\"#8e0152\"],[0.1,\"#c51b7d\"],[0.2,\"#de77ae\"],[0.3,\"#f1b6da\"],[0.4,\"#fde0ef\"],[0.5,\"#f7f7f7\"],[0.6,\"#e6f5d0\"],[0.7,\"#b8e186\"],[0.8,\"#7fbc41\"],[0.9,\"#4d9221\"],[1,\"#276419\"]],\"sequential\":[[0.0,\"#0d0887\"],[0.1111111111111111,\"#46039f\"],[0.2222222222222222,\"#7201a8\"],[0.3333333333333333,\"#9c179e\"],[0.4444444444444444,\"#bd3786\"],[0.5555555555555556,\"#d8576b\"],[0.6666666666666666,\"#ed7953\"],[0.7777777777777778,\"#fb9f3a\"],[0.8888888888888888,\"#fdca26\"],[1.0,\"#f0f921\"]],\"sequentialminus\":[[0.0,\"#0d0887\"],[0.1111111111111111,\"#46039f\"],[0.2222222222222222,\"#7201a8\"],[0.3333333333333333,\"#9c179e\"],[0.4444444444444444,\"#bd3786\"],[0.5555555555555556,\"#d8576b\"],[0.6666666666666666,\"#ed7953\"],[0.7777777777777778,\"#fb9f3a\"],[0.8888888888888888,\"#fdca26\"],[1.0,\"#f0f921\"]]},\"colorway\":[\"#636efa\",\"#EF553B\",\"#00cc96\",\"#ab63fa\",\"#FFA15A\",\"#19d3f3\",\"#FF6692\",\"#B6E880\",\"#FF97FF\",\"#FECB52\"],\"font\":{\"color\":\"#2a3f5f\"},\"geo\":{\"bgcolor\":\"white\",\"lakecolor\":\"white\",\"landcolor\":\"#E5ECF6\",\"showlakes\":true,\"showland\":true,\"subunitcolor\":\"white\"},\"hoverlabel\":{\"align\":\"left\"},\"hovermode\":\"closest\",\"mapbox\":{\"style\":\"light\"},\"paper_bgcolor\":\"white\",\"plot_bgcolor\":\"#E5ECF6\",\"polar\":{\"angularaxis\":{\"gridcolor\":\"white\",\"linecolor\":\"white\",\"ticks\":\"\"},\"bgcolor\":\"#E5ECF6\",\"radialaxis\":{\"gridcolor\":\"white\",\"linecolor\":\"white\",\"ticks\":\"\"}},\"scene\":{\"xaxis\":{\"backgroundcolor\":\"#E5ECF6\",\"gridcolor\":\"white\",\"gridwidth\":2,\"linecolor\":\"white\",\"showbackground\":true,\"ticks\":\"\",\"zerolinecolor\":\"white\"},\"yaxis\":{\"backgroundcolor\":\"#E5ECF6\",\"gridcolor\":\"white\",\"gridwidth\":2,\"linecolor\":\"white\",\"showbackground\":true,\"ticks\":\"\",\"zerolinecolor\":\"white\"},\"zaxis\":{\"backgroundcolor\":\"#E5ECF6\",\"gridcolor\":\"white\",\"gridwidth\":2,\"linecolor\":\"white\",\"showbackground\":true,\"ticks\":\"\",\"zerolinecolor\":\"white\"}},\"shapedefaults\":{\"line\":{\"color\":\"#2a3f5f\"}},\"ternary\":{\"aaxis\":{\"gridcolor\":\"white\",\"linecolor\":\"white\",\"ticks\":\"\"},\"baxis\":{\"gridcolor\":\"white\",\"linecolor\":\"white\",\"ticks\":\"\"},\"bgcolor\":\"#E5ECF6\",\"caxis\":{\"gridcolor\":\"white\",\"linecolor\":\"white\",\"ticks\":\"\"}},\"title\":{\"x\":0.05},\"xaxis\":{\"automargin\":true,\"gridcolor\":\"white\",\"linecolor\":\"white\",\"ticks\":\"\",\"title\":{\"standoff\":15},\"zerolinecolor\":\"white\",\"zerolinewidth\":2},\"yaxis\":{\"automargin\":true,\"gridcolor\":\"white\",\"linecolor\":\"white\",\"ticks\":\"\",\"title\":{\"standoff\":15},\"zerolinecolor\":\"white\",\"zerolinewidth\":2}}},\"title\":{\"text\":\"Total Monthly Expenses\"},\"xaxis\":{\"anchor\":\"y\",\"domain\":[0.0,1.0],\"showticklabels\":true,\"title\":{\"text\":\"Date\"},\"visible\":true},\"yaxis\":{\"anchor\":\"x\",\"domain\":[0.0,1.0],\"showticklabels\":true,\"title\":{\"text\":\"Expenses (\\u00a3)\"},\"visible\":true}},                        {\"responsive\": true}                    ).then(function(){\n",
       "                            \n",
       "var gd = document.getElementById('4de7ecac-67fb-4753-98ea-7595dc62a7cc');\n",
       "var x = new MutationObserver(function (mutations, observer) {{\n",
       "        var display = window.getComputedStyle(gd).display;\n",
       "        if (!display || display === 'none') {{\n",
       "            console.log([gd, 'removed!']);\n",
       "            Plotly.purge(gd);\n",
       "            observer.disconnect();\n",
       "        }}\n",
       "}});\n",
       "\n",
       "// Listen for the removal of the full notebook cells\n",
       "var notebookContainer = gd.closest('#notebook-container');\n",
       "if (notebookContainer) {{\n",
       "    x.observe(notebookContainer, {childList: true});\n",
       "}}\n",
       "\n",
       "// Listen for the clearing of the current output cell\n",
       "var outputEl = gd.closest('.output');\n",
       "if (outputEl) {{\n",
       "    x.observe(outputEl, {childList: true});\n",
       "}}\n",
       "\n",
       "                        })                };                });            </script>        </div>"
      ]
     },
     "metadata": {},
     "output_type": "display_data"
    }
   ],
   "source": [
    "df_x = df[(df.Category != \"MoneyFromChris\") & (df.Category != \"Money from Friends\") & (df.Category != \"Money From Emma\") \n",
    "       & (df.Category != \"Rental Income\") ].copy() \n",
    "df_x['AbsAmount'] = df.Amount*(-1) \n",
    "Total_Monthly_Expenses_Table = df_x.groupby('year_month')['AbsAmount'].sum().reset_index(name = 'sum')\n",
    "Total_Monthly_Expenses_Chart = px.bar(Total_Monthly_Expenses_Table, x = \"year_month\", y = \"sum\", title = \"Total Monthly Expenses\")\n",
    "Total_Monthly_Expenses_Chart.update_yaxes(title = 'Expenses (£)', visible = True, showticklabels = True)\n",
    "Total_Monthly_Expenses_Chart.update_xaxes(title = 'Date', visible = True, showticklabels = True)\n",
    "Total_Monthly_Expenses_Chart.show()"
   ]
  },
  {
   "cell_type": "code",
   "execution_count": 205,
   "id": "c30369e6",
   "metadata": {},
   "outputs": [
    {
     "data": {
      "text/html": [
       "<div>\n",
       "<style scoped>\n",
       "    .dataframe tbody tr th:only-of-type {\n",
       "        vertical-align: middle;\n",
       "    }\n",
       "\n",
       "    .dataframe tbody tr th {\n",
       "        vertical-align: top;\n",
       "    }\n",
       "\n",
       "    .dataframe thead th {\n",
       "        text-align: right;\n",
       "    }\n",
       "</style>\n",
       "<table border=\"1\" class=\"dataframe\">\n",
       "  <thead>\n",
       "    <tr style=\"text-align: right;\">\n",
       "      <th></th>\n",
       "      <th>Transaction ID</th>\n",
       "      <th>Date</th>\n",
       "      <th>Amount</th>\n",
       "      <th>Description</th>\n",
       "      <th>Category</th>\n",
       "      <th>Name</th>\n",
       "      <th>year_month_day</th>\n",
       "      <th>year_month</th>\n",
       "    </tr>\n",
       "  </thead>\n",
       "  <tbody>\n",
       "    <tr>\n",
       "      <th>7</th>\n",
       "      <td>tx_0000A8pleviIVTIMNcrhvl</td>\n",
       "      <td>01/07/2021</td>\n",
       "      <td>1200.00</td>\n",
       "      <td>MoneyToEmma</td>\n",
       "      <td>MoneyFromChris</td>\n",
       "      <td>WEDGWOODLC13 LIMITED</td>\n",
       "      <td>2021-07-01</td>\n",
       "      <td>2021-07</td>\n",
       "    </tr>\n",
       "    <tr>\n",
       "      <th>8</th>\n",
       "      <td>tx_0000A8plhpnqwBghCXtmyY</td>\n",
       "      <td>01/07/2021</td>\n",
       "      <td>2800.00</td>\n",
       "      <td></td>\n",
       "      <td>MoneyFromChris</td>\n",
       "      <td>Christopher Wedgwood</td>\n",
       "      <td>2021-07-01</td>\n",
       "      <td>2021-07</td>\n",
       "    </tr>\n",
       "    <tr>\n",
       "      <th>67</th>\n",
       "      <td>tx_0000A91C0azowrsPNGAANt</td>\n",
       "      <td>06/07/2021</td>\n",
       "      <td>0.35</td>\n",
       "      <td></td>\n",
       "      <td>Transfer</td>\n",
       "      <td>Banner Street Pot</td>\n",
       "      <td>2021-07-06</td>\n",
       "      <td>2021-07</td>\n",
       "    </tr>\n",
       "    <tr>\n",
       "      <th>75</th>\n",
       "      <td>tx_0000A92upReQ2lZ0Kg1TWr</td>\n",
       "      <td>07/07/2021</td>\n",
       "      <td>500.00</td>\n",
       "      <td>CASH</td>\n",
       "      <td>Money From Emma</td>\n",
       "      <td>WEDGWOOD E</td>\n",
       "      <td>2021-07-07</td>\n",
       "      <td>2021-07</td>\n",
       "    </tr>\n",
       "    <tr>\n",
       "      <th>122</th>\n",
       "      <td>tx_0000A998ASnFSK9yv7TyLJ</td>\n",
       "      <td>10/07/2021</td>\n",
       "      <td>500.00</td>\n",
       "      <td>CASH</td>\n",
       "      <td>Money From Emma</td>\n",
       "      <td>WEDGWOOD E</td>\n",
       "      <td>2021-07-10</td>\n",
       "      <td>2021-07</td>\n",
       "    </tr>\n",
       "    <tr>\n",
       "      <th>201</th>\n",
       "      <td>tx_0000A9Kwhdhx1t6pC9CxqD</td>\n",
       "      <td>16/07/2021</td>\n",
       "      <td>90.12</td>\n",
       "      <td>DHL PARCEL UK         \\Coe House              ...</td>\n",
       "      <td>Postage</td>\n",
       "      <td>Dhl Parcel Uk</td>\n",
       "      <td>2021-07-16</td>\n",
       "      <td>2021-07</td>\n",
       "    </tr>\n",
       "    <tr>\n",
       "      <th>212</th>\n",
       "      <td>tx_0000A9LzMfsUGD5NnxwOdl</td>\n",
       "      <td>16/07/2021</td>\n",
       "      <td>600.00</td>\n",
       "      <td>MoneyToEmma</td>\n",
       "      <td>MoneyFromChris</td>\n",
       "      <td>WEDGWOODLC13 LIMITED</td>\n",
       "      <td>2021-07-16</td>\n",
       "      <td>2021-07</td>\n",
       "    </tr>\n",
       "    <tr>\n",
       "      <th>231</th>\n",
       "      <td>tx_0000A9QfeSDEmP69L1nL6H</td>\n",
       "      <td>19/07/2021</td>\n",
       "      <td>18.60</td>\n",
       "      <td>TWREF 900018491806</td>\n",
       "      <td>Utilities</td>\n",
       "      <td>Thames Water</td>\n",
       "      <td>2021-07-19</td>\n",
       "      <td>2021-07</td>\n",
       "    </tr>\n",
       "    <tr>\n",
       "      <th>248</th>\n",
       "      <td>tx_0000A9USnpUh4EmZgPev9V</td>\n",
       "      <td>20/07/2021</td>\n",
       "      <td>100.00</td>\n",
       "      <td></td>\n",
       "      <td>MoneyFromChris</td>\n",
       "      <td>Christopher Wedgwood</td>\n",
       "      <td>2021-07-20</td>\n",
       "      <td>2021-07</td>\n",
       "    </tr>\n",
       "    <tr>\n",
       "      <th>249</th>\n",
       "      <td>tx_0000A9Uef50PE2XOKpDeZV</td>\n",
       "      <td>20/07/2021</td>\n",
       "      <td>200.00</td>\n",
       "      <td>CASH</td>\n",
       "      <td>Money From Emma</td>\n",
       "      <td>WEDGWOOD E</td>\n",
       "      <td>2021-07-20</td>\n",
       "      <td>2021-07</td>\n",
       "    </tr>\n",
       "    <tr>\n",
       "      <th>252</th>\n",
       "      <td>tx_0000A9VT4TcHr4Pcfh5jaj</td>\n",
       "      <td>21/07/2021</td>\n",
       "      <td>0.74</td>\n",
       "      <td>PAYPAL                 35314369001   GBR</td>\n",
       "      <td>Bank Charges</td>\n",
       "      <td>PayPal</td>\n",
       "      <td>2021-07-21</td>\n",
       "      <td>2021-07</td>\n",
       "    </tr>\n",
       "    <tr>\n",
       "      <th>267</th>\n",
       "      <td>tx_0000A9Wf9ifmhE42fGyFwv</td>\n",
       "      <td>21/07/2021</td>\n",
       "      <td>200.00</td>\n",
       "      <td>CASH</td>\n",
       "      <td>Money From Emma</td>\n",
       "      <td>WEDGWOOD E</td>\n",
       "      <td>2021-07-21</td>\n",
       "      <td>2021-07</td>\n",
       "    </tr>\n",
       "    <tr>\n",
       "      <th>283</th>\n",
       "      <td>tx_0000A9c0LebshIK2BmHwQr</td>\n",
       "      <td>24/07/2021</td>\n",
       "      <td>250.00</td>\n",
       "      <td></td>\n",
       "      <td>MoneyFromChris</td>\n",
       "      <td>Christopher Wedgwood</td>\n",
       "      <td>2021-07-24</td>\n",
       "      <td>2021-07</td>\n",
       "    </tr>\n",
       "    <tr>\n",
       "      <th>316</th>\n",
       "      <td>tx_0000A9jKG0GEe5Io4LS9pJ</td>\n",
       "      <td>28/07/2021</td>\n",
       "      <td>1338.00</td>\n",
       "      <td>2 90 BANNER</td>\n",
       "      <td>Rental Income</td>\n",
       "      <td>2 90 Banner</td>\n",
       "      <td>2021-07-28</td>\n",
       "      <td>2021-07</td>\n",
       "    </tr>\n",
       "  </tbody>\n",
       "</table>\n",
       "</div>"
      ],
      "text/plain": [
       "                Transaction ID        Date   Amount  \\\n",
       "7    tx_0000A8pleviIVTIMNcrhvl  01/07/2021  1200.00   \n",
       "8    tx_0000A8plhpnqwBghCXtmyY  01/07/2021  2800.00   \n",
       "67   tx_0000A91C0azowrsPNGAANt  06/07/2021     0.35   \n",
       "75   tx_0000A92upReQ2lZ0Kg1TWr  07/07/2021   500.00   \n",
       "122  tx_0000A998ASnFSK9yv7TyLJ  10/07/2021   500.00   \n",
       "201  tx_0000A9Kwhdhx1t6pC9CxqD  16/07/2021    90.12   \n",
       "212  tx_0000A9LzMfsUGD5NnxwOdl  16/07/2021   600.00   \n",
       "231  tx_0000A9QfeSDEmP69L1nL6H  19/07/2021    18.60   \n",
       "248  tx_0000A9USnpUh4EmZgPev9V  20/07/2021   100.00   \n",
       "249  tx_0000A9Uef50PE2XOKpDeZV  20/07/2021   200.00   \n",
       "252  tx_0000A9VT4TcHr4Pcfh5jaj  21/07/2021     0.74   \n",
       "267  tx_0000A9Wf9ifmhE42fGyFwv  21/07/2021   200.00   \n",
       "283  tx_0000A9c0LebshIK2BmHwQr  24/07/2021   250.00   \n",
       "316  tx_0000A9jKG0GEe5Io4LS9pJ  28/07/2021  1338.00   \n",
       "\n",
       "                                           Description         Category  \\\n",
       "7                                          MoneyToEmma   MoneyFromChris   \n",
       "8                                                        MoneyFromChris   \n",
       "67                                                             Transfer   \n",
       "75                                                CASH  Money From Emma   \n",
       "122                                               CASH  Money From Emma   \n",
       "201  DHL PARCEL UK         \\Coe House              ...          Postage   \n",
       "212                                        MoneyToEmma   MoneyFromChris   \n",
       "231                                 TWREF 900018491806        Utilities   \n",
       "248                                                      MoneyFromChris   \n",
       "249                                               CASH  Money From Emma   \n",
       "252           PAYPAL                 35314369001   GBR     Bank Charges   \n",
       "267                                               CASH  Money From Emma   \n",
       "283                                                      MoneyFromChris   \n",
       "316                                        2 90 BANNER    Rental Income   \n",
       "\n",
       "                     Name year_month_day year_month  \n",
       "7    WEDGWOODLC13 LIMITED     2021-07-01    2021-07  \n",
       "8    Christopher Wedgwood     2021-07-01    2021-07  \n",
       "67      Banner Street Pot     2021-07-06    2021-07  \n",
       "75             WEDGWOOD E     2021-07-07    2021-07  \n",
       "122            WEDGWOOD E     2021-07-10    2021-07  \n",
       "201         Dhl Parcel Uk     2021-07-16    2021-07  \n",
       "212  WEDGWOODLC13 LIMITED     2021-07-16    2021-07  \n",
       "231          Thames Water     2021-07-19    2021-07  \n",
       "248  Christopher Wedgwood     2021-07-20    2021-07  \n",
       "249            WEDGWOOD E     2021-07-20    2021-07  \n",
       "252                PayPal     2021-07-21    2021-07  \n",
       "267            WEDGWOOD E     2021-07-21    2021-07  \n",
       "283  Christopher Wedgwood     2021-07-24    2021-07  \n",
       "316           2 90 Banner     2021-07-28    2021-07  "
      ]
     },
     "execution_count": 205,
     "metadata": {},
     "output_type": "execute_result"
    }
   ],
   "source": [
    "df[df.Amount>0]"
   ]
  },
  {
   "cell_type": "code",
   "execution_count": 314,
   "id": "b3b32233",
   "metadata": {},
   "outputs": [
    {
     "data": {
      "application/vnd.plotly.v1+json": {
       "config": {
        "plotlyServerURL": "https://plot.ly"
       },
       "data": [
        {
         "hovertemplate": "Category=ALfie<br>year_month=%{x}<br>Amount=%{y}<extra></extra>",
         "legendgroup": "ALfie",
         "line": {
          "color": "#636efa",
          "dash": "solid"
         },
         "mode": "lines",
         "name": "ALfie",
         "orientation": "v",
         "showlegend": true,
         "type": "scatter",
         "x": [
          "2019-01",
          "2019-02",
          "2019-05",
          "2019-06",
          "2019-07",
          "2019-11",
          "2019-12",
          "2020-01",
          "2020-02",
          "2020-03",
          "2020-04",
          "2020-05",
          "2020-06",
          "2020-07",
          "2020-08",
          "2020-09",
          "2020-10",
          "2020-11",
          "2020-12",
          "2021-01",
          "2021-02",
          "2021-03",
          "2021-04",
          "2021-05",
          "2021-06",
          "2021-07"
         ],
         "xaxis": "x",
         "y": [
          -72.49,
          -54.02,
          -37.47,
          -101.7,
          -60.94,
          -24.95,
          -77.82,
          -17.76,
          -17.76,
          -17.76,
          -17.76,
          -75.72,
          -17.76,
          -48.74,
          -47.74,
          -17.76,
          -97.74000000000001,
          -65.26,
          -42.239999999999995,
          -52.19,
          -97.7,
          -322.14,
          66.22999999999999,
          -22.2,
          -80.16,
          -61.2
         ],
         "yaxis": "y"
        },
        {
         "hovertemplate": "Category=Art<br>year_month=%{x}<br>Amount=%{y}<extra></extra>",
         "legendgroup": "Art",
         "line": {
          "color": "#EF553B",
          "dash": "solid"
         },
         "mode": "lines",
         "name": "Art",
         "orientation": "v",
         "showlegend": true,
         "type": "scatter",
         "x": [
          "2019-02"
         ],
         "xaxis": "x",
         "y": [
          -109
         ],
         "yaxis": "y"
        },
        {
         "hovertemplate": "Category=Bank Charges<br>year_month=%{x}<br>Amount=%{y}<extra></extra>",
         "legendgroup": "Bank Charges",
         "line": {
          "color": "#00cc96",
          "dash": "solid"
         },
         "mode": "lines",
         "name": "Bank Charges",
         "orientation": "v",
         "showlegend": true,
         "type": "scatter",
         "x": [
          "2018-12",
          "2019-02",
          "2019-06",
          "2020-03",
          "2020-06",
          "2020-08",
          "2020-11",
          "2020-12",
          "2021-01",
          "2021-02",
          "2021-03",
          "2021-04",
          "2021-05",
          "2021-06",
          "2021-07"
         ],
         "xaxis": "x",
         "y": [
          0,
          0,
          0,
          0,
          -10.91,
          0,
          -19.79,
          -8.4,
          -6.39,
          -9.74,
          -65.7,
          -41.44,
          -51.44,
          -51.44,
          0
         ],
         "yaxis": "y"
        },
        {
         "hovertemplate": "Category=Banner Street Expenses<br>year_month=%{x}<br>Amount=%{y}<extra></extra>",
         "legendgroup": "Banner Street Expenses",
         "line": {
          "color": "#ab63fa",
          "dash": "solid"
         },
         "mode": "lines",
         "name": "Banner Street Expenses",
         "orientation": "v",
         "showlegend": true,
         "type": "scatter",
         "x": [
          "2020-06",
          "2020-07",
          "2020-11",
          "2020-12",
          "2021-01",
          "2021-02",
          "2021-04",
          "2021-05"
         ],
         "xaxis": "x",
         "y": [
          -125,
          -45,
          -62.5,
          -863.57,
          -908.79,
          -62.5,
          -6,
          -168.18
         ],
         "yaxis": "y"
        },
        {
         "hovertemplate": "Category=Car<br>year_month=%{x}<br>Amount=%{y}<extra></extra>",
         "legendgroup": "Car",
         "line": {
          "color": "#FFA15A",
          "dash": "solid"
         },
         "mode": "lines",
         "name": "Car",
         "orientation": "v",
         "showlegend": true,
         "type": "scatter",
         "x": [
          "2018-10",
          "2018-11",
          "2018-12",
          "2019-01",
          "2019-02",
          "2019-03",
          "2019-04",
          "2019-05",
          "2019-06",
          "2019-07",
          "2019-08",
          "2019-09",
          "2019-10",
          "2019-11",
          "2019-12",
          "2020-01",
          "2020-02",
          "2020-03",
          "2020-04",
          "2020-05",
          "2020-06",
          "2020-07",
          "2020-08",
          "2020-09",
          "2020-10",
          "2020-11",
          "2020-12",
          "2021-01",
          "2021-02",
          "2021-03",
          "2021-04",
          "2021-05",
          "2021-06",
          "2021-07"
         ],
         "xaxis": "x",
         "y": [
          -334.91,
          -334.91,
          -773.52,
          -2087.86,
          -3649.54,
          -463.36,
          -671.19,
          -286.22,
          -585.19,
          -432.88,
          -521.27,
          -494.11,
          -481.40000000000003,
          -377.15000000000003,
          -505.42,
          -502.53000000000003,
          -447.66,
          -517.13,
          -364.47,
          -442.38,
          -404.47,
          -435.99,
          -402.59000000000003,
          -514.02,
          -540.77,
          -379.47,
          -470.67,
          -464.07000000000005,
          -420.03000000000003,
          -516.12,
          -491.17,
          -390.04,
          -494.48,
          -631.66
         ],
         "yaxis": "y"
        },
        {
         "hovertemplate": "Category=Cash Out<br>year_month=%{x}<br>Amount=%{y}<extra></extra>",
         "legendgroup": "Cash Out",
         "line": {
          "color": "#19d3f3",
          "dash": "solid"
         },
         "mode": "lines",
         "name": "Cash Out",
         "orientation": "v",
         "showlegend": true,
         "type": "scatter",
         "x": [
          "2019-01",
          "2019-07",
          "2019-08",
          "2020-01",
          "2020-05",
          "2020-08",
          "2020-11",
          "2020-12",
          "2021-05",
          "2021-07"
         ],
         "xaxis": "x",
         "y": [
          -21.99,
          -50,
          -30,
          -50,
          -300,
          -20,
          -50,
          -220,
          -20,
          -50
         ],
         "yaxis": "y"
        },
        {
         "hovertemplate": "Category=Clothing<br>year_month=%{x}<br>Amount=%{y}<extra></extra>",
         "legendgroup": "Clothing",
         "line": {
          "color": "#FF6692",
          "dash": "solid"
         },
         "mode": "lines",
         "name": "Clothing",
         "orientation": "v",
         "showlegend": true,
         "type": "scatter",
         "x": [
          "2018-12",
          "2019-01",
          "2019-02",
          "2019-03",
          "2019-04",
          "2019-05",
          "2019-06",
          "2019-07",
          "2019-09",
          "2019-10",
          "2020-01",
          "2020-03",
          "2020-04",
          "2020-06",
          "2020-09",
          "2020-10",
          "2020-11",
          "2021-04",
          "2021-05"
         ],
         "xaxis": "x",
         "y": [
          -45,
          -24,
          -38.92,
          -253.04,
          -265.94,
          -48.97,
          -403,
          -282.56,
          -64.98,
          46.99,
          -15.99,
          -49.94,
          -39,
          -45,
          -84.73,
          -65.85,
          -33.82,
          -2.5,
          -73.91
         ],
         "yaxis": "y"
        },
        {
         "hovertemplate": "Category=Cosmetics<br>year_month=%{x}<br>Amount=%{y}<extra></extra>",
         "legendgroup": "Cosmetics",
         "line": {
          "color": "#B6E880",
          "dash": "solid"
         },
         "mode": "lines",
         "name": "Cosmetics",
         "orientation": "v",
         "showlegend": true,
         "type": "scatter",
         "x": [
          "2019-01",
          "2019-06",
          "2019-07",
          "2019-08",
          "2020-02",
          "2020-06",
          "2020-10",
          "2021-01",
          "2021-04",
          "2021-06"
         ],
         "xaxis": "x",
         "y": [
          -58,
          -383.91999999999996,
          -87.99,
          -47.02,
          -33.6,
          -13.95,
          -11.55,
          -56.56,
          -24.34,
          -56.99
         ],
         "yaxis": "y"
        },
        {
         "hovertemplate": "Category=Council Tax<br>year_month=%{x}<br>Amount=%{y}<extra></extra>",
         "legendgroup": "Council Tax",
         "line": {
          "color": "#FF97FF",
          "dash": "solid"
         },
         "mode": "lines",
         "name": "Council Tax",
         "orientation": "v",
         "showlegend": true,
         "type": "scatter",
         "x": [
          "2018-11",
          "2018-12",
          "2019-01",
          "2019-02",
          "2019-04",
          "2019-05",
          "2019-06",
          "2019-07",
          "2019-08",
          "2019-09",
          "2019-10",
          "2019-11",
          "2019-12",
          "2020-01",
          "2020-04",
          "2020-07",
          "2020-08",
          "2020-09",
          "2020-10",
          "2020-11",
          "2020-12",
          "2021-01",
          "2021-02",
          "2021-03",
          "2021-04",
          "2021-05",
          "2021-06",
          "2021-07"
         ],
         "xaxis": "x",
         "y": [
          -241.39,
          -243,
          -243,
          -243,
          -187.95,
          -187,
          -187,
          -187,
          -187,
          -187,
          -187,
          -187,
          -187,
          -187,
          -198.39,
          -194,
          -194,
          -194,
          -194,
          -194,
          -194,
          -194,
          -194,
          -194,
          -202.47,
          -236,
          -206,
          -214.99
         ],
         "yaxis": "y"
        },
        {
         "hovertemplate": "Category=Credit Card<br>year_month=%{x}<br>Amount=%{y}<extra></extra>",
         "legendgroup": "Credit Card",
         "line": {
          "color": "#FECB52",
          "dash": "solid"
         },
         "mode": "lines",
         "name": "Credit Card",
         "orientation": "v",
         "showlegend": true,
         "type": "scatter",
         "x": [
          "2019-05",
          "2019-06",
          "2019-07",
          "2019-08",
          "2019-09",
          "2019-10",
          "2019-11",
          "2019-12",
          "2020-01",
          "2020-02",
          "2020-03",
          "2020-04",
          "2020-05",
          "2020-06",
          "2020-07",
          "2020-08",
          "2020-09",
          "2020-10",
          "2020-11",
          "2020-12",
          "2021-01",
          "2021-02",
          "2021-03",
          "2021-04",
          "2021-05",
          "2021-06",
          "2021-07"
         ],
         "xaxis": "x",
         "y": [
          -2089.06,
          -2089.06,
          -2089.06,
          -2252.7,
          -2349.7599999999998,
          -2347.16,
          -2344.58,
          -2342.02,
          -2339.49,
          -2336.98,
          -2334.5,
          -2332.05,
          -240.56,
          -238.16,
          -235.78,
          -2377.25,
          -2506.34,
          -2501.52,
          -2492.6,
          -2593.86,
          -2650.16,
          -2541.86,
          -2719.73,
          -2776.61,
          -2839.02,
          -2775,
          -2469.9500000000003
         ],
         "yaxis": "y"
        },
        {
         "hovertemplate": "Category=Emma Wedgwood Aesthetics Expense<br>year_month=%{x}<br>Amount=%{y}<extra></extra>",
         "legendgroup": "Emma Wedgwood Aesthetics Expense",
         "line": {
          "color": "#636efa",
          "dash": "solid"
         },
         "mode": "lines",
         "name": "Emma Wedgwood Aesthetics Expense",
         "orientation": "v",
         "showlegend": true,
         "type": "scatter",
         "x": [
          "2020-11",
          "2021-06",
          "2021-07"
         ],
         "xaxis": "x",
         "y": [
          -90.75,
          0,
          -70.05
         ],
         "yaxis": "y"
        },
        {
         "hovertemplate": "Category=Entertainment<br>year_month=%{x}<br>Amount=%{y}<extra></extra>",
         "legendgroup": "Entertainment",
         "line": {
          "color": "#EF553B",
          "dash": "solid"
         },
         "mode": "lines",
         "name": "Entertainment",
         "orientation": "v",
         "showlegend": true,
         "type": "scatter",
         "x": [
          "2018-12",
          "2019-01",
          "2019-02",
          "2019-03",
          "2019-04",
          "2019-05",
          "2019-06",
          "2019-07",
          "2019-08",
          "2019-09",
          "2019-10",
          "2019-11",
          "2019-12",
          "2020-01",
          "2020-02",
          "2020-03",
          "2020-04",
          "2020-05",
          "2020-06",
          "2020-07",
          "2020-08",
          "2020-09",
          "2020-10",
          "2020-11",
          "2020-12",
          "2021-01",
          "2021-02",
          "2021-03",
          "2021-04",
          "2021-05",
          "2021-06",
          "2021-07"
         ],
         "xaxis": "x",
         "y": [
          -70,
          -39.53,
          -12.85,
          -12.83,
          -12.83,
          -250.53,
          -12.83,
          -12.83,
          -11.5,
          -35.2,
          -13.2,
          -42.17,
          -13.2,
          -120.31,
          -13.26,
          -13.2,
          -29.18,
          -29.18,
          -29.18,
          -35.17,
          -93.81,
          -140.34,
          -35.34,
          -43.33,
          -40.82,
          -48.81,
          -161.39000000000001,
          -42.33,
          -42.33,
          -80.37,
          -182.33,
          -39.33
         ],
         "yaxis": "y"
        },
        {
         "hovertemplate": "Category=Gifts<br>year_month=%{x}<br>Amount=%{y}<extra></extra>",
         "legendgroup": "Gifts",
         "line": {
          "color": "#00cc96",
          "dash": "solid"
         },
         "mode": "lines",
         "name": "Gifts",
         "orientation": "v",
         "showlegend": true,
         "type": "scatter",
         "x": [
          "2018-11",
          "2018-12",
          "2019-04",
          "2019-05",
          "2019-06",
          "2019-07",
          "2019-10",
          "2020-01",
          "2020-02",
          "2020-04",
          "2020-10",
          "2020-12",
          "2021-01",
          "2021-02",
          "2021-04",
          "2021-07"
         ],
         "xaxis": "x",
         "y": [
          -200,
          -82,
          -1085,
          -1527,
          -65.5,
          -8,
          -43.99,
          -3.45,
          -14.73,
          -30.98,
          -24.03,
          -12.38,
          -14.99,
          -140,
          -65,
          -335.28
         ],
         "yaxis": "y"
        },
        {
         "hovertemplate": "Category=Groceries<br>year_month=%{x}<br>Amount=%{y}<extra></extra>",
         "legendgroup": "Groceries",
         "line": {
          "color": "#ab63fa",
          "dash": "solid"
         },
         "mode": "lines",
         "name": "Groceries",
         "orientation": "v",
         "showlegend": true,
         "type": "scatter",
         "x": [
          "2018-11",
          "2018-12",
          "2019-01",
          "2019-02",
          "2019-03",
          "2019-04",
          "2019-05",
          "2019-06",
          "2019-07",
          "2019-08",
          "2019-09",
          "2019-10",
          "2019-11",
          "2019-12",
          "2020-01",
          "2020-02",
          "2020-03",
          "2020-04",
          "2020-05",
          "2020-06",
          "2020-07",
          "2020-08",
          "2020-09",
          "2020-10",
          "2020-11",
          "2020-12",
          "2021-01",
          "2021-02",
          "2021-03",
          "2021-04",
          "2021-05",
          "2021-06",
          "2021-07"
         ],
         "xaxis": "x",
         "y": [
          -111.78,
          -985.1,
          -526.78,
          -568.54,
          -582.88,
          -505.8,
          -737.5200000000001,
          -597.8,
          -267.33,
          -392.99,
          -590.69,
          -356.98,
          -145.97,
          -616.35,
          -544.78,
          -607.33,
          -813.7,
          -978.5799999999999,
          -966.23,
          -1066.84,
          -596.14,
          -904.27,
          -675.8,
          -673.1,
          -799.7,
          -693.21,
          -772.0500000000001,
          -762.37,
          -629.34,
          -541.83,
          -870.46,
          -774.1,
          -357.8
         ],
         "yaxis": "y"
        },
        {
         "hovertemplate": "Category=HMRC and Tax<br>year_month=%{x}<br>Amount=%{y}<extra></extra>",
         "legendgroup": "HMRC and Tax",
         "line": {
          "color": "#FFA15A",
          "dash": "solid"
         },
         "mode": "lines",
         "name": "HMRC and Tax",
         "orientation": "v",
         "showlegend": true,
         "type": "scatter",
         "x": [
          "2020-12",
          "2021-01",
          "2021-02"
         ],
         "xaxis": "x",
         "y": [
          -215,
          -5959.12,
          -4961.95
         ],
         "yaxis": "y"
        },
        {
         "hovertemplate": "Category=Hair<br>year_month=%{x}<br>Amount=%{y}<extra></extra>",
         "legendgroup": "Hair",
         "line": {
          "color": "#19d3f3",
          "dash": "solid"
         },
         "mode": "lines",
         "name": "Hair",
         "orientation": "v",
         "showlegend": true,
         "type": "scatter",
         "x": [
          "2019-03",
          "2019-04",
          "2019-06",
          "2019-07",
          "2020-07"
         ],
         "xaxis": "x",
         "y": [
          -58,
          -210,
          -312.3,
          -61.65,
          -212.5
         ],
         "yaxis": "y"
        },
        {
         "hovertemplate": "Category=Health Care<br>year_month=%{x}<br>Amount=%{y}<extra></extra>",
         "legendgroup": "Health Care",
         "line": {
          "color": "#FF6692",
          "dash": "solid"
         },
         "mode": "lines",
         "name": "Health Care",
         "orientation": "v",
         "showlegend": true,
         "type": "scatter",
         "x": [
          "2018-12",
          "2019-01",
          "2019-02",
          "2019-04",
          "2019-05",
          "2019-06",
          "2019-07",
          "2019-09",
          "2019-10",
          "2020-01",
          "2020-02",
          "2020-03",
          "2020-04",
          "2020-05",
          "2020-06",
          "2020-07",
          "2020-08",
          "2020-09",
          "2020-10",
          "2020-11",
          "2020-12",
          "2021-01",
          "2021-02",
          "2021-03",
          "2021-04",
          "2021-05",
          "2021-06",
          "2021-07"
         ],
         "xaxis": "x",
         "y": [
          -8.55,
          -264.04,
          -16.5,
          -22.95,
          -3.69,
          -628.47,
          -183.44,
          -8.07,
          -21,
          -14,
          -17.919999999999998,
          -127.32999999999998,
          -14,
          -409.5,
          -34.7,
          -110.04,
          -270.89,
          -117.33,
          -52.22,
          -64.63,
          -44.77,
          -23.27,
          -962,
          -139.64000000000001,
          -70.99,
          -136.51999999999998,
          -407.34000000000003,
          -78.05
         ],
         "yaxis": "y"
        },
        {
         "hovertemplate": "Category=Health&Fitness<br>year_month=%{x}<br>Amount=%{y}<extra></extra>",
         "legendgroup": "Health&Fitness",
         "line": {
          "color": "#B6E880",
          "dash": "solid"
         },
         "mode": "lines",
         "name": "Health&Fitness",
         "orientation": "v",
         "showlegend": true,
         "type": "scatter",
         "x": [
          "2018-12",
          "2019-01",
          "2020-08",
          "2020-09",
          "2020-10",
          "2020-11",
          "2020-12",
          "2021-01",
          "2021-02",
          "2021-03",
          "2021-04",
          "2021-05",
          "2021-06",
          "2021-07"
         ],
         "xaxis": "x",
         "y": [
          -20,
          -20,
          -140,
          -160,
          -140,
          -60,
          -175,
          -75,
          -60,
          -60,
          -367,
          -265,
          -260,
          -15
         ],
         "yaxis": "y"
        },
        {
         "hovertemplate": "Category=Holiday<br>year_month=%{x}<br>Amount=%{y}<extra></extra>",
         "legendgroup": "Holiday",
         "line": {
          "color": "#FF97FF",
          "dash": "solid"
         },
         "mode": "lines",
         "name": "Holiday",
         "orientation": "v",
         "showlegend": true,
         "type": "scatter",
         "x": [
          "2018-12",
          "2019-01",
          "2019-02",
          "2019-04",
          "2019-05",
          "2019-06",
          "2019-07",
          "2019-09",
          "2019-10",
          "2020-03",
          "2020-07",
          "2020-12",
          "2021-02",
          "2021-04",
          "2021-06",
          "2021-07"
         ],
         "xaxis": "x",
         "y": [
          -89.74000000000001,
          -1038.81,
          0.01,
          -194,
          -307.72,
          -76.87,
          -11,
          -11.37,
          -6,
          -138,
          -413.89,
          -35,
          -263.18,
          -90,
          -566.5,
          -696.1
         ],
         "yaxis": "y"
        },
        {
         "hovertemplate": "Category=Household<br>year_month=%{x}<br>Amount=%{y}<extra></extra>",
         "legendgroup": "Household",
         "line": {
          "color": "#FECB52",
          "dash": "solid"
         },
         "mode": "lines",
         "name": "Household",
         "orientation": "v",
         "showlegend": true,
         "type": "scatter",
         "x": [
          "2018-11",
          "2018-12",
          "2019-01",
          "2019-02",
          "2019-03",
          "2019-04",
          "2019-05",
          "2019-06",
          "2019-07",
          "2019-08",
          "2019-09",
          "2019-10",
          "2019-11",
          "2019-12",
          "2020-01",
          "2020-02",
          "2020-03",
          "2020-04",
          "2020-05",
          "2020-06",
          "2020-07",
          "2020-08",
          "2020-09",
          "2020-10",
          "2020-11",
          "2020-12",
          "2021-01",
          "2021-02",
          "2021-03",
          "2021-04",
          "2021-05",
          "2021-06",
          "2021-07"
         ],
         "xaxis": "x",
         "y": [
          -361.8,
          -1276.6599999999999,
          -994.27,
          -1371.0900000000001,
          -480.01,
          -260.19,
          -400.05,
          -757.95,
          -507.24,
          -606.91,
          -333.7,
          -278.9,
          -45,
          -217.4,
          -328.2,
          -329.35,
          -269.75,
          -1018.4900000000001,
          -299.3,
          -546.4,
          -250.3,
          -322.6,
          -119.2,
          -348.68,
          -290.55,
          -702.9300000000001,
          -217.32999999999998,
          -340.4,
          -228.45,
          -132,
          -215.9,
          -398.64,
          -78.05
         ],
         "yaxis": "y"
        },
        {
         "hovertemplate": "Category=Insurance<br>year_month=%{x}<br>Amount=%{y}<extra></extra>",
         "legendgroup": "Insurance",
         "line": {
          "color": "#636efa",
          "dash": "solid"
         },
         "mode": "lines",
         "name": "Insurance",
         "orientation": "v",
         "showlegend": true,
         "type": "scatter",
         "x": [
          "2019-02",
          "2019-03",
          "2019-04",
          "2019-05",
          "2019-06",
          "2019-07",
          "2019-08",
          "2019-09",
          "2019-10",
          "2019-11",
          "2019-12",
          "2020-01",
          "2020-02",
          "2020-03",
          "2020-04",
          "2020-05",
          "2020-06",
          "2020-07",
          "2020-08",
          "2020-09",
          "2020-10",
          "2020-11",
          "2020-12",
          "2021-01",
          "2021-02",
          "2021-03",
          "2021-04",
          "2021-05",
          "2021-06",
          "2021-07"
         ],
         "xaxis": "x",
         "y": [
          -47.56,
          -47.56,
          -47.56,
          -47.56,
          -171.98000000000002,
          -47.56,
          -47.56,
          -47.56,
          -77.13,
          -77.13,
          -77.13,
          -77.13,
          -146.53,
          -117.30000000000001,
          -117.31,
          -117.31,
          -117.31,
          -117.31,
          -117.31,
          -117.25,
          -125.73,
          -124.81,
          -440.65999999999997,
          -84.76,
          -84.76,
          -84.76,
          -84.76,
          -84.76,
          -84.76,
          -84.76
         ],
         "yaxis": "y"
        },
        {
         "hovertemplate": "Category=Jewellery<br>year_month=%{x}<br>Amount=%{y}<extra></extra>",
         "legendgroup": "Jewellery",
         "line": {
          "color": "#EF553B",
          "dash": "solid"
         },
         "mode": "lines",
         "name": "Jewellery",
         "orientation": "v",
         "showlegend": true,
         "type": "scatter",
         "x": [
          "2018-12"
         ],
         "xaxis": "x",
         "y": [
          0
         ],
         "yaxis": "y"
        },
        {
         "hovertemplate": "Category=Legal<br>year_month=%{x}<br>Amount=%{y}<extra></extra>",
         "legendgroup": "Legal",
         "line": {
          "color": "#00cc96",
          "dash": "solid"
         },
         "mode": "lines",
         "name": "Legal",
         "orientation": "v",
         "showlegend": true,
         "type": "scatter",
         "x": [
          "2019-03",
          "2021-05"
         ],
         "xaxis": "x",
         "y": [
          59,
          -1500
         ],
         "yaxis": "y"
        },
        {
         "hovertemplate": "Category=Luxury<br>year_month=%{x}<br>Amount=%{y}<extra></extra>",
         "legendgroup": "Luxury",
         "line": {
          "color": "#ab63fa",
          "dash": "solid"
         },
         "mode": "lines",
         "name": "Luxury",
         "orientation": "v",
         "showlegend": true,
         "type": "scatter",
         "x": [
          "2018-12"
         ],
         "xaxis": "x",
         "y": [
          -965
         ],
         "yaxis": "y"
        },
        {
         "hovertemplate": "Category=Money From Emma<br>year_month=%{x}<br>Amount=%{y}<extra></extra>",
         "legendgroup": "Money From Emma",
         "line": {
          "color": "#FFA15A",
          "dash": "solid"
         },
         "mode": "lines",
         "name": "Money From Emma",
         "orientation": "v",
         "showlegend": true,
         "type": "scatter",
         "x": [
          "2018-12",
          "2019-01",
          "2019-02",
          "2019-03",
          "2019-04",
          "2019-05",
          "2019-06",
          "2019-07",
          "2019-08",
          "2019-09",
          "2019-10",
          "2019-11",
          "2019-12",
          "2020-01",
          "2020-02",
          "2020-03",
          "2020-04",
          "2020-05",
          "2020-06",
          "2020-07",
          "2020-08",
          "2020-09",
          "2020-10",
          "2020-11",
          "2020-12",
          "2021-01",
          "2021-02",
          "2021-03",
          "2021-04",
          "2021-05",
          "2021-06",
          "2021-07"
         ],
         "xaxis": "x",
         "y": [
          1545,
          5150,
          4100,
          400,
          600,
          1280,
          30800,
          1900,
          750,
          1650,
          1443.99,
          4640,
          7150,
          9300,
          6450,
          240,
          138.98000000000002,
          1300,
          500,
          1020,
          1800,
          1530,
          1920,
          2000,
          1600,
          2450,
          1960,
          1827,
          600,
          1530,
          390,
          1400
         ],
         "yaxis": "y"
        },
        {
         "hovertemplate": "Category=Money from Friends<br>year_month=%{x}<br>Amount=%{y}<extra></extra>",
         "legendgroup": "Money from Friends",
         "line": {
          "color": "#19d3f3",
          "dash": "solid"
         },
         "mode": "lines",
         "name": "Money from Friends",
         "orientation": "v",
         "showlegend": true,
         "type": "scatter",
         "x": [
          "2021-07"
         ],
         "xaxis": "x",
         "y": [
          -60
         ],
         "yaxis": "y"
        },
        {
         "hovertemplate": "Category=Money to Friends<br>year_month=%{x}<br>Amount=%{y}<extra></extra>",
         "legendgroup": "Money to Friends",
         "line": {
          "color": "#FF6692",
          "dash": "solid"
         },
         "mode": "lines",
         "name": "Money to Friends",
         "orientation": "v",
         "showlegend": true,
         "type": "scatter",
         "x": [
          "2019-01",
          "2019-02",
          "2019-03",
          "2019-04",
          "2019-06",
          "2019-07",
          "2019-08",
          "2020-10",
          "2020-12",
          "2021-01",
          "2021-02",
          "2021-03",
          "2021-06"
         ],
         "xaxis": "x",
         "y": [
          -30,
          -440,
          -50,
          -300,
          -750,
          -795,
          -220,
          -69.75,
          -127,
          -21,
          -88.5,
          -22,
          -250
         ],
         "yaxis": "y"
        },
        {
         "hovertemplate": "Category=MoneyFromChris<br>year_month=%{x}<br>Amount=%{y}<extra></extra>",
         "legendgroup": "MoneyFromChris",
         "line": {
          "color": "#B6E880",
          "dash": "solid"
         },
         "mode": "lines",
         "name": "MoneyFromChris",
         "orientation": "v",
         "showlegend": true,
         "type": "scatter",
         "x": [
          "2018-09",
          "2018-11",
          "2018-12",
          "2019-01",
          "2019-02",
          "2019-03",
          "2019-04",
          "2019-05",
          "2019-06",
          "2019-07",
          "2019-08",
          "2019-09",
          "2019-10",
          "2019-11",
          "2019-12",
          "2020-01",
          "2020-02",
          "2020-03",
          "2020-04",
          "2020-05",
          "2020-06",
          "2020-07",
          "2020-08",
          "2020-09",
          "2020-10",
          "2020-11",
          "2020-12",
          "2021-01",
          "2021-02",
          "2021-03",
          "2021-04",
          "2021-05",
          "2021-06",
          "2021-07"
         ],
         "xaxis": "x",
         "y": [
          500,
          2500,
          4000,
          4900,
          1500,
          4500,
          8700,
          4900,
          18600,
          9000,
          4000,
          3380,
          6011.3,
          -538,
          -1250,
          -4680,
          -825,
          5385,
          3080,
          1414.8400000000001,
          5256,
          2120,
          8385,
          1980,
          3250,
          4325,
          8605,
          15918,
          7500,
          4850,
          4610,
          11400,
          3560,
          4950
         ],
         "yaxis": "y"
        },
        {
         "hovertemplate": "Category=Mortgage<br>year_month=%{x}<br>Amount=%{y}<extra></extra>",
         "legendgroup": "Mortgage",
         "line": {
          "color": "#FF97FF",
          "dash": "solid"
         },
         "mode": "lines",
         "name": "Mortgage",
         "orientation": "v",
         "showlegend": true,
         "type": "scatter",
         "x": [
          "2019-05",
          "2019-06",
          "2019-07",
          "2019-08",
          "2019-09",
          "2019-10",
          "2019-11",
          "2019-12",
          "2020-01",
          "2020-02",
          "2020-03",
          "2020-07",
          "2020-08",
          "2020-09",
          "2020-10",
          "2020-11",
          "2020-12",
          "2021-01",
          "2021-02",
          "2021-03",
          "2021-04",
          "2021-05",
          "2021-06",
          "2021-07"
         ],
         "xaxis": "x",
         "y": [
          -295,
          -1325.4099999999999,
          -705.41,
          -705.41,
          -705.41,
          -705.41,
          -705.41,
          -705.41,
          -705.41,
          -705.41,
          -705.41,
          -711.38,
          -711.38,
          -711.38,
          -711.38,
          -711.38,
          -711.38,
          -849.88,
          -963.94,
          -963.94,
          -963.94,
          -963.94,
          -963.94,
          -963.94
         ],
         "yaxis": "y"
        },
        {
         "hovertemplate": "Category=Online Purchase<br>year_month=%{x}<br>Amount=%{y}<extra></extra>",
         "legendgroup": "Online Purchase",
         "line": {
          "color": "#FECB52",
          "dash": "solid"
         },
         "mode": "lines",
         "name": "Online Purchase",
         "orientation": "v",
         "showlegend": true,
         "type": "scatter",
         "x": [
          "2019-06",
          "2019-07",
          "2019-08",
          "2019-09",
          "2019-10",
          "2019-12",
          "2020-01",
          "2020-02",
          "2020-03",
          "2020-04",
          "2020-05",
          "2020-06",
          "2020-07",
          "2020-08",
          "2020-09",
          "2020-10",
          "2020-11",
          "2020-12",
          "2021-01",
          "2021-02",
          "2021-05",
          "2021-07"
         ],
         "xaxis": "x",
         "y": [
          -33.4,
          -25.96,
          -7.99,
          -7.99,
          -7.99,
          -7.99,
          -33.98,
          -7.99,
          -49.79,
          -120.22,
          -97,
          -47.06,
          -129.85999999999999,
          -7.99,
          -36.48,
          -146.76,
          -89.6,
          -33.97,
          -22.17,
          -39.45,
          -3.49,
          -9.99
         ],
         "yaxis": "y"
        },
        {
         "hovertemplate": "Category=Postage<br>year_month=%{x}<br>Amount=%{y}<extra></extra>",
         "legendgroup": "Postage",
         "line": {
          "color": "#636efa",
          "dash": "solid"
         },
         "mode": "lines",
         "name": "Postage",
         "orientation": "v",
         "showlegend": true,
         "type": "scatter",
         "x": [
          "2018-11",
          "2018-12",
          "2019-01",
          "2019-02",
          "2019-03",
          "2019-04",
          "2019-05",
          "2019-06",
          "2019-07",
          "2019-08",
          "2019-09",
          "2019-10",
          "2019-11",
          "2019-12",
          "2020-01",
          "2020-02",
          "2020-03",
          "2020-04",
          "2020-05",
          "2020-06",
          "2020-07",
          "2020-08",
          "2020-09",
          "2020-10",
          "2020-11",
          "2020-12",
          "2021-01",
          "2021-02",
          "2021-03",
          "2021-04",
          "2021-05",
          "2021-06",
          "2021-07"
         ],
         "xaxis": "x",
         "y": [
          -16.439999999999998,
          -35.9,
          -26.57,
          -45.85,
          -58.879999999999995,
          -63.55,
          -24.6,
          -37.17,
          -44.97,
          -43.99,
          -51.56,
          -3.49,
          -3.4,
          -12.350000000000001,
          -16,
          -14.7,
          -3.99,
          -20.64,
          -13.16,
          -80.93,
          -67.04,
          -31.33,
          -28.43,
          -24.3,
          -51.02,
          -50.17,
          -37.18,
          -34.26,
          -112.31,
          -22.47,
          -41.39,
          -75.4,
          -88.98
         ],
         "yaxis": "y"
        },
        {
         "hovertemplate": "Category=Public Toilet<br>year_month=%{x}<br>Amount=%{y}<extra></extra>",
         "legendgroup": "Public Toilet",
         "line": {
          "color": "#EF553B",
          "dash": "solid"
         },
         "mode": "lines",
         "name": "Public Toilet",
         "orientation": "v",
         "showlegend": true,
         "type": "scatter",
         "x": [
          "2021-04"
         ],
         "xaxis": "x",
         "y": [
          -0.2
         ],
         "yaxis": "y"
        },
        {
         "hovertemplate": "Category=RCA<br>year_month=%{x}<br>Amount=%{y}<extra></extra>",
         "legendgroup": "RCA",
         "line": {
          "color": "#00cc96",
          "dash": "solid"
         },
         "mode": "lines",
         "name": "RCA",
         "orientation": "v",
         "showlegend": true,
         "type": "scatter",
         "x": [
          "2019-04",
          "2019-06",
          "2019-08",
          "2019-09",
          "2019-10",
          "2019-11",
          "2019-12",
          "2020-04",
          "2021-03",
          "2021-06"
         ],
         "xaxis": "x",
         "y": [
          -85,
          -45,
          -28,
          -13,
          -44.10000000000001,
          -48,
          -44,
          359.5,
          -87.6,
          -270
         ],
         "yaxis": "y"
        },
        {
         "hovertemplate": "Category=Recovery<br>year_month=%{x}<br>Amount=%{y}<extra></extra>",
         "legendgroup": "Recovery",
         "line": {
          "color": "#ab63fa",
          "dash": "solid"
         },
         "mode": "lines",
         "name": "Recovery",
         "orientation": "v",
         "showlegend": true,
         "type": "scatter",
         "x": [
          "2019-06",
          "2020-08",
          "2021-02",
          "2021-03"
         ],
         "xaxis": "x",
         "y": [
          -10,
          -27.72,
          -82,
          -22.62
         ],
         "yaxis": "y"
        },
        {
         "hovertemplate": "Category=Refunds<br>year_month=%{x}<br>Amount=%{y}<extra></extra>",
         "legendgroup": "Refunds",
         "line": {
          "color": "#FFA15A",
          "dash": "solid"
         },
         "mode": "lines",
         "name": "Refunds",
         "orientation": "v",
         "showlegend": true,
         "type": "scatter",
         "x": [
          "2021-06"
         ],
         "xaxis": "x",
         "y": [
          263.18
         ],
         "yaxis": "y"
        },
        {
         "hovertemplate": "Category=Rental Income<br>year_month=%{x}<br>Amount=%{y}<extra></extra>",
         "legendgroup": "Rental Income",
         "line": {
          "color": "#19d3f3",
          "dash": "solid"
         },
         "mode": "lines",
         "name": "Rental Income",
         "orientation": "v",
         "showlegend": true,
         "type": "scatter",
         "x": [
          "2021-06",
          "2021-07"
         ],
         "xaxis": "x",
         "y": [
          1540,
          1338
         ],
         "yaxis": "y"
        },
        {
         "hovertemplate": "Category=Restaurant<br>year_month=%{x}<br>Amount=%{y}<extra></extra>",
         "legendgroup": "Restaurant",
         "line": {
          "color": "#FF6692",
          "dash": "solid"
         },
         "mode": "lines",
         "name": "Restaurant",
         "orientation": "v",
         "showlegend": true,
         "type": "scatter",
         "x": [
          "2018-12",
          "2019-01",
          "2019-02",
          "2019-03",
          "2019-04",
          "2019-05",
          "2019-06",
          "2019-07",
          "2019-08",
          "2019-09",
          "2019-12",
          "2020-01",
          "2020-02",
          "2020-03",
          "2020-07",
          "2020-08",
          "2020-09",
          "2020-10",
          "2020-11",
          "2020-12",
          "2021-01",
          "2021-02",
          "2021-03",
          "2021-04",
          "2021-05",
          "2021-06",
          "2021-07"
         ],
         "xaxis": "x",
         "y": [
          -277.9,
          -145.25,
          -387.84000000000003,
          -170.02,
          -326.72,
          -295.26,
          -371.96000000000004,
          -174.25,
          -203.71,
          -132.75,
          -106.03999999999999,
          -102.52000000000001,
          -42.9,
          -30.07,
          -125.44,
          -214.2,
          -172.10999999999999,
          -228.34,
          -99.1,
          -93.7,
          -34.4,
          -26.1,
          -44.35,
          -143.15,
          -167.89,
          -98.19,
          -435.97
         ],
         "yaxis": "y"
        },
        {
         "hovertemplate": "Category=Scams<br>year_month=%{x}<br>Amount=%{y}<extra></extra>",
         "legendgroup": "Scams",
         "line": {
          "color": "#B6E880",
          "dash": "solid"
         },
         "mode": "lines",
         "name": "Scams",
         "orientation": "v",
         "showlegend": true,
         "type": "scatter",
         "x": [
          "2020-03",
          "2021-01",
          "2021-02"
         ],
         "xaxis": "x",
         "y": [
          -25,
          -10,
          -35
         ],
         "yaxis": "y"
        },
        {
         "hovertemplate": "Category=Snackette<br>year_month=%{x}<br>Amount=%{y}<extra></extra>",
         "legendgroup": "Snackette",
         "line": {
          "color": "#FF97FF",
          "dash": "solid"
         },
         "mode": "lines",
         "name": "Snackette",
         "orientation": "v",
         "showlegend": true,
         "type": "scatter",
         "x": [
          "2018-12",
          "2019-01",
          "2019-03",
          "2019-04",
          "2019-05",
          "2019-06",
          "2019-07",
          "2019-08",
          "2019-12",
          "2020-01",
          "2020-03",
          "2020-07",
          "2020-08",
          "2020-09",
          "2020-10",
          "2020-11",
          "2020-12",
          "2021-01",
          "2021-02",
          "2021-03",
          "2021-04",
          "2021-05",
          "2021-06",
          "2021-07"
         ],
         "xaxis": "x",
         "y": [
          -27.94,
          -150.05,
          -58.37,
          -101.2,
          -157.13,
          -201.16,
          -124.63,
          -11.45,
          -35.03,
          -35.54,
          -33.580000000000005,
          -38.4,
          -96.18,
          -130.71,
          -161.26,
          -76.63,
          -91.86,
          -55.85,
          -74.12,
          -126.60000000000001,
          -361.3,
          -144.86,
          -128.88,
          -327.12
         ],
         "yaxis": "y"
        },
        {
         "hovertemplate": "Category=Sport<br>year_month=%{x}<br>Amount=%{y}<extra></extra>",
         "legendgroup": "Sport",
         "line": {
          "color": "#FECB52",
          "dash": "solid"
         },
         "mode": "lines",
         "name": "Sport",
         "orientation": "v",
         "showlegend": true,
         "type": "scatter",
         "x": [
          "2020-06",
          "2020-09",
          "2021-05"
         ],
         "xaxis": "x",
         "y": [
          -25,
          -15,
          -28.990000000000002
         ],
         "yaxis": "y"
        },
        {
         "hovertemplate": "Category=Stationary<br>year_month=%{x}<br>Amount=%{y}<extra></extra>",
         "legendgroup": "Stationary",
         "line": {
          "color": "#636efa",
          "dash": "solid"
         },
         "mode": "lines",
         "name": "Stationary",
         "orientation": "v",
         "showlegend": true,
         "type": "scatter",
         "x": [
          "2019-09",
          "2020-09",
          "2020-12",
          "2021-04",
          "2021-06",
          "2021-07"
         ],
         "xaxis": "x",
         "y": [
          -24.97,
          -10.49,
          -0.79,
          -2.99,
          -10.94,
          -29.99
         ],
         "yaxis": "y"
        },
        {
         "hovertemplate": "Category=Takeaway<br>year_month=%{x}<br>Amount=%{y}<extra></extra>",
         "legendgroup": "Takeaway",
         "line": {
          "color": "#EF553B",
          "dash": "solid"
         },
         "mode": "lines",
         "name": "Takeaway",
         "orientation": "v",
         "showlegend": true,
         "type": "scatter",
         "x": [
          "2018-12",
          "2019-01",
          "2019-04",
          "2019-06",
          "2019-08",
          "2019-09",
          "2019-11",
          "2020-01",
          "2020-02",
          "2020-03",
          "2020-04",
          "2020-05",
          "2020-06",
          "2020-07",
          "2020-08",
          "2020-09",
          "2020-10",
          "2020-11",
          "2020-12",
          "2021-01",
          "2021-02",
          "2021-03",
          "2021-04",
          "2021-05",
          "2021-06",
          "2021-07"
         ],
         "xaxis": "x",
         "y": [
          -24.05,
          -40.09,
          -32.65,
          -100.13,
          -37.839999999999996,
          -63.69,
          -93.43,
          -77.78,
          -35.88,
          -54.61,
          -20.93,
          -85.66,
          -32.88,
          -114.97,
          -27.38,
          -13.13,
          -247.63,
          -339.03,
          -159.09,
          -82.82,
          -389.65,
          -166.39000000000001,
          -197.71,
          -225.55,
          -117.53,
          -147.85
         ],
         "yaxis": "y"
        },
        {
         "hovertemplate": "Category=Tech<br>year_month=%{x}<br>Amount=%{y}<extra></extra>",
         "legendgroup": "Tech",
         "line": {
          "color": "#00cc96",
          "dash": "solid"
         },
         "mode": "lines",
         "name": "Tech",
         "orientation": "v",
         "showlegend": true,
         "type": "scatter",
         "x": [
          "2019-01",
          "2019-03",
          "2019-07",
          "2019-08",
          "2020-04",
          "2020-06",
          "2021-06"
         ],
         "xaxis": "x",
         "y": [
          -11.41,
          -76.15,
          -85,
          -19.99,
          -6.39,
          -80.23,
          -70.61
         ],
         "yaxis": "y"
        },
        {
         "hovertemplate": "Category=Therapy<br>year_month=%{x}<br>Amount=%{y}<extra></extra>",
         "legendgroup": "Therapy",
         "line": {
          "color": "#ab63fa",
          "dash": "solid"
         },
         "mode": "lines",
         "name": "Therapy",
         "orientation": "v",
         "showlegend": true,
         "type": "scatter",
         "x": [
          "2019-02",
          "2019-03",
          "2019-04",
          "2019-05",
          "2019-06",
          "2019-07",
          "2019-08",
          "2019-09",
          "2019-10",
          "2019-12",
          "2020-01",
          "2020-02",
          "2020-03",
          "2020-04",
          "2020-05",
          "2020-06",
          "2020-07",
          "2020-08",
          "2020-09",
          "2020-10",
          "2020-11",
          "2020-12",
          "2021-01",
          "2021-02",
          "2021-03",
          "2021-04",
          "2021-05",
          "2021-06",
          "2021-07"
         ],
         "xaxis": "x",
         "y": [
          -570,
          -380,
          -285,
          -190,
          -475,
          -95,
          -190,
          -285,
          -95,
          -190,
          -95,
          -285,
          -190,
          -95,
          -285,
          -190,
          -190,
          -95,
          -95,
          -190,
          -190,
          -190,
          -95,
          -190,
          -190,
          -190,
          -190,
          -95,
          -285
         ],
         "yaxis": "y"
        },
        {
         "hovertemplate": "Category=Transfer<br>year_month=%{x}<br>Amount=%{y}<extra></extra>",
         "legendgroup": "Transfer",
         "line": {
          "color": "#FFA15A",
          "dash": "solid"
         },
         "mode": "lines",
         "name": "Transfer",
         "orientation": "v",
         "showlegend": true,
         "type": "scatter",
         "x": [
          "2020-06",
          "2020-07",
          "2020-08",
          "2020-09",
          "2020-10",
          "2020-11",
          "2020-12",
          "2021-01",
          "2021-02",
          "2021-03",
          "2021-04",
          "2021-05",
          "2021-06",
          "2021-07"
         ],
         "xaxis": "x",
         "y": [
          -500,
          -500,
          500,
          0,
          500,
          -5,
          -900,
          505,
          -40.28,
          -546.54,
          745.03,
          148.23000000000002,
          -38.35,
          -58.18
         ],
         "yaxis": "y"
        },
        {
         "hovertemplate": "Category=Travel<br>year_month=%{x}<br>Amount=%{y}<extra></extra>",
         "legendgroup": "Travel",
         "line": {
          "color": "#19d3f3",
          "dash": "solid"
         },
         "mode": "lines",
         "name": "Travel",
         "orientation": "v",
         "showlegend": true,
         "type": "scatter",
         "x": [
          "2019-01",
          "2019-03",
          "2019-05",
          "2019-07",
          "2019-10",
          "2019-11",
          "2019-12",
          "2020-01",
          "2020-02",
          "2020-04",
          "2020-07",
          "2020-08",
          "2020-09",
          "2020-10",
          "2020-11",
          "2020-12",
          "2021-01",
          "2021-02",
          "2021-03",
          "2021-04",
          "2021-05",
          "2021-06",
          "2021-07"
         ],
         "xaxis": "x",
         "y": [
          -20,
          -10,
          -10,
          -9.4,
          -11.2,
          -5.6,
          -5.6,
          -5.2,
          -65,
          0,
          -22.5,
          -78.9,
          -61,
          -153.4,
          -101.8,
          -86.1,
          -59.5,
          -95,
          -86.2,
          -131.6,
          -53.1,
          -117.95,
          -77.14999999999999
         ],
         "yaxis": "y"
        },
        {
         "hovertemplate": "Category=Union<br>year_month=%{x}<br>Amount=%{y}<extra></extra>",
         "legendgroup": "Union",
         "line": {
          "color": "#FF6692",
          "dash": "solid"
         },
         "mode": "lines",
         "name": "Union",
         "orientation": "v",
         "showlegend": true,
         "type": "scatter",
         "x": [
          "2021-02"
         ],
         "xaxis": "x",
         "y": [
          -25
         ],
         "yaxis": "y"
        },
        {
         "hovertemplate": "Category=Unknown<br>year_month=%{x}<br>Amount=%{y}<extra></extra>",
         "legendgroup": "Unknown",
         "line": {
          "color": "#B6E880",
          "dash": "solid"
         },
         "mode": "lines",
         "name": "Unknown",
         "orientation": "v",
         "showlegend": true,
         "type": "scatter",
         "x": [
          "2020-03",
          "2020-05",
          "2021-02"
         ],
         "xaxis": "x",
         "y": [
          0,
          -5,
          4.85
         ],
         "yaxis": "y"
        },
        {
         "hovertemplate": "Category=Utilities<br>year_month=%{x}<br>Amount=%{y}<extra></extra>",
         "legendgroup": "Utilities",
         "line": {
          "color": "#FF97FF",
          "dash": "solid"
         },
         "mode": "lines",
         "name": "Utilities",
         "orientation": "v",
         "showlegend": true,
         "type": "scatter",
         "x": [
          "2018-12",
          "2019-01",
          "2019-02",
          "2019-03",
          "2019-04",
          "2019-05",
          "2019-06",
          "2019-07",
          "2019-08",
          "2019-09",
          "2019-10",
          "2019-11",
          "2019-12",
          "2020-01",
          "2020-02",
          "2020-03",
          "2020-04",
          "2020-05",
          "2020-06",
          "2020-07",
          "2020-08",
          "2020-09",
          "2020-10",
          "2020-11",
          "2020-12",
          "2021-01",
          "2021-02",
          "2021-03",
          "2021-04",
          "2021-05",
          "2021-06",
          "2021-07"
         ],
         "xaxis": "x",
         "y": [
          -100,
          -100,
          -100,
          -100,
          -100,
          -162,
          -523.45,
          -62,
          -62,
          -162,
          -162,
          -162,
          -162,
          -162,
          -345.5,
          -250,
          -333.86,
          222.01000000000002,
          -41.15,
          -128.84,
          -128.84,
          -128.84,
          -128.84,
          -128.84,
          -244.52,
          -244.52,
          -244.52,
          -244.52,
          -249.57,
          -249.48999999999998,
          -249.48999999999998,
          -230.89
         ],
         "yaxis": "y"
        },
        {
         "hovertemplate": "Category=Wedding<br>year_month=%{x}<br>Amount=%{y}<extra></extra>",
         "legendgroup": "Wedding",
         "line": {
          "color": "#FECB52",
          "dash": "solid"
         },
         "mode": "lines",
         "name": "Wedding",
         "orientation": "v",
         "showlegend": true,
         "type": "scatter",
         "x": [
          "2018-11",
          "2018-12",
          "2019-01",
          "2019-02",
          "2019-03",
          "2019-04",
          "2019-05",
          "2019-06",
          "2019-07",
          "2019-08",
          "2019-10",
          "2020-04",
          "2020-10",
          "2020-12",
          "2021-03"
         ],
         "xaxis": "x",
         "y": [
          -720,
          -1011,
          -1435.6,
          -150,
          -864.71,
          -2319.58,
          -162.8,
          -38324.38,
          -4494.8099999999995,
          470,
          -2526.3,
          -18.75,
          -81,
          -1438.5,
          -10
         ],
         "yaxis": "y"
        }
       ],
       "layout": {
        "legend": {
         "title": {
          "text": "Category"
         },
         "tracegroupgap": 0
        },
        "template": {
         "data": {
          "bar": [
           {
            "error_x": {
             "color": "#2a3f5f"
            },
            "error_y": {
             "color": "#2a3f5f"
            },
            "marker": {
             "line": {
              "color": "#E5ECF6",
              "width": 0.5
             },
             "pattern": {
              "fillmode": "overlay",
              "size": 10,
              "solidity": 0.2
             }
            },
            "type": "bar"
           }
          ],
          "barpolar": [
           {
            "marker": {
             "line": {
              "color": "#E5ECF6",
              "width": 0.5
             },
             "pattern": {
              "fillmode": "overlay",
              "size": 10,
              "solidity": 0.2
             }
            },
            "type": "barpolar"
           }
          ],
          "carpet": [
           {
            "aaxis": {
             "endlinecolor": "#2a3f5f",
             "gridcolor": "white",
             "linecolor": "white",
             "minorgridcolor": "white",
             "startlinecolor": "#2a3f5f"
            },
            "baxis": {
             "endlinecolor": "#2a3f5f",
             "gridcolor": "white",
             "linecolor": "white",
             "minorgridcolor": "white",
             "startlinecolor": "#2a3f5f"
            },
            "type": "carpet"
           }
          ],
          "choropleth": [
           {
            "colorbar": {
             "outlinewidth": 0,
             "ticks": ""
            },
            "type": "choropleth"
           }
          ],
          "contour": [
           {
            "colorbar": {
             "outlinewidth": 0,
             "ticks": ""
            },
            "colorscale": [
             [
              0,
              "#0d0887"
             ],
             [
              0.1111111111111111,
              "#46039f"
             ],
             [
              0.2222222222222222,
              "#7201a8"
             ],
             [
              0.3333333333333333,
              "#9c179e"
             ],
             [
              0.4444444444444444,
              "#bd3786"
             ],
             [
              0.5555555555555556,
              "#d8576b"
             ],
             [
              0.6666666666666666,
              "#ed7953"
             ],
             [
              0.7777777777777778,
              "#fb9f3a"
             ],
             [
              0.8888888888888888,
              "#fdca26"
             ],
             [
              1,
              "#f0f921"
             ]
            ],
            "type": "contour"
           }
          ],
          "contourcarpet": [
           {
            "colorbar": {
             "outlinewidth": 0,
             "ticks": ""
            },
            "type": "contourcarpet"
           }
          ],
          "heatmap": [
           {
            "colorbar": {
             "outlinewidth": 0,
             "ticks": ""
            },
            "colorscale": [
             [
              0,
              "#0d0887"
             ],
             [
              0.1111111111111111,
              "#46039f"
             ],
             [
              0.2222222222222222,
              "#7201a8"
             ],
             [
              0.3333333333333333,
              "#9c179e"
             ],
             [
              0.4444444444444444,
              "#bd3786"
             ],
             [
              0.5555555555555556,
              "#d8576b"
             ],
             [
              0.6666666666666666,
              "#ed7953"
             ],
             [
              0.7777777777777778,
              "#fb9f3a"
             ],
             [
              0.8888888888888888,
              "#fdca26"
             ],
             [
              1,
              "#f0f921"
             ]
            ],
            "type": "heatmap"
           }
          ],
          "heatmapgl": [
           {
            "colorbar": {
             "outlinewidth": 0,
             "ticks": ""
            },
            "colorscale": [
             [
              0,
              "#0d0887"
             ],
             [
              0.1111111111111111,
              "#46039f"
             ],
             [
              0.2222222222222222,
              "#7201a8"
             ],
             [
              0.3333333333333333,
              "#9c179e"
             ],
             [
              0.4444444444444444,
              "#bd3786"
             ],
             [
              0.5555555555555556,
              "#d8576b"
             ],
             [
              0.6666666666666666,
              "#ed7953"
             ],
             [
              0.7777777777777778,
              "#fb9f3a"
             ],
             [
              0.8888888888888888,
              "#fdca26"
             ],
             [
              1,
              "#f0f921"
             ]
            ],
            "type": "heatmapgl"
           }
          ],
          "histogram": [
           {
            "marker": {
             "pattern": {
              "fillmode": "overlay",
              "size": 10,
              "solidity": 0.2
             }
            },
            "type": "histogram"
           }
          ],
          "histogram2d": [
           {
            "colorbar": {
             "outlinewidth": 0,
             "ticks": ""
            },
            "colorscale": [
             [
              0,
              "#0d0887"
             ],
             [
              0.1111111111111111,
              "#46039f"
             ],
             [
              0.2222222222222222,
              "#7201a8"
             ],
             [
              0.3333333333333333,
              "#9c179e"
             ],
             [
              0.4444444444444444,
              "#bd3786"
             ],
             [
              0.5555555555555556,
              "#d8576b"
             ],
             [
              0.6666666666666666,
              "#ed7953"
             ],
             [
              0.7777777777777778,
              "#fb9f3a"
             ],
             [
              0.8888888888888888,
              "#fdca26"
             ],
             [
              1,
              "#f0f921"
             ]
            ],
            "type": "histogram2d"
           }
          ],
          "histogram2dcontour": [
           {
            "colorbar": {
             "outlinewidth": 0,
             "ticks": ""
            },
            "colorscale": [
             [
              0,
              "#0d0887"
             ],
             [
              0.1111111111111111,
              "#46039f"
             ],
             [
              0.2222222222222222,
              "#7201a8"
             ],
             [
              0.3333333333333333,
              "#9c179e"
             ],
             [
              0.4444444444444444,
              "#bd3786"
             ],
             [
              0.5555555555555556,
              "#d8576b"
             ],
             [
              0.6666666666666666,
              "#ed7953"
             ],
             [
              0.7777777777777778,
              "#fb9f3a"
             ],
             [
              0.8888888888888888,
              "#fdca26"
             ],
             [
              1,
              "#f0f921"
             ]
            ],
            "type": "histogram2dcontour"
           }
          ],
          "mesh3d": [
           {
            "colorbar": {
             "outlinewidth": 0,
             "ticks": ""
            },
            "type": "mesh3d"
           }
          ],
          "parcoords": [
           {
            "line": {
             "colorbar": {
              "outlinewidth": 0,
              "ticks": ""
             }
            },
            "type": "parcoords"
           }
          ],
          "pie": [
           {
            "automargin": true,
            "type": "pie"
           }
          ],
          "scatter": [
           {
            "marker": {
             "colorbar": {
              "outlinewidth": 0,
              "ticks": ""
             }
            },
            "type": "scatter"
           }
          ],
          "scatter3d": [
           {
            "line": {
             "colorbar": {
              "outlinewidth": 0,
              "ticks": ""
             }
            },
            "marker": {
             "colorbar": {
              "outlinewidth": 0,
              "ticks": ""
             }
            },
            "type": "scatter3d"
           }
          ],
          "scattercarpet": [
           {
            "marker": {
             "colorbar": {
              "outlinewidth": 0,
              "ticks": ""
             }
            },
            "type": "scattercarpet"
           }
          ],
          "scattergeo": [
           {
            "marker": {
             "colorbar": {
              "outlinewidth": 0,
              "ticks": ""
             }
            },
            "type": "scattergeo"
           }
          ],
          "scattergl": [
           {
            "marker": {
             "colorbar": {
              "outlinewidth": 0,
              "ticks": ""
             }
            },
            "type": "scattergl"
           }
          ],
          "scattermapbox": [
           {
            "marker": {
             "colorbar": {
              "outlinewidth": 0,
              "ticks": ""
             }
            },
            "type": "scattermapbox"
           }
          ],
          "scatterpolar": [
           {
            "marker": {
             "colorbar": {
              "outlinewidth": 0,
              "ticks": ""
             }
            },
            "type": "scatterpolar"
           }
          ],
          "scatterpolargl": [
           {
            "marker": {
             "colorbar": {
              "outlinewidth": 0,
              "ticks": ""
             }
            },
            "type": "scatterpolargl"
           }
          ],
          "scatterternary": [
           {
            "marker": {
             "colorbar": {
              "outlinewidth": 0,
              "ticks": ""
             }
            },
            "type": "scatterternary"
           }
          ],
          "surface": [
           {
            "colorbar": {
             "outlinewidth": 0,
             "ticks": ""
            },
            "colorscale": [
             [
              0,
              "#0d0887"
             ],
             [
              0.1111111111111111,
              "#46039f"
             ],
             [
              0.2222222222222222,
              "#7201a8"
             ],
             [
              0.3333333333333333,
              "#9c179e"
             ],
             [
              0.4444444444444444,
              "#bd3786"
             ],
             [
              0.5555555555555556,
              "#d8576b"
             ],
             [
              0.6666666666666666,
              "#ed7953"
             ],
             [
              0.7777777777777778,
              "#fb9f3a"
             ],
             [
              0.8888888888888888,
              "#fdca26"
             ],
             [
              1,
              "#f0f921"
             ]
            ],
            "type": "surface"
           }
          ],
          "table": [
           {
            "cells": {
             "fill": {
              "color": "#EBF0F8"
             },
             "line": {
              "color": "white"
             }
            },
            "header": {
             "fill": {
              "color": "#C8D4E3"
             },
             "line": {
              "color": "white"
             }
            },
            "type": "table"
           }
          ]
         },
         "layout": {
          "annotationdefaults": {
           "arrowcolor": "#2a3f5f",
           "arrowhead": 0,
           "arrowwidth": 1
          },
          "autotypenumbers": "strict",
          "coloraxis": {
           "colorbar": {
            "outlinewidth": 0,
            "ticks": ""
           }
          },
          "colorscale": {
           "diverging": [
            [
             0,
             "#8e0152"
            ],
            [
             0.1,
             "#c51b7d"
            ],
            [
             0.2,
             "#de77ae"
            ],
            [
             0.3,
             "#f1b6da"
            ],
            [
             0.4,
             "#fde0ef"
            ],
            [
             0.5,
             "#f7f7f7"
            ],
            [
             0.6,
             "#e6f5d0"
            ],
            [
             0.7,
             "#b8e186"
            ],
            [
             0.8,
             "#7fbc41"
            ],
            [
             0.9,
             "#4d9221"
            ],
            [
             1,
             "#276419"
            ]
           ],
           "sequential": [
            [
             0,
             "#0d0887"
            ],
            [
             0.1111111111111111,
             "#46039f"
            ],
            [
             0.2222222222222222,
             "#7201a8"
            ],
            [
             0.3333333333333333,
             "#9c179e"
            ],
            [
             0.4444444444444444,
             "#bd3786"
            ],
            [
             0.5555555555555556,
             "#d8576b"
            ],
            [
             0.6666666666666666,
             "#ed7953"
            ],
            [
             0.7777777777777778,
             "#fb9f3a"
            ],
            [
             0.8888888888888888,
             "#fdca26"
            ],
            [
             1,
             "#f0f921"
            ]
           ],
           "sequentialminus": [
            [
             0,
             "#0d0887"
            ],
            [
             0.1111111111111111,
             "#46039f"
            ],
            [
             0.2222222222222222,
             "#7201a8"
            ],
            [
             0.3333333333333333,
             "#9c179e"
            ],
            [
             0.4444444444444444,
             "#bd3786"
            ],
            [
             0.5555555555555556,
             "#d8576b"
            ],
            [
             0.6666666666666666,
             "#ed7953"
            ],
            [
             0.7777777777777778,
             "#fb9f3a"
            ],
            [
             0.8888888888888888,
             "#fdca26"
            ],
            [
             1,
             "#f0f921"
            ]
           ]
          },
          "colorway": [
           "#636efa",
           "#EF553B",
           "#00cc96",
           "#ab63fa",
           "#FFA15A",
           "#19d3f3",
           "#FF6692",
           "#B6E880",
           "#FF97FF",
           "#FECB52"
          ],
          "font": {
           "color": "#2a3f5f"
          },
          "geo": {
           "bgcolor": "white",
           "lakecolor": "white",
           "landcolor": "#E5ECF6",
           "showlakes": true,
           "showland": true,
           "subunitcolor": "white"
          },
          "hoverlabel": {
           "align": "left"
          },
          "hovermode": "closest",
          "mapbox": {
           "style": "light"
          },
          "paper_bgcolor": "white",
          "plot_bgcolor": "#E5ECF6",
          "polar": {
           "angularaxis": {
            "gridcolor": "white",
            "linecolor": "white",
            "ticks": ""
           },
           "bgcolor": "#E5ECF6",
           "radialaxis": {
            "gridcolor": "white",
            "linecolor": "white",
            "ticks": ""
           }
          },
          "scene": {
           "xaxis": {
            "backgroundcolor": "#E5ECF6",
            "gridcolor": "white",
            "gridwidth": 2,
            "linecolor": "white",
            "showbackground": true,
            "ticks": "",
            "zerolinecolor": "white"
           },
           "yaxis": {
            "backgroundcolor": "#E5ECF6",
            "gridcolor": "white",
            "gridwidth": 2,
            "linecolor": "white",
            "showbackground": true,
            "ticks": "",
            "zerolinecolor": "white"
           },
           "zaxis": {
            "backgroundcolor": "#E5ECF6",
            "gridcolor": "white",
            "gridwidth": 2,
            "linecolor": "white",
            "showbackground": true,
            "ticks": "",
            "zerolinecolor": "white"
           }
          },
          "shapedefaults": {
           "line": {
            "color": "#2a3f5f"
           }
          },
          "ternary": {
           "aaxis": {
            "gridcolor": "white",
            "linecolor": "white",
            "ticks": ""
           },
           "baxis": {
            "gridcolor": "white",
            "linecolor": "white",
            "ticks": ""
           },
           "bgcolor": "#E5ECF6",
           "caxis": {
            "gridcolor": "white",
            "linecolor": "white",
            "ticks": ""
           }
          },
          "title": {
           "x": 0.05
          },
          "xaxis": {
           "automargin": true,
           "gridcolor": "white",
           "linecolor": "white",
           "ticks": "",
           "title": {
            "standoff": 15
           },
           "zerolinecolor": "white",
           "zerolinewidth": 2
          },
          "yaxis": {
           "automargin": true,
           "gridcolor": "white",
           "linecolor": "white",
           "ticks": "",
           "title": {
            "standoff": 15
           },
           "zerolinecolor": "white",
           "zerolinewidth": 2
          }
         }
        },
        "title": {
         "text": "Expenses Breakdown"
        },
        "xaxis": {
         "anchor": "y",
         "domain": [
          0,
          1
         ],
         "showticklabels": true,
         "title": {
          "text": "Date"
         },
         "visible": true
        },
        "yaxis": {
         "anchor": "x",
         "domain": [
          0,
          1
         ],
         "showticklabels": true,
         "title": {
          "text": "Expenses (£)"
         },
         "visible": true
        }
       }
      },
      "text/html": [
       "<div>                            <div id=\"11d94f17-4f08-4747-99c2-f40ebcadbc2a\" class=\"plotly-graph-div\" style=\"height:525px; width:100%;\"></div>            <script type=\"text/javascript\">                require([\"plotly\"], function(Plotly) {                    window.PLOTLYENV=window.PLOTLYENV || {};                                    if (document.getElementById(\"11d94f17-4f08-4747-99c2-f40ebcadbc2a\")) {                    Plotly.newPlot(                        \"11d94f17-4f08-4747-99c2-f40ebcadbc2a\",                        [{\"hovertemplate\":\"Category=ALfie<br>year_month=%{x}<br>Amount=%{y}<extra></extra>\",\"legendgroup\":\"ALfie\",\"line\":{\"color\":\"#636efa\",\"dash\":\"solid\"},\"mode\":\"lines\",\"name\":\"ALfie\",\"orientation\":\"v\",\"showlegend\":true,\"type\":\"scatter\",\"x\":[\"2019-01\",\"2019-02\",\"2019-05\",\"2019-06\",\"2019-07\",\"2019-11\",\"2019-12\",\"2020-01\",\"2020-02\",\"2020-03\",\"2020-04\",\"2020-05\",\"2020-06\",\"2020-07\",\"2020-08\",\"2020-09\",\"2020-10\",\"2020-11\",\"2020-12\",\"2021-01\",\"2021-02\",\"2021-03\",\"2021-04\",\"2021-05\",\"2021-06\",\"2021-07\"],\"xaxis\":\"x\",\"y\":[-72.49,-54.02,-37.47,-101.7,-60.94,-24.95,-77.82,-17.76,-17.76,-17.76,-17.76,-75.72,-17.76,-48.74,-47.74,-17.76,-97.74000000000001,-65.26,-42.239999999999995,-52.19,-97.7,-322.14,66.22999999999999,-22.2,-80.16,-61.2],\"yaxis\":\"y\"},{\"hovertemplate\":\"Category=Art<br>year_month=%{x}<br>Amount=%{y}<extra></extra>\",\"legendgroup\":\"Art\",\"line\":{\"color\":\"#EF553B\",\"dash\":\"solid\"},\"mode\":\"lines\",\"name\":\"Art\",\"orientation\":\"v\",\"showlegend\":true,\"type\":\"scatter\",\"x\":[\"2019-02\"],\"xaxis\":\"x\",\"y\":[-109.0],\"yaxis\":\"y\"},{\"hovertemplate\":\"Category=Bank Charges<br>year_month=%{x}<br>Amount=%{y}<extra></extra>\",\"legendgroup\":\"Bank Charges\",\"line\":{\"color\":\"#00cc96\",\"dash\":\"solid\"},\"mode\":\"lines\",\"name\":\"Bank Charges\",\"orientation\":\"v\",\"showlegend\":true,\"type\":\"scatter\",\"x\":[\"2018-12\",\"2019-02\",\"2019-06\",\"2020-03\",\"2020-06\",\"2020-08\",\"2020-11\",\"2020-12\",\"2021-01\",\"2021-02\",\"2021-03\",\"2021-04\",\"2021-05\",\"2021-06\",\"2021-07\"],\"xaxis\":\"x\",\"y\":[0.0,0.0,0.0,0.0,-10.91,0.0,-19.79,-8.4,-6.39,-9.74,-65.7,-41.44,-51.44,-51.44,0.0],\"yaxis\":\"y\"},{\"hovertemplate\":\"Category=Banner Street Expenses<br>year_month=%{x}<br>Amount=%{y}<extra></extra>\",\"legendgroup\":\"Banner Street Expenses\",\"line\":{\"color\":\"#ab63fa\",\"dash\":\"solid\"},\"mode\":\"lines\",\"name\":\"Banner Street Expenses\",\"orientation\":\"v\",\"showlegend\":true,\"type\":\"scatter\",\"x\":[\"2020-06\",\"2020-07\",\"2020-11\",\"2020-12\",\"2021-01\",\"2021-02\",\"2021-04\",\"2021-05\"],\"xaxis\":\"x\",\"y\":[-125.0,-45.0,-62.5,-863.57,-908.79,-62.5,-6.0,-168.18],\"yaxis\":\"y\"},{\"hovertemplate\":\"Category=Car<br>year_month=%{x}<br>Amount=%{y}<extra></extra>\",\"legendgroup\":\"Car\",\"line\":{\"color\":\"#FFA15A\",\"dash\":\"solid\"},\"mode\":\"lines\",\"name\":\"Car\",\"orientation\":\"v\",\"showlegend\":true,\"type\":\"scatter\",\"x\":[\"2018-10\",\"2018-11\",\"2018-12\",\"2019-01\",\"2019-02\",\"2019-03\",\"2019-04\",\"2019-05\",\"2019-06\",\"2019-07\",\"2019-08\",\"2019-09\",\"2019-10\",\"2019-11\",\"2019-12\",\"2020-01\",\"2020-02\",\"2020-03\",\"2020-04\",\"2020-05\",\"2020-06\",\"2020-07\",\"2020-08\",\"2020-09\",\"2020-10\",\"2020-11\",\"2020-12\",\"2021-01\",\"2021-02\",\"2021-03\",\"2021-04\",\"2021-05\",\"2021-06\",\"2021-07\"],\"xaxis\":\"x\",\"y\":[-334.91,-334.91,-773.52,-2087.86,-3649.54,-463.36,-671.19,-286.22,-585.19,-432.88,-521.27,-494.11,-481.40000000000003,-377.15000000000003,-505.42,-502.53000000000003,-447.66,-517.13,-364.47,-442.38,-404.47,-435.99,-402.59000000000003,-514.02,-540.77,-379.47,-470.67,-464.07000000000005,-420.03000000000003,-516.12,-491.17,-390.04,-494.48,-631.66],\"yaxis\":\"y\"},{\"hovertemplate\":\"Category=Cash Out<br>year_month=%{x}<br>Amount=%{y}<extra></extra>\",\"legendgroup\":\"Cash Out\",\"line\":{\"color\":\"#19d3f3\",\"dash\":\"solid\"},\"mode\":\"lines\",\"name\":\"Cash Out\",\"orientation\":\"v\",\"showlegend\":true,\"type\":\"scatter\",\"x\":[\"2019-01\",\"2019-07\",\"2019-08\",\"2020-01\",\"2020-05\",\"2020-08\",\"2020-11\",\"2020-12\",\"2021-05\",\"2021-07\"],\"xaxis\":\"x\",\"y\":[-21.99,-50.0,-30.0,-50.0,-300.0,-20.0,-50.0,-220.0,-20.0,-50.0],\"yaxis\":\"y\"},{\"hovertemplate\":\"Category=Clothing<br>year_month=%{x}<br>Amount=%{y}<extra></extra>\",\"legendgroup\":\"Clothing\",\"line\":{\"color\":\"#FF6692\",\"dash\":\"solid\"},\"mode\":\"lines\",\"name\":\"Clothing\",\"orientation\":\"v\",\"showlegend\":true,\"type\":\"scatter\",\"x\":[\"2018-12\",\"2019-01\",\"2019-02\",\"2019-03\",\"2019-04\",\"2019-05\",\"2019-06\",\"2019-07\",\"2019-09\",\"2019-10\",\"2020-01\",\"2020-03\",\"2020-04\",\"2020-06\",\"2020-09\",\"2020-10\",\"2020-11\",\"2021-04\",\"2021-05\"],\"xaxis\":\"x\",\"y\":[-45.0,-24.0,-38.92,-253.04,-265.94,-48.97,-403.0,-282.56,-64.98,46.99,-15.99,-49.94,-39.0,-45.0,-84.73,-65.85,-33.82,-2.5,-73.91],\"yaxis\":\"y\"},{\"hovertemplate\":\"Category=Cosmetics<br>year_month=%{x}<br>Amount=%{y}<extra></extra>\",\"legendgroup\":\"Cosmetics\",\"line\":{\"color\":\"#B6E880\",\"dash\":\"solid\"},\"mode\":\"lines\",\"name\":\"Cosmetics\",\"orientation\":\"v\",\"showlegend\":true,\"type\":\"scatter\",\"x\":[\"2019-01\",\"2019-06\",\"2019-07\",\"2019-08\",\"2020-02\",\"2020-06\",\"2020-10\",\"2021-01\",\"2021-04\",\"2021-06\"],\"xaxis\":\"x\",\"y\":[-58.0,-383.91999999999996,-87.99,-47.02,-33.6,-13.95,-11.55,-56.56,-24.34,-56.99],\"yaxis\":\"y\"},{\"hovertemplate\":\"Category=Council Tax<br>year_month=%{x}<br>Amount=%{y}<extra></extra>\",\"legendgroup\":\"Council Tax\",\"line\":{\"color\":\"#FF97FF\",\"dash\":\"solid\"},\"mode\":\"lines\",\"name\":\"Council Tax\",\"orientation\":\"v\",\"showlegend\":true,\"type\":\"scatter\",\"x\":[\"2018-11\",\"2018-12\",\"2019-01\",\"2019-02\",\"2019-04\",\"2019-05\",\"2019-06\",\"2019-07\",\"2019-08\",\"2019-09\",\"2019-10\",\"2019-11\",\"2019-12\",\"2020-01\",\"2020-04\",\"2020-07\",\"2020-08\",\"2020-09\",\"2020-10\",\"2020-11\",\"2020-12\",\"2021-01\",\"2021-02\",\"2021-03\",\"2021-04\",\"2021-05\",\"2021-06\",\"2021-07\"],\"xaxis\":\"x\",\"y\":[-241.39,-243.0,-243.0,-243.0,-187.95,-187.0,-187.0,-187.0,-187.0,-187.0,-187.0,-187.0,-187.0,-187.0,-198.39,-194.0,-194.0,-194.0,-194.0,-194.0,-194.0,-194.0,-194.0,-194.0,-202.47,-236.0,-206.0,-214.99],\"yaxis\":\"y\"},{\"hovertemplate\":\"Category=Credit Card<br>year_month=%{x}<br>Amount=%{y}<extra></extra>\",\"legendgroup\":\"Credit Card\",\"line\":{\"color\":\"#FECB52\",\"dash\":\"solid\"},\"mode\":\"lines\",\"name\":\"Credit Card\",\"orientation\":\"v\",\"showlegend\":true,\"type\":\"scatter\",\"x\":[\"2019-05\",\"2019-06\",\"2019-07\",\"2019-08\",\"2019-09\",\"2019-10\",\"2019-11\",\"2019-12\",\"2020-01\",\"2020-02\",\"2020-03\",\"2020-04\",\"2020-05\",\"2020-06\",\"2020-07\",\"2020-08\",\"2020-09\",\"2020-10\",\"2020-11\",\"2020-12\",\"2021-01\",\"2021-02\",\"2021-03\",\"2021-04\",\"2021-05\",\"2021-06\",\"2021-07\"],\"xaxis\":\"x\",\"y\":[-2089.06,-2089.06,-2089.06,-2252.7,-2349.7599999999998,-2347.16,-2344.58,-2342.02,-2339.49,-2336.98,-2334.5,-2332.05,-240.56,-238.16,-235.78,-2377.25,-2506.34,-2501.52,-2492.6,-2593.86,-2650.16,-2541.86,-2719.73,-2776.61,-2839.02,-2775.0,-2469.9500000000003],\"yaxis\":\"y\"},{\"hovertemplate\":\"Category=Emma Wedgwood Aesthetics Expense<br>year_month=%{x}<br>Amount=%{y}<extra></extra>\",\"legendgroup\":\"Emma Wedgwood Aesthetics Expense\",\"line\":{\"color\":\"#636efa\",\"dash\":\"solid\"},\"mode\":\"lines\",\"name\":\"Emma Wedgwood Aesthetics Expense\",\"orientation\":\"v\",\"showlegend\":true,\"type\":\"scatter\",\"x\":[\"2020-11\",\"2021-06\",\"2021-07\"],\"xaxis\":\"x\",\"y\":[-90.75,0.0,-70.05],\"yaxis\":\"y\"},{\"hovertemplate\":\"Category=Entertainment<br>year_month=%{x}<br>Amount=%{y}<extra></extra>\",\"legendgroup\":\"Entertainment\",\"line\":{\"color\":\"#EF553B\",\"dash\":\"solid\"},\"mode\":\"lines\",\"name\":\"Entertainment\",\"orientation\":\"v\",\"showlegend\":true,\"type\":\"scatter\",\"x\":[\"2018-12\",\"2019-01\",\"2019-02\",\"2019-03\",\"2019-04\",\"2019-05\",\"2019-06\",\"2019-07\",\"2019-08\",\"2019-09\",\"2019-10\",\"2019-11\",\"2019-12\",\"2020-01\",\"2020-02\",\"2020-03\",\"2020-04\",\"2020-05\",\"2020-06\",\"2020-07\",\"2020-08\",\"2020-09\",\"2020-10\",\"2020-11\",\"2020-12\",\"2021-01\",\"2021-02\",\"2021-03\",\"2021-04\",\"2021-05\",\"2021-06\",\"2021-07\"],\"xaxis\":\"x\",\"y\":[-70.0,-39.53,-12.85,-12.83,-12.83,-250.53,-12.83,-12.83,-11.5,-35.2,-13.2,-42.17,-13.2,-120.31,-13.26,-13.2,-29.18,-29.18,-29.18,-35.17,-93.81,-140.34,-35.34,-43.33,-40.82,-48.81,-161.39000000000001,-42.33,-42.33,-80.37,-182.33,-39.33],\"yaxis\":\"y\"},{\"hovertemplate\":\"Category=Gifts<br>year_month=%{x}<br>Amount=%{y}<extra></extra>\",\"legendgroup\":\"Gifts\",\"line\":{\"color\":\"#00cc96\",\"dash\":\"solid\"},\"mode\":\"lines\",\"name\":\"Gifts\",\"orientation\":\"v\",\"showlegend\":true,\"type\":\"scatter\",\"x\":[\"2018-11\",\"2018-12\",\"2019-04\",\"2019-05\",\"2019-06\",\"2019-07\",\"2019-10\",\"2020-01\",\"2020-02\",\"2020-04\",\"2020-10\",\"2020-12\",\"2021-01\",\"2021-02\",\"2021-04\",\"2021-07\"],\"xaxis\":\"x\",\"y\":[-200.0,-82.0,-1085.0,-1527.0,-65.5,-8.0,-43.99,-3.45,-14.73,-30.98,-24.03,-12.38,-14.99,-140.0,-65.0,-335.28],\"yaxis\":\"y\"},{\"hovertemplate\":\"Category=Groceries<br>year_month=%{x}<br>Amount=%{y}<extra></extra>\",\"legendgroup\":\"Groceries\",\"line\":{\"color\":\"#ab63fa\",\"dash\":\"solid\"},\"mode\":\"lines\",\"name\":\"Groceries\",\"orientation\":\"v\",\"showlegend\":true,\"type\":\"scatter\",\"x\":[\"2018-11\",\"2018-12\",\"2019-01\",\"2019-02\",\"2019-03\",\"2019-04\",\"2019-05\",\"2019-06\",\"2019-07\",\"2019-08\",\"2019-09\",\"2019-10\",\"2019-11\",\"2019-12\",\"2020-01\",\"2020-02\",\"2020-03\",\"2020-04\",\"2020-05\",\"2020-06\",\"2020-07\",\"2020-08\",\"2020-09\",\"2020-10\",\"2020-11\",\"2020-12\",\"2021-01\",\"2021-02\",\"2021-03\",\"2021-04\",\"2021-05\",\"2021-06\",\"2021-07\"],\"xaxis\":\"x\",\"y\":[-111.78,-985.1,-526.78,-568.54,-582.88,-505.8,-737.5200000000001,-597.8,-267.33,-392.99,-590.69,-356.98,-145.97,-616.35,-544.78,-607.33,-813.7,-978.5799999999999,-966.23,-1066.84,-596.14,-904.27,-675.8,-673.1,-799.7,-693.21,-772.0500000000001,-762.37,-629.34,-541.83,-870.46,-774.1,-357.8],\"yaxis\":\"y\"},{\"hovertemplate\":\"Category=HMRC and Tax<br>year_month=%{x}<br>Amount=%{y}<extra></extra>\",\"legendgroup\":\"HMRC and Tax\",\"line\":{\"color\":\"#FFA15A\",\"dash\":\"solid\"},\"mode\":\"lines\",\"name\":\"HMRC and Tax\",\"orientation\":\"v\",\"showlegend\":true,\"type\":\"scatter\",\"x\":[\"2020-12\",\"2021-01\",\"2021-02\"],\"xaxis\":\"x\",\"y\":[-215.0,-5959.12,-4961.95],\"yaxis\":\"y\"},{\"hovertemplate\":\"Category=Hair<br>year_month=%{x}<br>Amount=%{y}<extra></extra>\",\"legendgroup\":\"Hair\",\"line\":{\"color\":\"#19d3f3\",\"dash\":\"solid\"},\"mode\":\"lines\",\"name\":\"Hair\",\"orientation\":\"v\",\"showlegend\":true,\"type\":\"scatter\",\"x\":[\"2019-03\",\"2019-04\",\"2019-06\",\"2019-07\",\"2020-07\"],\"xaxis\":\"x\",\"y\":[-58.0,-210.0,-312.3,-61.65,-212.5],\"yaxis\":\"y\"},{\"hovertemplate\":\"Category=Health Care<br>year_month=%{x}<br>Amount=%{y}<extra></extra>\",\"legendgroup\":\"Health Care\",\"line\":{\"color\":\"#FF6692\",\"dash\":\"solid\"},\"mode\":\"lines\",\"name\":\"Health Care\",\"orientation\":\"v\",\"showlegend\":true,\"type\":\"scatter\",\"x\":[\"2018-12\",\"2019-01\",\"2019-02\",\"2019-04\",\"2019-05\",\"2019-06\",\"2019-07\",\"2019-09\",\"2019-10\",\"2020-01\",\"2020-02\",\"2020-03\",\"2020-04\",\"2020-05\",\"2020-06\",\"2020-07\",\"2020-08\",\"2020-09\",\"2020-10\",\"2020-11\",\"2020-12\",\"2021-01\",\"2021-02\",\"2021-03\",\"2021-04\",\"2021-05\",\"2021-06\",\"2021-07\"],\"xaxis\":\"x\",\"y\":[-8.55,-264.04,-16.5,-22.95,-3.69,-628.47,-183.44,-8.07,-21.0,-14.0,-17.919999999999998,-127.32999999999998,-14.0,-409.5,-34.7,-110.04,-270.89,-117.33,-52.22,-64.63,-44.77,-23.27,-962.0,-139.64000000000001,-70.99,-136.51999999999998,-407.34000000000003,-78.05],\"yaxis\":\"y\"},{\"hovertemplate\":\"Category=Health&Fitness<br>year_month=%{x}<br>Amount=%{y}<extra></extra>\",\"legendgroup\":\"Health&Fitness\",\"line\":{\"color\":\"#B6E880\",\"dash\":\"solid\"},\"mode\":\"lines\",\"name\":\"Health&Fitness\",\"orientation\":\"v\",\"showlegend\":true,\"type\":\"scatter\",\"x\":[\"2018-12\",\"2019-01\",\"2020-08\",\"2020-09\",\"2020-10\",\"2020-11\",\"2020-12\",\"2021-01\",\"2021-02\",\"2021-03\",\"2021-04\",\"2021-05\",\"2021-06\",\"2021-07\"],\"xaxis\":\"x\",\"y\":[-20.0,-20.0,-140.0,-160.0,-140.0,-60.0,-175.0,-75.0,-60.0,-60.0,-367.0,-265.0,-260.0,-15.0],\"yaxis\":\"y\"},{\"hovertemplate\":\"Category=Holiday<br>year_month=%{x}<br>Amount=%{y}<extra></extra>\",\"legendgroup\":\"Holiday\",\"line\":{\"color\":\"#FF97FF\",\"dash\":\"solid\"},\"mode\":\"lines\",\"name\":\"Holiday\",\"orientation\":\"v\",\"showlegend\":true,\"type\":\"scatter\",\"x\":[\"2018-12\",\"2019-01\",\"2019-02\",\"2019-04\",\"2019-05\",\"2019-06\",\"2019-07\",\"2019-09\",\"2019-10\",\"2020-03\",\"2020-07\",\"2020-12\",\"2021-02\",\"2021-04\",\"2021-06\",\"2021-07\"],\"xaxis\":\"x\",\"y\":[-89.74000000000001,-1038.81,0.01,-194.0,-307.72,-76.87,-11.0,-11.37,-6.0,-138.0,-413.89,-35.0,-263.18,-90.0,-566.5,-696.1],\"yaxis\":\"y\"},{\"hovertemplate\":\"Category=Household<br>year_month=%{x}<br>Amount=%{y}<extra></extra>\",\"legendgroup\":\"Household\",\"line\":{\"color\":\"#FECB52\",\"dash\":\"solid\"},\"mode\":\"lines\",\"name\":\"Household\",\"orientation\":\"v\",\"showlegend\":true,\"type\":\"scatter\",\"x\":[\"2018-11\",\"2018-12\",\"2019-01\",\"2019-02\",\"2019-03\",\"2019-04\",\"2019-05\",\"2019-06\",\"2019-07\",\"2019-08\",\"2019-09\",\"2019-10\",\"2019-11\",\"2019-12\",\"2020-01\",\"2020-02\",\"2020-03\",\"2020-04\",\"2020-05\",\"2020-06\",\"2020-07\",\"2020-08\",\"2020-09\",\"2020-10\",\"2020-11\",\"2020-12\",\"2021-01\",\"2021-02\",\"2021-03\",\"2021-04\",\"2021-05\",\"2021-06\",\"2021-07\"],\"xaxis\":\"x\",\"y\":[-361.8,-1276.6599999999999,-994.27,-1371.0900000000001,-480.01,-260.19,-400.05,-757.95,-507.24,-606.91,-333.7,-278.9,-45.0,-217.4,-328.2,-329.35,-269.75,-1018.4900000000001,-299.3,-546.4,-250.3,-322.6,-119.2,-348.68,-290.55,-702.9300000000001,-217.32999999999998,-340.4,-228.45,-132.0,-215.9,-398.64,-78.05],\"yaxis\":\"y\"},{\"hovertemplate\":\"Category=Insurance<br>year_month=%{x}<br>Amount=%{y}<extra></extra>\",\"legendgroup\":\"Insurance\",\"line\":{\"color\":\"#636efa\",\"dash\":\"solid\"},\"mode\":\"lines\",\"name\":\"Insurance\",\"orientation\":\"v\",\"showlegend\":true,\"type\":\"scatter\",\"x\":[\"2019-02\",\"2019-03\",\"2019-04\",\"2019-05\",\"2019-06\",\"2019-07\",\"2019-08\",\"2019-09\",\"2019-10\",\"2019-11\",\"2019-12\",\"2020-01\",\"2020-02\",\"2020-03\",\"2020-04\",\"2020-05\",\"2020-06\",\"2020-07\",\"2020-08\",\"2020-09\",\"2020-10\",\"2020-11\",\"2020-12\",\"2021-01\",\"2021-02\",\"2021-03\",\"2021-04\",\"2021-05\",\"2021-06\",\"2021-07\"],\"xaxis\":\"x\",\"y\":[-47.56,-47.56,-47.56,-47.56,-171.98000000000002,-47.56,-47.56,-47.56,-77.13,-77.13,-77.13,-77.13,-146.53,-117.30000000000001,-117.31,-117.31,-117.31,-117.31,-117.31,-117.25,-125.73,-124.81,-440.65999999999997,-84.76,-84.76,-84.76,-84.76,-84.76,-84.76,-84.76],\"yaxis\":\"y\"},{\"hovertemplate\":\"Category=Jewellery<br>year_month=%{x}<br>Amount=%{y}<extra></extra>\",\"legendgroup\":\"Jewellery\",\"line\":{\"color\":\"#EF553B\",\"dash\":\"solid\"},\"mode\":\"lines\",\"name\":\"Jewellery\",\"orientation\":\"v\",\"showlegend\":true,\"type\":\"scatter\",\"x\":[\"2018-12\"],\"xaxis\":\"x\",\"y\":[0.0],\"yaxis\":\"y\"},{\"hovertemplate\":\"Category=Legal<br>year_month=%{x}<br>Amount=%{y}<extra></extra>\",\"legendgroup\":\"Legal\",\"line\":{\"color\":\"#00cc96\",\"dash\":\"solid\"},\"mode\":\"lines\",\"name\":\"Legal\",\"orientation\":\"v\",\"showlegend\":true,\"type\":\"scatter\",\"x\":[\"2019-03\",\"2021-05\"],\"xaxis\":\"x\",\"y\":[59.0,-1500.0],\"yaxis\":\"y\"},{\"hovertemplate\":\"Category=Luxury<br>year_month=%{x}<br>Amount=%{y}<extra></extra>\",\"legendgroup\":\"Luxury\",\"line\":{\"color\":\"#ab63fa\",\"dash\":\"solid\"},\"mode\":\"lines\",\"name\":\"Luxury\",\"orientation\":\"v\",\"showlegend\":true,\"type\":\"scatter\",\"x\":[\"2018-12\"],\"xaxis\":\"x\",\"y\":[-965.0],\"yaxis\":\"y\"},{\"hovertemplate\":\"Category=Money From Emma<br>year_month=%{x}<br>Amount=%{y}<extra></extra>\",\"legendgroup\":\"Money From Emma\",\"line\":{\"color\":\"#FFA15A\",\"dash\":\"solid\"},\"mode\":\"lines\",\"name\":\"Money From Emma\",\"orientation\":\"v\",\"showlegend\":true,\"type\":\"scatter\",\"x\":[\"2018-12\",\"2019-01\",\"2019-02\",\"2019-03\",\"2019-04\",\"2019-05\",\"2019-06\",\"2019-07\",\"2019-08\",\"2019-09\",\"2019-10\",\"2019-11\",\"2019-12\",\"2020-01\",\"2020-02\",\"2020-03\",\"2020-04\",\"2020-05\",\"2020-06\",\"2020-07\",\"2020-08\",\"2020-09\",\"2020-10\",\"2020-11\",\"2020-12\",\"2021-01\",\"2021-02\",\"2021-03\",\"2021-04\",\"2021-05\",\"2021-06\",\"2021-07\"],\"xaxis\":\"x\",\"y\":[1545.0,5150.0,4100.0,400.0,600.0,1280.0,30800.0,1900.0,750.0,1650.0,1443.99,4640.0,7150.0,9300.0,6450.0,240.0,138.98000000000002,1300.0,500.0,1020.0,1800.0,1530.0,1920.0,2000.0,1600.0,2450.0,1960.0,1827.0,600.0,1530.0,390.0,1400.0],\"yaxis\":\"y\"},{\"hovertemplate\":\"Category=Money from Friends<br>year_month=%{x}<br>Amount=%{y}<extra></extra>\",\"legendgroup\":\"Money from Friends\",\"line\":{\"color\":\"#19d3f3\",\"dash\":\"solid\"},\"mode\":\"lines\",\"name\":\"Money from Friends\",\"orientation\":\"v\",\"showlegend\":true,\"type\":\"scatter\",\"x\":[\"2021-07\"],\"xaxis\":\"x\",\"y\":[-60.0],\"yaxis\":\"y\"},{\"hovertemplate\":\"Category=Money to Friends<br>year_month=%{x}<br>Amount=%{y}<extra></extra>\",\"legendgroup\":\"Money to Friends\",\"line\":{\"color\":\"#FF6692\",\"dash\":\"solid\"},\"mode\":\"lines\",\"name\":\"Money to Friends\",\"orientation\":\"v\",\"showlegend\":true,\"type\":\"scatter\",\"x\":[\"2019-01\",\"2019-02\",\"2019-03\",\"2019-04\",\"2019-06\",\"2019-07\",\"2019-08\",\"2020-10\",\"2020-12\",\"2021-01\",\"2021-02\",\"2021-03\",\"2021-06\"],\"xaxis\":\"x\",\"y\":[-30.0,-440.0,-50.0,-300.0,-750.0,-795.0,-220.0,-69.75,-127.0,-21.0,-88.5,-22.0,-250.0],\"yaxis\":\"y\"},{\"hovertemplate\":\"Category=MoneyFromChris<br>year_month=%{x}<br>Amount=%{y}<extra></extra>\",\"legendgroup\":\"MoneyFromChris\",\"line\":{\"color\":\"#B6E880\",\"dash\":\"solid\"},\"mode\":\"lines\",\"name\":\"MoneyFromChris\",\"orientation\":\"v\",\"showlegend\":true,\"type\":\"scatter\",\"x\":[\"2018-09\",\"2018-11\",\"2018-12\",\"2019-01\",\"2019-02\",\"2019-03\",\"2019-04\",\"2019-05\",\"2019-06\",\"2019-07\",\"2019-08\",\"2019-09\",\"2019-10\",\"2019-11\",\"2019-12\",\"2020-01\",\"2020-02\",\"2020-03\",\"2020-04\",\"2020-05\",\"2020-06\",\"2020-07\",\"2020-08\",\"2020-09\",\"2020-10\",\"2020-11\",\"2020-12\",\"2021-01\",\"2021-02\",\"2021-03\",\"2021-04\",\"2021-05\",\"2021-06\",\"2021-07\"],\"xaxis\":\"x\",\"y\":[500.0,2500.0,4000.0,4900.0,1500.0,4500.0,8700.0,4900.0,18600.0,9000.0,4000.0,3380.0,6011.3,-538.0,-1250.0,-4680.0,-825.0,5385.0,3080.0,1414.8400000000001,5256.0,2120.0,8385.0,1980.0,3250.0,4325.0,8605.0,15918.0,7500.0,4850.0,4610.0,11400.0,3560.0,4950.0],\"yaxis\":\"y\"},{\"hovertemplate\":\"Category=Mortgage<br>year_month=%{x}<br>Amount=%{y}<extra></extra>\",\"legendgroup\":\"Mortgage\",\"line\":{\"color\":\"#FF97FF\",\"dash\":\"solid\"},\"mode\":\"lines\",\"name\":\"Mortgage\",\"orientation\":\"v\",\"showlegend\":true,\"type\":\"scatter\",\"x\":[\"2019-05\",\"2019-06\",\"2019-07\",\"2019-08\",\"2019-09\",\"2019-10\",\"2019-11\",\"2019-12\",\"2020-01\",\"2020-02\",\"2020-03\",\"2020-07\",\"2020-08\",\"2020-09\",\"2020-10\",\"2020-11\",\"2020-12\",\"2021-01\",\"2021-02\",\"2021-03\",\"2021-04\",\"2021-05\",\"2021-06\",\"2021-07\"],\"xaxis\":\"x\",\"y\":[-295.0,-1325.4099999999999,-705.41,-705.41,-705.41,-705.41,-705.41,-705.41,-705.41,-705.41,-705.41,-711.38,-711.38,-711.38,-711.38,-711.38,-711.38,-849.88,-963.94,-963.94,-963.94,-963.94,-963.94,-963.94],\"yaxis\":\"y\"},{\"hovertemplate\":\"Category=Online Purchase<br>year_month=%{x}<br>Amount=%{y}<extra></extra>\",\"legendgroup\":\"Online Purchase\",\"line\":{\"color\":\"#FECB52\",\"dash\":\"solid\"},\"mode\":\"lines\",\"name\":\"Online Purchase\",\"orientation\":\"v\",\"showlegend\":true,\"type\":\"scatter\",\"x\":[\"2019-06\",\"2019-07\",\"2019-08\",\"2019-09\",\"2019-10\",\"2019-12\",\"2020-01\",\"2020-02\",\"2020-03\",\"2020-04\",\"2020-05\",\"2020-06\",\"2020-07\",\"2020-08\",\"2020-09\",\"2020-10\",\"2020-11\",\"2020-12\",\"2021-01\",\"2021-02\",\"2021-05\",\"2021-07\"],\"xaxis\":\"x\",\"y\":[-33.4,-25.96,-7.99,-7.99,-7.99,-7.99,-33.98,-7.99,-49.79,-120.22,-97.0,-47.06,-129.85999999999999,-7.99,-36.48,-146.76,-89.6,-33.97,-22.17,-39.45,-3.49,-9.99],\"yaxis\":\"y\"},{\"hovertemplate\":\"Category=Postage<br>year_month=%{x}<br>Amount=%{y}<extra></extra>\",\"legendgroup\":\"Postage\",\"line\":{\"color\":\"#636efa\",\"dash\":\"solid\"},\"mode\":\"lines\",\"name\":\"Postage\",\"orientation\":\"v\",\"showlegend\":true,\"type\":\"scatter\",\"x\":[\"2018-11\",\"2018-12\",\"2019-01\",\"2019-02\",\"2019-03\",\"2019-04\",\"2019-05\",\"2019-06\",\"2019-07\",\"2019-08\",\"2019-09\",\"2019-10\",\"2019-11\",\"2019-12\",\"2020-01\",\"2020-02\",\"2020-03\",\"2020-04\",\"2020-05\",\"2020-06\",\"2020-07\",\"2020-08\",\"2020-09\",\"2020-10\",\"2020-11\",\"2020-12\",\"2021-01\",\"2021-02\",\"2021-03\",\"2021-04\",\"2021-05\",\"2021-06\",\"2021-07\"],\"xaxis\":\"x\",\"y\":[-16.439999999999998,-35.9,-26.57,-45.85,-58.879999999999995,-63.55,-24.6,-37.17,-44.97,-43.99,-51.56,-3.49,-3.4,-12.350000000000001,-16.0,-14.7,-3.99,-20.64,-13.16,-80.93,-67.04,-31.33,-28.43,-24.3,-51.02,-50.17,-37.18,-34.26,-112.31,-22.47,-41.39,-75.4,-88.98],\"yaxis\":\"y\"},{\"hovertemplate\":\"Category=Public Toilet<br>year_month=%{x}<br>Amount=%{y}<extra></extra>\",\"legendgroup\":\"Public Toilet\",\"line\":{\"color\":\"#EF553B\",\"dash\":\"solid\"},\"mode\":\"lines\",\"name\":\"Public Toilet\",\"orientation\":\"v\",\"showlegend\":true,\"type\":\"scatter\",\"x\":[\"2021-04\"],\"xaxis\":\"x\",\"y\":[-0.2],\"yaxis\":\"y\"},{\"hovertemplate\":\"Category=RCA<br>year_month=%{x}<br>Amount=%{y}<extra></extra>\",\"legendgroup\":\"RCA\",\"line\":{\"color\":\"#00cc96\",\"dash\":\"solid\"},\"mode\":\"lines\",\"name\":\"RCA\",\"orientation\":\"v\",\"showlegend\":true,\"type\":\"scatter\",\"x\":[\"2019-04\",\"2019-06\",\"2019-08\",\"2019-09\",\"2019-10\",\"2019-11\",\"2019-12\",\"2020-04\",\"2021-03\",\"2021-06\"],\"xaxis\":\"x\",\"y\":[-85.0,-45.0,-28.0,-13.0,-44.10000000000001,-48.0,-44.0,359.5,-87.6,-270.0],\"yaxis\":\"y\"},{\"hovertemplate\":\"Category=Recovery<br>year_month=%{x}<br>Amount=%{y}<extra></extra>\",\"legendgroup\":\"Recovery\",\"line\":{\"color\":\"#ab63fa\",\"dash\":\"solid\"},\"mode\":\"lines\",\"name\":\"Recovery\",\"orientation\":\"v\",\"showlegend\":true,\"type\":\"scatter\",\"x\":[\"2019-06\",\"2020-08\",\"2021-02\",\"2021-03\"],\"xaxis\":\"x\",\"y\":[-10.0,-27.72,-82.0,-22.62],\"yaxis\":\"y\"},{\"hovertemplate\":\"Category=Refunds<br>year_month=%{x}<br>Amount=%{y}<extra></extra>\",\"legendgroup\":\"Refunds\",\"line\":{\"color\":\"#FFA15A\",\"dash\":\"solid\"},\"mode\":\"lines\",\"name\":\"Refunds\",\"orientation\":\"v\",\"showlegend\":true,\"type\":\"scatter\",\"x\":[\"2021-06\"],\"xaxis\":\"x\",\"y\":[263.18],\"yaxis\":\"y\"},{\"hovertemplate\":\"Category=Rental Income<br>year_month=%{x}<br>Amount=%{y}<extra></extra>\",\"legendgroup\":\"Rental Income\",\"line\":{\"color\":\"#19d3f3\",\"dash\":\"solid\"},\"mode\":\"lines\",\"name\":\"Rental Income\",\"orientation\":\"v\",\"showlegend\":true,\"type\":\"scatter\",\"x\":[\"2021-06\",\"2021-07\"],\"xaxis\":\"x\",\"y\":[1540.0,1338.0],\"yaxis\":\"y\"},{\"hovertemplate\":\"Category=Restaurant<br>year_month=%{x}<br>Amount=%{y}<extra></extra>\",\"legendgroup\":\"Restaurant\",\"line\":{\"color\":\"#FF6692\",\"dash\":\"solid\"},\"mode\":\"lines\",\"name\":\"Restaurant\",\"orientation\":\"v\",\"showlegend\":true,\"type\":\"scatter\",\"x\":[\"2018-12\",\"2019-01\",\"2019-02\",\"2019-03\",\"2019-04\",\"2019-05\",\"2019-06\",\"2019-07\",\"2019-08\",\"2019-09\",\"2019-12\",\"2020-01\",\"2020-02\",\"2020-03\",\"2020-07\",\"2020-08\",\"2020-09\",\"2020-10\",\"2020-11\",\"2020-12\",\"2021-01\",\"2021-02\",\"2021-03\",\"2021-04\",\"2021-05\",\"2021-06\",\"2021-07\"],\"xaxis\":\"x\",\"y\":[-277.9,-145.25,-387.84000000000003,-170.02,-326.72,-295.26,-371.96000000000004,-174.25,-203.71,-132.75,-106.03999999999999,-102.52000000000001,-42.9,-30.07,-125.44,-214.2,-172.10999999999999,-228.34,-99.1,-93.7,-34.4,-26.1,-44.35,-143.15,-167.89,-98.19,-435.97],\"yaxis\":\"y\"},{\"hovertemplate\":\"Category=Scams<br>year_month=%{x}<br>Amount=%{y}<extra></extra>\",\"legendgroup\":\"Scams\",\"line\":{\"color\":\"#B6E880\",\"dash\":\"solid\"},\"mode\":\"lines\",\"name\":\"Scams\",\"orientation\":\"v\",\"showlegend\":true,\"type\":\"scatter\",\"x\":[\"2020-03\",\"2021-01\",\"2021-02\"],\"xaxis\":\"x\",\"y\":[-25.0,-10.0,-35.0],\"yaxis\":\"y\"},{\"hovertemplate\":\"Category=Snackette<br>year_month=%{x}<br>Amount=%{y}<extra></extra>\",\"legendgroup\":\"Snackette\",\"line\":{\"color\":\"#FF97FF\",\"dash\":\"solid\"},\"mode\":\"lines\",\"name\":\"Snackette\",\"orientation\":\"v\",\"showlegend\":true,\"type\":\"scatter\",\"x\":[\"2018-12\",\"2019-01\",\"2019-03\",\"2019-04\",\"2019-05\",\"2019-06\",\"2019-07\",\"2019-08\",\"2019-12\",\"2020-01\",\"2020-03\",\"2020-07\",\"2020-08\",\"2020-09\",\"2020-10\",\"2020-11\",\"2020-12\",\"2021-01\",\"2021-02\",\"2021-03\",\"2021-04\",\"2021-05\",\"2021-06\",\"2021-07\"],\"xaxis\":\"x\",\"y\":[-27.94,-150.05,-58.37,-101.2,-157.13,-201.16,-124.63,-11.45,-35.03,-35.54,-33.580000000000005,-38.4,-96.18,-130.71,-161.26,-76.63,-91.86,-55.85,-74.12,-126.60000000000001,-361.3,-144.86,-128.88,-327.12],\"yaxis\":\"y\"},{\"hovertemplate\":\"Category=Sport<br>year_month=%{x}<br>Amount=%{y}<extra></extra>\",\"legendgroup\":\"Sport\",\"line\":{\"color\":\"#FECB52\",\"dash\":\"solid\"},\"mode\":\"lines\",\"name\":\"Sport\",\"orientation\":\"v\",\"showlegend\":true,\"type\":\"scatter\",\"x\":[\"2020-06\",\"2020-09\",\"2021-05\"],\"xaxis\":\"x\",\"y\":[-25.0,-15.0,-28.990000000000002],\"yaxis\":\"y\"},{\"hovertemplate\":\"Category=Stationary<br>year_month=%{x}<br>Amount=%{y}<extra></extra>\",\"legendgroup\":\"Stationary\",\"line\":{\"color\":\"#636efa\",\"dash\":\"solid\"},\"mode\":\"lines\",\"name\":\"Stationary\",\"orientation\":\"v\",\"showlegend\":true,\"type\":\"scatter\",\"x\":[\"2019-09\",\"2020-09\",\"2020-12\",\"2021-04\",\"2021-06\",\"2021-07\"],\"xaxis\":\"x\",\"y\":[-24.97,-10.49,-0.79,-2.99,-10.94,-29.99],\"yaxis\":\"y\"},{\"hovertemplate\":\"Category=Takeaway<br>year_month=%{x}<br>Amount=%{y}<extra></extra>\",\"legendgroup\":\"Takeaway\",\"line\":{\"color\":\"#EF553B\",\"dash\":\"solid\"},\"mode\":\"lines\",\"name\":\"Takeaway\",\"orientation\":\"v\",\"showlegend\":true,\"type\":\"scatter\",\"x\":[\"2018-12\",\"2019-01\",\"2019-04\",\"2019-06\",\"2019-08\",\"2019-09\",\"2019-11\",\"2020-01\",\"2020-02\",\"2020-03\",\"2020-04\",\"2020-05\",\"2020-06\",\"2020-07\",\"2020-08\",\"2020-09\",\"2020-10\",\"2020-11\",\"2020-12\",\"2021-01\",\"2021-02\",\"2021-03\",\"2021-04\",\"2021-05\",\"2021-06\",\"2021-07\"],\"xaxis\":\"x\",\"y\":[-24.05,-40.09,-32.65,-100.13,-37.839999999999996,-63.69,-93.43,-77.78,-35.88,-54.61,-20.93,-85.66,-32.88,-114.97,-27.38,-13.13,-247.63,-339.03,-159.09,-82.82,-389.65,-166.39000000000001,-197.71,-225.55,-117.53,-147.85],\"yaxis\":\"y\"},{\"hovertemplate\":\"Category=Tech<br>year_month=%{x}<br>Amount=%{y}<extra></extra>\",\"legendgroup\":\"Tech\",\"line\":{\"color\":\"#00cc96\",\"dash\":\"solid\"},\"mode\":\"lines\",\"name\":\"Tech\",\"orientation\":\"v\",\"showlegend\":true,\"type\":\"scatter\",\"x\":[\"2019-01\",\"2019-03\",\"2019-07\",\"2019-08\",\"2020-04\",\"2020-06\",\"2021-06\"],\"xaxis\":\"x\",\"y\":[-11.41,-76.15,-85.0,-19.99,-6.39,-80.23,-70.61],\"yaxis\":\"y\"},{\"hovertemplate\":\"Category=Therapy<br>year_month=%{x}<br>Amount=%{y}<extra></extra>\",\"legendgroup\":\"Therapy\",\"line\":{\"color\":\"#ab63fa\",\"dash\":\"solid\"},\"mode\":\"lines\",\"name\":\"Therapy\",\"orientation\":\"v\",\"showlegend\":true,\"type\":\"scatter\",\"x\":[\"2019-02\",\"2019-03\",\"2019-04\",\"2019-05\",\"2019-06\",\"2019-07\",\"2019-08\",\"2019-09\",\"2019-10\",\"2019-12\",\"2020-01\",\"2020-02\",\"2020-03\",\"2020-04\",\"2020-05\",\"2020-06\",\"2020-07\",\"2020-08\",\"2020-09\",\"2020-10\",\"2020-11\",\"2020-12\",\"2021-01\",\"2021-02\",\"2021-03\",\"2021-04\",\"2021-05\",\"2021-06\",\"2021-07\"],\"xaxis\":\"x\",\"y\":[-570.0,-380.0,-285.0,-190.0,-475.0,-95.0,-190.0,-285.0,-95.0,-190.0,-95.0,-285.0,-190.0,-95.0,-285.0,-190.0,-190.0,-95.0,-95.0,-190.0,-190.0,-190.0,-95.0,-190.0,-190.0,-190.0,-190.0,-95.0,-285.0],\"yaxis\":\"y\"},{\"hovertemplate\":\"Category=Transfer<br>year_month=%{x}<br>Amount=%{y}<extra></extra>\",\"legendgroup\":\"Transfer\",\"line\":{\"color\":\"#FFA15A\",\"dash\":\"solid\"},\"mode\":\"lines\",\"name\":\"Transfer\",\"orientation\":\"v\",\"showlegend\":true,\"type\":\"scatter\",\"x\":[\"2020-06\",\"2020-07\",\"2020-08\",\"2020-09\",\"2020-10\",\"2020-11\",\"2020-12\",\"2021-01\",\"2021-02\",\"2021-03\",\"2021-04\",\"2021-05\",\"2021-06\",\"2021-07\"],\"xaxis\":\"x\",\"y\":[-500.0,-500.0,500.0,0.0,500.0,-5.0,-900.0,505.0,-40.28,-546.54,745.03,148.23000000000002,-38.35,-58.18],\"yaxis\":\"y\"},{\"hovertemplate\":\"Category=Travel<br>year_month=%{x}<br>Amount=%{y}<extra></extra>\",\"legendgroup\":\"Travel\",\"line\":{\"color\":\"#19d3f3\",\"dash\":\"solid\"},\"mode\":\"lines\",\"name\":\"Travel\",\"orientation\":\"v\",\"showlegend\":true,\"type\":\"scatter\",\"x\":[\"2019-01\",\"2019-03\",\"2019-05\",\"2019-07\",\"2019-10\",\"2019-11\",\"2019-12\",\"2020-01\",\"2020-02\",\"2020-04\",\"2020-07\",\"2020-08\",\"2020-09\",\"2020-10\",\"2020-11\",\"2020-12\",\"2021-01\",\"2021-02\",\"2021-03\",\"2021-04\",\"2021-05\",\"2021-06\",\"2021-07\"],\"xaxis\":\"x\",\"y\":[-20.0,-10.0,-10.0,-9.4,-11.2,-5.6,-5.6,-5.2,-65.0,0.0,-22.5,-78.9,-61.0,-153.4,-101.8,-86.1,-59.5,-95.0,-86.2,-131.6,-53.1,-117.95,-77.14999999999999],\"yaxis\":\"y\"},{\"hovertemplate\":\"Category=Union<br>year_month=%{x}<br>Amount=%{y}<extra></extra>\",\"legendgroup\":\"Union\",\"line\":{\"color\":\"#FF6692\",\"dash\":\"solid\"},\"mode\":\"lines\",\"name\":\"Union\",\"orientation\":\"v\",\"showlegend\":true,\"type\":\"scatter\",\"x\":[\"2021-02\"],\"xaxis\":\"x\",\"y\":[-25.0],\"yaxis\":\"y\"},{\"hovertemplate\":\"Category=Unknown<br>year_month=%{x}<br>Amount=%{y}<extra></extra>\",\"legendgroup\":\"Unknown\",\"line\":{\"color\":\"#B6E880\",\"dash\":\"solid\"},\"mode\":\"lines\",\"name\":\"Unknown\",\"orientation\":\"v\",\"showlegend\":true,\"type\":\"scatter\",\"x\":[\"2020-03\",\"2020-05\",\"2021-02\"],\"xaxis\":\"x\",\"y\":[0.0,-5.0,4.85],\"yaxis\":\"y\"},{\"hovertemplate\":\"Category=Utilities<br>year_month=%{x}<br>Amount=%{y}<extra></extra>\",\"legendgroup\":\"Utilities\",\"line\":{\"color\":\"#FF97FF\",\"dash\":\"solid\"},\"mode\":\"lines\",\"name\":\"Utilities\",\"orientation\":\"v\",\"showlegend\":true,\"type\":\"scatter\",\"x\":[\"2018-12\",\"2019-01\",\"2019-02\",\"2019-03\",\"2019-04\",\"2019-05\",\"2019-06\",\"2019-07\",\"2019-08\",\"2019-09\",\"2019-10\",\"2019-11\",\"2019-12\",\"2020-01\",\"2020-02\",\"2020-03\",\"2020-04\",\"2020-05\",\"2020-06\",\"2020-07\",\"2020-08\",\"2020-09\",\"2020-10\",\"2020-11\",\"2020-12\",\"2021-01\",\"2021-02\",\"2021-03\",\"2021-04\",\"2021-05\",\"2021-06\",\"2021-07\"],\"xaxis\":\"x\",\"y\":[-100.0,-100.0,-100.0,-100.0,-100.0,-162.0,-523.45,-62.0,-62.0,-162.0,-162.0,-162.0,-162.0,-162.0,-345.5,-250.0,-333.86,222.01000000000002,-41.15,-128.84,-128.84,-128.84,-128.84,-128.84,-244.52,-244.52,-244.52,-244.52,-249.57,-249.48999999999998,-249.48999999999998,-230.89],\"yaxis\":\"y\"},{\"hovertemplate\":\"Category=Wedding<br>year_month=%{x}<br>Amount=%{y}<extra></extra>\",\"legendgroup\":\"Wedding\",\"line\":{\"color\":\"#FECB52\",\"dash\":\"solid\"},\"mode\":\"lines\",\"name\":\"Wedding\",\"orientation\":\"v\",\"showlegend\":true,\"type\":\"scatter\",\"x\":[\"2018-11\",\"2018-12\",\"2019-01\",\"2019-02\",\"2019-03\",\"2019-04\",\"2019-05\",\"2019-06\",\"2019-07\",\"2019-08\",\"2019-10\",\"2020-04\",\"2020-10\",\"2020-12\",\"2021-03\"],\"xaxis\":\"x\",\"y\":[-720.0,-1011.0,-1435.6,-150.0,-864.71,-2319.58,-162.8,-38324.38,-4494.8099999999995,470.0,-2526.3,-18.75,-81.0,-1438.5,-10.0],\"yaxis\":\"y\"}],                        {\"legend\":{\"title\":{\"text\":\"Category\"},\"tracegroupgap\":0},\"template\":{\"data\":{\"bar\":[{\"error_x\":{\"color\":\"#2a3f5f\"},\"error_y\":{\"color\":\"#2a3f5f\"},\"marker\":{\"line\":{\"color\":\"#E5ECF6\",\"width\":0.5},\"pattern\":{\"fillmode\":\"overlay\",\"size\":10,\"solidity\":0.2}},\"type\":\"bar\"}],\"barpolar\":[{\"marker\":{\"line\":{\"color\":\"#E5ECF6\",\"width\":0.5},\"pattern\":{\"fillmode\":\"overlay\",\"size\":10,\"solidity\":0.2}},\"type\":\"barpolar\"}],\"carpet\":[{\"aaxis\":{\"endlinecolor\":\"#2a3f5f\",\"gridcolor\":\"white\",\"linecolor\":\"white\",\"minorgridcolor\":\"white\",\"startlinecolor\":\"#2a3f5f\"},\"baxis\":{\"endlinecolor\":\"#2a3f5f\",\"gridcolor\":\"white\",\"linecolor\":\"white\",\"minorgridcolor\":\"white\",\"startlinecolor\":\"#2a3f5f\"},\"type\":\"carpet\"}],\"choropleth\":[{\"colorbar\":{\"outlinewidth\":0,\"ticks\":\"\"},\"type\":\"choropleth\"}],\"contour\":[{\"colorbar\":{\"outlinewidth\":0,\"ticks\":\"\"},\"colorscale\":[[0.0,\"#0d0887\"],[0.1111111111111111,\"#46039f\"],[0.2222222222222222,\"#7201a8\"],[0.3333333333333333,\"#9c179e\"],[0.4444444444444444,\"#bd3786\"],[0.5555555555555556,\"#d8576b\"],[0.6666666666666666,\"#ed7953\"],[0.7777777777777778,\"#fb9f3a\"],[0.8888888888888888,\"#fdca26\"],[1.0,\"#f0f921\"]],\"type\":\"contour\"}],\"contourcarpet\":[{\"colorbar\":{\"outlinewidth\":0,\"ticks\":\"\"},\"type\":\"contourcarpet\"}],\"heatmap\":[{\"colorbar\":{\"outlinewidth\":0,\"ticks\":\"\"},\"colorscale\":[[0.0,\"#0d0887\"],[0.1111111111111111,\"#46039f\"],[0.2222222222222222,\"#7201a8\"],[0.3333333333333333,\"#9c179e\"],[0.4444444444444444,\"#bd3786\"],[0.5555555555555556,\"#d8576b\"],[0.6666666666666666,\"#ed7953\"],[0.7777777777777778,\"#fb9f3a\"],[0.8888888888888888,\"#fdca26\"],[1.0,\"#f0f921\"]],\"type\":\"heatmap\"}],\"heatmapgl\":[{\"colorbar\":{\"outlinewidth\":0,\"ticks\":\"\"},\"colorscale\":[[0.0,\"#0d0887\"],[0.1111111111111111,\"#46039f\"],[0.2222222222222222,\"#7201a8\"],[0.3333333333333333,\"#9c179e\"],[0.4444444444444444,\"#bd3786\"],[0.5555555555555556,\"#d8576b\"],[0.6666666666666666,\"#ed7953\"],[0.7777777777777778,\"#fb9f3a\"],[0.8888888888888888,\"#fdca26\"],[1.0,\"#f0f921\"]],\"type\":\"heatmapgl\"}],\"histogram\":[{\"marker\":{\"pattern\":{\"fillmode\":\"overlay\",\"size\":10,\"solidity\":0.2}},\"type\":\"histogram\"}],\"histogram2d\":[{\"colorbar\":{\"outlinewidth\":0,\"ticks\":\"\"},\"colorscale\":[[0.0,\"#0d0887\"],[0.1111111111111111,\"#46039f\"],[0.2222222222222222,\"#7201a8\"],[0.3333333333333333,\"#9c179e\"],[0.4444444444444444,\"#bd3786\"],[0.5555555555555556,\"#d8576b\"],[0.6666666666666666,\"#ed7953\"],[0.7777777777777778,\"#fb9f3a\"],[0.8888888888888888,\"#fdca26\"],[1.0,\"#f0f921\"]],\"type\":\"histogram2d\"}],\"histogram2dcontour\":[{\"colorbar\":{\"outlinewidth\":0,\"ticks\":\"\"},\"colorscale\":[[0.0,\"#0d0887\"],[0.1111111111111111,\"#46039f\"],[0.2222222222222222,\"#7201a8\"],[0.3333333333333333,\"#9c179e\"],[0.4444444444444444,\"#bd3786\"],[0.5555555555555556,\"#d8576b\"],[0.6666666666666666,\"#ed7953\"],[0.7777777777777778,\"#fb9f3a\"],[0.8888888888888888,\"#fdca26\"],[1.0,\"#f0f921\"]],\"type\":\"histogram2dcontour\"}],\"mesh3d\":[{\"colorbar\":{\"outlinewidth\":0,\"ticks\":\"\"},\"type\":\"mesh3d\"}],\"parcoords\":[{\"line\":{\"colorbar\":{\"outlinewidth\":0,\"ticks\":\"\"}},\"type\":\"parcoords\"}],\"pie\":[{\"automargin\":true,\"type\":\"pie\"}],\"scatter\":[{\"marker\":{\"colorbar\":{\"outlinewidth\":0,\"ticks\":\"\"}},\"type\":\"scatter\"}],\"scatter3d\":[{\"line\":{\"colorbar\":{\"outlinewidth\":0,\"ticks\":\"\"}},\"marker\":{\"colorbar\":{\"outlinewidth\":0,\"ticks\":\"\"}},\"type\":\"scatter3d\"}],\"scattercarpet\":[{\"marker\":{\"colorbar\":{\"outlinewidth\":0,\"ticks\":\"\"}},\"type\":\"scattercarpet\"}],\"scattergeo\":[{\"marker\":{\"colorbar\":{\"outlinewidth\":0,\"ticks\":\"\"}},\"type\":\"scattergeo\"}],\"scattergl\":[{\"marker\":{\"colorbar\":{\"outlinewidth\":0,\"ticks\":\"\"}},\"type\":\"scattergl\"}],\"scattermapbox\":[{\"marker\":{\"colorbar\":{\"outlinewidth\":0,\"ticks\":\"\"}},\"type\":\"scattermapbox\"}],\"scatterpolar\":[{\"marker\":{\"colorbar\":{\"outlinewidth\":0,\"ticks\":\"\"}},\"type\":\"scatterpolar\"}],\"scatterpolargl\":[{\"marker\":{\"colorbar\":{\"outlinewidth\":0,\"ticks\":\"\"}},\"type\":\"scatterpolargl\"}],\"scatterternary\":[{\"marker\":{\"colorbar\":{\"outlinewidth\":0,\"ticks\":\"\"}},\"type\":\"scatterternary\"}],\"surface\":[{\"colorbar\":{\"outlinewidth\":0,\"ticks\":\"\"},\"colorscale\":[[0.0,\"#0d0887\"],[0.1111111111111111,\"#46039f\"],[0.2222222222222222,\"#7201a8\"],[0.3333333333333333,\"#9c179e\"],[0.4444444444444444,\"#bd3786\"],[0.5555555555555556,\"#d8576b\"],[0.6666666666666666,\"#ed7953\"],[0.7777777777777778,\"#fb9f3a\"],[0.8888888888888888,\"#fdca26\"],[1.0,\"#f0f921\"]],\"type\":\"surface\"}],\"table\":[{\"cells\":{\"fill\":{\"color\":\"#EBF0F8\"},\"line\":{\"color\":\"white\"}},\"header\":{\"fill\":{\"color\":\"#C8D4E3\"},\"line\":{\"color\":\"white\"}},\"type\":\"table\"}]},\"layout\":{\"annotationdefaults\":{\"arrowcolor\":\"#2a3f5f\",\"arrowhead\":0,\"arrowwidth\":1},\"autotypenumbers\":\"strict\",\"coloraxis\":{\"colorbar\":{\"outlinewidth\":0,\"ticks\":\"\"}},\"colorscale\":{\"diverging\":[[0,\"#8e0152\"],[0.1,\"#c51b7d\"],[0.2,\"#de77ae\"],[0.3,\"#f1b6da\"],[0.4,\"#fde0ef\"],[0.5,\"#f7f7f7\"],[0.6,\"#e6f5d0\"],[0.7,\"#b8e186\"],[0.8,\"#7fbc41\"],[0.9,\"#4d9221\"],[1,\"#276419\"]],\"sequential\":[[0.0,\"#0d0887\"],[0.1111111111111111,\"#46039f\"],[0.2222222222222222,\"#7201a8\"],[0.3333333333333333,\"#9c179e\"],[0.4444444444444444,\"#bd3786\"],[0.5555555555555556,\"#d8576b\"],[0.6666666666666666,\"#ed7953\"],[0.7777777777777778,\"#fb9f3a\"],[0.8888888888888888,\"#fdca26\"],[1.0,\"#f0f921\"]],\"sequentialminus\":[[0.0,\"#0d0887\"],[0.1111111111111111,\"#46039f\"],[0.2222222222222222,\"#7201a8\"],[0.3333333333333333,\"#9c179e\"],[0.4444444444444444,\"#bd3786\"],[0.5555555555555556,\"#d8576b\"],[0.6666666666666666,\"#ed7953\"],[0.7777777777777778,\"#fb9f3a\"],[0.8888888888888888,\"#fdca26\"],[1.0,\"#f0f921\"]]},\"colorway\":[\"#636efa\",\"#EF553B\",\"#00cc96\",\"#ab63fa\",\"#FFA15A\",\"#19d3f3\",\"#FF6692\",\"#B6E880\",\"#FF97FF\",\"#FECB52\"],\"font\":{\"color\":\"#2a3f5f\"},\"geo\":{\"bgcolor\":\"white\",\"lakecolor\":\"white\",\"landcolor\":\"#E5ECF6\",\"showlakes\":true,\"showland\":true,\"subunitcolor\":\"white\"},\"hoverlabel\":{\"align\":\"left\"},\"hovermode\":\"closest\",\"mapbox\":{\"style\":\"light\"},\"paper_bgcolor\":\"white\",\"plot_bgcolor\":\"#E5ECF6\",\"polar\":{\"angularaxis\":{\"gridcolor\":\"white\",\"linecolor\":\"white\",\"ticks\":\"\"},\"bgcolor\":\"#E5ECF6\",\"radialaxis\":{\"gridcolor\":\"white\",\"linecolor\":\"white\",\"ticks\":\"\"}},\"scene\":{\"xaxis\":{\"backgroundcolor\":\"#E5ECF6\",\"gridcolor\":\"white\",\"gridwidth\":2,\"linecolor\":\"white\",\"showbackground\":true,\"ticks\":\"\",\"zerolinecolor\":\"white\"},\"yaxis\":{\"backgroundcolor\":\"#E5ECF6\",\"gridcolor\":\"white\",\"gridwidth\":2,\"linecolor\":\"white\",\"showbackground\":true,\"ticks\":\"\",\"zerolinecolor\":\"white\"},\"zaxis\":{\"backgroundcolor\":\"#E5ECF6\",\"gridcolor\":\"white\",\"gridwidth\":2,\"linecolor\":\"white\",\"showbackground\":true,\"ticks\":\"\",\"zerolinecolor\":\"white\"}},\"shapedefaults\":{\"line\":{\"color\":\"#2a3f5f\"}},\"ternary\":{\"aaxis\":{\"gridcolor\":\"white\",\"linecolor\":\"white\",\"ticks\":\"\"},\"baxis\":{\"gridcolor\":\"white\",\"linecolor\":\"white\",\"ticks\":\"\"},\"bgcolor\":\"#E5ECF6\",\"caxis\":{\"gridcolor\":\"white\",\"linecolor\":\"white\",\"ticks\":\"\"}},\"title\":{\"x\":0.05},\"xaxis\":{\"automargin\":true,\"gridcolor\":\"white\",\"linecolor\":\"white\",\"ticks\":\"\",\"title\":{\"standoff\":15},\"zerolinecolor\":\"white\",\"zerolinewidth\":2},\"yaxis\":{\"automargin\":true,\"gridcolor\":\"white\",\"linecolor\":\"white\",\"ticks\":\"\",\"title\":{\"standoff\":15},\"zerolinecolor\":\"white\",\"zerolinewidth\":2}}},\"title\":{\"text\":\"Expenses Breakdown\"},\"xaxis\":{\"anchor\":\"y\",\"domain\":[0.0,1.0],\"showticklabels\":true,\"title\":{\"text\":\"Date\"},\"visible\":true},\"yaxis\":{\"anchor\":\"x\",\"domain\":[0.0,1.0],\"showticklabels\":true,\"title\":{\"text\":\"Expenses (\\u00a3)\"},\"visible\":true}},                        {\"responsive\": true}                    ).then(function(){\n",
       "                            \n",
       "var gd = document.getElementById('11d94f17-4f08-4747-99c2-f40ebcadbc2a');\n",
       "var x = new MutationObserver(function (mutations, observer) {{\n",
       "        var display = window.getComputedStyle(gd).display;\n",
       "        if (!display || display === 'none') {{\n",
       "            console.log([gd, 'removed!']);\n",
       "            Plotly.purge(gd);\n",
       "            observer.disconnect();\n",
       "        }}\n",
       "}});\n",
       "\n",
       "// Listen for the removal of the full notebook cells\n",
       "var notebookContainer = gd.closest('#notebook-container');\n",
       "if (notebookContainer) {{\n",
       "    x.observe(notebookContainer, {childList: true});\n",
       "}}\n",
       "\n",
       "// Listen for the clearing of the current output cell\n",
       "var outputEl = gd.closest('.output');\n",
       "if (outputEl) {{\n",
       "    x.observe(outputEl, {childList: true});\n",
       "}}\n",
       "\n",
       "                        })                };                });            </script>        </div>"
      ]
     },
     "metadata": {},
     "output_type": "display_data"
    }
   ],
   "source": [
    "Expenses_Breakdown_Table = pd.pivot_table(df, values = ['Amount'], index = ['Category', 'year_month'], aggfunc=sum).reset_index()\n",
    "Expenses_Breakdown_Table.columns = [x for x in Expenses_Breakdown_Table.columns]\n",
    "Expenses_Breakdown_Chart = px.line(Expenses_Breakdown_Table, x='year_month', y=\"Amount\", title=\"Expenses Breakdown\", color = 'Category')\n",
    "Expenses_Breakdown_Chart.update_yaxes(title='Expenses (£)', visible=True, showticklabels=True)\n",
    "Expenses_Breakdown_Chart.update_xaxes(title='Date', visible=True, showticklabels=True)\n",
    "Expenses_Breakdown_Chart.show()"
   ]
  },
  {
   "cell_type": "code",
   "execution_count": null,
   "id": "4b68aeaa",
   "metadata": {},
   "outputs": [],
   "source": []
  }
 ],
 "metadata": {
  "kernelspec": {
   "display_name": "Django Shell-Plus",
   "language": "python",
   "name": "django_extensions"
  },
  "language_info": {
   "codemirror_mode": {
    "name": "ipython",
    "version": 3
   },
   "file_extension": ".py",
   "mimetype": "text/x-python",
   "name": "python",
   "nbconvert_exporter": "python",
   "pygments_lexer": "ipython3",
   "version": "3.8.3"
  }
 },
 "nbformat": 4,
 "nbformat_minor": 5
}
